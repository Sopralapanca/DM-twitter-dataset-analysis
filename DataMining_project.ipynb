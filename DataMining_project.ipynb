{
  "cells": [
    {
      "cell_type": "markdown",
      "metadata": {
        "id": "view-in-github",
        "colab_type": "text"
      },
      "source": [
        "<a href=\"https://colab.research.google.com/github/Sopralapanca/TwitterDataset-DM-Project/blob/develop/DataMining_project.ipynb\" target=\"_parent\"><img src=\"https://colab.research.google.com/assets/colab-badge.svg\" alt=\"Open In Colab\"/></a>"
      ]
    },
    {
      "cell_type": "markdown",
      "metadata": {
        "id": "fKlYZFkefEpD"
      },
      "source": [
        "# **TESTO DEL PROGETTO**\n",
        "\n",
        "Task 1.1: Data Understanding\n",
        "\n",
        "Explore the dataset with the analytical tools studied and write a concise “data understanding”\n",
        "report assessing data quality, the distribution of the variables and the pairwise correlations.\n",
        "Subtasks of DU:\n",
        "\n",
        "1. Data semantics for each feature that is not described above and the new one defined\n",
        "by the team\n",
        "2. Distribution of the variables and statistics\n",
        "3. Assessing data quality (missing values, outliers, duplicated records, errors)\n",
        "4. Variables transformations\n",
        "5. Pairwise correlations and eventual elimination of redundant variables\n",
        "\n",
        "\n",
        "\n",
        "DALLE SLIDE DATA UNDERSTANDING: [slide](http://didawiki.cli.di.unipi.it/lib/exe/fetch.php/magistraleinformatica/dmi/2-data_understanding.pdf)\n",
        "\n",
        "Find answers to the questions\n",
        "1. What kind of attributes do we have?\n",
        "2. How is the data quality?\n",
        "3. Does a visualiza4on helps?\n",
        "4. Are attributes correlated?\n",
        "5. What about outliers?\n",
        "6. How are missing values handled?\n",
        "7. Do we need to extract other attributes\n",
        "\n",
        "\n",
        "\n",
        "Task 1.2: Data Preparation\n",
        "\n",
        "Improve the quality of your data and prepare it by extracting new features interesting for\n",
        "describing the user and his/her behavior derived from the information collected from the\n",
        "tweets.\n",
        "Examples of indicators to be computed are:\n",
        "1. How many tweets were published by the user?\n",
        "2. How many tweets are published by the user in a given period of time?\n",
        "3. Total number of tweets\n",
        "4. Total number of likes and comments\n",
        "5. Ratio between the number of tweets and the number of likes\n",
        "6. Entropy of the user\n",
        "7. Average length of the tweets per user\n",
        "8. Average number of special characters in the tweets per user\n",
        "\n",
        "DALLE SLIDE DATA PREPARATION:[slide](http://didawiki.cli.di.unipi.it/lib/exe/fetch.php/magistraleinformatica/dmi/3-data_preparation.pdf)\n",
        "\n",
        "0. select attributes,\n",
        "1. reduce the data dimension,\n",
        "2. select records,\n",
        "3. treat missing values,\n",
        "4. treat outliers,\n",
        "5. integrate, unify and transform data\n",
        "7. improve data quality"
      ]
    },
    {
      "cell_type": "code",
      "source": [
        "# Import libraries\n",
        "import pandas as pd\n",
        "import numpy as np\n",
        "from pandas import DataFrame\n",
        "import matplotlib.pyplot as plt"
      ],
      "metadata": {
        "id": "dVTe-zFXLMMj"
      },
      "execution_count": 1,
      "outputs": []
    },
    {
      "cell_type": "markdown",
      "metadata": {
        "id": "WME54aQfZ7JU"
      },
      "source": [
        "## Downloading the dataset and load data into dataframe"
      ]
    },
    {
      "cell_type": "code",
      "execution_count": 2,
      "metadata": {
        "colab": {
          "base_uri": "https://localhost:8080/"
        },
        "id": "yM2dkuifVKSV",
        "outputId": "cc948d74-2a95-4b37-c63a-9d948ca67a1e"
      },
      "outputs": [
        {
          "output_type": "stream",
          "name": "stdout",
          "text": [
            "/usr/local/lib/python3.7/dist-packages/gdown/cli.py:131: FutureWarning: Option `--id` was deprecated in version 4.3.1 and will be removed in 5.0. You don't need to pass it anymore to use a file ID.\n",
            "  category=FutureWarning,\n",
            "Downloading...\n",
            "From: https://drive.google.com/uc?id=16b7Gbe69-SaVzGc1x3s3s7b8lzHgd5BR\n",
            "To: /content/users.csv\n",
            "100% 641k/641k [00:00<00:00, 140MB/s]\n",
            "/usr/local/lib/python3.7/dist-packages/gdown/cli.py:131: FutureWarning: Option `--id` was deprecated in version 4.3.1 and will be removed in 5.0. You don't need to pass it anymore to use a file ID.\n",
            "  category=FutureWarning,\n",
            "Downloading...\n",
            "From: https://drive.google.com/uc?id=1qYoicySRBbLi9Y8ZytMEi9ee2dIhxxUe\n",
            "To: /content/tweets.csv\n",
            "100% 1.86G/1.86G [00:26<00:00, 70.0MB/s]\n"
          ]
        }
      ],
      "source": [
        "users_fileid = \"16b7Gbe69-SaVzGc1x3s3s7b8lzHgd5BR\"\n",
        "tweets_fileid = \"1qYoicySRBbLi9Y8ZytMEi9ee2dIhxxUe\"\n",
        "\n",
        "!gdown --id $users_fileid\n",
        "!gdown --id $tweets_fileid"
      ]
    },
    {
      "cell_type": "code",
      "execution_count": 3,
      "metadata": {
        "id": "aknAFqSPo76E"
      },
      "outputs": [],
      "source": [
        "max_rows = 0\n",
        " \n",
        "if max_rows != 0:\n",
        "  tweets_df = pd.read_csv(\"./tweets.csv\", nrows=max_rows)\n",
        "  users_df = pd.read_csv(\"./users.csv\")\n",
        "else:\n",
        "  tweets_df = pd.read_csv(\"./tweets.csv\")\n",
        "  users_df = pd.read_csv(\"./users.csv\")\n"
      ]
    },
    {
      "cell_type": "markdown",
      "metadata": {
        "id": "IJrBnKPjeeB6"
      },
      "source": [
        "# **Data Understanding**\n",
        "\n",
        "---\n",
        "\n"
      ]
    },
    {
      "cell_type": "markdown",
      "metadata": {
        "id": "yCSh7DQxaoBC"
      },
      "source": [
        "## Data Semantics"
      ]
    },
    {
      "cell_type": "markdown",
      "metadata": {
        "id": "6Q-Z23rdpZf1"
      },
      "source": [
        "USERS CSV\n",
        "\n",
        "1. User Id: a unique identifier of the user\n",
        "2. Statues Count: the count of the tweets made by the user at the moment of data\n",
        "crawling\n",
        "3. Lang: the user’s language selected\n",
        "4. Created at: the timestamp in which the profile was created\n",
        "5. Label: a binary variable that indicates if a user is a bot or a genuine user\n",
        "\n",
        "TWEETS CSV\n",
        "\n",
        "1. ID: a unique identifier for the tweet\n",
        "2. User Id: a unique identifier for the user who wrote the tweet\n",
        "3. Retweet count: number of retweets for the tweet in analysis\n",
        "4. Reply count: number of reply for the tweet in analysis\n",
        "5. Favorite count: number of favorites (likes) received by the tweet\n",
        "6. Num hashtags: number of hashtags used in the tweet\n",
        "7. Num urls: number of urls in the tweet\n",
        "8. Num mentions: number of mentions in the tweet\n",
        "9. Created at: when the tweet was created\n",
        "10. Text: the text of the tweet"
      ]
    },
    {
      "cell_type": "markdown",
      "source": [
        "#### Tweet.csv informations"
      ],
      "metadata": {
        "id": "MEm5rj6GLXvL"
      }
    },
    {
      "cell_type": "code",
      "execution_count": 4,
      "metadata": {
        "id": "hLAMvZpArgnT",
        "colab": {
          "base_uri": "https://localhost:8080/"
        },
        "outputId": "a9c55bdd-bc71-456b-eb25-7895e8c79147"
      },
      "outputs": [
        {
          "output_type": "stream",
          "name": "stdout",
          "text": [
            "<class 'pandas.core.frame.DataFrame'>\n",
            "RangeIndex: 13664696 entries, 0 to 13664695\n",
            "Data columns (total 10 columns):\n",
            " #   Column          Dtype \n",
            "---  ------          ----- \n",
            " 0   id              object\n",
            " 1   user_id         object\n",
            " 2   retweet_count   object\n",
            " 3   reply_count     object\n",
            " 4   favorite_count  object\n",
            " 5   num_hashtags    object\n",
            " 6   num_urls        object\n",
            " 7   num_mentions    object\n",
            " 8   created_at      object\n",
            " 9   text            object\n",
            "dtypes: object(10)\n",
            "memory usage: 1.0+ GB\n"
          ]
        }
      ],
      "source": [
        "tweets_df.info()"
      ]
    },
    {
      "cell_type": "code",
      "execution_count": 5,
      "metadata": {
        "colab": {
          "base_uri": "https://localhost:8080/",
          "height": 444
        },
        "id": "hnCcLxlurr4k",
        "outputId": "db906c0c-7eb0-4589-d94c-e302ce036661"
      },
      "outputs": [
        {
          "output_type": "execute_result",
          "data": {
            "text/plain": [
              "                   id     user_id retweet_count reply_count favorite_count  \\\n",
              "0  509354017856950272   327746321             0           0              0   \n",
              "1  583002592529121280   333722906             1           0              0   \n",
              "2  461498835362013185  2379755827             0           0              0   \n",
              "3  528808127366692864   466226882             0           0              0   \n",
              "4  575336690904006656  1355537995           114           0              0   \n",
              "\n",
              "  num_hashtags num_urls num_mentions           created_at  \\\n",
              "0            0        0            0  2019-09-11 14:53:55   \n",
              "1            0        0            1  2020-04-01 20:27:04   \n",
              "2            0        0            1  2019-05-02 13:34:31   \n",
              "3            0        0            0  2019-11-04 07:17:37   \n",
              "4            1        0            1  2020-03-11 16:45:31   \n",
              "\n",
              "                                                text  \n",
              "0  If man is a little lower than angels, then ang...  \n",
              "1  \"@BestWSHHVids: how do you say these words wit...  \n",
              "2                                @LOLatComedy awsome  \n",
              "3  Stephen Hawkins: i buchi neri non esistono se ...  \n",
              "4        RT @tibbs_montris: So ready for Wednesday!   "
            ],
            "text/html": [
              "\n",
              "  <div id=\"df-ee0a1919-5796-4ef1-8147-6c32096cd3c7\">\n",
              "    <div class=\"colab-df-container\">\n",
              "      <div>\n",
              "<style scoped>\n",
              "    .dataframe tbody tr th:only-of-type {\n",
              "        vertical-align: middle;\n",
              "    }\n",
              "\n",
              "    .dataframe tbody tr th {\n",
              "        vertical-align: top;\n",
              "    }\n",
              "\n",
              "    .dataframe thead th {\n",
              "        text-align: right;\n",
              "    }\n",
              "</style>\n",
              "<table border=\"1\" class=\"dataframe\">\n",
              "  <thead>\n",
              "    <tr style=\"text-align: right;\">\n",
              "      <th></th>\n",
              "      <th>id</th>\n",
              "      <th>user_id</th>\n",
              "      <th>retweet_count</th>\n",
              "      <th>reply_count</th>\n",
              "      <th>favorite_count</th>\n",
              "      <th>num_hashtags</th>\n",
              "      <th>num_urls</th>\n",
              "      <th>num_mentions</th>\n",
              "      <th>created_at</th>\n",
              "      <th>text</th>\n",
              "    </tr>\n",
              "  </thead>\n",
              "  <tbody>\n",
              "    <tr>\n",
              "      <th>0</th>\n",
              "      <td>509354017856950272</td>\n",
              "      <td>327746321</td>\n",
              "      <td>0</td>\n",
              "      <td>0</td>\n",
              "      <td>0</td>\n",
              "      <td>0</td>\n",
              "      <td>0</td>\n",
              "      <td>0</td>\n",
              "      <td>2019-09-11 14:53:55</td>\n",
              "      <td>If man is a little lower than angels, then ang...</td>\n",
              "    </tr>\n",
              "    <tr>\n",
              "      <th>1</th>\n",
              "      <td>583002592529121280</td>\n",
              "      <td>333722906</td>\n",
              "      <td>1</td>\n",
              "      <td>0</td>\n",
              "      <td>0</td>\n",
              "      <td>0</td>\n",
              "      <td>0</td>\n",
              "      <td>1</td>\n",
              "      <td>2020-04-01 20:27:04</td>\n",
              "      <td>\"@BestWSHHVids: how do you say these words wit...</td>\n",
              "    </tr>\n",
              "    <tr>\n",
              "      <th>2</th>\n",
              "      <td>461498835362013185</td>\n",
              "      <td>2379755827</td>\n",
              "      <td>0</td>\n",
              "      <td>0</td>\n",
              "      <td>0</td>\n",
              "      <td>0</td>\n",
              "      <td>0</td>\n",
              "      <td>1</td>\n",
              "      <td>2019-05-02 13:34:31</td>\n",
              "      <td>@LOLatComedy awsome</td>\n",
              "    </tr>\n",
              "    <tr>\n",
              "      <th>3</th>\n",
              "      <td>528808127366692864</td>\n",
              "      <td>466226882</td>\n",
              "      <td>0</td>\n",
              "      <td>0</td>\n",
              "      <td>0</td>\n",
              "      <td>0</td>\n",
              "      <td>0</td>\n",
              "      <td>0</td>\n",
              "      <td>2019-11-04 07:17:37</td>\n",
              "      <td>Stephen Hawkins: i buchi neri non esistono se ...</td>\n",
              "    </tr>\n",
              "    <tr>\n",
              "      <th>4</th>\n",
              "      <td>575336690904006656</td>\n",
              "      <td>1355537995</td>\n",
              "      <td>114</td>\n",
              "      <td>0</td>\n",
              "      <td>0</td>\n",
              "      <td>1</td>\n",
              "      <td>0</td>\n",
              "      <td>1</td>\n",
              "      <td>2020-03-11 16:45:31</td>\n",
              "      <td>RT @tibbs_montris: So ready for Wednesday!</td>\n",
              "    </tr>\n",
              "  </tbody>\n",
              "</table>\n",
              "</div>\n",
              "      <button class=\"colab-df-convert\" onclick=\"convertToInteractive('df-ee0a1919-5796-4ef1-8147-6c32096cd3c7')\"\n",
              "              title=\"Convert this dataframe to an interactive table.\"\n",
              "              style=\"display:none;\">\n",
              "        \n",
              "  <svg xmlns=\"http://www.w3.org/2000/svg\" height=\"24px\"viewBox=\"0 0 24 24\"\n",
              "       width=\"24px\">\n",
              "    <path d=\"M0 0h24v24H0V0z\" fill=\"none\"/>\n",
              "    <path d=\"M18.56 5.44l.94 2.06.94-2.06 2.06-.94-2.06-.94-.94-2.06-.94 2.06-2.06.94zm-11 1L8.5 8.5l.94-2.06 2.06-.94-2.06-.94L8.5 2.5l-.94 2.06-2.06.94zm10 10l.94 2.06.94-2.06 2.06-.94-2.06-.94-.94-2.06-.94 2.06-2.06.94z\"/><path d=\"M17.41 7.96l-1.37-1.37c-.4-.4-.92-.59-1.43-.59-.52 0-1.04.2-1.43.59L10.3 9.45l-7.72 7.72c-.78.78-.78 2.05 0 2.83L4 21.41c.39.39.9.59 1.41.59.51 0 1.02-.2 1.41-.59l7.78-7.78 2.81-2.81c.8-.78.8-2.07 0-2.86zM5.41 20L4 18.59l7.72-7.72 1.47 1.35L5.41 20z\"/>\n",
              "  </svg>\n",
              "      </button>\n",
              "      \n",
              "  <style>\n",
              "    .colab-df-container {\n",
              "      display:flex;\n",
              "      flex-wrap:wrap;\n",
              "      gap: 12px;\n",
              "    }\n",
              "\n",
              "    .colab-df-convert {\n",
              "      background-color: #E8F0FE;\n",
              "      border: none;\n",
              "      border-radius: 50%;\n",
              "      cursor: pointer;\n",
              "      display: none;\n",
              "      fill: #1967D2;\n",
              "      height: 32px;\n",
              "      padding: 0 0 0 0;\n",
              "      width: 32px;\n",
              "    }\n",
              "\n",
              "    .colab-df-convert:hover {\n",
              "      background-color: #E2EBFA;\n",
              "      box-shadow: 0px 1px 2px rgba(60, 64, 67, 0.3), 0px 1px 3px 1px rgba(60, 64, 67, 0.15);\n",
              "      fill: #174EA6;\n",
              "    }\n",
              "\n",
              "    [theme=dark] .colab-df-convert {\n",
              "      background-color: #3B4455;\n",
              "      fill: #D2E3FC;\n",
              "    }\n",
              "\n",
              "    [theme=dark] .colab-df-convert:hover {\n",
              "      background-color: #434B5C;\n",
              "      box-shadow: 0px 1px 3px 1px rgba(0, 0, 0, 0.15);\n",
              "      filter: drop-shadow(0px 1px 2px rgba(0, 0, 0, 0.3));\n",
              "      fill: #FFFFFF;\n",
              "    }\n",
              "  </style>\n",
              "\n",
              "      <script>\n",
              "        const buttonEl =\n",
              "          document.querySelector('#df-ee0a1919-5796-4ef1-8147-6c32096cd3c7 button.colab-df-convert');\n",
              "        buttonEl.style.display =\n",
              "          google.colab.kernel.accessAllowed ? 'block' : 'none';\n",
              "\n",
              "        async function convertToInteractive(key) {\n",
              "          const element = document.querySelector('#df-ee0a1919-5796-4ef1-8147-6c32096cd3c7');\n",
              "          const dataTable =\n",
              "            await google.colab.kernel.invokeFunction('convertToInteractive',\n",
              "                                                     [key], {});\n",
              "          if (!dataTable) return;\n",
              "\n",
              "          const docLinkHtml = 'Like what you see? Visit the ' +\n",
              "            '<a target=\"_blank\" href=https://colab.research.google.com/notebooks/data_table.ipynb>data table notebook</a>'\n",
              "            + ' to learn more about interactive tables.';\n",
              "          element.innerHTML = '';\n",
              "          dataTable['output_type'] = 'display_data';\n",
              "          await google.colab.output.renderOutput(dataTable, element);\n",
              "          const docLink = document.createElement('div');\n",
              "          docLink.innerHTML = docLinkHtml;\n",
              "          element.appendChild(docLink);\n",
              "        }\n",
              "      </script>\n",
              "    </div>\n",
              "  </div>\n",
              "  "
            ]
          },
          "metadata": {},
          "execution_count": 5
        }
      ],
      "source": [
        "tweets_df.head(5)"
      ]
    },
    {
      "cell_type": "code",
      "execution_count": 6,
      "metadata": {
        "colab": {
          "base_uri": "https://localhost:8080/"
        },
        "id": "XEfr31x98pvk",
        "outputId": "b3bbb536-eb57-4513-f234-da5666d1b098"
      },
      "outputs": [
        {
          "output_type": "stream",
          "name": "stdout",
          "text": [
            "In the tweet.csv file there are 13664696 tweets\n"
          ]
        }
      ],
      "source": [
        "print(\"In the tweet.csv file there are\",len(tweets_df), \"tweets\")"
      ]
    },
    {
      "cell_type": "markdown",
      "source": [
        "#### User.csv informations"
      ],
      "metadata": {
        "id": "typ0XGf6LdXT"
      }
    },
    {
      "cell_type": "code",
      "source": [
        "users_df.info()"
      ],
      "metadata": {
        "colab": {
          "base_uri": "https://localhost:8080/"
        },
        "id": "h8ZOd8gdPqZF",
        "outputId": "fc44b291-773c-44ea-cbdb-a66e3f1fd163"
      },
      "execution_count": 7,
      "outputs": [
        {
          "output_type": "stream",
          "name": "stdout",
          "text": [
            "<class 'pandas.core.frame.DataFrame'>\n",
            "RangeIndex: 11508 entries, 0 to 11507\n",
            "Data columns (total 6 columns):\n",
            " #   Column          Non-Null Count  Dtype  \n",
            "---  ------          --------------  -----  \n",
            " 0   id              11508 non-null  int64  \n",
            " 1   name            11507 non-null  object \n",
            " 2   lang            11508 non-null  object \n",
            " 3   bot             11508 non-null  int64  \n",
            " 4   created_at      11508 non-null  object \n",
            " 5   statuses_count  11109 non-null  float64\n",
            "dtypes: float64(1), int64(2), object(3)\n",
            "memory usage: 539.6+ KB\n"
          ]
        }
      ]
    },
    {
      "cell_type": "code",
      "source": [
        "users_df.head(5)"
      ],
      "metadata": {
        "colab": {
          "base_uri": "https://localhost:8080/",
          "height": 206
        },
        "id": "mR-xDI7UPwqU",
        "outputId": "9f14503a-4c6a-41b9-95aa-159e9b89cc7e"
      },
      "execution_count": 8,
      "outputs": [
        {
          "output_type": "execute_result",
          "data": {
            "text/plain": [
              "           id              name lang  bot           created_at  statuses_count\n",
              "0  2353593986   Lamonica Raborn   en    1  2019-02-22 18:00:42            76.0\n",
              "1  2358850842     Lourie Botton   en    0  2019-02-26 03:02:32            54.0\n",
              "2   137959629  Dadan Syarifudin   en    1  2015-04-30 07:09:56             3.0\n",
              "3   466124818    Carletto Focia   it    1  2017-01-18 02:49:18            50.0\n",
              "4  2571493866         MBK Ebook   en    0  2019-06-18 19:30:21          7085.0"
            ],
            "text/html": [
              "\n",
              "  <div id=\"df-e82eac55-237a-41f2-9d4c-ba2789e22428\">\n",
              "    <div class=\"colab-df-container\">\n",
              "      <div>\n",
              "<style scoped>\n",
              "    .dataframe tbody tr th:only-of-type {\n",
              "        vertical-align: middle;\n",
              "    }\n",
              "\n",
              "    .dataframe tbody tr th {\n",
              "        vertical-align: top;\n",
              "    }\n",
              "\n",
              "    .dataframe thead th {\n",
              "        text-align: right;\n",
              "    }\n",
              "</style>\n",
              "<table border=\"1\" class=\"dataframe\">\n",
              "  <thead>\n",
              "    <tr style=\"text-align: right;\">\n",
              "      <th></th>\n",
              "      <th>id</th>\n",
              "      <th>name</th>\n",
              "      <th>lang</th>\n",
              "      <th>bot</th>\n",
              "      <th>created_at</th>\n",
              "      <th>statuses_count</th>\n",
              "    </tr>\n",
              "  </thead>\n",
              "  <tbody>\n",
              "    <tr>\n",
              "      <th>0</th>\n",
              "      <td>2353593986</td>\n",
              "      <td>Lamonica Raborn</td>\n",
              "      <td>en</td>\n",
              "      <td>1</td>\n",
              "      <td>2019-02-22 18:00:42</td>\n",
              "      <td>76.0</td>\n",
              "    </tr>\n",
              "    <tr>\n",
              "      <th>1</th>\n",
              "      <td>2358850842</td>\n",
              "      <td>Lourie Botton</td>\n",
              "      <td>en</td>\n",
              "      <td>0</td>\n",
              "      <td>2019-02-26 03:02:32</td>\n",
              "      <td>54.0</td>\n",
              "    </tr>\n",
              "    <tr>\n",
              "      <th>2</th>\n",
              "      <td>137959629</td>\n",
              "      <td>Dadan Syarifudin</td>\n",
              "      <td>en</td>\n",
              "      <td>1</td>\n",
              "      <td>2015-04-30 07:09:56</td>\n",
              "      <td>3.0</td>\n",
              "    </tr>\n",
              "    <tr>\n",
              "      <th>3</th>\n",
              "      <td>466124818</td>\n",
              "      <td>Carletto Focia</td>\n",
              "      <td>it</td>\n",
              "      <td>1</td>\n",
              "      <td>2017-01-18 02:49:18</td>\n",
              "      <td>50.0</td>\n",
              "    </tr>\n",
              "    <tr>\n",
              "      <th>4</th>\n",
              "      <td>2571493866</td>\n",
              "      <td>MBK Ebook</td>\n",
              "      <td>en</td>\n",
              "      <td>0</td>\n",
              "      <td>2019-06-18 19:30:21</td>\n",
              "      <td>7085.0</td>\n",
              "    </tr>\n",
              "  </tbody>\n",
              "</table>\n",
              "</div>\n",
              "      <button class=\"colab-df-convert\" onclick=\"convertToInteractive('df-e82eac55-237a-41f2-9d4c-ba2789e22428')\"\n",
              "              title=\"Convert this dataframe to an interactive table.\"\n",
              "              style=\"display:none;\">\n",
              "        \n",
              "  <svg xmlns=\"http://www.w3.org/2000/svg\" height=\"24px\"viewBox=\"0 0 24 24\"\n",
              "       width=\"24px\">\n",
              "    <path d=\"M0 0h24v24H0V0z\" fill=\"none\"/>\n",
              "    <path d=\"M18.56 5.44l.94 2.06.94-2.06 2.06-.94-2.06-.94-.94-2.06-.94 2.06-2.06.94zm-11 1L8.5 8.5l.94-2.06 2.06-.94-2.06-.94L8.5 2.5l-.94 2.06-2.06.94zm10 10l.94 2.06.94-2.06 2.06-.94-2.06-.94-.94-2.06-.94 2.06-2.06.94z\"/><path d=\"M17.41 7.96l-1.37-1.37c-.4-.4-.92-.59-1.43-.59-.52 0-1.04.2-1.43.59L10.3 9.45l-7.72 7.72c-.78.78-.78 2.05 0 2.83L4 21.41c.39.39.9.59 1.41.59.51 0 1.02-.2 1.41-.59l7.78-7.78 2.81-2.81c.8-.78.8-2.07 0-2.86zM5.41 20L4 18.59l7.72-7.72 1.47 1.35L5.41 20z\"/>\n",
              "  </svg>\n",
              "      </button>\n",
              "      \n",
              "  <style>\n",
              "    .colab-df-container {\n",
              "      display:flex;\n",
              "      flex-wrap:wrap;\n",
              "      gap: 12px;\n",
              "    }\n",
              "\n",
              "    .colab-df-convert {\n",
              "      background-color: #E8F0FE;\n",
              "      border: none;\n",
              "      border-radius: 50%;\n",
              "      cursor: pointer;\n",
              "      display: none;\n",
              "      fill: #1967D2;\n",
              "      height: 32px;\n",
              "      padding: 0 0 0 0;\n",
              "      width: 32px;\n",
              "    }\n",
              "\n",
              "    .colab-df-convert:hover {\n",
              "      background-color: #E2EBFA;\n",
              "      box-shadow: 0px 1px 2px rgba(60, 64, 67, 0.3), 0px 1px 3px 1px rgba(60, 64, 67, 0.15);\n",
              "      fill: #174EA6;\n",
              "    }\n",
              "\n",
              "    [theme=dark] .colab-df-convert {\n",
              "      background-color: #3B4455;\n",
              "      fill: #D2E3FC;\n",
              "    }\n",
              "\n",
              "    [theme=dark] .colab-df-convert:hover {\n",
              "      background-color: #434B5C;\n",
              "      box-shadow: 0px 1px 3px 1px rgba(0, 0, 0, 0.15);\n",
              "      filter: drop-shadow(0px 1px 2px rgba(0, 0, 0, 0.3));\n",
              "      fill: #FFFFFF;\n",
              "    }\n",
              "  </style>\n",
              "\n",
              "      <script>\n",
              "        const buttonEl =\n",
              "          document.querySelector('#df-e82eac55-237a-41f2-9d4c-ba2789e22428 button.colab-df-convert');\n",
              "        buttonEl.style.display =\n",
              "          google.colab.kernel.accessAllowed ? 'block' : 'none';\n",
              "\n",
              "        async function convertToInteractive(key) {\n",
              "          const element = document.querySelector('#df-e82eac55-237a-41f2-9d4c-ba2789e22428');\n",
              "          const dataTable =\n",
              "            await google.colab.kernel.invokeFunction('convertToInteractive',\n",
              "                                                     [key], {});\n",
              "          if (!dataTable) return;\n",
              "\n",
              "          const docLinkHtml = 'Like what you see? Visit the ' +\n",
              "            '<a target=\"_blank\" href=https://colab.research.google.com/notebooks/data_table.ipynb>data table notebook</a>'\n",
              "            + ' to learn more about interactive tables.';\n",
              "          element.innerHTML = '';\n",
              "          dataTable['output_type'] = 'display_data';\n",
              "          await google.colab.output.renderOutput(dataTable, element);\n",
              "          const docLink = document.createElement('div');\n",
              "          docLink.innerHTML = docLinkHtml;\n",
              "          element.appendChild(docLink);\n",
              "        }\n",
              "      </script>\n",
              "    </div>\n",
              "  </div>\n",
              "  "
            ]
          },
          "metadata": {},
          "execution_count": 8
        }
      ]
    },
    {
      "cell_type": "code",
      "execution_count": 9,
      "metadata": {
        "colab": {
          "base_uri": "https://localhost:8080/"
        },
        "id": "n9DMtX2oNWnv",
        "outputId": "83b98e40-c968-4584-a7ab-095df55bf17c"
      },
      "outputs": [
        {
          "output_type": "stream",
          "name": "stdout",
          "text": [
            "In the user.csv file there are 11508 users\n"
          ]
        }
      ],
      "source": [
        "print(\"In the user.csv file there are\",len(users_df), \"users\")"
      ]
    },
    {
      "cell_type": "markdown",
      "source": [
        "#### Checking if there are any missing values"
      ],
      "metadata": {
        "id": "9JFaVjjWMdnh"
      }
    },
    {
      "cell_type": "code",
      "execution_count": 10,
      "metadata": {
        "colab": {
          "base_uri": "https://localhost:8080/"
        },
        "id": "K2WIbAy3gxhJ",
        "outputId": "8a3cb8e0-0099-4268-b721-dccfae339ee7"
      },
      "outputs": [
        {
          "output_type": "execute_result",
          "data": {
            "text/plain": [
              "id                 True\n",
              "user_id            True\n",
              "retweet_count      True\n",
              "reply_count        True\n",
              "favorite_count     True\n",
              "num_hashtags       True\n",
              "num_urls           True\n",
              "num_mentions       True\n",
              "created_at        False\n",
              "text               True\n",
              "dtype: bool"
            ]
          },
          "metadata": {},
          "execution_count": 10
        }
      ],
      "source": [
        "tweets_df.isna().any()"
      ]
    },
    {
      "cell_type": "code",
      "execution_count": 11,
      "metadata": {
        "colab": {
          "base_uri": "https://localhost:8080/"
        },
        "id": "ZSNKjIqKga7Z",
        "outputId": "61dcbc4a-a261-4b9b-bfea-48930a4a527a"
      },
      "outputs": [
        {
          "output_type": "execute_result",
          "data": {
            "text/plain": [
              "id                False\n",
              "name               True\n",
              "lang              False\n",
              "bot               False\n",
              "created_at        False\n",
              "statuses_count     True\n",
              "dtype: bool"
            ]
          },
          "metadata": {},
          "execution_count": 11
        }
      ],
      "source": [
        "users_df.isna().any()"
      ]
    },
    {
      "cell_type": "markdown",
      "source": [
        "#### Counting NaN and unique values\n"
      ],
      "metadata": {
        "id": "OMEnfS5wO4I-"
      }
    },
    {
      "cell_type": "code",
      "execution_count": 12,
      "metadata": {
        "id": "cR7Cpqbx7VLJ"
      },
      "outputs": [],
      "source": [
        "def nan_unique_count(df: DataFrame):\n",
        "  print('| {:>15} | {:>15}| {:>15} |'.format(*[\"column\", \"unique values\", \"NaN\" ]))\n",
        "  print('------------------------------------------------------')\n",
        "  for col in df.columns:\n",
        "    print('| {:>15} | {:>15}| {:>15} |'.format(*[col, len(df[col].unique()), df[col].isna().sum() ]))"
      ]
    },
    {
      "cell_type": "code",
      "source": [
        "nan_unique_count(tweets_df)"
      ],
      "metadata": {
        "colab": {
          "base_uri": "https://localhost:8080/"
        },
        "id": "9ayY6ARqMxop",
        "outputId": "417b133e-4490-4936-fe51-e3a2d550bd61"
      },
      "execution_count": 13,
      "outputs": [
        {
          "output_type": "stream",
          "name": "stdout",
          "text": [
            "|          column |   unique values|             NaN |\n",
            "------------------------------------------------------\n",
            "|              id |        11672136|               2 |\n",
            "|         user_id |          222286|          217283 |\n",
            "|   retweet_count |          229168|          437134 |\n",
            "|     reply_count |          158620|          647878 |\n",
            "|  favorite_count |          158764|          647542 |\n",
            "|    num_hashtags |          104780|         1057524 |\n",
            "|        num_urls |          157146|          648623 |\n",
            "|    num_mentions |          131539|          854165 |\n",
            "|      created_at |         8127084|               0 |\n",
            "|            text |         6778479|          537721 |\n"
          ]
        }
      ]
    },
    {
      "cell_type": "code",
      "execution_count": 14,
      "metadata": {
        "colab": {
          "base_uri": "https://localhost:8080/"
        },
        "id": "9E1USBeeNz3P",
        "outputId": "0d26a2d0-4ff4-4c09-890d-525b96527206"
      },
      "outputs": [
        {
          "output_type": "stream",
          "name": "stdout",
          "text": [
            "|          column |   unique values|             NaN |\n",
            "------------------------------------------------------\n",
            "|              id |           11508|               0 |\n",
            "|            name |           11361|               1 |\n",
            "|            lang |              26|               0 |\n",
            "|             bot |               2|               0 |\n",
            "|      created_at |           11423|               0 |\n",
            "|  statuses_count |            3837|             399 |\n"
          ]
        }
      ],
      "source": [
        "nan_unique_count(users_df)"
      ]
    },
    {
      "cell_type": "code",
      "source": [
        "tweets_df.describe()"
      ],
      "metadata": {
        "colab": {
          "base_uri": "https://localhost:8080/",
          "height": 343
        },
        "id": "LoPy3rBox7OX",
        "outputId": "2e78daed-1048-4c87-d0a3-047e22c8eb75"
      },
      "execution_count": 15,
      "outputs": [
        {
          "output_type": "execute_result",
          "data": {
            "text/plain": [
              "              id    user_id retweet_count reply_count favorite_count  \\\n",
              "count   13664694   13447413      13227562    13016818       13017154   \n",
              "unique  11672135     222285        229167      158619         158763   \n",
              "top          dmy  497404180             0           0              0   \n",
              "freq          14       4600       9419784    11790440        9467209   \n",
              "\n",
              "       num_hashtags  num_urls num_mentions           created_at  \\\n",
              "count      12607172  13016073     12810531             13664696   \n",
              "unique       104779    157145       131538              8127084   \n",
              "top               0         0            0  2020-04-04 03:43:02   \n",
              "freq       10470209   9894198      7561627                  133   \n",
              "\n",
              "                                                     text  \n",
              "count                                            13126975  \n",
              "unique                                            6778478  \n",
              "top     Ci sedemmo dalla parte del torto, visto che tu...  \n",
              "freq                                                 6932  "
            ],
            "text/html": [
              "\n",
              "  <div id=\"df-2d47aeb0-c5dd-4918-b72a-58ca286445fe\">\n",
              "    <div class=\"colab-df-container\">\n",
              "      <div>\n",
              "<style scoped>\n",
              "    .dataframe tbody tr th:only-of-type {\n",
              "        vertical-align: middle;\n",
              "    }\n",
              "\n",
              "    .dataframe tbody tr th {\n",
              "        vertical-align: top;\n",
              "    }\n",
              "\n",
              "    .dataframe thead th {\n",
              "        text-align: right;\n",
              "    }\n",
              "</style>\n",
              "<table border=\"1\" class=\"dataframe\">\n",
              "  <thead>\n",
              "    <tr style=\"text-align: right;\">\n",
              "      <th></th>\n",
              "      <th>id</th>\n",
              "      <th>user_id</th>\n",
              "      <th>retweet_count</th>\n",
              "      <th>reply_count</th>\n",
              "      <th>favorite_count</th>\n",
              "      <th>num_hashtags</th>\n",
              "      <th>num_urls</th>\n",
              "      <th>num_mentions</th>\n",
              "      <th>created_at</th>\n",
              "      <th>text</th>\n",
              "    </tr>\n",
              "  </thead>\n",
              "  <tbody>\n",
              "    <tr>\n",
              "      <th>count</th>\n",
              "      <td>13664694</td>\n",
              "      <td>13447413</td>\n",
              "      <td>13227562</td>\n",
              "      <td>13016818</td>\n",
              "      <td>13017154</td>\n",
              "      <td>12607172</td>\n",
              "      <td>13016073</td>\n",
              "      <td>12810531</td>\n",
              "      <td>13664696</td>\n",
              "      <td>13126975</td>\n",
              "    </tr>\n",
              "    <tr>\n",
              "      <th>unique</th>\n",
              "      <td>11672135</td>\n",
              "      <td>222285</td>\n",
              "      <td>229167</td>\n",
              "      <td>158619</td>\n",
              "      <td>158763</td>\n",
              "      <td>104779</td>\n",
              "      <td>157145</td>\n",
              "      <td>131538</td>\n",
              "      <td>8127084</td>\n",
              "      <td>6778478</td>\n",
              "    </tr>\n",
              "    <tr>\n",
              "      <th>top</th>\n",
              "      <td>dmy</td>\n",
              "      <td>497404180</td>\n",
              "      <td>0</td>\n",
              "      <td>0</td>\n",
              "      <td>0</td>\n",
              "      <td>0</td>\n",
              "      <td>0</td>\n",
              "      <td>0</td>\n",
              "      <td>2020-04-04 03:43:02</td>\n",
              "      <td>Ci sedemmo dalla parte del torto, visto che tu...</td>\n",
              "    </tr>\n",
              "    <tr>\n",
              "      <th>freq</th>\n",
              "      <td>14</td>\n",
              "      <td>4600</td>\n",
              "      <td>9419784</td>\n",
              "      <td>11790440</td>\n",
              "      <td>9467209</td>\n",
              "      <td>10470209</td>\n",
              "      <td>9894198</td>\n",
              "      <td>7561627</td>\n",
              "      <td>133</td>\n",
              "      <td>6932</td>\n",
              "    </tr>\n",
              "  </tbody>\n",
              "</table>\n",
              "</div>\n",
              "      <button class=\"colab-df-convert\" onclick=\"convertToInteractive('df-2d47aeb0-c5dd-4918-b72a-58ca286445fe')\"\n",
              "              title=\"Convert this dataframe to an interactive table.\"\n",
              "              style=\"display:none;\">\n",
              "        \n",
              "  <svg xmlns=\"http://www.w3.org/2000/svg\" height=\"24px\"viewBox=\"0 0 24 24\"\n",
              "       width=\"24px\">\n",
              "    <path d=\"M0 0h24v24H0V0z\" fill=\"none\"/>\n",
              "    <path d=\"M18.56 5.44l.94 2.06.94-2.06 2.06-.94-2.06-.94-.94-2.06-.94 2.06-2.06.94zm-11 1L8.5 8.5l.94-2.06 2.06-.94-2.06-.94L8.5 2.5l-.94 2.06-2.06.94zm10 10l.94 2.06.94-2.06 2.06-.94-2.06-.94-.94-2.06-.94 2.06-2.06.94z\"/><path d=\"M17.41 7.96l-1.37-1.37c-.4-.4-.92-.59-1.43-.59-.52 0-1.04.2-1.43.59L10.3 9.45l-7.72 7.72c-.78.78-.78 2.05 0 2.83L4 21.41c.39.39.9.59 1.41.59.51 0 1.02-.2 1.41-.59l7.78-7.78 2.81-2.81c.8-.78.8-2.07 0-2.86zM5.41 20L4 18.59l7.72-7.72 1.47 1.35L5.41 20z\"/>\n",
              "  </svg>\n",
              "      </button>\n",
              "      \n",
              "  <style>\n",
              "    .colab-df-container {\n",
              "      display:flex;\n",
              "      flex-wrap:wrap;\n",
              "      gap: 12px;\n",
              "    }\n",
              "\n",
              "    .colab-df-convert {\n",
              "      background-color: #E8F0FE;\n",
              "      border: none;\n",
              "      border-radius: 50%;\n",
              "      cursor: pointer;\n",
              "      display: none;\n",
              "      fill: #1967D2;\n",
              "      height: 32px;\n",
              "      padding: 0 0 0 0;\n",
              "      width: 32px;\n",
              "    }\n",
              "\n",
              "    .colab-df-convert:hover {\n",
              "      background-color: #E2EBFA;\n",
              "      box-shadow: 0px 1px 2px rgba(60, 64, 67, 0.3), 0px 1px 3px 1px rgba(60, 64, 67, 0.15);\n",
              "      fill: #174EA6;\n",
              "    }\n",
              "\n",
              "    [theme=dark] .colab-df-convert {\n",
              "      background-color: #3B4455;\n",
              "      fill: #D2E3FC;\n",
              "    }\n",
              "\n",
              "    [theme=dark] .colab-df-convert:hover {\n",
              "      background-color: #434B5C;\n",
              "      box-shadow: 0px 1px 3px 1px rgba(0, 0, 0, 0.15);\n",
              "      filter: drop-shadow(0px 1px 2px rgba(0, 0, 0, 0.3));\n",
              "      fill: #FFFFFF;\n",
              "    }\n",
              "  </style>\n",
              "\n",
              "      <script>\n",
              "        const buttonEl =\n",
              "          document.querySelector('#df-2d47aeb0-c5dd-4918-b72a-58ca286445fe button.colab-df-convert');\n",
              "        buttonEl.style.display =\n",
              "          google.colab.kernel.accessAllowed ? 'block' : 'none';\n",
              "\n",
              "        async function convertToInteractive(key) {\n",
              "          const element = document.querySelector('#df-2d47aeb0-c5dd-4918-b72a-58ca286445fe');\n",
              "          const dataTable =\n",
              "            await google.colab.kernel.invokeFunction('convertToInteractive',\n",
              "                                                     [key], {});\n",
              "          if (!dataTable) return;\n",
              "\n",
              "          const docLinkHtml = 'Like what you see? Visit the ' +\n",
              "            '<a target=\"_blank\" href=https://colab.research.google.com/notebooks/data_table.ipynb>data table notebook</a>'\n",
              "            + ' to learn more about interactive tables.';\n",
              "          element.innerHTML = '';\n",
              "          dataTable['output_type'] = 'display_data';\n",
              "          await google.colab.output.renderOutput(dataTable, element);\n",
              "          const docLink = document.createElement('div');\n",
              "          docLink.innerHTML = docLinkHtml;\n",
              "          element.appendChild(docLink);\n",
              "        }\n",
              "      </script>\n",
              "    </div>\n",
              "  </div>\n",
              "  "
            ]
          },
          "metadata": {},
          "execution_count": 15
        }
      ]
    },
    {
      "cell_type": "code",
      "source": [
        "users_df.describe()"
      ],
      "metadata": {
        "colab": {
          "base_uri": "https://localhost:8080/",
          "height": 300
        },
        "id": "nmDDxS-vyf-L",
        "outputId": "112d4005-0c4b-46c8-dc0d-0c51d5c9c96b"
      },
      "execution_count": 16,
      "outputs": [
        {
          "output_type": "execute_result",
          "data": {
            "text/plain": [
              "                 id           bot  statuses_count\n",
              "count  1.150800e+04  11508.000000    11109.000000\n",
              "mean   1.274517e+09      0.531456     5883.312359\n",
              "std    9.354135e+08      0.499031    19073.007305\n",
              "min    6.780330e+05      0.000000        0.000000\n",
              "25%    4.663594e+08      0.000000       41.000000\n",
              "50%    1.128643e+09      1.000000       68.000000\n",
              "75%    2.357148e+09      1.000000     2916.000000\n",
              "max    3.164942e+09      1.000000   399555.000000"
            ],
            "text/html": [
              "\n",
              "  <div id=\"df-e7cec02a-f51d-4dc0-b17c-bb276363858b\">\n",
              "    <div class=\"colab-df-container\">\n",
              "      <div>\n",
              "<style scoped>\n",
              "    .dataframe tbody tr th:only-of-type {\n",
              "        vertical-align: middle;\n",
              "    }\n",
              "\n",
              "    .dataframe tbody tr th {\n",
              "        vertical-align: top;\n",
              "    }\n",
              "\n",
              "    .dataframe thead th {\n",
              "        text-align: right;\n",
              "    }\n",
              "</style>\n",
              "<table border=\"1\" class=\"dataframe\">\n",
              "  <thead>\n",
              "    <tr style=\"text-align: right;\">\n",
              "      <th></th>\n",
              "      <th>id</th>\n",
              "      <th>bot</th>\n",
              "      <th>statuses_count</th>\n",
              "    </tr>\n",
              "  </thead>\n",
              "  <tbody>\n",
              "    <tr>\n",
              "      <th>count</th>\n",
              "      <td>1.150800e+04</td>\n",
              "      <td>11508.000000</td>\n",
              "      <td>11109.000000</td>\n",
              "    </tr>\n",
              "    <tr>\n",
              "      <th>mean</th>\n",
              "      <td>1.274517e+09</td>\n",
              "      <td>0.531456</td>\n",
              "      <td>5883.312359</td>\n",
              "    </tr>\n",
              "    <tr>\n",
              "      <th>std</th>\n",
              "      <td>9.354135e+08</td>\n",
              "      <td>0.499031</td>\n",
              "      <td>19073.007305</td>\n",
              "    </tr>\n",
              "    <tr>\n",
              "      <th>min</th>\n",
              "      <td>6.780330e+05</td>\n",
              "      <td>0.000000</td>\n",
              "      <td>0.000000</td>\n",
              "    </tr>\n",
              "    <tr>\n",
              "      <th>25%</th>\n",
              "      <td>4.663594e+08</td>\n",
              "      <td>0.000000</td>\n",
              "      <td>41.000000</td>\n",
              "    </tr>\n",
              "    <tr>\n",
              "      <th>50%</th>\n",
              "      <td>1.128643e+09</td>\n",
              "      <td>1.000000</td>\n",
              "      <td>68.000000</td>\n",
              "    </tr>\n",
              "    <tr>\n",
              "      <th>75%</th>\n",
              "      <td>2.357148e+09</td>\n",
              "      <td>1.000000</td>\n",
              "      <td>2916.000000</td>\n",
              "    </tr>\n",
              "    <tr>\n",
              "      <th>max</th>\n",
              "      <td>3.164942e+09</td>\n",
              "      <td>1.000000</td>\n",
              "      <td>399555.000000</td>\n",
              "    </tr>\n",
              "  </tbody>\n",
              "</table>\n",
              "</div>\n",
              "      <button class=\"colab-df-convert\" onclick=\"convertToInteractive('df-e7cec02a-f51d-4dc0-b17c-bb276363858b')\"\n",
              "              title=\"Convert this dataframe to an interactive table.\"\n",
              "              style=\"display:none;\">\n",
              "        \n",
              "  <svg xmlns=\"http://www.w3.org/2000/svg\" height=\"24px\"viewBox=\"0 0 24 24\"\n",
              "       width=\"24px\">\n",
              "    <path d=\"M0 0h24v24H0V0z\" fill=\"none\"/>\n",
              "    <path d=\"M18.56 5.44l.94 2.06.94-2.06 2.06-.94-2.06-.94-.94-2.06-.94 2.06-2.06.94zm-11 1L8.5 8.5l.94-2.06 2.06-.94-2.06-.94L8.5 2.5l-.94 2.06-2.06.94zm10 10l.94 2.06.94-2.06 2.06-.94-2.06-.94-.94-2.06-.94 2.06-2.06.94z\"/><path d=\"M17.41 7.96l-1.37-1.37c-.4-.4-.92-.59-1.43-.59-.52 0-1.04.2-1.43.59L10.3 9.45l-7.72 7.72c-.78.78-.78 2.05 0 2.83L4 21.41c.39.39.9.59 1.41.59.51 0 1.02-.2 1.41-.59l7.78-7.78 2.81-2.81c.8-.78.8-2.07 0-2.86zM5.41 20L4 18.59l7.72-7.72 1.47 1.35L5.41 20z\"/>\n",
              "  </svg>\n",
              "      </button>\n",
              "      \n",
              "  <style>\n",
              "    .colab-df-container {\n",
              "      display:flex;\n",
              "      flex-wrap:wrap;\n",
              "      gap: 12px;\n",
              "    }\n",
              "\n",
              "    .colab-df-convert {\n",
              "      background-color: #E8F0FE;\n",
              "      border: none;\n",
              "      border-radius: 50%;\n",
              "      cursor: pointer;\n",
              "      display: none;\n",
              "      fill: #1967D2;\n",
              "      height: 32px;\n",
              "      padding: 0 0 0 0;\n",
              "      width: 32px;\n",
              "    }\n",
              "\n",
              "    .colab-df-convert:hover {\n",
              "      background-color: #E2EBFA;\n",
              "      box-shadow: 0px 1px 2px rgba(60, 64, 67, 0.3), 0px 1px 3px 1px rgba(60, 64, 67, 0.15);\n",
              "      fill: #174EA6;\n",
              "    }\n",
              "\n",
              "    [theme=dark] .colab-df-convert {\n",
              "      background-color: #3B4455;\n",
              "      fill: #D2E3FC;\n",
              "    }\n",
              "\n",
              "    [theme=dark] .colab-df-convert:hover {\n",
              "      background-color: #434B5C;\n",
              "      box-shadow: 0px 1px 3px 1px rgba(0, 0, 0, 0.15);\n",
              "      filter: drop-shadow(0px 1px 2px rgba(0, 0, 0, 0.3));\n",
              "      fill: #FFFFFF;\n",
              "    }\n",
              "  </style>\n",
              "\n",
              "      <script>\n",
              "        const buttonEl =\n",
              "          document.querySelector('#df-e7cec02a-f51d-4dc0-b17c-bb276363858b button.colab-df-convert');\n",
              "        buttonEl.style.display =\n",
              "          google.colab.kernel.accessAllowed ? 'block' : 'none';\n",
              "\n",
              "        async function convertToInteractive(key) {\n",
              "          const element = document.querySelector('#df-e7cec02a-f51d-4dc0-b17c-bb276363858b');\n",
              "          const dataTable =\n",
              "            await google.colab.kernel.invokeFunction('convertToInteractive',\n",
              "                                                     [key], {});\n",
              "          if (!dataTable) return;\n",
              "\n",
              "          const docLinkHtml = 'Like what you see? Visit the ' +\n",
              "            '<a target=\"_blank\" href=https://colab.research.google.com/notebooks/data_table.ipynb>data table notebook</a>'\n",
              "            + ' to learn more about interactive tables.';\n",
              "          element.innerHTML = '';\n",
              "          dataTable['output_type'] = 'display_data';\n",
              "          await google.colab.output.renderOutput(dataTable, element);\n",
              "          const docLink = document.createElement('div');\n",
              "          docLink.innerHTML = docLinkHtml;\n",
              "          element.appendChild(docLink);\n",
              "        }\n",
              "      </script>\n",
              "    </div>\n",
              "  </div>\n",
              "  "
            ]
          },
          "metadata": {},
          "execution_count": 16
        }
      ]
    },
    {
      "cell_type": "markdown",
      "metadata": {
        "id": "dEx6HBacgTV0"
      },
      "source": [
        "As shown above there are some null values inside the two dataframes. Furthermore, the type of the column values is 'object' even for columns that should only have numeric values such as 'id', 'user_id' and others. This means that some values in the respective columns are not integers but strings or something else. The data is therefore to be cleaned."
      ]
    },
    {
      "cell_type": "markdown",
      "source": [
        "## Checking anomalies, outliers... "
      ],
      "metadata": {
        "id": "x1MajpyPK4P3"
      }
    },
    {
      "cell_type": "markdown",
      "source": [
        "Anomalies on numeric fields"
      ],
      "metadata": {
        "id": "RyhrCOWVCtPI"
      }
    },
    {
      "cell_type": "code",
      "source": [
        "# checking non-numeric values inside tweets df\n",
        "columns = [\"id\", \"user_id\", \"retweet_count\", \"reply_count\",\n",
        "           \"favorite_count\", \"num_hashtags\",  \"num_urls\", \"num_mentions\"]\n",
        "\n",
        "for col in columns:\n",
        "    try:\n",
        "        pd.to_numeric(tweets_df[col], errors='raise')\n",
        "    except Exception as e:\n",
        "      print(f\"column: {col} error: {e}\")"
      ],
      "metadata": {
        "colab": {
          "base_uri": "https://localhost:8080/"
        },
        "id": "KPUs4Ack2wNW",
        "outputId": "a5127de6-5394-4f9d-ca74-3a2d0bdc08b2"
      },
      "execution_count": 17,
      "outputs": [
        {
          "output_type": "stream",
          "name": "stdout",
          "text": [
            "column: id error: Unable to parse string \"iylbzyeiw\" at position 32\n",
            "column: user_id error: Unable to parse string \"nviem1q\" at position 84\n",
            "column: retweet_count error: Unable to parse string \"04fzba6h4f\" at position 75\n",
            "column: reply_count error: Unable to parse string \"0ngi\" at position 105\n",
            "column: favorite_count error: Unable to parse string \"ai6\" at position 42\n",
            "column: num_hashtags error: Unable to parse string \"2wtmdqfavz\" at position 49\n",
            "column: num_urls error: Unable to parse string \"626z3\" at position 273\n",
            "column: num_mentions error: Unable to parse string \"qdrybz8m1f\" at position 202\n"
          ]
        }
      ]
    },
    {
      "cell_type": "code",
      "source": [
        "# checking correct datetime in tweets df and user df\n",
        "\n",
        "try:\n",
        "  pd.to_datetime(tweets_df[\"created_at\"], errors='raise')\n",
        "except Exception as e:\n",
        "  print(e)\n",
        "\n",
        "try:\n",
        "  pd.to_datetime(users_df[\"created_at\"], errors='raise')\n",
        "except Exception as e:\n",
        "  print(e)\n",
        "\n",
        "# no error in datetime format has been found"
      ],
      "metadata": {
        "id": "6pFNrYQA_NY_"
      },
      "execution_count": 18,
      "outputs": []
    },
    {
      "cell_type": "markdown",
      "source": [
        "Assigning correct type to attribute"
      ],
      "metadata": {
        "id": "wrx0IF1KSl1S"
      }
    },
    {
      "cell_type": "code",
      "execution_count": 19,
      "metadata": {
        "id": "bGNGeJwcMLVH"
      },
      "outputs": [],
      "source": [
        "# covert tweets_df columns from object to numeric. \n",
        "# If a value can't be converted to integer a NaN is inserted\n",
        "\n",
        "columns = [\"id\", \"user_id\", \"retweet_count\", \"reply_count\",\n",
        "           \"favorite_count\", \"num_hashtags\",  \"num_urls\", \"num_mentions\"]\n",
        "\n",
        "for col in columns:\n",
        "    tweets_df[col]=pd.to_numeric(tweets_df[col], errors='coerce', downcast='integer')\n",
        "\n",
        "tweets_df[\"created_at\"]=pd.to_datetime(tweets_df[\"created_at\"], errors='coerce', yearfirst=True)\n",
        "\n",
        "users_df[\"created_at\"]=pd.to_datetime(users_df[\"created_at\"], errors='coerce', yearfirst=True)"
      ]
    },
    {
      "cell_type": "code",
      "execution_count": 21,
      "metadata": {
        "id": "Z4fIS-YpVGsg",
        "colab": {
          "base_uri": "https://localhost:8080/",
          "height": 300
        },
        "outputId": "be4181dc-798f-4b2f-85bd-341c381e3bed"
      },
      "outputs": [
        {
          "output_type": "execute_result",
          "data": {
            "text/plain": [
              "                 id           bot  statuses_count\n",
              "count  1.150800e+04  11508.000000    11109.000000\n",
              "mean   1.274517e+09      0.531456     5883.312359\n",
              "std    9.354135e+08      0.499031    19073.007305\n",
              "min    6.780330e+05      0.000000        0.000000\n",
              "25%    4.663594e+08      0.000000       41.000000\n",
              "50%    1.128643e+09      1.000000       68.000000\n",
              "75%    2.357148e+09      1.000000     2916.000000\n",
              "max    3.164942e+09      1.000000   399555.000000"
            ],
            "text/html": [
              "\n",
              "  <div id=\"df-cba07047-40c6-4139-bd07-78caf9b325e6\">\n",
              "    <div class=\"colab-df-container\">\n",
              "      <div>\n",
              "<style scoped>\n",
              "    .dataframe tbody tr th:only-of-type {\n",
              "        vertical-align: middle;\n",
              "    }\n",
              "\n",
              "    .dataframe tbody tr th {\n",
              "        vertical-align: top;\n",
              "    }\n",
              "\n",
              "    .dataframe thead th {\n",
              "        text-align: right;\n",
              "    }\n",
              "</style>\n",
              "<table border=\"1\" class=\"dataframe\">\n",
              "  <thead>\n",
              "    <tr style=\"text-align: right;\">\n",
              "      <th></th>\n",
              "      <th>id</th>\n",
              "      <th>bot</th>\n",
              "      <th>statuses_count</th>\n",
              "    </tr>\n",
              "  </thead>\n",
              "  <tbody>\n",
              "    <tr>\n",
              "      <th>count</th>\n",
              "      <td>1.150800e+04</td>\n",
              "      <td>11508.000000</td>\n",
              "      <td>11109.000000</td>\n",
              "    </tr>\n",
              "    <tr>\n",
              "      <th>mean</th>\n",
              "      <td>1.274517e+09</td>\n",
              "      <td>0.531456</td>\n",
              "      <td>5883.312359</td>\n",
              "    </tr>\n",
              "    <tr>\n",
              "      <th>std</th>\n",
              "      <td>9.354135e+08</td>\n",
              "      <td>0.499031</td>\n",
              "      <td>19073.007305</td>\n",
              "    </tr>\n",
              "    <tr>\n",
              "      <th>min</th>\n",
              "      <td>6.780330e+05</td>\n",
              "      <td>0.000000</td>\n",
              "      <td>0.000000</td>\n",
              "    </tr>\n",
              "    <tr>\n",
              "      <th>25%</th>\n",
              "      <td>4.663594e+08</td>\n",
              "      <td>0.000000</td>\n",
              "      <td>41.000000</td>\n",
              "    </tr>\n",
              "    <tr>\n",
              "      <th>50%</th>\n",
              "      <td>1.128643e+09</td>\n",
              "      <td>1.000000</td>\n",
              "      <td>68.000000</td>\n",
              "    </tr>\n",
              "    <tr>\n",
              "      <th>75%</th>\n",
              "      <td>2.357148e+09</td>\n",
              "      <td>1.000000</td>\n",
              "      <td>2916.000000</td>\n",
              "    </tr>\n",
              "    <tr>\n",
              "      <th>max</th>\n",
              "      <td>3.164942e+09</td>\n",
              "      <td>1.000000</td>\n",
              "      <td>399555.000000</td>\n",
              "    </tr>\n",
              "  </tbody>\n",
              "</table>\n",
              "</div>\n",
              "      <button class=\"colab-df-convert\" onclick=\"convertToInteractive('df-cba07047-40c6-4139-bd07-78caf9b325e6')\"\n",
              "              title=\"Convert this dataframe to an interactive table.\"\n",
              "              style=\"display:none;\">\n",
              "        \n",
              "  <svg xmlns=\"http://www.w3.org/2000/svg\" height=\"24px\"viewBox=\"0 0 24 24\"\n",
              "       width=\"24px\">\n",
              "    <path d=\"M0 0h24v24H0V0z\" fill=\"none\"/>\n",
              "    <path d=\"M18.56 5.44l.94 2.06.94-2.06 2.06-.94-2.06-.94-.94-2.06-.94 2.06-2.06.94zm-11 1L8.5 8.5l.94-2.06 2.06-.94-2.06-.94L8.5 2.5l-.94 2.06-2.06.94zm10 10l.94 2.06.94-2.06 2.06-.94-2.06-.94-.94-2.06-.94 2.06-2.06.94z\"/><path d=\"M17.41 7.96l-1.37-1.37c-.4-.4-.92-.59-1.43-.59-.52 0-1.04.2-1.43.59L10.3 9.45l-7.72 7.72c-.78.78-.78 2.05 0 2.83L4 21.41c.39.39.9.59 1.41.59.51 0 1.02-.2 1.41-.59l7.78-7.78 2.81-2.81c.8-.78.8-2.07 0-2.86zM5.41 20L4 18.59l7.72-7.72 1.47 1.35L5.41 20z\"/>\n",
              "  </svg>\n",
              "      </button>\n",
              "      \n",
              "  <style>\n",
              "    .colab-df-container {\n",
              "      display:flex;\n",
              "      flex-wrap:wrap;\n",
              "      gap: 12px;\n",
              "    }\n",
              "\n",
              "    .colab-df-convert {\n",
              "      background-color: #E8F0FE;\n",
              "      border: none;\n",
              "      border-radius: 50%;\n",
              "      cursor: pointer;\n",
              "      display: none;\n",
              "      fill: #1967D2;\n",
              "      height: 32px;\n",
              "      padding: 0 0 0 0;\n",
              "      width: 32px;\n",
              "    }\n",
              "\n",
              "    .colab-df-convert:hover {\n",
              "      background-color: #E2EBFA;\n",
              "      box-shadow: 0px 1px 2px rgba(60, 64, 67, 0.3), 0px 1px 3px 1px rgba(60, 64, 67, 0.15);\n",
              "      fill: #174EA6;\n",
              "    }\n",
              "\n",
              "    [theme=dark] .colab-df-convert {\n",
              "      background-color: #3B4455;\n",
              "      fill: #D2E3FC;\n",
              "    }\n",
              "\n",
              "    [theme=dark] .colab-df-convert:hover {\n",
              "      background-color: #434B5C;\n",
              "      box-shadow: 0px 1px 3px 1px rgba(0, 0, 0, 0.15);\n",
              "      filter: drop-shadow(0px 1px 2px rgba(0, 0, 0, 0.3));\n",
              "      fill: #FFFFFF;\n",
              "    }\n",
              "  </style>\n",
              "\n",
              "      <script>\n",
              "        const buttonEl =\n",
              "          document.querySelector('#df-cba07047-40c6-4139-bd07-78caf9b325e6 button.colab-df-convert');\n",
              "        buttonEl.style.display =\n",
              "          google.colab.kernel.accessAllowed ? 'block' : 'none';\n",
              "\n",
              "        async function convertToInteractive(key) {\n",
              "          const element = document.querySelector('#df-cba07047-40c6-4139-bd07-78caf9b325e6');\n",
              "          const dataTable =\n",
              "            await google.colab.kernel.invokeFunction('convertToInteractive',\n",
              "                                                     [key], {});\n",
              "          if (!dataTable) return;\n",
              "\n",
              "          const docLinkHtml = 'Like what you see? Visit the ' +\n",
              "            '<a target=\"_blank\" href=https://colab.research.google.com/notebooks/data_table.ipynb>data table notebook</a>'\n",
              "            + ' to learn more about interactive tables.';\n",
              "          element.innerHTML = '';\n",
              "          dataTable['output_type'] = 'display_data';\n",
              "          await google.colab.output.renderOutput(dataTable, element);\n",
              "          const docLink = document.createElement('div');\n",
              "          docLink.innerHTML = docLinkHtml;\n",
              "          element.appendChild(docLink);\n",
              "        }\n",
              "      </script>\n",
              "    </div>\n",
              "  </div>\n",
              "  "
            ]
          },
          "metadata": {},
          "execution_count": 21
        }
      ],
      "source": [
        "# checking min and max for each column to see if there are outilers, using descrive\n",
        "users_df.describe()"
      ]
    },
    {
      "cell_type": "code",
      "source": [
        "tweets_df.describe()"
      ],
      "metadata": {
        "colab": {
          "base_uri": "https://localhost:8080/",
          "height": 364
        },
        "id": "jQDkmdHqAaZp",
        "outputId": "6a503fba-0d5e-4844-ebac-682a007200e4"
      },
      "execution_count": 20,
      "outputs": [
        {
          "output_type": "execute_result",
          "data": {
            "text/plain": [
              "                 id        user_id  retweet_count  reply_count  \\\n",
              "count  1.323083e+07   1.323080e+07     13039240.0   12855192.0   \n",
              "mean            inf  2.267436e+289            inf          inf   \n",
              "std             NaN            inf            NaN          NaN   \n",
              "min    3.460000e+02   0.000000e+00            0.0          0.0   \n",
              "25%    4.594485e+17   2.328048e+08            0.0          0.0   \n",
              "50%    5.231170e+17   4.680803e+08            0.0          0.0   \n",
              "75%    5.767656e+17   1.228015e+09            1.0          0.0   \n",
              "max             inf  3.000000e+296            inf          inf   \n",
              "\n",
              "       favorite_count   num_hashtags       num_urls  num_mentions  \n",
              "count    1.285660e+07   1.250102e+07   1.285574e+07  1.267671e+07  \n",
              "mean    5.444675e+204  5.599544e+146  7.778625e+202  4.733091e+90  \n",
              "std               inf  1.979818e+150            inf  1.685187e+94  \n",
              "min     -1.000000e+00   0.000000e+00   0.000000e+00  0.000000e+00  \n",
              "25%      0.000000e+00   0.000000e+00   0.000000e+00  0.000000e+00  \n",
              "50%      0.000000e+00   0.000000e+00   0.000000e+00  0.000000e+00  \n",
              "75%      0.000000e+00   0.000000e+00   0.000000e+00  1.000000e+00  \n",
              "max     7.000000e+211  7.000000e+153  1.000000e+210  6.000000e+97  "
            ],
            "text/html": [
              "\n",
              "  <div id=\"df-a1d9c3ae-b476-4637-9265-2b799924d32b\">\n",
              "    <div class=\"colab-df-container\">\n",
              "      <div>\n",
              "<style scoped>\n",
              "    .dataframe tbody tr th:only-of-type {\n",
              "        vertical-align: middle;\n",
              "    }\n",
              "\n",
              "    .dataframe tbody tr th {\n",
              "        vertical-align: top;\n",
              "    }\n",
              "\n",
              "    .dataframe thead th {\n",
              "        text-align: right;\n",
              "    }\n",
              "</style>\n",
              "<table border=\"1\" class=\"dataframe\">\n",
              "  <thead>\n",
              "    <tr style=\"text-align: right;\">\n",
              "      <th></th>\n",
              "      <th>id</th>\n",
              "      <th>user_id</th>\n",
              "      <th>retweet_count</th>\n",
              "      <th>reply_count</th>\n",
              "      <th>favorite_count</th>\n",
              "      <th>num_hashtags</th>\n",
              "      <th>num_urls</th>\n",
              "      <th>num_mentions</th>\n",
              "    </tr>\n",
              "  </thead>\n",
              "  <tbody>\n",
              "    <tr>\n",
              "      <th>count</th>\n",
              "      <td>1.323083e+07</td>\n",
              "      <td>1.323080e+07</td>\n",
              "      <td>13039240.0</td>\n",
              "      <td>12855192.0</td>\n",
              "      <td>1.285660e+07</td>\n",
              "      <td>1.250102e+07</td>\n",
              "      <td>1.285574e+07</td>\n",
              "      <td>1.267671e+07</td>\n",
              "    </tr>\n",
              "    <tr>\n",
              "      <th>mean</th>\n",
              "      <td>inf</td>\n",
              "      <td>2.267436e+289</td>\n",
              "      <td>inf</td>\n",
              "      <td>inf</td>\n",
              "      <td>5.444675e+204</td>\n",
              "      <td>5.599544e+146</td>\n",
              "      <td>7.778625e+202</td>\n",
              "      <td>4.733091e+90</td>\n",
              "    </tr>\n",
              "    <tr>\n",
              "      <th>std</th>\n",
              "      <td>NaN</td>\n",
              "      <td>inf</td>\n",
              "      <td>NaN</td>\n",
              "      <td>NaN</td>\n",
              "      <td>inf</td>\n",
              "      <td>1.979818e+150</td>\n",
              "      <td>inf</td>\n",
              "      <td>1.685187e+94</td>\n",
              "    </tr>\n",
              "    <tr>\n",
              "      <th>min</th>\n",
              "      <td>3.460000e+02</td>\n",
              "      <td>0.000000e+00</td>\n",
              "      <td>0.0</td>\n",
              "      <td>0.0</td>\n",
              "      <td>-1.000000e+00</td>\n",
              "      <td>0.000000e+00</td>\n",
              "      <td>0.000000e+00</td>\n",
              "      <td>0.000000e+00</td>\n",
              "    </tr>\n",
              "    <tr>\n",
              "      <th>25%</th>\n",
              "      <td>4.594485e+17</td>\n",
              "      <td>2.328048e+08</td>\n",
              "      <td>0.0</td>\n",
              "      <td>0.0</td>\n",
              "      <td>0.000000e+00</td>\n",
              "      <td>0.000000e+00</td>\n",
              "      <td>0.000000e+00</td>\n",
              "      <td>0.000000e+00</td>\n",
              "    </tr>\n",
              "    <tr>\n",
              "      <th>50%</th>\n",
              "      <td>5.231170e+17</td>\n",
              "      <td>4.680803e+08</td>\n",
              "      <td>0.0</td>\n",
              "      <td>0.0</td>\n",
              "      <td>0.000000e+00</td>\n",
              "      <td>0.000000e+00</td>\n",
              "      <td>0.000000e+00</td>\n",
              "      <td>0.000000e+00</td>\n",
              "    </tr>\n",
              "    <tr>\n",
              "      <th>75%</th>\n",
              "      <td>5.767656e+17</td>\n",
              "      <td>1.228015e+09</td>\n",
              "      <td>1.0</td>\n",
              "      <td>0.0</td>\n",
              "      <td>0.000000e+00</td>\n",
              "      <td>0.000000e+00</td>\n",
              "      <td>0.000000e+00</td>\n",
              "      <td>1.000000e+00</td>\n",
              "    </tr>\n",
              "    <tr>\n",
              "      <th>max</th>\n",
              "      <td>inf</td>\n",
              "      <td>3.000000e+296</td>\n",
              "      <td>inf</td>\n",
              "      <td>inf</td>\n",
              "      <td>7.000000e+211</td>\n",
              "      <td>7.000000e+153</td>\n",
              "      <td>1.000000e+210</td>\n",
              "      <td>6.000000e+97</td>\n",
              "    </tr>\n",
              "  </tbody>\n",
              "</table>\n",
              "</div>\n",
              "      <button class=\"colab-df-convert\" onclick=\"convertToInteractive('df-a1d9c3ae-b476-4637-9265-2b799924d32b')\"\n",
              "              title=\"Convert this dataframe to an interactive table.\"\n",
              "              style=\"display:none;\">\n",
              "        \n",
              "  <svg xmlns=\"http://www.w3.org/2000/svg\" height=\"24px\"viewBox=\"0 0 24 24\"\n",
              "       width=\"24px\">\n",
              "    <path d=\"M0 0h24v24H0V0z\" fill=\"none\"/>\n",
              "    <path d=\"M18.56 5.44l.94 2.06.94-2.06 2.06-.94-2.06-.94-.94-2.06-.94 2.06-2.06.94zm-11 1L8.5 8.5l.94-2.06 2.06-.94-2.06-.94L8.5 2.5l-.94 2.06-2.06.94zm10 10l.94 2.06.94-2.06 2.06-.94-2.06-.94-.94-2.06-.94 2.06-2.06.94z\"/><path d=\"M17.41 7.96l-1.37-1.37c-.4-.4-.92-.59-1.43-.59-.52 0-1.04.2-1.43.59L10.3 9.45l-7.72 7.72c-.78.78-.78 2.05 0 2.83L4 21.41c.39.39.9.59 1.41.59.51 0 1.02-.2 1.41-.59l7.78-7.78 2.81-2.81c.8-.78.8-2.07 0-2.86zM5.41 20L4 18.59l7.72-7.72 1.47 1.35L5.41 20z\"/>\n",
              "  </svg>\n",
              "      </button>\n",
              "      \n",
              "  <style>\n",
              "    .colab-df-container {\n",
              "      display:flex;\n",
              "      flex-wrap:wrap;\n",
              "      gap: 12px;\n",
              "    }\n",
              "\n",
              "    .colab-df-convert {\n",
              "      background-color: #E8F0FE;\n",
              "      border: none;\n",
              "      border-radius: 50%;\n",
              "      cursor: pointer;\n",
              "      display: none;\n",
              "      fill: #1967D2;\n",
              "      height: 32px;\n",
              "      padding: 0 0 0 0;\n",
              "      width: 32px;\n",
              "    }\n",
              "\n",
              "    .colab-df-convert:hover {\n",
              "      background-color: #E2EBFA;\n",
              "      box-shadow: 0px 1px 2px rgba(60, 64, 67, 0.3), 0px 1px 3px 1px rgba(60, 64, 67, 0.15);\n",
              "      fill: #174EA6;\n",
              "    }\n",
              "\n",
              "    [theme=dark] .colab-df-convert {\n",
              "      background-color: #3B4455;\n",
              "      fill: #D2E3FC;\n",
              "    }\n",
              "\n",
              "    [theme=dark] .colab-df-convert:hover {\n",
              "      background-color: #434B5C;\n",
              "      box-shadow: 0px 1px 3px 1px rgba(0, 0, 0, 0.15);\n",
              "      filter: drop-shadow(0px 1px 2px rgba(0, 0, 0, 0.3));\n",
              "      fill: #FFFFFF;\n",
              "    }\n",
              "  </style>\n",
              "\n",
              "      <script>\n",
              "        const buttonEl =\n",
              "          document.querySelector('#df-a1d9c3ae-b476-4637-9265-2b799924d32b button.colab-df-convert');\n",
              "        buttonEl.style.display =\n",
              "          google.colab.kernel.accessAllowed ? 'block' : 'none';\n",
              "\n",
              "        async function convertToInteractive(key) {\n",
              "          const element = document.querySelector('#df-a1d9c3ae-b476-4637-9265-2b799924d32b');\n",
              "          const dataTable =\n",
              "            await google.colab.kernel.invokeFunction('convertToInteractive',\n",
              "                                                     [key], {});\n",
              "          if (!dataTable) return;\n",
              "\n",
              "          const docLinkHtml = 'Like what you see? Visit the ' +\n",
              "            '<a target=\"_blank\" href=https://colab.research.google.com/notebooks/data_table.ipynb>data table notebook</a>'\n",
              "            + ' to learn more about interactive tables.';\n",
              "          element.innerHTML = '';\n",
              "          dataTable['output_type'] = 'display_data';\n",
              "          await google.colab.output.renderOutput(dataTable, element);\n",
              "          const docLink = document.createElement('div');\n",
              "          docLink.innerHTML = docLinkHtml;\n",
              "          element.appendChild(docLink);\n",
              "        }\n",
              "      </script>\n",
              "    </div>\n",
              "  </div>\n",
              "  "
            ]
          },
          "metadata": {},
          "execution_count": 20
        }
      ]
    },
    {
      "cell_type": "markdown",
      "source": [
        "As we have seen there are of very high maximum values within both dataframes. The 75% percentile of retweet count reply count favorite count num urls and numr mention are <=1 this means that most of the tweets have no replies, likes, url hashtags or other"
      ],
      "metadata": {
        "id": "BZhonJ74Cnkt"
      }
    },
    {
      "cell_type": "markdown",
      "source": [
        "Anomalies on datetime"
      ],
      "metadata": {
        "id": "--IFdjKwCzHK"
      }
    },
    {
      "cell_type": "code",
      "execution_count": null,
      "metadata": {
        "id": "kC3BcENdJJpI",
        "colab": {
          "base_uri": "https://localhost:8080/"
        },
        "outputId": "b6c53ecd-45b3-4c9d-c3c5-ddd0825a20ee"
      },
      "outputs": [
        {
          "output_type": "stream",
          "name": "stdout",
          "text": [
            "Number of tweets with date after today:  48639\n",
            "Number of tweets with date before the creation of Twitter:  48600\n"
          ]
        }
      ],
      "source": [
        "# FARE MEGLIO QUESTA PARTE,\n",
        "# PLOTTARE GRAFICI CHE MOSTRANO UTENTI E TWEET CREATI PRIMA DEL 2006 E DOPO IL 2020\n",
        "\n",
        "# for each value in column created_at\n",
        "# outliers for tweet creation datetime\n",
        "\n",
        "count_after = 0\n",
        "count_before = 0\n",
        "\n",
        "# da sostituire il today, mettere fino ad aprile 2020\n",
        "today = pd.to_datetime(\"today\")\n",
        "min = pd.to_datetime(\"2006-03-21\")\n",
        "\n",
        "\n",
        "for id,date in zip(tweets_df[\"id\"],tweets_df[\"created_at\"]):\n",
        "  \n",
        "    #check date after today\n",
        "    if date > today:\n",
        "        #print(\"id: \",id,\" date: \",date)\n",
        "        count_after += 1\n",
        "    #check date befor march 2006\n",
        "    elif date < min:\n",
        "        #print(\"id: \", id, \" date: \", date)\n",
        "        count_before += 1\n",
        "    \n",
        "  \n",
        "print(\"Number of tweets with date after today: \",count_after)\n",
        "print(\"Number of tweets with date before the creation of Twitter: \",count_before)\n",
        "\n",
        "# DA FINIRE IL CHECK DEGLI OUTLIER PER OGNI FEATURE?\n"
      ]
    },
    {
      "cell_type": "markdown",
      "source": [
        "Anomalies on languages"
      ],
      "metadata": {
        "id": "0H_sK07VDXqq"
      }
    },
    {
      "cell_type": "code",
      "source": [
        "# anomalies in language\n",
        "print(users_df[\"lang\"].unique())"
      ],
      "metadata": {
        "colab": {
          "base_uri": "https://localhost:8080/"
        },
        "id": "PJV51VqmDmnl",
        "outputId": "84926eab-810e-41d3-e9ad-6c04376bdd6e"
      },
      "execution_count": 22,
      "outputs": [
        {
          "output_type": "stream",
          "name": "stdout",
          "text": [
            "['en' 'it' 'fr' 'ru' 'es' 'tr' 'en-gb' 'pt' 'nl' 'id' 'zh-tw' 'ja' 'de'\n",
            " 'ko' 'en-AU' 'da' 'ar' 'en-GB' 'Select Language...' 'zh-TW' 'zh-cn' 'pl'\n",
            " 'el' 'fil' 'sv' 'xx-lc']\n"
          ]
        }
      ]
    },
    {
      "cell_type": "markdown",
      "metadata": {
        "id": "G9tAR39Hg9g5"
      },
      "source": [
        "# **Data Preparation**\n",
        "---\n",
        "\n"
      ]
    },
    {
      "cell_type": "markdown",
      "metadata": {
        "id": "8rf-CUEbJFgW"
      },
      "source": [
        "## Data Quality & Data Cleaning\n",
        "\n",
        "commento: nelle slide di data understanding mette il data cleaning nella fase di data undestanding, nelle slide di data preparation lo rimette come treat missing values and outliers. Per ora lascio data quality and cleaning sotto data preparation, nel caso si sposta su nel data undestanding"
      ]
    },
    {
      "cell_type": "markdown",
      "source": [
        "#### Removing duplicates"
      ],
      "metadata": {
        "id": "AbKxxU1lShmk"
      }
    },
    {
      "cell_type": "markdown",
      "metadata": {
        "id": "ZaXdcraSKCMu"
      },
      "source": [
        "In this part we check for duplicates, missing values and outliers. SCRIVERE ALTRO"
      ]
    },
    {
      "cell_type": "code",
      "execution_count": null,
      "metadata": {
        "id": "SArmSSmCKiy3",
        "colab": {
          "base_uri": "https://localhost:8080/"
        },
        "outputId": "d3191f7d-3588-44ad-bd3e-b95106581fe0"
      },
      "outputs": [
        {
          "output_type": "stream",
          "name": "stdout",
          "text": [
            "Len of tweets_df before cleaning: 13664696\n",
            "duplicates removed from tweets_df file: \t1952099\n",
            "Len of tweets_df after cleaning: 11712597\n",
            "We have 0.1429% of duplicates in tweets_df file\n",
            "\n",
            "Len of users_df before cleaning: 11508\n",
            "duplicates removed from users_df file: \t0\n",
            "Len of users_df after cleaning: 11508\n",
            "We have 0.0% of duplicates in users_df file\n",
            "\n"
          ]
        }
      ],
      "source": [
        "def find_and_remove_duplicates(df: DataFrame, dataframe_name):\n",
        "    original_lenght = len(df)\n",
        "    print(f\"Len of {dataframe_name} before cleaning: {original_lenght}\")\n",
        "\n",
        "    df.drop_duplicates(inplace=True)\n",
        "    new_lenght = len(df)\n",
        "\n",
        "    count = original_lenght - new_lenght\n",
        "    print(f\"duplicates removed from {dataframe_name} file: \\t{count}\")\n",
        "    print(f\"Len of {dataframe_name} after cleaning: {new_lenght}\")\n",
        "    print(f\"We have {round((count/original_lenght)*100,4)}% of duplicates in {dataframe_name} file\\n\")\n",
        "\n",
        "find_and_remove_duplicates(tweets_df, \"tweets_df\")\n",
        "find_and_remove_duplicates(users_df, \"users_df\")"
      ]
    },
    {
      "cell_type": "markdown",
      "source": [
        "#### Removing NaN"
      ],
      "metadata": {
        "id": "0I73HjipSqUB"
      }
    },
    {
      "cell_type": "code",
      "execution_count": null,
      "metadata": {
        "id": "tp4xEnzmTB9x"
      },
      "outputs": [],
      "source": [
        "#nan_unique_count(tweets_df, \"tweets_df\")\n",
        "tweets_df.dropna(subset=['text'], inplace=True)\n",
        "#nan_unique_count(tweets_df, \"tweets_df\")\n",
        "\n",
        "# possiamo anche sostituire il NaN nel testo con stringa vuota?"
      ]
    },
    {
      "cell_type": "markdown",
      "metadata": {
        "id": "siBQeSkQVZeR"
      },
      "source": [
        "Per evitare di eliminare record importanti dal dataset decidiamo di sostituire valori NaN degli attributi che rappresentano dei contatori con valori negativi non presenti del dataset"
      ]
    },
    {
      "cell_type": "code",
      "execution_count": null,
      "metadata": {
        "id": "ITg54HW-ZEka",
        "colab": {
          "base_uri": "https://localhost:8080/"
        },
        "outputId": "a17b516c-2464-470c-dd3c-51b8c76555cc"
      },
      "outputs": [
        {
          "output_type": "stream",
          "name": "stdout",
          "text": [
            "|          column |   unique values|             NaN |\n",
            "------------------------------------------------------\n",
            "|              id |        10606605|               0 |\n",
            "|         user_id |           12077|               0 |\n",
            "|   retweet_count |           45786|               0 |\n",
            "|     reply_count |             605|               0 |\n",
            "|  favorite_count |            1486|               0 |\n",
            "|    num_hashtags |             344|               0 |\n",
            "|        num_urls |             422|               0 |\n",
            "|    num_mentions |             429|               0 |\n",
            "|      created_at |         8103097|               0 |\n",
            "|            text |         6778478|               0 |\n"
          ]
        }
      ],
      "source": [
        "#ho sostituito i valori NaN nello colonne columns = [\"retweet_count\", \"reply_count\", \"favorite_count\", \"num_hashtags\",  \"num_urls\", \"num_mentions\"] con un valore negativo per non eliminare la riga\n",
        "#da fare anche per lo user dataframe\n",
        "tweets_df[columns] = tweets_df[columns].fillna(value=-100)\n",
        "tweets_df.replace([np.inf, -np.inf], -100, inplace=True)\n",
        "\n",
        "# creare id fantoccio\n",
        "tweets_df[\"id\"] = tweets_df[\"id\"].fillna(method=\"ffill\")\n",
        "\n",
        "# per user_df se il valore nella colonna è nan al momento droppo la linea, se si trova altro si può modificare in seguito\n",
        "tweets_df.dropna(inplace=True)\n",
        "\n",
        "# most of user_id are not integer, dropping these line we reached almost the number of users we have in user_df \n",
        "\n",
        "nan_unique_count(tweets_df)"
      ]
    },
    {
      "cell_type": "code",
      "source": [
        "tweets_df.loc[tweets_df['favorite_count'] == -100].value_counts()"
      ],
      "metadata": {
        "colab": {
          "base_uri": "https://localhost:8080/"
        },
        "id": "F7cBKmN91tjI",
        "outputId": "2186608e-e419-4009-a7d8-b2c5cdddbd37"
      },
      "execution_count": null,
      "outputs": [
        {
          "output_type": "execute_result",
          "data": {
            "text/plain": [
              "id             user_id       retweet_count  reply_count  favorite_count  num_hashtags  num_urls  num_mentions  created_at           text                                                                                                  \n",
              "-1.000000e+02  1.774554e+08  -100.0         -100.0       -100.0          -100.0         0.0       2.0          2020-04-06 15:12:11  @briOKC @NewsOK                                                                                           1\n",
              " 5.726603e+16  1.273204e+09   0.0            0.0         -100.0          -100.0        -100.0    -100.0        2018-12-18 12:22:27  Il risultato dei programmi fatti con cura Ã¨ sempre scambiato per fortuna dai cretini Dashiell Hammett    1\n",
              " 5.726460e+16  9.546324e+07   0.0            0.0         -100.0          -100.0         0.0       1.0          2020-03-23 16:10:22  @wintrzz hahaachahaistalkeraebchnekelyekoitoideahonachahyenanaseerhihoga                                  1\n",
              " 5.726236e+16  4.653759e+08  -100.0         -100.0       -100.0          -100.0         0.0       0.0          2019-11-03 21:53:38  Se una donna ti dice che non ha voglia di fare l'amore, non ha mal di testa.  Ha mal di te.               1\n",
              " 5.725920e+16  2.967917e+08   0.0            0.0         -100.0           0.0           0.0       1.0          2020-03-30 01:00:06  “@PoemsPorn: http://t.co/IbuziKbyTe”                                                                      1\n",
              "                                                                                                                                                                                                                                             ..\n",
              " 3.102038e+10  2.741738e+08   0.0            0.0         -100.0           0.0           0.0      -100.0        2020-04-28 01:58:59  Shit GoT spoilers                                                                                         1\n",
              " 3.101750e+10  2.356282e+09  -100.0          0.0         -100.0           0.0           0.0       0.0          2019-04-30 20:59:51  If staying with you is what brings happiness to you, then I will stay with you for eternity.              1\n",
              " 3.101512e+10  7.138849e+08  -100.0         -100.0       -100.0          -100.0         0.0       1.0          2020-01-11 05:50:52  @JoeGarcia515 for sure! Good times no doubt!                                                              1\n",
              " 3.101267e+10  1.925082e+09   2.0            0.0         -100.0          -100.0        -100.0    -100.0        2019-06-14 07:16:35  “@arianaaxox: why does it just randomly storm out of nowhere I don't get it” its oklahoma                 1\n",
              " 9.999952e+17  2.014252e+08   0.0            0.0         -100.0           0.0           0.0       0.0          2019-10-12 03:47:15  Every day, in every way, I am getting better and better. - Emilie Coue                                    1\n",
              "Length: 537453, dtype: int64"
            ]
          },
          "metadata": {},
          "execution_count": 27
        }
      ]
    },
    {
      "cell_type": "code",
      "execution_count": null,
      "metadata": {
        "id": "h1cT3hWKbsSx"
      },
      "outputs": [],
      "source": [
        "#assign int to colums in tweets\n",
        "columns = [\"id\", \"user_id\", \"retweet_count\", \"reply_count\",\n",
        "           \"favorite_count\", \"num_hashtags\",  \"num_urls\", \"num_mentions\"]\n",
        "\n",
        "for col in columns:\n",
        "    tweets_df[col]=tweets_df[col].astype(int)"
      ]
    },
    {
      "cell_type": "markdown",
      "source": [
        "#### Clean the language column in the users dataframe"
      ],
      "metadata": {
        "id": "jxxisIK8K9XX"
      }
    },
    {
      "cell_type": "code",
      "execution_count": null,
      "metadata": {
        "id": "3Mwb_jWhluWW",
        "outputId": "3504bf8a-cfc7-44bf-b343-abd6392af9b9",
        "colab": {
          "base_uri": "https://localhost:8080/"
        }
      },
      "outputs": [
        {
          "output_type": "stream",
          "name": "stdout",
          "text": [
            "['en' 'it' 'fr' 'ru' 'es' 'tr' 'pt' 'nl' 'id' 'zh' 'ja' 'de' 'ko' 'da'\n",
            " 'ar' 'Select Language...' 'pl' 'el' 'fil' 'sv' 'xx-lc']\n"
          ]
        }
      ],
      "source": [
        "users_df['lang'] = users_df['lang'].str.replace('en-gb', 'en')\n",
        "users_df['lang'] = users_df['lang'].str.replace('en-GB', 'en')\n",
        "users_df['lang'] = users_df['lang'].str.replace('en-AU', 'en')\n",
        "\n",
        "users_df['lang'] = users_df['lang'].str.replace('zh-TW', 'zh-tw')\n",
        "users_df['lang'] = users_df['lang'].str.replace('zh-tw', 'zh')\n",
        "users_df['lang'] = users_df['lang'].str.replace('zh-cn', 'zh')"
      ]
    },
    {
      "cell_type": "markdown",
      "metadata": {
        "id": "Y2cUMLUKhSPj"
      },
      "source": [
        "## Distribution of variables - DA FARE\n",
        "\n",
        "\n",
        "INSERIRE VARI PLOT DEI DATI CHE ABBIAMO FATTO\n",
        "\n",
        "CHRISTIAN\n",
        "\n"
      ]
    },
    {
      "cell_type": "code",
      "execution_count": null,
      "metadata": {
        "colab": {
          "base_uri": "https://localhost:8080/"
        },
        "id": "pXi8VnvPj0Yn",
        "outputId": "7d0a0d59-b816-4cda-ec60-0d980662b0b6"
      },
      "outputs": [
        {
          "output_type": "display_data",
          "data": {
            "text/plain": [
              "<Figure size 504x576 with 1 Axes>"
            ],
            "image/png": "[encoded data removed]"
          },
          "metadata": {}
        }
      ],
      "source": [
        "#@title\n",
        "import seaborn as sns\n",
        "import matplotlib as mpl\n",
        "\n",
        "# mpl.use('TkAgg')\n",
        "import matplotlib.pyplot as plt\n",
        "import calendar\n",
        "  \n",
        "sns.set_theme(style=\"ticks\")\n",
        "f, ax = plt.subplots(figsize=(7, 8))\n",
        "sns.despine(f)\n",
        "\n",
        "# Create the histogram setting the column to be represented and the one to overlap\n",
        "g = sns.histplot(\n",
        "    users_df,\n",
        "    x=users_df['created_at'].dt.month, hue=users_df['created_at'].dt.year,\n",
        "    multiple='layer',\n",
        "    log_scale=False,\n",
        "    discrete=True,\n",
        "    palette='flare'\n",
        ").set(title=\"User subscriptions\")\n",
        "\n",
        "# Tweak the visual presentation\n",
        "ax.xaxis.set_major_formatter(mpl.ticker.ScalarFormatter())\n",
        "ax.set_xticks([1, 2, 3, 4, 5, 6, 7, 8, 9, 10, 11, 12])\n",
        "ax.set_xlabel('Months')\n",
        "sns.move_legend(ax, \"upper left\", bbox_to_anchor=(0.8, 0.9), title='Year')\n",
        "ax.set_xticklabels([month for month in calendar.month_name[1:]],\n",
        "                    fontdict={'horizontalalignment': 'center', 'fontsize': 12, 'rotation': 30})\n",
        "plt.show()"
      ]
    },
    {
      "cell_type": "code",
      "source": [
        "#@title\n",
        "sns.set_theme(style=\"ticks\")\n",
        "f, ax = plt.subplots(figsize=(7, 8))\n",
        "sns.despine(f)\n",
        "\n",
        "# Create the histogram setting the column to be represented and the one to overlap\n",
        "g = sns.histplot(\n",
        "    tweets_df,\n",
        "    x=tweets_df['created_at'].dt.month, hue=tweets_df['created_at'].dt.year,\n",
        "    multiple='layer',\n",
        "    log_scale=False,\n",
        "    discrete=True,\n",
        "    palette='husl'\n",
        ").set(title=\"Tweets distributions over the years\")\n",
        "\n",
        "# Tweak the visual presentation\n",
        "ax.xaxis.set_major_formatter(mpl.ticker.ScalarFormatter())\n",
        "ax.set_xticks([1, 2, 3, 4, 5, 6, 7, 8, 9, 10, 11, 12])\n",
        "ax.set_xlabel('Months')\n",
        "sns.move_legend(ax, \"upper left\", bbox_to_anchor=(1, 1), title='Year')\n",
        "ax.set_xticklabels([month for month in calendar.month_name[1:]],\n",
        "                    fontdict={'horizontalalignment': 'center', 'fontsize': 12, 'rotation': 30})\n",
        "plt.show()"
      ],
      "metadata": {
        "colab": {
          "base_uri": "https://localhost:8080/"
        },
        "id": "rutMimouOmXa",
        "outputId": "d4ad39e8-a14a-485f-849d-9bea6bb85e99",
        "cellView": "form"
      },
      "execution_count": null,
      "outputs": [
        {
          "output_type": "display_data",
          "data": {
            "text/plain": [
              "<Figure size 504x576 with 1 Axes>"
            ],
            "image/png": "[encoded data removed]"
          },
          "metadata": {}
        }
      ]
    },
    {
      "cell_type": "code",
      "source": [
        "tweets_df['user_id'].value_counts().sort_values(ascending=False)"
      ],
      "metadata": {
        "id": "6Fx6_-NrPWyb",
        "colab": {
          "base_uri": "https://localhost:8080/"
        },
        "outputId": "74c2f60f-8c16-4b00-9331-a8195d4e8d56"
      },
      "execution_count": null,
      "outputs": [
        {
          "output_type": "execute_result",
          "data": {
            "text/plain": [
              "497404180     3920\n",
              "1693274954    3906\n",
              "157029836     3903\n",
              "164940888     3903\n",
              "491630583     3902\n",
              "              ... \n",
              "126216653        1\n",
              "1723             1\n",
              "898              1\n",
              "707              1\n",
              "261              1\n",
              "Name: user_id, Length: 12066, dtype: int64"
            ]
          },
          "metadata": {},
          "execution_count": 34
        }
      ]
    },
    {
      "cell_type": "code",
      "source": [
        "tweets_df['id'].astype(str).str.len().value_counts().sort_values(ascending=False)"
      ],
      "metadata": {
        "id": "SubKs0baaipY",
        "colab": {
          "base_uri": "https://localhost:8080/"
        },
        "outputId": "c765155d-1add-47f3-871b-b30716d95723"
      },
      "execution_count": null,
      "outputs": [
        {
          "output_type": "execute_result",
          "data": {
            "text/plain": [
              "18    9958804\n",
              "17     171209\n",
              "10     127161\n",
              "11     123921\n",
              "16     114232\n",
              "15     113880\n",
              "9      113573\n",
              "8      113394\n",
              "7       11449\n",
              "14      11293\n",
              "6        1178\n",
              "13       1049\n",
              "12        129\n",
              "5         114\n",
              "4          14\n",
              "3           2\n",
              "Name: id, dtype: int64"
            ]
          },
          "metadata": {},
          "execution_count": 35
        }
      ]
    },
    {
      "cell_type": "code",
      "source": [
        "tweets_df['user_id'].astype(str).str.len().value_counts().sort_values(ascending=False)"
      ],
      "metadata": {
        "id": "fbC5bH5rajTt",
        "colab": {
          "base_uri": "https://localhost:8080/"
        },
        "outputId": "2335add3-916f-4b94-a693-f02c211f0970"
      },
      "execution_count": null,
      "outputs": [
        {
          "output_type": "execute_result",
          "data": {
            "text/plain": [
              "9     6308892\n",
              "10    3025522\n",
              "8     1454375\n",
              "7       52841\n",
              "6       19134\n",
              "3         418\n",
              "4         119\n",
              "2          42\n",
              "5          33\n",
              "1          12\n",
              "20         12\n",
              "11          2\n",
              "Name: user_id, dtype: int64"
            ]
          },
          "metadata": {},
          "execution_count": 36
        }
      ]
    },
    {
      "cell_type": "code",
      "source": [
        "tweets_df['retweet_count'].value_counts().describe()"
      ],
      "metadata": {
        "colab": {
          "base_uri": "https://localhost:8080/"
        },
        "id": "d9_I6cX2axbA",
        "outputId": "5598685d-0f61-4f19-dc0f-9fadce8f7250"
      },
      "execution_count": null,
      "outputs": [
        {
          "output_type": "execute_result",
          "data": {
            "text/plain": [
              "count    4.577900e+04\n",
              "mean     2.372573e+02\n",
              "std      3.561424e+04\n",
              "min      1.000000e+00\n",
              "25%      1.000000e+00\n",
              "50%      2.000000e+00\n",
              "75%      6.000000e+00\n",
              "max      7.542784e+06\n",
              "Name: retweet_count, dtype: float64"
            ]
          },
          "metadata": {},
          "execution_count": 37
        }
      ]
    },
    {
      "cell_type": "code",
      "source": [
        "tweets_df['reply_count'].value_counts().describe()"
      ],
      "metadata": {
        "colab": {
          "base_uri": "https://localhost:8080/"
        },
        "id": "7GuaTqAGbUNQ",
        "outputId": "afbbf19d-0847-4c7b-ce6f-875d653a152c"
      },
      "execution_count": null,
      "outputs": [
        {
          "output_type": "execute_result",
          "data": {
            "text/plain": [
              "count    5.930000e+02\n",
              "mean     1.831602e+04\n",
              "std      4.287483e+05\n",
              "min      1.000000e+00\n",
              "25%      1.000000e+00\n",
              "50%      1.000000e+00\n",
              "75%      2.000000e+00\n",
              "max      1.043337e+07\n",
              "Name: reply_count, dtype: float64"
            ]
          },
          "metadata": {},
          "execution_count": 38
        }
      ]
    },
    {
      "cell_type": "code",
      "source": [
        "tweets_df['favorite_count'].min()"
      ],
      "metadata": {
        "colab": {
          "base_uri": "https://localhost:8080/"
        },
        "id": "jH7k-1HsxQ9R",
        "outputId": "bd3c36fa-eba8-4896-efa7-bc9980df20bd"
      },
      "execution_count": null,
      "outputs": [
        {
          "output_type": "execute_result",
          "data": {
            "text/plain": [
              "-9223372036854775808"
            ]
          },
          "metadata": {},
          "execution_count": 39
        }
      ]
    },
    {
      "cell_type": "markdown",
      "metadata": {
        "id": "Dc525GCLC7ut"
      },
      "source": [
        "## Merge\n",
        "TODO: breve descrizione del perchè mergiamo"
      ]
    },
    {
      "cell_type": "code",
      "execution_count": null,
      "metadata": {
        "id": "NJP-VELXkfkW",
        "colab": {
          "base_uri": "https://localhost:8080/"
        },
        "outputId": "42b94da4-2b09-4f98-8242-f84b3dbc369a"
      },
      "outputs": [
        {
          "output_type": "stream",
          "name": "stdout",
          "text": [
            "10861402\n",
            "10861402\n"
          ]
        }
      ],
      "source": [
        "# first of all merge the two dataframe, checking lenght of df after and before merging\n",
        "# so that we can assure that no rows have been discarded\n",
        "\n",
        "users_df.rename(columns = {'id':'user_id'}, inplace = True)\n",
        "\n",
        "print(len(tweets_df))\n",
        "merged_df = tweets_df.merge(users_df,on='user_id', how='outer')\n",
        "print(len(tweets_df))"
      ]
    },
    {
      "cell_type": "code",
      "execution_count": null,
      "metadata": {
        "id": "8a9Oq0uHqtZ3",
        "colab": {
          "base_uri": "https://localhost:8080/"
        },
        "outputId": "fc300f1b-c66e-4d16-d277-cce58036597c"
      },
      "outputs": [
        {
          "output_type": "stream",
          "name": "stdout",
          "text": [
            "                   id    user_id  retweet_count  reply_count  favorite_count  \\\n",
            "0  509354017856950336  327746321              0            0               0   \n",
            "1  523891871761039360  327746321              0            0               0   \n",
            "2  528202577788559360  327746321              0            0               0   \n",
            "3  530119198710964160  327746321              0            0               0   \n",
            "4  520435124048248832  327746321              0            0               0   \n",
            "\n",
            "   num_hashtags  num_urls  num_mentions        created_at_x  \\\n",
            "0             0         0             0 2019-09-11 14:53:55   \n",
            "1             0         1             0 2019-10-21 17:42:10   \n",
            "2             0         0             0 2019-11-02 15:11:22   \n",
            "3             0         1             0 2019-11-07 22:07:20   \n",
            "4             0         1             0 2019-10-12 04:46:17   \n",
            "\n",
            "                                                text                name lang  \\\n",
            "0  If man is a little lower than angels, then ang...  The Amazing Rhythm   en   \n",
            "1  Read the Biography of Don Henley  http://t.co/...  The Amazing Rhythm   en   \n",
            "2  Don't tell me where your priorities are. Show ...  The Amazing Rhythm   en   \n",
            "3  Learn About the Great Music of Bill Justis  ht...  The Amazing Rhythm   en   \n",
            "4  Do you love James Bond? Â Check out these cool...  The Amazing Rhythm   en   \n",
            "\n",
            "   bot        created_at_y  statuses_count  \n",
            "0  1.0 2016-07-03 02:37:46         12288.0  \n",
            "1  1.0 2016-07-03 02:37:46         12288.0  \n",
            "2  1.0 2016-07-03 02:37:46         12288.0  \n",
            "3  1.0 2016-07-03 02:37:46         12288.0  \n",
            "4  1.0 2016-07-03 02:37:46         12288.0  \n"
          ]
        }
      ],
      "source": [
        "print(merged_df.head(5))"
      ]
    },
    {
      "cell_type": "code",
      "execution_count": null,
      "metadata": {
        "id": "b4CTSyKMq18l",
        "colab": {
          "base_uri": "https://localhost:8080/"
        },
        "outputId": "404314bf-1952-4ee7-fac3-874cdbda0939"
      },
      "outputs": [
        {
          "output_type": "stream",
          "name": "stdout",
          "text": [
            "<class 'pandas.core.frame.DataFrame'>\n",
            "Int64Index: 10861402 entries, 0 to 10861401\n",
            "Data columns (total 15 columns):\n",
            " #   Column          Dtype         \n",
            "---  ------          -----         \n",
            " 0   id              int64         \n",
            " 1   user_id         int64         \n",
            " 2   retweet_count   int64         \n",
            " 3   reply_count     int64         \n",
            " 4   favorite_count  int64         \n",
            " 5   num_hashtags    int64         \n",
            " 6   num_urls        int64         \n",
            " 7   num_mentions    int64         \n",
            " 8   created_at_x    datetime64[ns]\n",
            " 9   text            object        \n",
            " 10  name            object        \n",
            " 11  lang            object        \n",
            " 12  bot             float64       \n",
            " 13  created_at_y    datetime64[ns]\n",
            " 14  statuses_count  float64       \n",
            "dtypes: datetime64[ns](2), float64(2), int64(8), object(3)\n",
            "memory usage: 1.3+ GB\n"
          ]
        }
      ],
      "source": [
        "merged_df.info()"
      ]
    },
    {
      "cell_type": "code",
      "execution_count": null,
      "metadata": {
        "id": "YEvD7I1prOy2",
        "colab": {
          "base_uri": "https://localhost:8080/"
        },
        "outputId": "50aad000-6fc9-4640-dc7e-c54e89e77bb7"
      },
      "outputs": [
        {
          "output_type": "stream",
          "name": "stdout",
          "text": [
            "|          column |   unique values|             NaN |\n",
            "------------------------------------------------------\n",
            "|              id |        10606605|               0 |\n",
            "|         user_id |           12066|               0 |\n",
            "|   retweet_count |           45779|               0 |\n",
            "|     reply_count |             593|               0 |\n",
            "|  favorite_count |            1480|               0 |\n",
            "|    num_hashtags |             335|               0 |\n",
            "|        num_urls |             414|               0 |\n",
            "|    num_mentions |             424|               0 |\n",
            "|    created_at_x |         8103097|               0 |\n",
            "|            text |         6778478|               0 |\n",
            "|            name |           11361|            3645 |\n",
            "|            lang |              22|             693 |\n",
            "|             bot |               3|             693 |\n",
            "|    created_at_y |           11424|             693 |\n",
            "|  statuses_count |            3837|           43168 |\n"
          ]
        }
      ],
      "source": [
        "nan_unique_count(merged_df)\n",
        "\n",
        "# i valori unici nel campo user_id nel tweets dataframe sono 12066 mentre la lunghezza dello user_df è 11508 \n",
        "# questo significa che sono presenti user_id nel dataframe tweets_df che non sono presenti nello user_df\n",
        "# quando mergiamo i due dataset troviamo quindi dei NaN per gli user_id che non erano presenti nello user_df\n",
        "# CHE CI FACCIAMO CON QUESTI NAN?\n"
      ]
    },
    {
      "cell_type": "code",
      "source": [
        "merged_df.head(2)"
      ],
      "metadata": {
        "colab": {
          "base_uri": "https://localhost:8080/",
          "height": 315
        },
        "id": "YMmiedCnqbL8",
        "outputId": "510016fd-e9dd-424e-a465-7c7d8edb124e"
      },
      "execution_count": null,
      "outputs": [
        {
          "output_type": "execute_result",
          "data": {
            "text/plain": [
              "                   id    user_id  retweet_count  reply_count  favorite_count  \\\n",
              "0  509354017856950336  327746321              0            0               0   \n",
              "1  523891871761039360  327746321              0            0               0   \n",
              "\n",
              "   num_hashtags  num_urls  num_mentions        created_at_x  \\\n",
              "0             0         0             0 2019-09-11 14:53:55   \n",
              "1             0         1             0 2019-10-21 17:42:10   \n",
              "\n",
              "                                                text                name lang  \\\n",
              "0  If man is a little lower than angels, then ang...  The Amazing Rhythm   en   \n",
              "1  Read the Biography of Don Henley  http://t.co/...  The Amazing Rhythm   en   \n",
              "\n",
              "   bot        created_at_y  statuses_count  \n",
              "0  1.0 2016-07-03 02:37:46         12288.0  \n",
              "1  1.0 2016-07-03 02:37:46         12288.0  "
            ],
            "text/html": [
              "\n",
              "  <div id=\"df-4607578b-9539-4b29-b9ab-064e50ff02d7\">\n",
              "    <div class=\"colab-df-container\">\n",
              "      <div>\n",
              "<style scoped>\n",
              "    .dataframe tbody tr th:only-of-type {\n",
              "        vertical-align: middle;\n",
              "    }\n",
              "\n",
              "    .dataframe tbody tr th {\n",
              "        vertical-align: top;\n",
              "    }\n",
              "\n",
              "    .dataframe thead th {\n",
              "        text-align: right;\n",
              "    }\n",
              "</style>\n",
              "<table border=\"1\" class=\"dataframe\">\n",
              "  <thead>\n",
              "    <tr style=\"text-align: right;\">\n",
              "      <th></th>\n",
              "      <th>id</th>\n",
              "      <th>user_id</th>\n",
              "      <th>retweet_count</th>\n",
              "      <th>reply_count</th>\n",
              "      <th>favorite_count</th>\n",
              "      <th>num_hashtags</th>\n",
              "      <th>num_urls</th>\n",
              "      <th>num_mentions</th>\n",
              "      <th>created_at_x</th>\n",
              "      <th>text</th>\n",
              "      <th>name</th>\n",
              "      <th>lang</th>\n",
              "      <th>bot</th>\n",
              "      <th>created_at_y</th>\n",
              "      <th>statuses_count</th>\n",
              "    </tr>\n",
              "  </thead>\n",
              "  <tbody>\n",
              "    <tr>\n",
              "      <th>0</th>\n",
              "      <td>509354017856950336</td>\n",
              "      <td>327746321</td>\n",
              "      <td>0</td>\n",
              "      <td>0</td>\n",
              "      <td>0</td>\n",
              "      <td>0</td>\n",
              "      <td>0</td>\n",
              "      <td>0</td>\n",
              "      <td>2019-09-11 14:53:55</td>\n",
              "      <td>If man is a little lower than angels, then ang...</td>\n",
              "      <td>The Amazing Rhythm</td>\n",
              "      <td>en</td>\n",
              "      <td>1.0</td>\n",
              "      <td>2016-07-03 02:37:46</td>\n",
              "      <td>12288.0</td>\n",
              "    </tr>\n",
              "    <tr>\n",
              "      <th>1</th>\n",
              "      <td>523891871761039360</td>\n",
              "      <td>327746321</td>\n",
              "      <td>0</td>\n",
              "      <td>0</td>\n",
              "      <td>0</td>\n",
              "      <td>0</td>\n",
              "      <td>1</td>\n",
              "      <td>0</td>\n",
              "      <td>2019-10-21 17:42:10</td>\n",
              "      <td>Read the Biography of Don Henley  http://t.co/...</td>\n",
              "      <td>The Amazing Rhythm</td>\n",
              "      <td>en</td>\n",
              "      <td>1.0</td>\n",
              "      <td>2016-07-03 02:37:46</td>\n",
              "      <td>12288.0</td>\n",
              "    </tr>\n",
              "  </tbody>\n",
              "</table>\n",
              "</div>\n",
              "      <button class=\"colab-df-convert\" onclick=\"convertToInteractive('df-4607578b-9539-4b29-b9ab-064e50ff02d7')\"\n",
              "              title=\"Convert this dataframe to an interactive table.\"\n",
              "              style=\"display:none;\">\n",
              "        \n",
              "  <svg xmlns=\"http://www.w3.org/2000/svg\" height=\"24px\"viewBox=\"0 0 24 24\"\n",
              "       width=\"24px\">\n",
              "    <path d=\"M0 0h24v24H0V0z\" fill=\"none\"/>\n",
              "    <path d=\"M18.56 5.44l.94 2.06.94-2.06 2.06-.94-2.06-.94-.94-2.06-.94 2.06-2.06.94zm-11 1L8.5 8.5l.94-2.06 2.06-.94-2.06-.94L8.5 2.5l-.94 2.06-2.06.94zm10 10l.94 2.06.94-2.06 2.06-.94-2.06-.94-.94-2.06-.94 2.06-2.06.94z\"/><path d=\"M17.41 7.96l-1.37-1.37c-.4-.4-.92-.59-1.43-.59-.52 0-1.04.2-1.43.59L10.3 9.45l-7.72 7.72c-.78.78-.78 2.05 0 2.83L4 21.41c.39.39.9.59 1.41.59.51 0 1.02-.2 1.41-.59l7.78-7.78 2.81-2.81c.8-.78.8-2.07 0-2.86zM5.41 20L4 18.59l7.72-7.72 1.47 1.35L5.41 20z\"/>\n",
              "  </svg>\n",
              "      </button>\n",
              "      \n",
              "  <style>\n",
              "    .colab-df-container {\n",
              "      display:flex;\n",
              "      flex-wrap:wrap;\n",
              "      gap: 12px;\n",
              "    }\n",
              "\n",
              "    .colab-df-convert {\n",
              "      background-color: #E8F0FE;\n",
              "      border: none;\n",
              "      border-radius: 50%;\n",
              "      cursor: pointer;\n",
              "      display: none;\n",
              "      fill: #1967D2;\n",
              "      height: 32px;\n",
              "      padding: 0 0 0 0;\n",
              "      width: 32px;\n",
              "    }\n",
              "\n",
              "    .colab-df-convert:hover {\n",
              "      background-color: #E2EBFA;\n",
              "      box-shadow: 0px 1px 2px rgba(60, 64, 67, 0.3), 0px 1px 3px 1px rgba(60, 64, 67, 0.15);\n",
              "      fill: #174EA6;\n",
              "    }\n",
              "\n",
              "    [theme=dark] .colab-df-convert {\n",
              "      background-color: #3B4455;\n",
              "      fill: #D2E3FC;\n",
              "    }\n",
              "\n",
              "    [theme=dark] .colab-df-convert:hover {\n",
              "      background-color: #434B5C;\n",
              "      box-shadow: 0px 1px 3px 1px rgba(0, 0, 0, 0.15);\n",
              "      filter: drop-shadow(0px 1px 2px rgba(0, 0, 0, 0.3));\n",
              "      fill: #FFFFFF;\n",
              "    }\n",
              "  </style>\n",
              "\n",
              "      <script>\n",
              "        const buttonEl =\n",
              "          document.querySelector('#df-4607578b-9539-4b29-b9ab-064e50ff02d7 button.colab-df-convert');\n",
              "        buttonEl.style.display =\n",
              "          google.colab.kernel.accessAllowed ? 'block' : 'none';\n",
              "\n",
              "        async function convertToInteractive(key) {\n",
              "          const element = document.querySelector('#df-4607578b-9539-4b29-b9ab-064e50ff02d7');\n",
              "          const dataTable =\n",
              "            await google.colab.kernel.invokeFunction('convertToInteractive',\n",
              "                                                     [key], {});\n",
              "          if (!dataTable) return;\n",
              "\n",
              "          const docLinkHtml = 'Like what you see? Visit the ' +\n",
              "            '<a target=\"_blank\" href=https://colab.research.google.com/notebooks/data_table.ipynb>data table notebook</a>'\n",
              "            + ' to learn more about interactive tables.';\n",
              "          element.innerHTML = '';\n",
              "          dataTable['output_type'] = 'display_data';\n",
              "          await google.colab.output.renderOutput(dataTable, element);\n",
              "          const docLink = document.createElement('div');\n",
              "          docLink.innerHTML = docLinkHtml;\n",
              "          element.appendChild(docLink);\n",
              "        }\n",
              "      </script>\n",
              "    </div>\n",
              "  </div>\n",
              "  "
            ]
          },
          "metadata": {},
          "execution_count": 44
        }
      ]
    },
    {
      "cell_type": "markdown",
      "metadata": {
        "id": "m3FK60JljH4S"
      },
      "source": [
        "## Indicators\n",
        "\n",
        "1. How many tweets were published by the user?\n",
        "2. How many tweets are published by the user in a given period of time?\n",
        "3. Total number of tweets\n",
        "4. Total number of likes and comments\n",
        "5. Ratio between the number of tweets and the number of likes\n",
        "6. Entropy of the user\n",
        "7. Average length of the tweets per user\n",
        "8. Average number of special characters in the tweets per user\n"
      ]
    },
    {
      "cell_type": "markdown",
      "metadata": {
        "id": "JxKikF3tCvoV"
      },
      "source": [
        "#### Indicator 1 : How many tweets were published by the user?"
      ]
    },
    {
      "cell_type": "code",
      "execution_count": null,
      "metadata": {
        "id": "0Np5r-LUDgZA",
        "colab": {
          "base_uri": "https://localhost:8080/"
        },
        "outputId": "32163594-cd43-47ca-e600-c41d0b626faa"
      },
      "outputs": [
        {
          "output_type": "execute_result",
          "data": {
            "text/plain": [
              "497404180     3920\n",
              "1693274954    3906\n",
              "157029836     3903\n",
              "164940888     3903\n",
              "491630583     3902\n",
              "              ... \n",
              "126216653        1\n",
              "1723             1\n",
              "898              1\n",
              "707              1\n",
              "261              1\n",
              "Name: user_id, Length: 12066, dtype: int64"
            ]
          },
          "metadata": {},
          "execution_count": 45
        }
      ],
      "source": [
        "merged_df['user_id'].value_counts().sort_values(ascending=False)"
      ]
    },
    {
      "cell_type": "markdown",
      "metadata": {
        "id": "kDz-Jbw3Cplx"
      },
      "source": [
        "#### Indicator 2 : How many tweets are published by the user in a given period of time?"
      ]
    },
    {
      "cell_type": "code",
      "execution_count": null,
      "metadata": {
        "colab": {
          "base_uri": "https://localhost:8080/"
        },
        "id": "OvFb4QLB0TjN",
        "outputId": "f1e8a7c9-ec7a-4999-dd80-c9959f3db8d7"
      },
      "outputs": [
        {
          "output_type": "display_data",
          "data": {
            "text/plain": [
              "<Figure size 504x576 with 1 Axes>"
            ],
            "image/png": "[encoded data removed]"
          },
          "metadata": {}
        }
      ],
      "source": [
        "# How many tweets are published by the user in a given period of time?\n",
        "\n",
        "sns.set_theme(style=\"ticks\")\n",
        "f, ax = plt.subplots(figsize=(7, 8))\n",
        "sns.despine(f)\n",
        "\n",
        "# Create the histogram setting the column to be represented and the one to overlap\n",
        "g = sns.histplot(\n",
        "    merged_df,\n",
        "    x=merged_df['created_at_x'].dt.month, hue=merged_df['created_at_x'].dt.year,\n",
        "    multiple='layer',\n",
        "    palette='husl',\n",
        "    log_scale=False,\n",
        "    discrete=True,\n",
        ")\n",
        "\n",
        "# Tweak the visual presentation\n",
        "ax.xaxis.set_major_formatter(mpl.ticker.ScalarFormatter())\n",
        "ax.set_xticks([1, 2, 3, 4, 5, 6, 7, 8, 9, 10, 11, 12])\n",
        "ax.set_xlabel('Months')\n",
        "sns.move_legend(ax, \"upper left\", bbox_to_anchor=(0.8, 0.9), title='Year')\n",
        "ax.set_xticklabels([month for month in calendar.month_name[1:]],\n",
        "                        fontdict={'horizontalalignment': 'right', 'fontsize': 12, 'rotation': 30})\n",
        "plt.show() "
      ]
    },
    {
      "cell_type": "markdown",
      "metadata": {
        "id": "F60mJniAEBVT"
      },
      "source": [
        "#### Indicator 3 : Total number of tweets"
      ]
    },
    {
      "cell_type": "code",
      "source": [
        "print(\"After cleaning we have\",len(tweets_df), \"tweets\")"
      ],
      "metadata": {
        "colab": {
          "base_uri": "https://localhost:8080/"
        },
        "id": "S-VrbHIZUM_w",
        "outputId": "f86fd35a-8b1a-4586-993e-d0729b8b3ce9"
      },
      "execution_count": null,
      "outputs": [
        {
          "output_type": "stream",
          "name": "stdout",
          "text": [
            "After cleaning we have 10861402 tweets\n"
          ]
        }
      ]
    },
    {
      "cell_type": "markdown",
      "source": [
        "#### Indicator 4: Total number of likes and comments (TODO)"
      ],
      "metadata": {
        "id": "RpWpkBZmUWmu"
      }
    },
    {
      "cell_type": "code",
      "source": [
        "#TODO"
      ],
      "metadata": {
        "id": "lYgq3925UV5p"
      },
      "execution_count": null,
      "outputs": []
    },
    {
      "cell_type": "markdown",
      "source": [
        "#### Indicator 5: Ratio between the number of tweets and the number of likes (TODO)"
      ],
      "metadata": {
        "id": "eM26M7ziUhv9"
      }
    },
    {
      "cell_type": "code",
      "source": [
        "#TODO"
      ],
      "metadata": {
        "id": "RmKm9IlmUpxs"
      },
      "execution_count": null,
      "outputs": []
    },
    {
      "cell_type": "markdown",
      "source": [
        "#### Indicator 6: Entropy of the user (TODO)"
      ],
      "metadata": {
        "id": "A-YFlohYUsYU"
      }
    },
    {
      "cell_type": "code",
      "source": [
        "#TODO"
      ],
      "metadata": {
        "id": "B7XtP7xEU3xK"
      },
      "execution_count": null,
      "outputs": []
    },
    {
      "cell_type": "markdown",
      "source": [
        "#### Indicator 7: Average length of the tweets per user (TODO)"
      ],
      "metadata": {
        "id": "-DpbK5feUzkm"
      }
    },
    {
      "cell_type": "code",
      "source": [
        "#TODO"
      ],
      "metadata": {
        "id": "5vcDCAB4U5J3"
      },
      "execution_count": null,
      "outputs": []
    },
    {
      "cell_type": "markdown",
      "source": [
        "#### Indicator 8: Average number of special characters in the tweets per user (TODO)"
      ],
      "metadata": {
        "id": "1DMgZfroU62f"
      }
    },
    {
      "cell_type": "code",
      "source": [
        "#TODO"
      ],
      "metadata": {
        "id": "sgNLvZ6sU-xa"
      },
      "execution_count": null,
      "outputs": []
    },
    {
      "cell_type": "markdown",
      "source": [
        "#### Custom Indicator 9 : Number of tweets that have at least one hashtag"
      ],
      "metadata": {
        "id": "6WCGoEECekna"
      }
    },
    {
      "cell_type": "code",
      "source": [
        "len_tweet_without_hashtags = len(merged_df[merged_df['num_hashtags'] == 0])\n",
        "len_tweet_with_at_least_one_hashtag = len(merged_df[merged_df['num_hashtags'] > 0])\n",
        "\n",
        "print(\"Number of tweets with no hashtags: \\t\\t\\t\", len_tweet_without_hashtags)\n",
        "print(\"Number of tweets that have at least one hashtag: \\t\",len_tweet_with_at_least_one_hashtag)\n",
        "\n",
        "labels = 'Without', 'With'\n",
        "sizes = [len_tweet_without_hashtags, len_tweet_with_at_least_one_hashtag]\n",
        "fig1, ax1 = plt.subplots()\n",
        "ax1.pie(sizes, labels=labels, autopct='%1.1f%%', startangle=90)\n",
        "\n",
        "plt.show()"
      ],
      "metadata": {
        "colab": {
          "base_uri": "https://localhost:8080/",
          "height": 284
        },
        "id": "3z93APr2e2LS",
        "outputId": "7643f7f9-c07f-44ac-bc36-280e09cc03d1"
      },
      "execution_count": null,
      "outputs": [
        {
          "output_type": "stream",
          "name": "stdout",
          "text": [
            "Number of tweets with no hashtags: \t\t\t 9152621\n",
            "Number of tweets that have at least one hashtag: \t 1171047\n"
          ]
        },
        {
          "output_type": "display_data",
          "data": {
            "text/plain": [
              "<Figure size 432x288 with 1 Axes>"
            ],
            "image/png": "[encoded data removed]"
          },
          "metadata": {}
        }
      ]
    },
    {
      "cell_type": "markdown",
      "source": [
        "#### Custom Indicator 10 : Language of tweets"
      ],
      "metadata": {
        "id": "FPVZqPs9gVCx"
      }
    },
    {
      "cell_type": "code",
      "source": [
        "labels = [\"en\",\"it\",\"other\"]\n",
        "sizes = [0,0,0]\n",
        "\n",
        "for i,(val, cnt) in enumerate(merged_df['lang'].value_counts().iteritems()):\n",
        "    print('The value {:>7} was found {:>7} times '.format(*[val, cnt]))\n",
        "    if(val==\"en\" or val==\"it\"):\n",
        "      sizes[i] = cnt\n",
        "    else:\n",
        "      sizes[2] += cnt\n",
        "\n",
        "fig1, ax1 = plt.subplots()\n",
        "ax1.pie(sizes, labels=labels, startangle=90)\n",
        "\n",
        "plt.show()"
      ],
      "metadata": {
        "colab": {
          "base_uri": "https://localhost:8080/",
          "height": 623
        },
        "id": "8ZzYGgKQgXpb",
        "outputId": "63346154-129d-4a3d-e37a-1f59f2956a61"
      },
      "execution_count": null,
      "outputs": [
        {
          "output_type": "stream",
          "name": "stdout",
          "text": [
            "The value      en was found 8704761 times \n",
            "The value      it was found 1586522 times \n",
            "The value      es was found  293910 times \n",
            "The value      ja was found   67646 times \n",
            "The value      pt was found   43331 times \n",
            "The value      fr was found   40441 times \n",
            "The value      zh was found   23844 times \n",
            "The value      de was found   20426 times \n",
            "The value      nl was found   17885 times \n",
            "The value      id was found   17554 times \n",
            "The value      ru was found   14002 times \n",
            "The value      tr was found    8926 times \n",
            "The value      ko was found    4705 times \n",
            "The value      pl was found    3534 times \n",
            "The value      el was found    3513 times \n",
            "The value     fil was found    3457 times \n",
            "The value      da was found    2373 times \n",
            "The value   xx-lc was found    1968 times \n",
            "The value      ar was found    1041 times \n",
            "The value      sv was found     717 times \n",
            "The value Select Language... was found     153 times \n"
          ]
        },
        {
          "output_type": "display_data",
          "data": {
            "text/plain": [
              "<Figure size 432x288 with 1 Axes>"
            ],
            "image/png": "[encoded data removed]"
          },
          "metadata": {}
        }
      ]
    },
    {
      "cell_type": "markdown",
      "metadata": {
        "id": "yj68wy86hcvq"
      },
      "source": [
        "## Pairwise Correlation\n",
        "DA FARE\n",
        "\n",
        "MATRICI DI CORRELAZIONE ED ENTROPIA - DENNY"
      ]
    },
    {
      "cell_type": "code",
      "execution_count": null,
      "metadata": {
        "colab": {
          "base_uri": "https://localhost:8080/"
        },
        "id": "EGIQRjaq2OfU",
        "outputId": "589657da-daed-4a5e-c7d3-39fbced052ed"
      },
      "outputs": [
        {
          "output_type": "stream",
          "name": "stdout",
          "text": [
            "<class 'pandas.core.frame.DataFrame'>\n",
            "Int64Index: 348571 entries, 7158 to 10861362\n",
            "Data columns (total 13 columns):\n",
            " #   Column          Non-Null Count   Dtype         \n",
            "---  ------          --------------   -----         \n",
            " 0   retweet_count   348571 non-null  int64         \n",
            " 1   reply_count     348571 non-null  int64         \n",
            " 2   favorite_count  348571 non-null  int64         \n",
            " 3   num_hashtags    348571 non-null  int64         \n",
            " 4   num_urls        348571 non-null  int64         \n",
            " 5   num_mentions    348571 non-null  int64         \n",
            " 6   created_at_x    348571 non-null  datetime64[ns]\n",
            " 7   text            348571 non-null  object        \n",
            " 8   name            348547 non-null  object        \n",
            " 9   lang            348547 non-null  object        \n",
            " 10  bot             348547 non-null  float64       \n",
            " 11  created_at_y    348547 non-null  datetime64[ns]\n",
            " 12  statuses_count  340511 non-null  float64       \n",
            "dtypes: datetime64[ns](2), float64(2), int64(6), object(3)\n",
            "memory usage: 37.2+ MB\n",
            "None\n"
          ]
        },
        {
          "output_type": "execute_result",
          "data": {
            "text/plain": [
              "<matplotlib.axes._subplots.AxesSubplot at 0x7f4eac4397d0>"
            ]
          },
          "metadata": {},
          "execution_count": 55
        },
        {
          "output_type": "display_data",
          "data": {
            "text/plain": [
              "<Figure size 432x288 with 2 Axes>"
            ],
            "image/png": "[encoded data removed]"
          },
          "metadata": {}
        }
      ],
      "source": [
        "corr_df = merged_df[merged_df.created_at_x.dt.year == 2019]\n",
        "corr_df = corr_df[corr_df.created_at_x.dt.month == 4]\n",
        "\n",
        "corr_df = corr_df.drop(columns=['id', 'user_id'])\n",
        "\n",
        "print(corr_df.info())\n",
        "corr = corr_df.corr()\n",
        "sns.heatmap(corr, xticklabels=corr.columns, yticklabels=corr.columns)"
      ]
    },
    {
      "cell_type": "markdown",
      "metadata": {
        "id": "DsM2o3R_i6t4"
      },
      "source": [
        "## SESSO GRATIS\n",
        "\n",
        "TUTTO QUELLO CHE È QUA SOTTO È IL MIO VECCHIO CODICE NON CANCELLARE, DA MODIFICARE E INTEGRARE CON IL NOTEBOOK"
      ]
    },
    {
      "cell_type": "markdown",
      "metadata": {
        "id": "WWdf6nD7izdR"
      },
      "source": [
        "## Checking NaN and duplicates\n",
        "\n",
        "**DA FARE **"
      ]
    },
    {
      "cell_type": "code",
      "execution_count": null,
      "metadata": {
        "id": "ucEV46PJsToL"
      },
      "outputs": [],
      "source": [
        "# covert small_tweets_df columns from object to numeric. If a value can't be converted to integer\n",
        "# a NaN is inserted\n",
        "\n",
        "columns = [\"user_id\", \"retweet_count\", \"reply_count\",\n",
        "           \"favorite_count\", \"num_hashtags\",  \"num_urls\", \"num_mentions\"]\n",
        "\n",
        "#counting the number of nan\n",
        "for col in columns:\n",
        " small_tweets_df[col]=pd.to_numeric(small_tweets_df[col], errors='coerce', downcast='integer')"
      ]
    },
    {
      "cell_type": "code",
      "execution_count": null,
      "metadata": {
        "id": "pxLWhl6m4fRh"
      },
      "outputs": [],
      "source": [
        "for col in small_tweets_df.columns:\n",
        "  print(f\"column: {col} NaN: {small_tweets_df[col].isna().sum()}\")"
      ]
    },
    {
      "cell_type": "code",
      "execution_count": null,
      "metadata": {
        "id": "ER14JvwZyJty"
      },
      "outputs": [],
      "source": [
        "#drop rows with nan values. If any of the value of a row is a nan, the entire row is dropped\n",
        "small_tweets_df_nona = small_tweets_df.dropna(inplace=False)\n",
        "#counting the number of nan\n",
        "for col in small_tweets_df_nona.columns:\n",
        "  print(f\"column: {col} NaN: {small_tweets_df_nona[col].isna().sum()}\")"
      ]
    },
    {
      "cell_type": "code",
      "execution_count": null,
      "metadata": {
        "id": "XhFlZf-a8pvw"
      },
      "outputs": [],
      "source": [
        "small_tweets_df_nona.info()"
      ]
    },
    {
      "cell_type": "code",
      "execution_count": null,
      "metadata": {
        "id": "_aqME8eGAStY"
      },
      "outputs": [],
      "source": [
        "small_tweets_df_nona = small_tweets_df_nona.astype({\n",
        "\"user_id\":int, \"retweet_count\":int, \"reply_count\":int,\n",
        "           \"favorite_count\":int, \"num_hashtags\":int,  \"num_urls\":int, \"num_mentions\":int    \n",
        "}, errors=\"ignore\")"
      ]
    },
    {
      "cell_type": "code",
      "execution_count": null,
      "metadata": {
        "id": "RhKt4UNH9r2w"
      },
      "outputs": [],
      "source": [
        "small_tweets_df_nona.info()"
      ]
    },
    {
      "cell_type": "code",
      "execution_count": null,
      "metadata": {
        "id": "LN0oQYrsDOXu"
      },
      "outputs": [],
      "source": [
        "small_tweets_df_nona.describe()"
      ]
    },
    {
      "cell_type": "code",
      "execution_count": null,
      "metadata": {
        "id": "kBZBWaTzApIf"
      },
      "outputs": [],
      "source": [
        "small_tweets_df_nona.head(10)"
      ]
    },
    {
      "cell_type": "code",
      "execution_count": null,
      "metadata": {
        "id": "UwF5qFKUG5pu"
      },
      "outputs": [],
      "source": [
        "small_tweets_df_nona[\"user_id\"].value_counts()"
      ]
    },
    {
      "cell_type": "code",
      "execution_count": null,
      "metadata": {
        "id": "ZzXzVA_qHDXi"
      },
      "outputs": [],
      "source": [
        "plt.yscale(\"log\")\n",
        "plt.boxplot(small_tweets_df_nona[\"user_id\"].value_counts())"
      ]
    },
    {
      "cell_type": "code",
      "execution_count": null,
      "metadata": {
        "id": "JeHbOLY6Lpb-"
      },
      "outputs": [],
      "source": [
        "#drop rows with nan values. If any of the value of a row is a nan, the entire row is dropped\n",
        "users_df_nona = users_df.dropna(inplace=False)\n",
        "\n",
        "users_df_nona[\"lang\"].value_counts()"
      ]
    },
    {
      "cell_type": "code",
      "execution_count": null,
      "metadata": {
        "id": "a3h0EGepNI09"
      },
      "outputs": [],
      "source": [
        "users_df_nona[\"lang\"].value_counts().plot.bar()"
      ]
    },
    {
      "cell_type": "code",
      "execution_count": null,
      "metadata": {
        "id": "kWB8NMNyS2Pc"
      },
      "outputs": [],
      "source": [
        "users_df_nona['month_year'] = users_df_nona['created_at'].dt.to_period('M')\n",
        "print(users_df_nona['month_year'])"
      ]
    },
    {
      "cell_type": "code",
      "execution_count": null,
      "metadata": {
        "id": "FycwoDyYQ8ZM"
      },
      "outputs": [],
      "source": [
        "users_df_nona[\"month_year\"].value_counts().plot.bar()"
      ]
    }
  ],
  "metadata": {
    "colab": {
      "collapsed_sections": [],
      "provenance": [],
      "include_colab_link": true
    },
    "kernelspec": {
      "display_name": "Python 3",
      "name": "python3"
    },
    "language_info": {
      "name": "python"
    }
  },
  "nbformat": 4,
  "nbformat_minor": 0
}