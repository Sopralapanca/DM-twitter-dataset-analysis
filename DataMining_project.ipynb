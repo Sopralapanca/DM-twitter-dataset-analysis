{
  "nbformat": 4,
  "nbformat_minor": 0,
  "metadata": {
    "colab": {
      "provenance": [],
      "collapsed_sections": [],
      "include_colab_link": true
    },
    "kernelspec": {
      "name": "python3",
      "display_name": "Python 3"
    },
    "language_info": {
      "name": "python"
    }
  },
  "cells": [
    {
      "cell_type": "markdown",
      "metadata": {
        "id": "view-in-github",
        "colab_type": "text"
      },
      "source": [
        "<a href=\"https://colab.research.google.com/github/Sopralapanca/TwitterDataset-DM-Project/blob/main/DataMining_project.ipynb\" target=\"_parent\"><img src=\"https://colab.research.google.com/assets/colab-badge.svg\" alt=\"Open In Colab\"/></a>"
      ]
    },
    {
      "cell_type": "markdown",
      "source": [
        "## Downloading the dataset and load data into dataframe"
      ],
      "metadata": {
        "id": "WME54aQfZ7JU"
      }
    },
    {
      "cell_type": "code",
      "source": [
        "users_fileid = \"16b7Gbe69-SaVzGc1x3s3s7b8lzHgd5BR\"\n",
        "tweets_fileid = \"1qYoicySRBbLi9Y8ZytMEi9ee2dIhxxUe\"\n",
        "\n",
        "!gdown --id $users_fileid\n",
        "!gdown --id $tweets_fileid"
      ],
      "metadata": {
        "id": "yM2dkuifVKSV"
      },
      "execution_count": null,
      "outputs": []
    },
    {
      "cell_type": "markdown",
      "source": [
        "USERS CSV\n",
        "\n",
        "1. User Id: a unique identifier of the user\n",
        "2. Statues Count: the count of the tweets made by the user at the moment of data\n",
        "crawling\n",
        "3. Lang: the user’s language selected\n",
        "4. Created at: the timestamp in which the profile was created\n",
        "5. Label: a binary variable that indicates if a user is a bot or a genuine user\n",
        "\n",
        "TWEETS CSV\n",
        "\n",
        "1. ID: a unique identifier for the tweet\n",
        "2. User Id: a unique identifier for the user who wrote the tweet\n",
        "3. Retweet count: number of retweets for the tweet in analysis\n",
        "4. Reply count: number of reply for the tweet in analysis\n",
        "5. Favorite count: number of favorites (likes) received by the tweet\n",
        "6. Num hashtags: number of hashtags used in the tweet\n",
        "7. Num urls: number of urls in the tweet\n",
        "8. Num mentions: number of mentions in the tweet\n",
        "9. Created at: when the tweet was created\n",
        "10. Text: the text of the tweet"
      ],
      "metadata": {
        "id": "6Q-Z23rdpZf1"
      }
    },
    {
      "cell_type": "code",
      "source": [
        "import pandas as pd\n",
        "\n",
        "max_rows = 5000\n",
        "\n",
        "tweets_df = pd.read_csv(\"/content/tweets.csv\", nrows=max_rows)\n",
        "users_df = pd.read_csv(\"/content/users.csv\", nrows=max_rows)\n"
      ],
      "metadata": {
        "id": "aknAFqSPo76E"
      },
      "execution_count": null,
      "outputs": []
    },
    {
      "cell_type": "markdown",
      "source": [
        "## Print info about the dataset"
      ],
      "metadata": {
        "id": "yCSh7DQxaoBC"
      }
    },
    {
      "cell_type": "code",
      "source": [
        "tweets_df.info()"
      ],
      "metadata": {
        "colab": {
          "base_uri": "https://localhost:8080/"
        },
        "id": "hLAMvZpArgnT",
        "outputId": "281ca0db-2470-4eb0-8f7d-a710042049fd"
      },
      "execution_count": null,
      "outputs": [
        {
          "output_type": "stream",
          "name": "stdout",
          "text": [
            "<class 'pandas.core.frame.DataFrame'>\n",
            "RangeIndex: 5000 entries, 0 to 4999\n",
            "Data columns (total 10 columns):\n",
            " #   Column          Non-Null Count  Dtype \n",
            "---  ------          --------------  ----- \n",
            " 0   id              5000 non-null   object\n",
            " 1   user_id         4906 non-null   object\n",
            " 2   retweet_count   4834 non-null   object\n",
            " 3   reply_count     4755 non-null   object\n",
            " 4   favorite_count  4753 non-null   object\n",
            " 5   num_hashtags    4583 non-null   object\n",
            " 6   num_urls        4750 non-null   object\n",
            " 7   num_mentions    4681 non-null   object\n",
            " 8   created_at      5000 non-null   object\n",
            " 9   text            4792 non-null   object\n",
            "dtypes: object(10)\n",
            "memory usage: 390.8+ KB\n"
          ]
        }
      ]
    },
    {
      "cell_type": "code",
      "source": [
        "users_df.info()"
      ],
      "metadata": {
        "colab": {
          "base_uri": "https://localhost:8080/"
        },
        "id": "upJGuHORrpO0",
        "outputId": "3682c7a8-0d3d-4a31-c449-bdac84395b1f"
      },
      "execution_count": null,
      "outputs": [
        {
          "output_type": "stream",
          "name": "stdout",
          "text": [
            "<class 'pandas.core.frame.DataFrame'>\n",
            "RangeIndex: 5000 entries, 0 to 4999\n",
            "Data columns (total 6 columns):\n",
            " #   Column          Non-Null Count  Dtype  \n",
            "---  ------          --------------  -----  \n",
            " 0   id              5000 non-null   int64  \n",
            " 1   name            4999 non-null   object \n",
            " 2   lang            5000 non-null   object \n",
            " 3   bot             5000 non-null   int64  \n",
            " 4   created_at      5000 non-null   object \n",
            " 5   statuses_count  4813 non-null   float64\n",
            "dtypes: float64(1), int64(2), object(3)\n",
            "memory usage: 234.5+ KB\n"
          ]
        }
      ]
    },
    {
      "cell_type": "code",
      "source": [
        "users_df.isna().any()"
      ],
      "metadata": {
        "colab": {
          "base_uri": "https://localhost:8080/"
        },
        "id": "ZSNKjIqKga7Z",
        "outputId": "1961b7b1-451e-44fe-a6eb-0c8e3a5501ec"
      },
      "execution_count": null,
      "outputs": [
        {
          "output_type": "execute_result",
          "data": {
            "text/plain": [
              "id                False\n",
              "name               True\n",
              "lang              False\n",
              "bot               False\n",
              "created_at        False\n",
              "statuses_count     True\n",
              "dtype: bool"
            ]
          },
          "metadata": {},
          "execution_count": 19
        }
      ]
    },
    {
      "cell_type": "code",
      "source": [
        "tweets_df.isna().any()"
      ],
      "metadata": {
        "colab": {
          "base_uri": "https://localhost:8080/"
        },
        "id": "K2WIbAy3gxhJ",
        "outputId": "f59ad04c-abe3-4fda-9032-d43763cceda5"
      },
      "execution_count": null,
      "outputs": [
        {
          "output_type": "execute_result",
          "data": {
            "text/plain": [
              "id                False\n",
              "user_id            True\n",
              "retweet_count      True\n",
              "reply_count        True\n",
              "favorite_count     True\n",
              "num_hashtags       True\n",
              "num_urls           True\n",
              "num_mentions       True\n",
              "created_at        False\n",
              "text               True\n",
              "dtype: bool"
            ]
          },
          "metadata": {},
          "execution_count": 20
        }
      ]
    },
    {
      "cell_type": "markdown",
      "source": [
        "As shown above there are some null values inside the two dataframes. Furthermore, the type of the column values is 'object' even for columns that should only have numeric values such as 'id', 'user_id' and others. This means that some values in the respective columns are not integers but strings or something else. The data is therefore to be cleaned."
      ],
      "metadata": {
        "id": "dEx6HBacgTV0"
      }
    },
    {
      "cell_type": "code",
      "source": [
        "tweets_df.head(5)"
      ],
      "metadata": {
        "colab": {
          "base_uri": "https://localhost:8080/",
          "height": 444
        },
        "id": "hnCcLxlurr4k",
        "outputId": "4bb7a63c-7743-4c7f-ce7d-29ef3afc7dbc"
      },
      "execution_count": null,
      "outputs": [
        {
          "output_type": "execute_result",
          "data": {
            "text/plain": [
              "                   id     user_id retweet_count reply_count favorite_count  \\\n",
              "0  509354017856950272   327746321             0           0              0   \n",
              "1  583002592529121280   333722906             1           0              0   \n",
              "2  461498835362013185  2379755827             0           0              0   \n",
              "3  528808127366692864   466226882             0           0              0   \n",
              "4  575336690904006656  1355537995           114           0              0   \n",
              "\n",
              "  num_hashtags num_urls num_mentions           created_at  \\\n",
              "0            0        0            0  2019-09-11 14:53:55   \n",
              "1            0        0            1  2020-04-01 20:27:04   \n",
              "2            0        0            1  2019-05-02 13:34:31   \n",
              "3            0        0            0  2019-11-04 07:17:37   \n",
              "4            1        0            1  2020-03-11 16:45:31   \n",
              "\n",
              "                                                text  \n",
              "0  If man is a little lower than angels, then ang...  \n",
              "1  \"@BestWSHHVids: how do you say these words wit...  \n",
              "2                                @LOLatComedy awsome  \n",
              "3  Stephen Hawkins: i buchi neri non esistono se ...  \n",
              "4        RT @tibbs_montris: So ready for Wednesday!   "
            ],
            "text/html": [
              "\n",
              "  <div id=\"df-e69c903a-6a7e-4ee0-85c7-c5ac454c4617\">\n",
              "    <div class=\"colab-df-container\">\n",
              "      <div>\n",
              "<style scoped>\n",
              "    .dataframe tbody tr th:only-of-type {\n",
              "        vertical-align: middle;\n",
              "    }\n",
              "\n",
              "    .dataframe tbody tr th {\n",
              "        vertical-align: top;\n",
              "    }\n",
              "\n",
              "    .dataframe thead th {\n",
              "        text-align: right;\n",
              "    }\n",
              "</style>\n",
              "<table border=\"1\" class=\"dataframe\">\n",
              "  <thead>\n",
              "    <tr style=\"text-align: right;\">\n",
              "      <th></th>\n",
              "      <th>id</th>\n",
              "      <th>user_id</th>\n",
              "      <th>retweet_count</th>\n",
              "      <th>reply_count</th>\n",
              "      <th>favorite_count</th>\n",
              "      <th>num_hashtags</th>\n",
              "      <th>num_urls</th>\n",
              "      <th>num_mentions</th>\n",
              "      <th>created_at</th>\n",
              "      <th>text</th>\n",
              "    </tr>\n",
              "  </thead>\n",
              "  <tbody>\n",
              "    <tr>\n",
              "      <th>0</th>\n",
              "      <td>509354017856950272</td>\n",
              "      <td>327746321</td>\n",
              "      <td>0</td>\n",
              "      <td>0</td>\n",
              "      <td>0</td>\n",
              "      <td>0</td>\n",
              "      <td>0</td>\n",
              "      <td>0</td>\n",
              "      <td>2019-09-11 14:53:55</td>\n",
              "      <td>If man is a little lower than angels, then ang...</td>\n",
              "    </tr>\n",
              "    <tr>\n",
              "      <th>1</th>\n",
              "      <td>583002592529121280</td>\n",
              "      <td>333722906</td>\n",
              "      <td>1</td>\n",
              "      <td>0</td>\n",
              "      <td>0</td>\n",
              "      <td>0</td>\n",
              "      <td>0</td>\n",
              "      <td>1</td>\n",
              "      <td>2020-04-01 20:27:04</td>\n",
              "      <td>\"@BestWSHHVids: how do you say these words wit...</td>\n",
              "    </tr>\n",
              "    <tr>\n",
              "      <th>2</th>\n",
              "      <td>461498835362013185</td>\n",
              "      <td>2379755827</td>\n",
              "      <td>0</td>\n",
              "      <td>0</td>\n",
              "      <td>0</td>\n",
              "      <td>0</td>\n",
              "      <td>0</td>\n",
              "      <td>1</td>\n",
              "      <td>2019-05-02 13:34:31</td>\n",
              "      <td>@LOLatComedy awsome</td>\n",
              "    </tr>\n",
              "    <tr>\n",
              "      <th>3</th>\n",
              "      <td>528808127366692864</td>\n",
              "      <td>466226882</td>\n",
              "      <td>0</td>\n",
              "      <td>0</td>\n",
              "      <td>0</td>\n",
              "      <td>0</td>\n",
              "      <td>0</td>\n",
              "      <td>0</td>\n",
              "      <td>2019-11-04 07:17:37</td>\n",
              "      <td>Stephen Hawkins: i buchi neri non esistono se ...</td>\n",
              "    </tr>\n",
              "    <tr>\n",
              "      <th>4</th>\n",
              "      <td>575336690904006656</td>\n",
              "      <td>1355537995</td>\n",
              "      <td>114</td>\n",
              "      <td>0</td>\n",
              "      <td>0</td>\n",
              "      <td>1</td>\n",
              "      <td>0</td>\n",
              "      <td>1</td>\n",
              "      <td>2020-03-11 16:45:31</td>\n",
              "      <td>RT @tibbs_montris: So ready for Wednesday!</td>\n",
              "    </tr>\n",
              "  </tbody>\n",
              "</table>\n",
              "</div>\n",
              "      <button class=\"colab-df-convert\" onclick=\"convertToInteractive('df-e69c903a-6a7e-4ee0-85c7-c5ac454c4617')\"\n",
              "              title=\"Convert this dataframe to an interactive table.\"\n",
              "              style=\"display:none;\">\n",
              "        \n",
              "  <svg xmlns=\"http://www.w3.org/2000/svg\" height=\"24px\"viewBox=\"0 0 24 24\"\n",
              "       width=\"24px\">\n",
              "    <path d=\"M0 0h24v24H0V0z\" fill=\"none\"/>\n",
              "    <path d=\"M18.56 5.44l.94 2.06.94-2.06 2.06-.94-2.06-.94-.94-2.06-.94 2.06-2.06.94zm-11 1L8.5 8.5l.94-2.06 2.06-.94-2.06-.94L8.5 2.5l-.94 2.06-2.06.94zm10 10l.94 2.06.94-2.06 2.06-.94-2.06-.94-.94-2.06-.94 2.06-2.06.94z\"/><path d=\"M17.41 7.96l-1.37-1.37c-.4-.4-.92-.59-1.43-.59-.52 0-1.04.2-1.43.59L10.3 9.45l-7.72 7.72c-.78.78-.78 2.05 0 2.83L4 21.41c.39.39.9.59 1.41.59.51 0 1.02-.2 1.41-.59l7.78-7.78 2.81-2.81c.8-.78.8-2.07 0-2.86zM5.41 20L4 18.59l7.72-7.72 1.47 1.35L5.41 20z\"/>\n",
              "  </svg>\n",
              "      </button>\n",
              "      \n",
              "  <style>\n",
              "    .colab-df-container {\n",
              "      display:flex;\n",
              "      flex-wrap:wrap;\n",
              "      gap: 12px;\n",
              "    }\n",
              "\n",
              "    .colab-df-convert {\n",
              "      background-color: #E8F0FE;\n",
              "      border: none;\n",
              "      border-radius: 50%;\n",
              "      cursor: pointer;\n",
              "      display: none;\n",
              "      fill: #1967D2;\n",
              "      height: 32px;\n",
              "      padding: 0 0 0 0;\n",
              "      width: 32px;\n",
              "    }\n",
              "\n",
              "    .colab-df-convert:hover {\n",
              "      background-color: #E2EBFA;\n",
              "      box-shadow: 0px 1px 2px rgba(60, 64, 67, 0.3), 0px 1px 3px 1px rgba(60, 64, 67, 0.15);\n",
              "      fill: #174EA6;\n",
              "    }\n",
              "\n",
              "    [theme=dark] .colab-df-convert {\n",
              "      background-color: #3B4455;\n",
              "      fill: #D2E3FC;\n",
              "    }\n",
              "\n",
              "    [theme=dark] .colab-df-convert:hover {\n",
              "      background-color: #434B5C;\n",
              "      box-shadow: 0px 1px 3px 1px rgba(0, 0, 0, 0.15);\n",
              "      filter: drop-shadow(0px 1px 2px rgba(0, 0, 0, 0.3));\n",
              "      fill: #FFFFFF;\n",
              "    }\n",
              "  </style>\n",
              "\n",
              "      <script>\n",
              "        const buttonEl =\n",
              "          document.querySelector('#df-e69c903a-6a7e-4ee0-85c7-c5ac454c4617 button.colab-df-convert');\n",
              "        buttonEl.style.display =\n",
              "          google.colab.kernel.accessAllowed ? 'block' : 'none';\n",
              "\n",
              "        async function convertToInteractive(key) {\n",
              "          const element = document.querySelector('#df-e69c903a-6a7e-4ee0-85c7-c5ac454c4617');\n",
              "          const dataTable =\n",
              "            await google.colab.kernel.invokeFunction('convertToInteractive',\n",
              "                                                     [key], {});\n",
              "          if (!dataTable) return;\n",
              "\n",
              "          const docLinkHtml = 'Like what you see? Visit the ' +\n",
              "            '<a target=\"_blank\" href=https://colab.research.google.com/notebooks/data_table.ipynb>data table notebook</a>'\n",
              "            + ' to learn more about interactive tables.';\n",
              "          element.innerHTML = '';\n",
              "          dataTable['output_type'] = 'display_data';\n",
              "          await google.colab.output.renderOutput(dataTable, element);\n",
              "          const docLink = document.createElement('div');\n",
              "          docLink.innerHTML = docLinkHtml;\n",
              "          element.appendChild(docLink);\n",
              "        }\n",
              "      </script>\n",
              "    </div>\n",
              "  </div>\n",
              "  "
            ]
          },
          "metadata": {},
          "execution_count": 21
        }
      ]
    },
    {
      "cell_type": "code",
      "source": [
        "users_df.head(5)"
      ],
      "metadata": {
        "colab": {
          "base_uri": "https://localhost:8080/",
          "height": 206
        },
        "id": "LDG1OQfgr_3r",
        "outputId": "0dd47898-54c1-4dfe-95f6-f55f25987ba9"
      },
      "execution_count": null,
      "outputs": [
        {
          "output_type": "execute_result",
          "data": {
            "text/plain": [
              "           id              name lang  bot           created_at  statuses_count\n",
              "0  2353593986   Lamonica Raborn   en    1  2019-02-22 18:00:42            76.0\n",
              "1  2358850842     Lourie Botton   en    0  2019-02-26 03:02:32            54.0\n",
              "2   137959629  Dadan Syarifudin   en    1  2015-04-30 07:09:56             3.0\n",
              "3   466124818    Carletto Focia   it    1  2017-01-18 02:49:18            50.0\n",
              "4  2571493866         MBK Ebook   en    0  2019-06-18 19:30:21          7085.0"
            ],
            "text/html": [
              "\n",
              "  <div id=\"df-36283ec2-d96f-44f0-97f0-49437bc56bec\">\n",
              "    <div class=\"colab-df-container\">\n",
              "      <div>\n",
              "<style scoped>\n",
              "    .dataframe tbody tr th:only-of-type {\n",
              "        vertical-align: middle;\n",
              "    }\n",
              "\n",
              "    .dataframe tbody tr th {\n",
              "        vertical-align: top;\n",
              "    }\n",
              "\n",
              "    .dataframe thead th {\n",
              "        text-align: right;\n",
              "    }\n",
              "</style>\n",
              "<table border=\"1\" class=\"dataframe\">\n",
              "  <thead>\n",
              "    <tr style=\"text-align: right;\">\n",
              "      <th></th>\n",
              "      <th>id</th>\n",
              "      <th>name</th>\n",
              "      <th>lang</th>\n",
              "      <th>bot</th>\n",
              "      <th>created_at</th>\n",
              "      <th>statuses_count</th>\n",
              "    </tr>\n",
              "  </thead>\n",
              "  <tbody>\n",
              "    <tr>\n",
              "      <th>0</th>\n",
              "      <td>2353593986</td>\n",
              "      <td>Lamonica Raborn</td>\n",
              "      <td>en</td>\n",
              "      <td>1</td>\n",
              "      <td>2019-02-22 18:00:42</td>\n",
              "      <td>76.0</td>\n",
              "    </tr>\n",
              "    <tr>\n",
              "      <th>1</th>\n",
              "      <td>2358850842</td>\n",
              "      <td>Lourie Botton</td>\n",
              "      <td>en</td>\n",
              "      <td>0</td>\n",
              "      <td>2019-02-26 03:02:32</td>\n",
              "      <td>54.0</td>\n",
              "    </tr>\n",
              "    <tr>\n",
              "      <th>2</th>\n",
              "      <td>137959629</td>\n",
              "      <td>Dadan Syarifudin</td>\n",
              "      <td>en</td>\n",
              "      <td>1</td>\n",
              "      <td>2015-04-30 07:09:56</td>\n",
              "      <td>3.0</td>\n",
              "    </tr>\n",
              "    <tr>\n",
              "      <th>3</th>\n",
              "      <td>466124818</td>\n",
              "      <td>Carletto Focia</td>\n",
              "      <td>it</td>\n",
              "      <td>1</td>\n",
              "      <td>2017-01-18 02:49:18</td>\n",
              "      <td>50.0</td>\n",
              "    </tr>\n",
              "    <tr>\n",
              "      <th>4</th>\n",
              "      <td>2571493866</td>\n",
              "      <td>MBK Ebook</td>\n",
              "      <td>en</td>\n",
              "      <td>0</td>\n",
              "      <td>2019-06-18 19:30:21</td>\n",
              "      <td>7085.0</td>\n",
              "    </tr>\n",
              "  </tbody>\n",
              "</table>\n",
              "</div>\n",
              "      <button class=\"colab-df-convert\" onclick=\"convertToInteractive('df-36283ec2-d96f-44f0-97f0-49437bc56bec')\"\n",
              "              title=\"Convert this dataframe to an interactive table.\"\n",
              "              style=\"display:none;\">\n",
              "        \n",
              "  <svg xmlns=\"http://www.w3.org/2000/svg\" height=\"24px\"viewBox=\"0 0 24 24\"\n",
              "       width=\"24px\">\n",
              "    <path d=\"M0 0h24v24H0V0z\" fill=\"none\"/>\n",
              "    <path d=\"M18.56 5.44l.94 2.06.94-2.06 2.06-.94-2.06-.94-.94-2.06-.94 2.06-2.06.94zm-11 1L8.5 8.5l.94-2.06 2.06-.94-2.06-.94L8.5 2.5l-.94 2.06-2.06.94zm10 10l.94 2.06.94-2.06 2.06-.94-2.06-.94-.94-2.06-.94 2.06-2.06.94z\"/><path d=\"M17.41 7.96l-1.37-1.37c-.4-.4-.92-.59-1.43-.59-.52 0-1.04.2-1.43.59L10.3 9.45l-7.72 7.72c-.78.78-.78 2.05 0 2.83L4 21.41c.39.39.9.59 1.41.59.51 0 1.02-.2 1.41-.59l7.78-7.78 2.81-2.81c.8-.78.8-2.07 0-2.86zM5.41 20L4 18.59l7.72-7.72 1.47 1.35L5.41 20z\"/>\n",
              "  </svg>\n",
              "      </button>\n",
              "      \n",
              "  <style>\n",
              "    .colab-df-container {\n",
              "      display:flex;\n",
              "      flex-wrap:wrap;\n",
              "      gap: 12px;\n",
              "    }\n",
              "\n",
              "    .colab-df-convert {\n",
              "      background-color: #E8F0FE;\n",
              "      border: none;\n",
              "      border-radius: 50%;\n",
              "      cursor: pointer;\n",
              "      display: none;\n",
              "      fill: #1967D2;\n",
              "      height: 32px;\n",
              "      padding: 0 0 0 0;\n",
              "      width: 32px;\n",
              "    }\n",
              "\n",
              "    .colab-df-convert:hover {\n",
              "      background-color: #E2EBFA;\n",
              "      box-shadow: 0px 1px 2px rgba(60, 64, 67, 0.3), 0px 1px 3px 1px rgba(60, 64, 67, 0.15);\n",
              "      fill: #174EA6;\n",
              "    }\n",
              "\n",
              "    [theme=dark] .colab-df-convert {\n",
              "      background-color: #3B4455;\n",
              "      fill: #D2E3FC;\n",
              "    }\n",
              "\n",
              "    [theme=dark] .colab-df-convert:hover {\n",
              "      background-color: #434B5C;\n",
              "      box-shadow: 0px 1px 3px 1px rgba(0, 0, 0, 0.15);\n",
              "      filter: drop-shadow(0px 1px 2px rgba(0, 0, 0, 0.3));\n",
              "      fill: #FFFFFF;\n",
              "    }\n",
              "  </style>\n",
              "\n",
              "      <script>\n",
              "        const buttonEl =\n",
              "          document.querySelector('#df-36283ec2-d96f-44f0-97f0-49437bc56bec button.colab-df-convert');\n",
              "        buttonEl.style.display =\n",
              "          google.colab.kernel.accessAllowed ? 'block' : 'none';\n",
              "\n",
              "        async function convertToInteractive(key) {\n",
              "          const element = document.querySelector('#df-36283ec2-d96f-44f0-97f0-49437bc56bec');\n",
              "          const dataTable =\n",
              "            await google.colab.kernel.invokeFunction('convertToInteractive',\n",
              "                                                     [key], {});\n",
              "          if (!dataTable) return;\n",
              "\n",
              "          const docLinkHtml = 'Like what you see? Visit the ' +\n",
              "            '<a target=\"_blank\" href=https://colab.research.google.com/notebooks/data_table.ipynb>data table notebook</a>'\n",
              "            + ' to learn more about interactive tables.';\n",
              "          element.innerHTML = '';\n",
              "          dataTable['output_type'] = 'display_data';\n",
              "          await google.colab.output.renderOutput(dataTable, element);\n",
              "          const docLink = document.createElement('div');\n",
              "          docLink.innerHTML = docLinkHtml;\n",
              "          element.appendChild(docLink);\n",
              "        }\n",
              "      </script>\n",
              "    </div>\n",
              "  </div>\n",
              "  "
            ]
          },
          "metadata": {},
          "execution_count": 22
        }
      ]
    },
    {
      "cell_type": "markdown",
      "source": [
        "## Checking NaN and duplicates\n",
        "\n",
        "**DA FARE **"
      ],
      "metadata": {
        "id": "WWdf6nD7izdR"
      }
    },
    {
      "cell_type": "markdown",
      "source": [
        "## TUTTO QUELLO CHE È QUA SOTTO È IL MIO VECCHIO CODICE NON CANCELLARE, DA MODIFICARE E INTEFRARE CON IL NOTEBOOK"
      ],
      "metadata": {
        "id": "DsM2o3R_i6t4"
      }
    },
    {
      "cell_type": "code",
      "source": [
        "users_df[\"created_at\"]=pd.to_datetime(users_df[\"created_at\"], errors='coerce', yearfirst=True)"
      ],
      "metadata": {
        "id": "s43MeGjSO6Md"
      },
      "execution_count": null,
      "outputs": []
    },
    {
      "cell_type": "code",
      "source": [
        "users_df.describe()"
      ],
      "metadata": {
        "colab": {
          "base_uri": "https://localhost:8080/",
          "height": 300
        },
        "id": "loujG5-csLUz",
        "outputId": "37c5ec0f-1e4e-4d45-dc5d-996462a7b9a4"
      },
      "execution_count": null,
      "outputs": [
        {
          "output_type": "execute_result",
          "data": {
            "text/plain": [
              "                bot  statuses_count\n",
              "count  11508.000000    11109.000000\n",
              "mean       0.531456     5883.312359\n",
              "std        0.499031    19073.007305\n",
              "min        0.000000        0.000000\n",
              "25%        0.000000       41.000000\n",
              "50%        1.000000       68.000000\n",
              "75%        1.000000     2916.000000\n",
              "max        1.000000   399555.000000"
            ],
            "text/html": [
              "\n",
              "  <div id=\"df-9f48fe7c-e3a4-4778-a616-43bb7c3ee072\">\n",
              "    <div class=\"colab-df-container\">\n",
              "      <div>\n",
              "<style scoped>\n",
              "    .dataframe tbody tr th:only-of-type {\n",
              "        vertical-align: middle;\n",
              "    }\n",
              "\n",
              "    .dataframe tbody tr th {\n",
              "        vertical-align: top;\n",
              "    }\n",
              "\n",
              "    .dataframe thead th {\n",
              "        text-align: right;\n",
              "    }\n",
              "</style>\n",
              "<table border=\"1\" class=\"dataframe\">\n",
              "  <thead>\n",
              "    <tr style=\"text-align: right;\">\n",
              "      <th></th>\n",
              "      <th>bot</th>\n",
              "      <th>statuses_count</th>\n",
              "    </tr>\n",
              "  </thead>\n",
              "  <tbody>\n",
              "    <tr>\n",
              "      <th>count</th>\n",
              "      <td>11508.000000</td>\n",
              "      <td>11109.000000</td>\n",
              "    </tr>\n",
              "    <tr>\n",
              "      <th>mean</th>\n",
              "      <td>0.531456</td>\n",
              "      <td>5883.312359</td>\n",
              "    </tr>\n",
              "    <tr>\n",
              "      <th>std</th>\n",
              "      <td>0.499031</td>\n",
              "      <td>19073.007305</td>\n",
              "    </tr>\n",
              "    <tr>\n",
              "      <th>min</th>\n",
              "      <td>0.000000</td>\n",
              "      <td>0.000000</td>\n",
              "    </tr>\n",
              "    <tr>\n",
              "      <th>25%</th>\n",
              "      <td>0.000000</td>\n",
              "      <td>41.000000</td>\n",
              "    </tr>\n",
              "    <tr>\n",
              "      <th>50%</th>\n",
              "      <td>1.000000</td>\n",
              "      <td>68.000000</td>\n",
              "    </tr>\n",
              "    <tr>\n",
              "      <th>75%</th>\n",
              "      <td>1.000000</td>\n",
              "      <td>2916.000000</td>\n",
              "    </tr>\n",
              "    <tr>\n",
              "      <th>max</th>\n",
              "      <td>1.000000</td>\n",
              "      <td>399555.000000</td>\n",
              "    </tr>\n",
              "  </tbody>\n",
              "</table>\n",
              "</div>\n",
              "      <button class=\"colab-df-convert\" onclick=\"convertToInteractive('df-9f48fe7c-e3a4-4778-a616-43bb7c3ee072')\"\n",
              "              title=\"Convert this dataframe to an interactive table.\"\n",
              "              style=\"display:none;\">\n",
              "        \n",
              "  <svg xmlns=\"http://www.w3.org/2000/svg\" height=\"24px\"viewBox=\"0 0 24 24\"\n",
              "       width=\"24px\">\n",
              "    <path d=\"M0 0h24v24H0V0z\" fill=\"none\"/>\n",
              "    <path d=\"M18.56 5.44l.94 2.06.94-2.06 2.06-.94-2.06-.94-.94-2.06-.94 2.06-2.06.94zm-11 1L8.5 8.5l.94-2.06 2.06-.94-2.06-.94L8.5 2.5l-.94 2.06-2.06.94zm10 10l.94 2.06.94-2.06 2.06-.94-2.06-.94-.94-2.06-.94 2.06-2.06.94z\"/><path d=\"M17.41 7.96l-1.37-1.37c-.4-.4-.92-.59-1.43-.59-.52 0-1.04.2-1.43.59L10.3 9.45l-7.72 7.72c-.78.78-.78 2.05 0 2.83L4 21.41c.39.39.9.59 1.41.59.51 0 1.02-.2 1.41-.59l7.78-7.78 2.81-2.81c.8-.78.8-2.07 0-2.86zM5.41 20L4 18.59l7.72-7.72 1.47 1.35L5.41 20z\"/>\n",
              "  </svg>\n",
              "      </button>\n",
              "      \n",
              "  <style>\n",
              "    .colab-df-container {\n",
              "      display:flex;\n",
              "      flex-wrap:wrap;\n",
              "      gap: 12px;\n",
              "    }\n",
              "\n",
              "    .colab-df-convert {\n",
              "      background-color: #E8F0FE;\n",
              "      border: none;\n",
              "      border-radius: 50%;\n",
              "      cursor: pointer;\n",
              "      display: none;\n",
              "      fill: #1967D2;\n",
              "      height: 32px;\n",
              "      padding: 0 0 0 0;\n",
              "      width: 32px;\n",
              "    }\n",
              "\n",
              "    .colab-df-convert:hover {\n",
              "      background-color: #E2EBFA;\n",
              "      box-shadow: 0px 1px 2px rgba(60, 64, 67, 0.3), 0px 1px 3px 1px rgba(60, 64, 67, 0.15);\n",
              "      fill: #174EA6;\n",
              "    }\n",
              "\n",
              "    [theme=dark] .colab-df-convert {\n",
              "      background-color: #3B4455;\n",
              "      fill: #D2E3FC;\n",
              "    }\n",
              "\n",
              "    [theme=dark] .colab-df-convert:hover {\n",
              "      background-color: #434B5C;\n",
              "      box-shadow: 0px 1px 3px 1px rgba(0, 0, 0, 0.15);\n",
              "      filter: drop-shadow(0px 1px 2px rgba(0, 0, 0, 0.3));\n",
              "      fill: #FFFFFF;\n",
              "    }\n",
              "  </style>\n",
              "\n",
              "      <script>\n",
              "        const buttonEl =\n",
              "          document.querySelector('#df-9f48fe7c-e3a4-4778-a616-43bb7c3ee072 button.colab-df-convert');\n",
              "        buttonEl.style.display =\n",
              "          google.colab.kernel.accessAllowed ? 'block' : 'none';\n",
              "\n",
              "        async function convertToInteractive(key) {\n",
              "          const element = document.querySelector('#df-9f48fe7c-e3a4-4778-a616-43bb7c3ee072');\n",
              "          const dataTable =\n",
              "            await google.colab.kernel.invokeFunction('convertToInteractive',\n",
              "                                                     [key], {});\n",
              "          if (!dataTable) return;\n",
              "\n",
              "          const docLinkHtml = 'Like what you see? Visit the ' +\n",
              "            '<a target=\"_blank\" href=https://colab.research.google.com/notebooks/data_table.ipynb>data table notebook</a>'\n",
              "            + ' to learn more about interactive tables.';\n",
              "          element.innerHTML = '';\n",
              "          dataTable['output_type'] = 'display_data';\n",
              "          await google.colab.output.renderOutput(dataTable, element);\n",
              "          const docLink = document.createElement('div');\n",
              "          docLink.innerHTML = docLinkHtml;\n",
              "          element.appendChild(docLink);\n",
              "        }\n",
              "      </script>\n",
              "    </div>\n",
              "  </div>\n",
              "  "
            ]
          },
          "metadata": {},
          "execution_count": 12
        }
      ]
    },
    {
      "cell_type": "code",
      "source": [
        "users_df.head(5)"
      ],
      "metadata": {
        "colab": {
          "base_uri": "https://localhost:8080/",
          "height": 238
        },
        "id": "kSyXVeKMsMmP",
        "outputId": "2058cd46-678b-4620-934f-4e2212defb4e"
      },
      "execution_count": null,
      "outputs": [
        {
          "output_type": "execute_result",
          "data": {
            "text/plain": [
              "                        name lang  bot          created_at  statuses_count\n",
              "id                                                                        \n",
              "2353593986   Lamonica Raborn   en    1 2019-02-22 18:00:42            76.0\n",
              "2358850842     Lourie Botton   en    0 2019-02-26 03:02:32            54.0\n",
              "137959629   Dadan Syarifudin   en    1 2015-04-30 07:09:56             3.0\n",
              "466124818     Carletto Focia   it    1 2017-01-18 02:49:18            50.0\n",
              "2571493866         MBK Ebook   en    0 2019-06-18 19:30:21          7085.0"
            ],
            "text/html": [
              "\n",
              "  <div id=\"df-d2a70adc-cbdc-4fa4-8f84-009a483c3969\">\n",
              "    <div class=\"colab-df-container\">\n",
              "      <div>\n",
              "<style scoped>\n",
              "    .dataframe tbody tr th:only-of-type {\n",
              "        vertical-align: middle;\n",
              "    }\n",
              "\n",
              "    .dataframe tbody tr th {\n",
              "        vertical-align: top;\n",
              "    }\n",
              "\n",
              "    .dataframe thead th {\n",
              "        text-align: right;\n",
              "    }\n",
              "</style>\n",
              "<table border=\"1\" class=\"dataframe\">\n",
              "  <thead>\n",
              "    <tr style=\"text-align: right;\">\n",
              "      <th></th>\n",
              "      <th>name</th>\n",
              "      <th>lang</th>\n",
              "      <th>bot</th>\n",
              "      <th>created_at</th>\n",
              "      <th>statuses_count</th>\n",
              "    </tr>\n",
              "    <tr>\n",
              "      <th>id</th>\n",
              "      <th></th>\n",
              "      <th></th>\n",
              "      <th></th>\n",
              "      <th></th>\n",
              "      <th></th>\n",
              "    </tr>\n",
              "  </thead>\n",
              "  <tbody>\n",
              "    <tr>\n",
              "      <th>2353593986</th>\n",
              "      <td>Lamonica Raborn</td>\n",
              "      <td>en</td>\n",
              "      <td>1</td>\n",
              "      <td>2019-02-22 18:00:42</td>\n",
              "      <td>76.0</td>\n",
              "    </tr>\n",
              "    <tr>\n",
              "      <th>2358850842</th>\n",
              "      <td>Lourie Botton</td>\n",
              "      <td>en</td>\n",
              "      <td>0</td>\n",
              "      <td>2019-02-26 03:02:32</td>\n",
              "      <td>54.0</td>\n",
              "    </tr>\n",
              "    <tr>\n",
              "      <th>137959629</th>\n",
              "      <td>Dadan Syarifudin</td>\n",
              "      <td>en</td>\n",
              "      <td>1</td>\n",
              "      <td>2015-04-30 07:09:56</td>\n",
              "      <td>3.0</td>\n",
              "    </tr>\n",
              "    <tr>\n",
              "      <th>466124818</th>\n",
              "      <td>Carletto Focia</td>\n",
              "      <td>it</td>\n",
              "      <td>1</td>\n",
              "      <td>2017-01-18 02:49:18</td>\n",
              "      <td>50.0</td>\n",
              "    </tr>\n",
              "    <tr>\n",
              "      <th>2571493866</th>\n",
              "      <td>MBK Ebook</td>\n",
              "      <td>en</td>\n",
              "      <td>0</td>\n",
              "      <td>2019-06-18 19:30:21</td>\n",
              "      <td>7085.0</td>\n",
              "    </tr>\n",
              "  </tbody>\n",
              "</table>\n",
              "</div>\n",
              "      <button class=\"colab-df-convert\" onclick=\"convertToInteractive('df-d2a70adc-cbdc-4fa4-8f84-009a483c3969')\"\n",
              "              title=\"Convert this dataframe to an interactive table.\"\n",
              "              style=\"display:none;\">\n",
              "        \n",
              "  <svg xmlns=\"http://www.w3.org/2000/svg\" height=\"24px\"viewBox=\"0 0 24 24\"\n",
              "       width=\"24px\">\n",
              "    <path d=\"M0 0h24v24H0V0z\" fill=\"none\"/>\n",
              "    <path d=\"M18.56 5.44l.94 2.06.94-2.06 2.06-.94-2.06-.94-.94-2.06-.94 2.06-2.06.94zm-11 1L8.5 8.5l.94-2.06 2.06-.94-2.06-.94L8.5 2.5l-.94 2.06-2.06.94zm10 10l.94 2.06.94-2.06 2.06-.94-2.06-.94-.94-2.06-.94 2.06-2.06.94z\"/><path d=\"M17.41 7.96l-1.37-1.37c-.4-.4-.92-.59-1.43-.59-.52 0-1.04.2-1.43.59L10.3 9.45l-7.72 7.72c-.78.78-.78 2.05 0 2.83L4 21.41c.39.39.9.59 1.41.59.51 0 1.02-.2 1.41-.59l7.78-7.78 2.81-2.81c.8-.78.8-2.07 0-2.86zM5.41 20L4 18.59l7.72-7.72 1.47 1.35L5.41 20z\"/>\n",
              "  </svg>\n",
              "      </button>\n",
              "      \n",
              "  <style>\n",
              "    .colab-df-container {\n",
              "      display:flex;\n",
              "      flex-wrap:wrap;\n",
              "      gap: 12px;\n",
              "    }\n",
              "\n",
              "    .colab-df-convert {\n",
              "      background-color: #E8F0FE;\n",
              "      border: none;\n",
              "      border-radius: 50%;\n",
              "      cursor: pointer;\n",
              "      display: none;\n",
              "      fill: #1967D2;\n",
              "      height: 32px;\n",
              "      padding: 0 0 0 0;\n",
              "      width: 32px;\n",
              "    }\n",
              "\n",
              "    .colab-df-convert:hover {\n",
              "      background-color: #E2EBFA;\n",
              "      box-shadow: 0px 1px 2px rgba(60, 64, 67, 0.3), 0px 1px 3px 1px rgba(60, 64, 67, 0.15);\n",
              "      fill: #174EA6;\n",
              "    }\n",
              "\n",
              "    [theme=dark] .colab-df-convert {\n",
              "      background-color: #3B4455;\n",
              "      fill: #D2E3FC;\n",
              "    }\n",
              "\n",
              "    [theme=dark] .colab-df-convert:hover {\n",
              "      background-color: #434B5C;\n",
              "      box-shadow: 0px 1px 3px 1px rgba(0, 0, 0, 0.15);\n",
              "      filter: drop-shadow(0px 1px 2px rgba(0, 0, 0, 0.3));\n",
              "      fill: #FFFFFF;\n",
              "    }\n",
              "  </style>\n",
              "\n",
              "      <script>\n",
              "        const buttonEl =\n",
              "          document.querySelector('#df-d2a70adc-cbdc-4fa4-8f84-009a483c3969 button.colab-df-convert');\n",
              "        buttonEl.style.display =\n",
              "          google.colab.kernel.accessAllowed ? 'block' : 'none';\n",
              "\n",
              "        async function convertToInteractive(key) {\n",
              "          const element = document.querySelector('#df-d2a70adc-cbdc-4fa4-8f84-009a483c3969');\n",
              "          const dataTable =\n",
              "            await google.colab.kernel.invokeFunction('convertToInteractive',\n",
              "                                                     [key], {});\n",
              "          if (!dataTable) return;\n",
              "\n",
              "          const docLinkHtml = 'Like what you see? Visit the ' +\n",
              "            '<a target=\"_blank\" href=https://colab.research.google.com/notebooks/data_table.ipynb>data table notebook</a>'\n",
              "            + ' to learn more about interactive tables.';\n",
              "          element.innerHTML = '';\n",
              "          dataTable['output_type'] = 'display_data';\n",
              "          await google.colab.output.renderOutput(dataTable, element);\n",
              "          const docLink = document.createElement('div');\n",
              "          docLink.innerHTML = docLinkHtml;\n",
              "          element.appendChild(docLink);\n",
              "        }\n",
              "      </script>\n",
              "    </div>\n",
              "  </div>\n",
              "  "
            ]
          },
          "metadata": {},
          "execution_count": 13
        }
      ]
    },
    {
      "cell_type": "code",
      "source": [
        "#print distinct value for each column of small_tweets_df\n",
        "for col in small_tweets_df.columns:\n",
        "  print(f\"column: {col} values: {small_tweets_df[col].unique()}\")"
      ],
      "metadata": {
        "colab": {
          "base_uri": "https://localhost:8080/"
        },
        "id": "c-Jg9wo3wxpK",
        "outputId": "e2bafa59-12cd-454d-a521-19135af95e7f"
      },
      "execution_count": null,
      "outputs": [
        {
          "output_type": "stream",
          "name": "stdout",
          "text": [
            "column: user_id values: ['798613004' '557639325' '270494010' ... 'lemziw' '9nzqd' '0w6']\n",
            "column: retweet_count values: ['1' '0' '5' ... '7brv' 'd2f' '093b13axt']\n",
            "column: reply_count values: ['0' 'v4ec' '0.0' ... 'nmwx' '4iw8cgyi1' 'iptj9']\n",
            "column: favorite_count values: ['0' '1' '2' ... '0im' 't30k' 'o8h75gi']\n",
            "column: num_hashtags values: ['0' '7' '1' ... 'f2qpm' 'nb10m' 'u40']\n",
            "column: num_urls values: ['0' '1' nan ... 'j7gm8ml1a' 'fhc' '4zqi4']\n",
            "column: num_mentions values: ['1' '0' '2' ... 'ttprcxgpup' 'tfgf7m5' '3f6nithk']\n",
            "column: created_at values: ['2020-04-23 10:35:21' '2020-01-31 11:17:16' '2017-03-04 10:37:42' ...\n",
            " '2019-09-25 18:35:01' '2014-06-12 19:49:08' '2019-06-22 16:39:58']\n",
            "column: text values: ['All the best on your bdy bro @zakijufri' 'Quirino ltr. :)'\n",
            " 'Hahaha word ik opgebeld voor zorgtoestag.nl waar ik me eerst ingescreven had, ja gegevens weggevallen dit dat. Ik zei uuhm heb ik zelf al'\n",
            " ... 'SUMMER? BRING IT ON!' '@TheGrillingDad ahh'\n",
            " '@MsDeeCM they are cooler :)']\n"
          ]
        }
      ]
    },
    {
      "cell_type": "code",
      "source": [
        "#print distinct value for each column of users_df\n",
        "for col in users_df.columns:\n",
        "  print(f\"column: {col} values: {users_df[col].unique()}\")"
      ],
      "metadata": {
        "colab": {
          "base_uri": "https://localhost:8080/"
        },
        "id": "BPPjCovoLHIG",
        "outputId": "7f8e6bfa-0fec-4e80-9fb2-f98fc1800541"
      },
      "execution_count": null,
      "outputs": [
        {
          "output_type": "stream",
          "name": "stdout",
          "text": [
            "column: name values: ['Lamonica Raborn' 'Lourie Botton' 'Dadan Syarifudin' ...\n",
            " 'ALMA LETICIA NUÑO ' 'Minnie Guadagno' 'Corvanna ']\n",
            "column: lang values: ['en' 'it' 'fr' 'ru' 'es' 'tr' 'en-gb' 'pt' 'nl' 'id' 'zh-tw' 'ja' 'de'\n",
            " 'ko' 'en-AU' 'da' 'ar' 'en-GB' 'Select Language...' 'zh-TW' 'zh-cn' 'pl'\n",
            " 'el' 'fil' 'sv' 'xx-lc']\n",
            "column: bot values: [1 0]\n",
            "column: created_at values: ['2019-02-22T18:00:42.000000000' '2019-02-26T03:02:32.000000000'\n",
            " '2015-04-30T07:09:56.000000000' ... '2015-03-29T17:01:24.000000000'\n",
            " '2019-03-13T02:44:13.000000000' '2017-11-09T23:24:16.000000000']\n",
            "column: statuses_count values: [7.6000e+01 5.4000e+01 3.0000e+00 ... 1.1688e+04 3.0240e+03 5.2790e+03]\n"
          ]
        }
      ]
    },
    {
      "cell_type": "code",
      "source": [
        "# covert small_tweets_df columns from object to numeric. If a value can't be converted to integer\n",
        "# a NaN is inserted\n",
        "\n",
        "columns = [\"user_id\", \"retweet_count\", \"reply_count\",\n",
        "           \"favorite_count\", \"num_hashtags\",  \"num_urls\", \"num_mentions\"]\n",
        "\n",
        "#counting the number of nan\n",
        "for col in columns:\n",
        " small_tweets_df[col]=pd.to_numeric(small_tweets_df[col], errors='coerce', downcast='integer')"
      ],
      "metadata": {
        "id": "ucEV46PJsToL"
      },
      "execution_count": null,
      "outputs": []
    },
    {
      "cell_type": "code",
      "source": [
        "for col in small_tweets_df.columns:\n",
        "  print(f\"column: {col} NaN: {small_tweets_df[col].isna().sum()}\")"
      ],
      "metadata": {
        "colab": {
          "base_uri": "https://localhost:8080/"
        },
        "id": "pxLWhl6m4fRh",
        "outputId": "d740710f-fd1f-43c3-9f0a-4d8b97073157"
      },
      "execution_count": null,
      "outputs": [
        {
          "output_type": "stream",
          "name": "stdout",
          "text": [
            "column: user_id NaN: 86461\n",
            "column: retweet_count NaN: 125302\n",
            "column: reply_count NaN: 162647\n",
            "column: favorite_count NaN: 161864\n",
            "column: num_hashtags NaN: 232913\n",
            "column: num_urls NaN: 161712\n",
            "column: num_mentions NaN: 197282\n",
            "column: created_at NaN: 0\n",
            "column: text NaN: 107558\n"
          ]
        }
      ]
    },
    {
      "cell_type": "code",
      "source": [
        "#drop rows with nan values. If any of the value of a row is a nan, the entire row is dropped\n",
        "small_tweets_df_nona = small_tweets_df.dropna(inplace=False)\n",
        "#counting the number of nan\n",
        "for col in small_tweets_df_nona.columns:\n",
        "  print(f\"column: {col} NaN: {small_tweets_df_nona[col].isna().sum()}\")"
      ],
      "metadata": {
        "colab": {
          "base_uri": "https://localhost:8080/"
        },
        "id": "ER14JvwZyJty",
        "outputId": "a4a7165c-4f1a-4517-d68a-d29601910374"
      },
      "execution_count": null,
      "outputs": [
        {
          "output_type": "stream",
          "name": "stdout",
          "text": [
            "column: user_id NaN: 0\n",
            "column: retweet_count NaN: 0\n",
            "column: reply_count NaN: 0\n",
            "column: favorite_count NaN: 0\n",
            "column: num_hashtags NaN: 0\n",
            "column: num_urls NaN: 0\n",
            "column: num_mentions NaN: 0\n",
            "column: created_at NaN: 0\n",
            "column: text NaN: 0\n"
          ]
        }
      ]
    },
    {
      "cell_type": "code",
      "source": [
        "small_tweets_df_nona.info()"
      ],
      "metadata": {
        "colab": {
          "base_uri": "https://localhost:8080/"
        },
        "id": "XhFlZf-a8pvw",
        "outputId": "3a5f93d2-776f-4aec-874c-a93826a70a5e"
      },
      "execution_count": null,
      "outputs": [
        {
          "output_type": "stream",
          "name": "stdout",
          "text": [
            "<class 'pandas.core.frame.DataFrame'>\n",
            "Index: 2355606 entries, 590826213754556417 to 591541311523590145\n",
            "Data columns (total 9 columns):\n",
            " #   Column          Dtype  \n",
            "---  ------          -----  \n",
            " 0   user_id         float64\n",
            " 1   retweet_count   float64\n",
            " 2   reply_count     float64\n",
            " 3   favorite_count  float64\n",
            " 4   num_hashtags    float64\n",
            " 5   num_urls        float64\n",
            " 6   num_mentions    float64\n",
            " 7   created_at      object \n",
            " 8   text            object \n",
            "dtypes: float64(7), object(2)\n",
            "memory usage: 179.7+ MB\n"
          ]
        }
      ]
    },
    {
      "cell_type": "code",
      "source": [
        "small_tweets_df_nona = small_tweets_df_nona.astype({\n",
        "\"user_id\":int, \"retweet_count\":int, \"reply_count\":int,\n",
        "           \"favorite_count\":int, \"num_hashtags\":int,  \"num_urls\":int, \"num_mentions\":int    \n",
        "}, errors=\"ignore\")"
      ],
      "metadata": {
        "id": "_aqME8eGAStY"
      },
      "execution_count": null,
      "outputs": []
    },
    {
      "cell_type": "code",
      "source": [
        "small_tweets_df_nona.info()"
      ],
      "metadata": {
        "colab": {
          "base_uri": "https://localhost:8080/"
        },
        "id": "RhKt4UNH9r2w",
        "outputId": "f60e1261-54ba-4b82-ef76-62e6c2f8c945"
      },
      "execution_count": null,
      "outputs": [
        {
          "output_type": "stream",
          "name": "stdout",
          "text": [
            "<class 'pandas.core.frame.DataFrame'>\n",
            "Index: 2355606 entries, 590826213754556417 to 591541311523590145\n",
            "Data columns (total 9 columns):\n",
            " #   Column          Dtype \n",
            "---  ------          ----- \n",
            " 0   user_id         int64 \n",
            " 1   retweet_count   int64 \n",
            " 2   reply_count     int64 \n",
            " 3   favorite_count  int64 \n",
            " 4   num_hashtags    int64 \n",
            " 5   num_urls        int64 \n",
            " 6   num_mentions    int64 \n",
            " 7   created_at      object\n",
            " 8   text            object\n",
            "dtypes: int64(7), object(2)\n",
            "memory usage: 179.7+ MB\n"
          ]
        }
      ]
    },
    {
      "cell_type": "code",
      "source": [
        "small_tweets_df_nona.describe()"
      ],
      "metadata": {
        "colab": {
          "base_uri": "https://localhost:8080/",
          "height": 344
        },
        "id": "LN0oQYrsDOXu",
        "outputId": "3b14e412-0bdb-43a1-83a6-bf910576a737"
      },
      "execution_count": null,
      "outputs": [
        {
          "output_type": "execute_result",
          "data": {
            "text/plain": [
              "            user_id  retweet_count   reply_count  favorite_count  \\\n",
              "count  2.355606e+06   2.355606e+06  2.355606e+06    2.355606e+06   \n",
              "mean   8.292123e+08   5.680416e+02  2.256914e-02    2.973501e+03   \n",
              "std    8.517246e+08   1.401362e+04  1.089636e+01    4.560860e+06   \n",
              "min    5.000000e+00   0.000000e+00  0.000000e+00   -1.000000e+00   \n",
              "25%    2.312573e+08   0.000000e+00  0.000000e+00    0.000000e+00   \n",
              "50%    4.680718e+08   0.000000e+00  0.000000e+00    0.000000e+00   \n",
              "75%    1.223670e+09   1.000000e+00  0.000000e+00    0.000000e+00   \n",
              "max    3.164942e+09   3.350111e+06  1.124200e+04    7.000000e+09   \n",
              "\n",
              "       num_hashtags      num_urls  num_mentions  \n",
              "count  2.355606e+06  2.355606e+06  2.355606e+06  \n",
              "mean  -3.915499e+12  1.509299e+03  5.409270e-01  \n",
              "std    6.009501e+15  2.280710e+06  9.486533e+00  \n",
              "min   -9.223372e+18  0.000000e+00  0.000000e+00  \n",
              "25%    0.000000e+00  0.000000e+00  0.000000e+00  \n",
              "50%    0.000000e+00  0.000000e+00  0.000000e+00  \n",
              "75%    0.000000e+00  0.000000e+00  1.000000e+00  \n",
              "max    4.000000e+09  3.500000e+09  9.818000e+03  "
            ],
            "text/html": [
              "\n",
              "  <div id=\"df-a4262887-e765-4697-8726-50e4c532ea92\">\n",
              "    <div class=\"colab-df-container\">\n",
              "      <div>\n",
              "<style scoped>\n",
              "    .dataframe tbody tr th:only-of-type {\n",
              "        vertical-align: middle;\n",
              "    }\n",
              "\n",
              "    .dataframe tbody tr th {\n",
              "        vertical-align: top;\n",
              "    }\n",
              "\n",
              "    .dataframe thead th {\n",
              "        text-align: right;\n",
              "    }\n",
              "</style>\n",
              "<table border=\"1\" class=\"dataframe\">\n",
              "  <thead>\n",
              "    <tr style=\"text-align: right;\">\n",
              "      <th></th>\n",
              "      <th>user_id</th>\n",
              "      <th>retweet_count</th>\n",
              "      <th>reply_count</th>\n",
              "      <th>favorite_count</th>\n",
              "      <th>num_hashtags</th>\n",
              "      <th>num_urls</th>\n",
              "      <th>num_mentions</th>\n",
              "    </tr>\n",
              "  </thead>\n",
              "  <tbody>\n",
              "    <tr>\n",
              "      <th>count</th>\n",
              "      <td>2.355606e+06</td>\n",
              "      <td>2.355606e+06</td>\n",
              "      <td>2.355606e+06</td>\n",
              "      <td>2.355606e+06</td>\n",
              "      <td>2.355606e+06</td>\n",
              "      <td>2.355606e+06</td>\n",
              "      <td>2.355606e+06</td>\n",
              "    </tr>\n",
              "    <tr>\n",
              "      <th>mean</th>\n",
              "      <td>8.292123e+08</td>\n",
              "      <td>5.680416e+02</td>\n",
              "      <td>2.256914e-02</td>\n",
              "      <td>2.973501e+03</td>\n",
              "      <td>-3.915499e+12</td>\n",
              "      <td>1.509299e+03</td>\n",
              "      <td>5.409270e-01</td>\n",
              "    </tr>\n",
              "    <tr>\n",
              "      <th>std</th>\n",
              "      <td>8.517246e+08</td>\n",
              "      <td>1.401362e+04</td>\n",
              "      <td>1.089636e+01</td>\n",
              "      <td>4.560860e+06</td>\n",
              "      <td>6.009501e+15</td>\n",
              "      <td>2.280710e+06</td>\n",
              "      <td>9.486533e+00</td>\n",
              "    </tr>\n",
              "    <tr>\n",
              "      <th>min</th>\n",
              "      <td>5.000000e+00</td>\n",
              "      <td>0.000000e+00</td>\n",
              "      <td>0.000000e+00</td>\n",
              "      <td>-1.000000e+00</td>\n",
              "      <td>-9.223372e+18</td>\n",
              "      <td>0.000000e+00</td>\n",
              "      <td>0.000000e+00</td>\n",
              "    </tr>\n",
              "    <tr>\n",
              "      <th>25%</th>\n",
              "      <td>2.312573e+08</td>\n",
              "      <td>0.000000e+00</td>\n",
              "      <td>0.000000e+00</td>\n",
              "      <td>0.000000e+00</td>\n",
              "      <td>0.000000e+00</td>\n",
              "      <td>0.000000e+00</td>\n",
              "      <td>0.000000e+00</td>\n",
              "    </tr>\n",
              "    <tr>\n",
              "      <th>50%</th>\n",
              "      <td>4.680718e+08</td>\n",
              "      <td>0.000000e+00</td>\n",
              "      <td>0.000000e+00</td>\n",
              "      <td>0.000000e+00</td>\n",
              "      <td>0.000000e+00</td>\n",
              "      <td>0.000000e+00</td>\n",
              "      <td>0.000000e+00</td>\n",
              "    </tr>\n",
              "    <tr>\n",
              "      <th>75%</th>\n",
              "      <td>1.223670e+09</td>\n",
              "      <td>1.000000e+00</td>\n",
              "      <td>0.000000e+00</td>\n",
              "      <td>0.000000e+00</td>\n",
              "      <td>0.000000e+00</td>\n",
              "      <td>0.000000e+00</td>\n",
              "      <td>1.000000e+00</td>\n",
              "    </tr>\n",
              "    <tr>\n",
              "      <th>max</th>\n",
              "      <td>3.164942e+09</td>\n",
              "      <td>3.350111e+06</td>\n",
              "      <td>1.124200e+04</td>\n",
              "      <td>7.000000e+09</td>\n",
              "      <td>4.000000e+09</td>\n",
              "      <td>3.500000e+09</td>\n",
              "      <td>9.818000e+03</td>\n",
              "    </tr>\n",
              "  </tbody>\n",
              "</table>\n",
              "</div>\n",
              "      <button class=\"colab-df-convert\" onclick=\"convertToInteractive('df-a4262887-e765-4697-8726-50e4c532ea92')\"\n",
              "              title=\"Convert this dataframe to an interactive table.\"\n",
              "              style=\"display:none;\">\n",
              "        \n",
              "  <svg xmlns=\"http://www.w3.org/2000/svg\" height=\"24px\"viewBox=\"0 0 24 24\"\n",
              "       width=\"24px\">\n",
              "    <path d=\"M0 0h24v24H0V0z\" fill=\"none\"/>\n",
              "    <path d=\"M18.56 5.44l.94 2.06.94-2.06 2.06-.94-2.06-.94-.94-2.06-.94 2.06-2.06.94zm-11 1L8.5 8.5l.94-2.06 2.06-.94-2.06-.94L8.5 2.5l-.94 2.06-2.06.94zm10 10l.94 2.06.94-2.06 2.06-.94-2.06-.94-.94-2.06-.94 2.06-2.06.94z\"/><path d=\"M17.41 7.96l-1.37-1.37c-.4-.4-.92-.59-1.43-.59-.52 0-1.04.2-1.43.59L10.3 9.45l-7.72 7.72c-.78.78-.78 2.05 0 2.83L4 21.41c.39.39.9.59 1.41.59.51 0 1.02-.2 1.41-.59l7.78-7.78 2.81-2.81c.8-.78.8-2.07 0-2.86zM5.41 20L4 18.59l7.72-7.72 1.47 1.35L5.41 20z\"/>\n",
              "  </svg>\n",
              "      </button>\n",
              "      \n",
              "  <style>\n",
              "    .colab-df-container {\n",
              "      display:flex;\n",
              "      flex-wrap:wrap;\n",
              "      gap: 12px;\n",
              "    }\n",
              "\n",
              "    .colab-df-convert {\n",
              "      background-color: #E8F0FE;\n",
              "      border: none;\n",
              "      border-radius: 50%;\n",
              "      cursor: pointer;\n",
              "      display: none;\n",
              "      fill: #1967D2;\n",
              "      height: 32px;\n",
              "      padding: 0 0 0 0;\n",
              "      width: 32px;\n",
              "    }\n",
              "\n",
              "    .colab-df-convert:hover {\n",
              "      background-color: #E2EBFA;\n",
              "      box-shadow: 0px 1px 2px rgba(60, 64, 67, 0.3), 0px 1px 3px 1px rgba(60, 64, 67, 0.15);\n",
              "      fill: #174EA6;\n",
              "    }\n",
              "\n",
              "    [theme=dark] .colab-df-convert {\n",
              "      background-color: #3B4455;\n",
              "      fill: #D2E3FC;\n",
              "    }\n",
              "\n",
              "    [theme=dark] .colab-df-convert:hover {\n",
              "      background-color: #434B5C;\n",
              "      box-shadow: 0px 1px 3px 1px rgba(0, 0, 0, 0.15);\n",
              "      filter: drop-shadow(0px 1px 2px rgba(0, 0, 0, 0.3));\n",
              "      fill: #FFFFFF;\n",
              "    }\n",
              "  </style>\n",
              "\n",
              "      <script>\n",
              "        const buttonEl =\n",
              "          document.querySelector('#df-a4262887-e765-4697-8726-50e4c532ea92 button.colab-df-convert');\n",
              "        buttonEl.style.display =\n",
              "          google.colab.kernel.accessAllowed ? 'block' : 'none';\n",
              "\n",
              "        async function convertToInteractive(key) {\n",
              "          const element = document.querySelector('#df-a4262887-e765-4697-8726-50e4c532ea92');\n",
              "          const dataTable =\n",
              "            await google.colab.kernel.invokeFunction('convertToInteractive',\n",
              "                                                     [key], {});\n",
              "          if (!dataTable) return;\n",
              "\n",
              "          const docLinkHtml = 'Like what you see? Visit the ' +\n",
              "            '<a target=\"_blank\" href=https://colab.research.google.com/notebooks/data_table.ipynb>data table notebook</a>'\n",
              "            + ' to learn more about interactive tables.';\n",
              "          element.innerHTML = '';\n",
              "          dataTable['output_type'] = 'display_data';\n",
              "          await google.colab.output.renderOutput(dataTable, element);\n",
              "          const docLink = document.createElement('div');\n",
              "          docLink.innerHTML = docLinkHtml;\n",
              "          element.appendChild(docLink);\n",
              "        }\n",
              "      </script>\n",
              "    </div>\n",
              "  </div>\n",
              "  "
            ]
          },
          "metadata": {},
          "execution_count": 22
        }
      ]
    },
    {
      "cell_type": "code",
      "source": [
        "small_tweets_df_nona.head(10)"
      ],
      "metadata": {
        "colab": {
          "base_uri": "https://localhost:8080/",
          "height": 753
        },
        "id": "kBZBWaTzApIf",
        "outputId": "e82a7dea-0ccc-4394-db96-f02928fb7fad"
      },
      "execution_count": null,
      "outputs": [
        {
          "output_type": "execute_result",
          "data": {
            "text/plain": [
              "                       user_id  retweet_count  reply_count  favorite_count  \\\n",
              "id                                                                           \n",
              "590826213754556417   798613004              1            0               0   \n",
              "560758570732367872   557639325              0            0               0   \n",
              "175530312707751936   270494010              0            0               0   \n",
              "583758388913446912  1088449490              5            0               0   \n",
              "467837272826466305    15324749              0            0               0   \n",
              "454335875556470784   385121466              1            0               0   \n",
              "583749852950953984  3018260990              0            0               1   \n",
              "583188740039917568  1492569428              0            0               0   \n",
              "174771895927980032    41825429              1            0               0   \n",
              "527947910085091329   221059805              0            0               0   \n",
              "\n",
              "                    num_hashtags  num_urls  num_mentions           created_at  \\\n",
              "id                                                                              \n",
              "590826213754556417             0         0             1  2020-04-23 10:35:21   \n",
              "560758570732367872             0         0             0  2020-01-31 11:17:16   \n",
              "175530312707751936             0         0             0  2017-03-04 10:37:42   \n",
              "583758388913446912             0         0             1  2020-04-03 22:30:20   \n",
              "467837272826466305             0         0             1  2019-05-20 01:21:12   \n",
              "454335875556470784             0         0             1  2019-04-12 19:11:28   \n",
              "583749852950953984             0         0             1  2020-04-03 21:56:25   \n",
              "583188740039917568             0         0             1  2020-04-02 08:46:45   \n",
              "174771895927980032             0         1             2  2017-03-02 08:24:01   \n",
              "527947910085091329             0         1             0  2019-11-01 22:19:25   \n",
              "\n",
              "                                                                 text  \n",
              "id                                                                     \n",
              "590826213754556417            All the best on your bdy bro @zakijufri  \n",
              "560758570732367872                                    Quirino ltr. :)  \n",
              "175530312707751936  Hahaha word ik opgebeld voor zorgtoestag.nl wa...  \n",
              "583758388913446912  RT @ProyectoMagcon: Grupo 5: \"I won't let you ...  \n",
              "467837272826466305                                 @sarabeee correct.  \n",
              "454335875556470784  @___shortfordays thanks for the follow don't b...  \n",
              "583749852950953984  @Bexofeasttex It was her smell too, like sulph...  \n",
              "583188740039917568                      @fxckthisshit_ i know babe xx  \n",
              "174771895927980032  @urNaughtyAngel @pleasurechestla  no but here ...  \n",
              "527947910085091329  Great Introduction to Lulu  http://t.co/5yVUVa...  "
            ],
            "text/html": [
              "\n",
              "  <div id=\"df-9737df6e-aede-43bd-bdbe-619ac322c63c\">\n",
              "    <div class=\"colab-df-container\">\n",
              "      <div>\n",
              "<style scoped>\n",
              "    .dataframe tbody tr th:only-of-type {\n",
              "        vertical-align: middle;\n",
              "    }\n",
              "\n",
              "    .dataframe tbody tr th {\n",
              "        vertical-align: top;\n",
              "    }\n",
              "\n",
              "    .dataframe thead th {\n",
              "        text-align: right;\n",
              "    }\n",
              "</style>\n",
              "<table border=\"1\" class=\"dataframe\">\n",
              "  <thead>\n",
              "    <tr style=\"text-align: right;\">\n",
              "      <th></th>\n",
              "      <th>user_id</th>\n",
              "      <th>retweet_count</th>\n",
              "      <th>reply_count</th>\n",
              "      <th>favorite_count</th>\n",
              "      <th>num_hashtags</th>\n",
              "      <th>num_urls</th>\n",
              "      <th>num_mentions</th>\n",
              "      <th>created_at</th>\n",
              "      <th>text</th>\n",
              "    </tr>\n",
              "    <tr>\n",
              "      <th>id</th>\n",
              "      <th></th>\n",
              "      <th></th>\n",
              "      <th></th>\n",
              "      <th></th>\n",
              "      <th></th>\n",
              "      <th></th>\n",
              "      <th></th>\n",
              "      <th></th>\n",
              "      <th></th>\n",
              "    </tr>\n",
              "  </thead>\n",
              "  <tbody>\n",
              "    <tr>\n",
              "      <th>590826213754556417</th>\n",
              "      <td>798613004</td>\n",
              "      <td>1</td>\n",
              "      <td>0</td>\n",
              "      <td>0</td>\n",
              "      <td>0</td>\n",
              "      <td>0</td>\n",
              "      <td>1</td>\n",
              "      <td>2020-04-23 10:35:21</td>\n",
              "      <td>All the best on your bdy bro @zakijufri</td>\n",
              "    </tr>\n",
              "    <tr>\n",
              "      <th>560758570732367872</th>\n",
              "      <td>557639325</td>\n",
              "      <td>0</td>\n",
              "      <td>0</td>\n",
              "      <td>0</td>\n",
              "      <td>0</td>\n",
              "      <td>0</td>\n",
              "      <td>0</td>\n",
              "      <td>2020-01-31 11:17:16</td>\n",
              "      <td>Quirino ltr. :)</td>\n",
              "    </tr>\n",
              "    <tr>\n",
              "      <th>175530312707751936</th>\n",
              "      <td>270494010</td>\n",
              "      <td>0</td>\n",
              "      <td>0</td>\n",
              "      <td>0</td>\n",
              "      <td>0</td>\n",
              "      <td>0</td>\n",
              "      <td>0</td>\n",
              "      <td>2017-03-04 10:37:42</td>\n",
              "      <td>Hahaha word ik opgebeld voor zorgtoestag.nl wa...</td>\n",
              "    </tr>\n",
              "    <tr>\n",
              "      <th>583758388913446912</th>\n",
              "      <td>1088449490</td>\n",
              "      <td>5</td>\n",
              "      <td>0</td>\n",
              "      <td>0</td>\n",
              "      <td>0</td>\n",
              "      <td>0</td>\n",
              "      <td>1</td>\n",
              "      <td>2020-04-03 22:30:20</td>\n",
              "      <td>RT @ProyectoMagcon: Grupo 5: \"I won't let you ...</td>\n",
              "    </tr>\n",
              "    <tr>\n",
              "      <th>467837272826466305</th>\n",
              "      <td>15324749</td>\n",
              "      <td>0</td>\n",
              "      <td>0</td>\n",
              "      <td>0</td>\n",
              "      <td>0</td>\n",
              "      <td>0</td>\n",
              "      <td>1</td>\n",
              "      <td>2019-05-20 01:21:12</td>\n",
              "      <td>@sarabeee correct.</td>\n",
              "    </tr>\n",
              "    <tr>\n",
              "      <th>454335875556470784</th>\n",
              "      <td>385121466</td>\n",
              "      <td>1</td>\n",
              "      <td>0</td>\n",
              "      <td>0</td>\n",
              "      <td>0</td>\n",
              "      <td>0</td>\n",
              "      <td>1</td>\n",
              "      <td>2019-04-12 19:11:28</td>\n",
              "      <td>@___shortfordays thanks for the follow don't b...</td>\n",
              "    </tr>\n",
              "    <tr>\n",
              "      <th>583749852950953984</th>\n",
              "      <td>3018260990</td>\n",
              "      <td>0</td>\n",
              "      <td>0</td>\n",
              "      <td>1</td>\n",
              "      <td>0</td>\n",
              "      <td>0</td>\n",
              "      <td>1</td>\n",
              "      <td>2020-04-03 21:56:25</td>\n",
              "      <td>@Bexofeasttex It was her smell too, like sulph...</td>\n",
              "    </tr>\n",
              "    <tr>\n",
              "      <th>583188740039917568</th>\n",
              "      <td>1492569428</td>\n",
              "      <td>0</td>\n",
              "      <td>0</td>\n",
              "      <td>0</td>\n",
              "      <td>0</td>\n",
              "      <td>0</td>\n",
              "      <td>1</td>\n",
              "      <td>2020-04-02 08:46:45</td>\n",
              "      <td>@fxckthisshit_ i know babe xx</td>\n",
              "    </tr>\n",
              "    <tr>\n",
              "      <th>174771895927980032</th>\n",
              "      <td>41825429</td>\n",
              "      <td>1</td>\n",
              "      <td>0</td>\n",
              "      <td>0</td>\n",
              "      <td>0</td>\n",
              "      <td>1</td>\n",
              "      <td>2</td>\n",
              "      <td>2017-03-02 08:24:01</td>\n",
              "      <td>@urNaughtyAngel @pleasurechestla  no but here ...</td>\n",
              "    </tr>\n",
              "    <tr>\n",
              "      <th>527947910085091329</th>\n",
              "      <td>221059805</td>\n",
              "      <td>0</td>\n",
              "      <td>0</td>\n",
              "      <td>0</td>\n",
              "      <td>0</td>\n",
              "      <td>1</td>\n",
              "      <td>0</td>\n",
              "      <td>2019-11-01 22:19:25</td>\n",
              "      <td>Great Introduction to Lulu  http://t.co/5yVUVa...</td>\n",
              "    </tr>\n",
              "  </tbody>\n",
              "</table>\n",
              "</div>\n",
              "      <button class=\"colab-df-convert\" onclick=\"convertToInteractive('df-9737df6e-aede-43bd-bdbe-619ac322c63c')\"\n",
              "              title=\"Convert this dataframe to an interactive table.\"\n",
              "              style=\"display:none;\">\n",
              "        \n",
              "  <svg xmlns=\"http://www.w3.org/2000/svg\" height=\"24px\"viewBox=\"0 0 24 24\"\n",
              "       width=\"24px\">\n",
              "    <path d=\"M0 0h24v24H0V0z\" fill=\"none\"/>\n",
              "    <path d=\"M18.56 5.44l.94 2.06.94-2.06 2.06-.94-2.06-.94-.94-2.06-.94 2.06-2.06.94zm-11 1L8.5 8.5l.94-2.06 2.06-.94-2.06-.94L8.5 2.5l-.94 2.06-2.06.94zm10 10l.94 2.06.94-2.06 2.06-.94-2.06-.94-.94-2.06-.94 2.06-2.06.94z\"/><path d=\"M17.41 7.96l-1.37-1.37c-.4-.4-.92-.59-1.43-.59-.52 0-1.04.2-1.43.59L10.3 9.45l-7.72 7.72c-.78.78-.78 2.05 0 2.83L4 21.41c.39.39.9.59 1.41.59.51 0 1.02-.2 1.41-.59l7.78-7.78 2.81-2.81c.8-.78.8-2.07 0-2.86zM5.41 20L4 18.59l7.72-7.72 1.47 1.35L5.41 20z\"/>\n",
              "  </svg>\n",
              "      </button>\n",
              "      \n",
              "  <style>\n",
              "    .colab-df-container {\n",
              "      display:flex;\n",
              "      flex-wrap:wrap;\n",
              "      gap: 12px;\n",
              "    }\n",
              "\n",
              "    .colab-df-convert {\n",
              "      background-color: #E8F0FE;\n",
              "      border: none;\n",
              "      border-radius: 50%;\n",
              "      cursor: pointer;\n",
              "      display: none;\n",
              "      fill: #1967D2;\n",
              "      height: 32px;\n",
              "      padding: 0 0 0 0;\n",
              "      width: 32px;\n",
              "    }\n",
              "\n",
              "    .colab-df-convert:hover {\n",
              "      background-color: #E2EBFA;\n",
              "      box-shadow: 0px 1px 2px rgba(60, 64, 67, 0.3), 0px 1px 3px 1px rgba(60, 64, 67, 0.15);\n",
              "      fill: #174EA6;\n",
              "    }\n",
              "\n",
              "    [theme=dark] .colab-df-convert {\n",
              "      background-color: #3B4455;\n",
              "      fill: #D2E3FC;\n",
              "    }\n",
              "\n",
              "    [theme=dark] .colab-df-convert:hover {\n",
              "      background-color: #434B5C;\n",
              "      box-shadow: 0px 1px 3px 1px rgba(0, 0, 0, 0.15);\n",
              "      filter: drop-shadow(0px 1px 2px rgba(0, 0, 0, 0.3));\n",
              "      fill: #FFFFFF;\n",
              "    }\n",
              "  </style>\n",
              "\n",
              "      <script>\n",
              "        const buttonEl =\n",
              "          document.querySelector('#df-9737df6e-aede-43bd-bdbe-619ac322c63c button.colab-df-convert');\n",
              "        buttonEl.style.display =\n",
              "          google.colab.kernel.accessAllowed ? 'block' : 'none';\n",
              "\n",
              "        async function convertToInteractive(key) {\n",
              "          const element = document.querySelector('#df-9737df6e-aede-43bd-bdbe-619ac322c63c');\n",
              "          const dataTable =\n",
              "            await google.colab.kernel.invokeFunction('convertToInteractive',\n",
              "                                                     [key], {});\n",
              "          if (!dataTable) return;\n",
              "\n",
              "          const docLinkHtml = 'Like what you see? Visit the ' +\n",
              "            '<a target=\"_blank\" href=https://colab.research.google.com/notebooks/data_table.ipynb>data table notebook</a>'\n",
              "            + ' to learn more about interactive tables.';\n",
              "          element.innerHTML = '';\n",
              "          dataTable['output_type'] = 'display_data';\n",
              "          await google.colab.output.renderOutput(dataTable, element);\n",
              "          const docLink = document.createElement('div');\n",
              "          docLink.innerHTML = docLinkHtml;\n",
              "          element.appendChild(docLink);\n",
              "        }\n",
              "      </script>\n",
              "    </div>\n",
              "  </div>\n",
              "  "
            ]
          },
          "metadata": {},
          "execution_count": 23
        }
      ]
    },
    {
      "cell_type": "code",
      "source": [
        "small_tweets_df_nona[\"user_id\"].value_counts()"
      ],
      "metadata": {
        "colab": {
          "base_uri": "https://localhost:8080/"
        },
        "id": "UwF5qFKUG5pu",
        "outputId": "5a11dd4c-3d56-46dd-d454-af9f2303c06a"
      },
      "execution_count": null,
      "outputs": [
        {
          "output_type": "execute_result",
          "data": {
            "text/plain": [
              "157029836     968\n",
              "491630583     968\n",
              "1712224658    959\n",
              "486172124     950\n",
              "161634919     931\n",
              "             ... \n",
              "277203011       1\n",
              "1175901596      1\n",
              "2897127823      1\n",
              "67041122        1\n",
              "1174944751      1\n",
              "Name: user_id, Length: 11304, dtype: int64"
            ]
          },
          "metadata": {},
          "execution_count": 24
        }
      ]
    },
    {
      "cell_type": "code",
      "source": [
        "plt.yscale(\"log\")\n",
        "plt.boxplot(small_tweets_df_nona[\"user_id\"].value_counts())"
      ],
      "metadata": {
        "colab": {
          "base_uri": "https://localhost:8080/",
          "height": 404
        },
        "id": "ZzXzVA_qHDXi",
        "outputId": "940e0bfd-a9df-4e1d-89bc-9ff150d2231a"
      },
      "execution_count": null,
      "outputs": [
        {
          "output_type": "execute_result",
          "data": {
            "text/plain": [
              "{'whiskers': [<matplotlib.lines.Line2D at 0x7f4f87ea5b10>,\n",
              "  <matplotlib.lines.Line2D at 0x7f4f87befb10>],\n",
              " 'caps': [<matplotlib.lines.Line2D at 0x7f4f87beffd0>,\n",
              "  <matplotlib.lines.Line2D at 0x7f4f87bf3510>],\n",
              " 'boxes': [<matplotlib.lines.Line2D at 0x7f4f87ead350>],\n",
              " 'medians': [<matplotlib.lines.Line2D at 0x7f4f87bf3f90>],\n",
              " 'fliers': [<matplotlib.lines.Line2D at 0x7f4f87bf36d0>],\n",
              " 'means': []}"
            ]
          },
          "metadata": {},
          "execution_count": 29
        },
        {
          "output_type": "display_data",
          "data": {
            "text/plain": [
              "<Figure size 432x288 with 1 Axes>"
            ],
            "image/png": "[encoded data removed]"
          },
          "metadata": {
            "needs_background": "light"
          }
        }
      ]
    },
    {
      "cell_type": "code",
      "source": [
        "#drop rows with nan values. If any of the value of a row is a nan, the entire row is dropped\n",
        "users_df_nona = users_df.dropna(inplace=False)\n",
        "\n",
        "users_df_nona[\"lang\"].value_counts()"
      ],
      "metadata": {
        "colab": {
          "base_uri": "https://localhost:8080/"
        },
        "id": "JeHbOLY6Lpb-",
        "outputId": "7f85d147-d854-4b05-9688-b9dbb138d125"
      },
      "execution_count": null,
      "outputs": [
        {
          "output_type": "execute_result",
          "data": {
            "text/plain": [
              "en                    9590\n",
              "it                     906\n",
              "es                     306\n",
              "pt                      62\n",
              "en-gb                   50\n",
              "ru                      40\n",
              "fr                      35\n",
              "ja                      33\n",
              "zh-tw                   17\n",
              "tr                      14\n",
              "id                      12\n",
              "ko                       9\n",
              "de                       8\n",
              "nl                       6\n",
              "en-GB                    4\n",
              "zh-TW                    3\n",
              "da                       2\n",
              "Select Language...       2\n",
              "ar                       2\n",
              "en-AU                    1\n",
              "zh-cn                    1\n",
              "pl                       1\n",
              "el                       1\n",
              "fil                      1\n",
              "sv                       1\n",
              "xx-lc                    1\n",
              "Name: lang, dtype: int64"
            ]
          },
          "metadata": {},
          "execution_count": 26
        }
      ]
    },
    {
      "cell_type": "code",
      "source": [
        "users_df_nona[\"lang\"].value_counts().plot.bar()"
      ],
      "metadata": {
        "colab": {
          "base_uri": "https://localhost:8080/",
          "height": 368
        },
        "id": "a3h0EGepNI09",
        "outputId": "2a173a4f-15a2-4373-c4c1-0d837f63a025"
      },
      "execution_count": null,
      "outputs": [
        {
          "output_type": "execute_result",
          "data": {
            "text/plain": [
              "<matplotlib.axes._subplots.AxesSubplot at 0x7f5077e132d0>"
            ]
          },
          "metadata": {},
          "execution_count": 27
        },
        {
          "output_type": "display_data",
          "data": {
            "text/plain": [
              "<Figure size 432x288 with 1 Axes>"
            ],
            "image/png": "[encoded data removed]"
          },
          "metadata": {
            "needs_background": "light"
          }
        }
      ]
    },
    {
      "cell_type": "code",
      "source": [
        "users_df_nona['month_year'] = users_df_nona['created_at'].dt.to_period('M')\n",
        "print(users_df_nona['month_year'])"
      ],
      "metadata": {
        "colab": {
          "base_uri": "https://localhost:8080/"
        },
        "id": "kWB8NMNyS2Pc",
        "outputId": "5ddf783a-c34b-463c-fff3-f7929e4c86f2"
      },
      "execution_count": null,
      "outputs": [
        {
          "output_type": "stream",
          "name": "stdout",
          "text": [
            "id\n",
            "2353593986    2019-02\n",
            "2358850842    2019-02\n",
            "137959629     2015-04\n",
            "466124818     2017-01\n",
            "2571493866    2019-06\n",
            "               ...   \n",
            "2911861962    2019-11\n",
            "1378532629    2018-04\n",
            "126984069     2015-03\n",
            "2383025796    2019-03\n",
            "933183398     2017-11\n",
            "Name: month_year, Length: 11108, dtype: period[M]\n"
          ]
        },
        {
          "output_type": "stream",
          "name": "stderr",
          "text": [
            "/usr/local/lib/python3.7/dist-packages/ipykernel_launcher.py:1: SettingWithCopyWarning: \n",
            "A value is trying to be set on a copy of a slice from a DataFrame.\n",
            "Try using .loc[row_indexer,col_indexer] = value instead\n",
            "\n",
            "See the caveats in the documentation: https://pandas.pydata.org/pandas-docs/stable/user_guide/indexing.html#returning-a-view-versus-a-copy\n",
            "  \"\"\"Entry point for launching an IPython kernel.\n"
          ]
        }
      ]
    },
    {
      "cell_type": "code",
      "source": [
        "users_df_nona[\"month_year\"].value_counts().plot.bar()"
      ],
      "metadata": {
        "colab": {
          "base_uri": "https://localhost:8080/",
          "height": 314
        },
        "id": "FycwoDyYQ8ZM",
        "outputId": "ed38a5ca-1228-49e4-9ee7-a542a40e2a0f"
      },
      "execution_count": null,
      "outputs": [
        {
          "output_type": "execute_result",
          "data": {
            "text/plain": [
              "<matplotlib.axes._subplots.AxesSubplot at 0x7f4f90266210>"
            ]
          },
          "metadata": {},
          "execution_count": 31
        },
        {
          "output_type": "display_data",
          "data": {
            "text/plain": [
              "<Figure size 432x288 with 1 Axes>"
            ],
            "image/png": "[encoded data removed]"
          },
          "metadata": {
            "needs_background": "light"
          }
        }
      ]
    }
  ]
}