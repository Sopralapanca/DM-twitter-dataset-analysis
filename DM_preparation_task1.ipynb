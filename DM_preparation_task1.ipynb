{
  "cells": [
    {
      "cell_type": "markdown",
      "metadata": {
        "id": "view-in-github",
        "colab_type": "text"
      },
      "source": [
        "<a href=\"https://colab.research.google.com/github/Sopralapanca/TwitterDataset-DM-Project/blob/develop/DM_preparation_task1.ipynb\" target=\"_parent\"><img src=\"https://colab.research.google.com/assets/colab-badge.svg\" alt=\"Open In Colab\"/></a>"
      ]
    },
    {
      "cell_type": "markdown",
      "metadata": {
        "id": "fKlYZFkefEpD"
      },
      "source": [
        "# What will be done here...\n",
        "Following the last notebook we have correctly assigned the columns in a typo that permits to work with the attributes, in this way here we can start to handle correctly the "
      ]
    },
    {
      "cell_type": "markdown",
      "metadata": {
        "id": "6gQPukXcvQNl"
      },
      "source": [
        "Task 1.2: Data Preparation\n",
        "\n",
        "Improve the quality of your data and prepare it by extracting new features interesting for\n",
        "describing the user and his/her behavior derived from the information collected from the\n",
        "tweets.\n",
        "Examples of indicators to be computed are:\n",
        "1. How many tweets were published by the user?\n",
        "2. How many tweets are published by the user in a given period of time?\n",
        "3. Total number of tweets\n",
        "4. Total number of likes and comments\n",
        "5. Ratio between the number of tweets and the number of likes\n",
        "6. Entropy of the user\n",
        "7. Average length of the tweets per user\n",
        "8. Average number of special characters in the tweets per user\n",
        "\n"
      ]
    },
    {
      "cell_type": "markdown",
      "metadata": {
        "id": "WME54aQfZ7JU"
      },
      "source": [
        "# Importing the libraries and loading the dataset"
      ]
    },
    {
      "cell_type": "code",
      "execution_count": null,
      "metadata": {
        "id": "dVTe-zFXLMMj"
      },
      "outputs": [],
      "source": [
        "# Import libraries\n",
        "import pandas as pd\n",
        "from pandas import DataFrame\n",
        "import numpy as np\n",
        "import matplotlib.pyplot as plt\n",
        "import seaborn as sns\n",
        "import matplotlib as mpl\n",
        "import math\n",
        "import calendar\n",
        "import os\n",
        "from os import path\n",
        "from sys import getsizeof"
      ]
    },
    {
      "cell_type": "code",
      "source": [
        "# download data from google drive\n",
        "\n",
        "if not path.exists('users.csv'):\n",
        "  users_fileid = \"16b7Gbe69-SaVzGc1x3s3s7b8lzHgd5BR\"\n",
        "  tweets_fileid = \"1qYoicySRBbLi9Y8ZytMEi9ee2dIhxxUe\"\n",
        "\n",
        "  !gdown $users_fileid\n",
        "  !gdown $tweets_fileid"
      ],
      "metadata": {
        "id": "fcSBpXDKaLZ8",
        "colab": {
          "base_uri": "https://localhost:8080/"
        },
        "outputId": "87f4ea29-2fac-43db-e884-77994c745e5e"
      },
      "execution_count": null,
      "outputs": [
        {
          "output_type": "stream",
          "name": "stdout",
          "text": [
            "Downloading...\n",
            "From: https://drive.google.com/uc?id=16b7Gbe69-SaVzGc1x3s3s7b8lzHgd5BR\n",
            "To: /content/users.csv\n",
            "100% 641k/641k [00:00<00:00, 84.4MB/s]\n",
            "Downloading...\n",
            "From: https://drive.google.com/uc?id=1qYoicySRBbLi9Y8ZytMEi9ee2dIhxxUe\n",
            "To: /content/tweets.csv\n",
            "100% 1.86G/1.86G [00:16<00:00, 113MB/s]\n"
          ]
        }
      ]
    },
    {
      "cell_type": "code",
      "source": [
        "tweet_path = \"tweets.csv\"\n",
        "user_path = \"users.csv\"\n",
        "\n",
        "# max_rows is used to load a portion of the dataset\n",
        "\n",
        "max_rows = 0\n",
        " \n",
        "users_df = pd.read_csv(user_path) \n",
        "\n",
        "if max_rows != 0:\n",
        "  tweets_df = pd.read_csv(tweet_path, nrows=max_rows)\n",
        "else:\n",
        "  tweets_df = pd.read_csv(tweet_path)"
      ],
      "metadata": {
        "id": "X327tTh2trRj"
      },
      "execution_count": null,
      "outputs": []
    },
    {
      "cell_type": "markdown",
      "metadata": {
        "id": "G9tAR39Hg9g5"
      },
      "source": [
        "# **Data Preparation**\n",
        "---\n",
        "In this section we deal with missing values and anomalies in the dataset so that we can later extract indicators"
      ]
    },
    {
      "cell_type": "code",
      "execution_count": null,
      "metadata": {
        "id": "7Rj2THO2W_4D"
      },
      "outputs": [],
      "source": [
        "def print_full(x):\n",
        "    pd.set_option('display.max_rows', None)\n",
        "    pd.set_option('display.max_columns', None)\n",
        "    pd.set_option('display.width', 2000)\n",
        "    pd.set_option('display.float_format', '{:20,.2f}'.format)\n",
        "    pd.set_option('display.max_colwidth', None)\n",
        "    print(x)\n",
        "    pd.reset_option('display.max_rows')\n",
        "    pd.reset_option('display.max_columns')\n",
        "    pd.reset_option('display.width')\n",
        "    pd.reset_option('display.float_format')\n",
        "    pd.reset_option('display.max_colwidth')"
      ]
    },
    {
      "cell_type": "markdown",
      "metadata": {
        "id": "wrx0IF1KSl1S"
      },
      "source": [
        "#### Assigning correct type to attribute"
      ]
    },
    {
      "cell_type": "code",
      "execution_count": null,
      "metadata": {
        "id": "bGNGeJwcMLVH"
      },
      "outputs": [],
      "source": [
        "# convert tweets_df columns from object to numeric. \n",
        "# If a value can't be converted to integer a NaN is inserted\n",
        "\n",
        "columns = [\"id\", \"user_id\", \"retweet_count\", \"reply_count\",\n",
        "           \"favorite_count\", \"num_hashtags\",  \"num_urls\", \"num_mentions\"]\n",
        "\n",
        "for col in columns:\n",
        "    tweets_df[col]=pd.to_numeric(tweets_df[col], errors='coerce', downcast='integer')\n",
        "\n",
        "tweets_df[\"created_at\"]=pd.to_datetime(tweets_df[\"created_at\"], errors='coerce', yearfirst=True)\n",
        "\n",
        "# assign datetime in user_df\n",
        "\n",
        "users_df[\"created_at\"]=pd.to_datetime(users_df[\"created_at\"], errors='coerce', yearfirst=True)"
      ]
    },
    {
      "cell_type": "code",
      "execution_count": null,
      "metadata": {
        "id": "Pec5rSmyWF5P"
      },
      "outputs": [],
      "source": [
        "tweets_df.replace([np.inf, -np.inf], np.nan, inplace=True)"
      ]
    },
    {
      "cell_type": "code",
      "execution_count": null,
      "metadata": {
        "id": "nBZifje_EyGn"
      },
      "outputs": [],
      "source": [
        "# convert name of users_df to string\n",
        "users_df['name'] = users_df['name'].astype('string')\n",
        "\n",
        "# convert text of tweets_df to string\n",
        "tweets_df['text'] = tweets_df['text'].astype('string')"
      ]
    },
    {
      "cell_type": "code",
      "execution_count": null,
      "metadata": {
        "colab": {
          "base_uri": "https://localhost:8080/"
        },
        "id": "IBQr9WMAg0Vt",
        "outputId": "4c34d42e-30fc-41c0-d1b9-1d888af6ea97"
      },
      "outputs": [
        {
          "output_type": "stream",
          "name": "stdout",
          "text": [
            "Long tweets before the update:  14535\n",
            "Long tweets after the update:   243\n"
          ]
        }
      ],
      "source": [
        "long__mask_2o17 = (tweets_df['text'].str.len() > 140 ) & (tweets_df['created_at'] < pd.to_datetime('2017-11-08'))\n",
        "long__mask_others = (tweets_df['text'].str.len() > 280) & (tweets_df['created_at'] > pd.to_datetime('2017-11-08'))\n",
        "\n",
        "print(\"Long tweets before the update: \", len(tweets_df[long__mask_2o17]))\n",
        "print(\"Long tweets after the update:  \", len(tweets_df[long__mask_others]))"
      ]
    },
    {
      "cell_type": "markdown",
      "metadata": {
        "id": "PJ0NW5Byf9pL"
      },
      "source": [
        "There are several tweets that are exceeding the ceiling of maximum characters permitted."
      ]
    },
    {
      "cell_type": "code",
      "execution_count": null,
      "metadata": {
        "id": "bc2YqtKsZ0u9",
        "colab": {
          "base_uri": "https://localhost:8080/"
        },
        "outputId": "4b4db5d2-3ad1-45bb-a12c-28ff67e8357d"
      },
      "outputs": [
        {
          "output_type": "stream",
          "name": "stdout",
          "text": [
            "All the tweets that exceed the possible length of tweets 14778\n",
            "There is a user with more than usual number of long tweets, it is the user with ID: 252139342\n"
          ]
        }
      ],
      "source": [
        "longer_than_possible_df = pd.concat([tweets_df[long__mask_2o17], tweets_df[long__mask_others]])\n",
        "print(\"All the tweets that exceed the possible length of tweets\", len(longer_than_possible_df))\n",
        "longer_grouped = longer_than_possible_df.groupby('user_id')\n",
        "#idx is the user_id with most tweets encoded wrongly\n",
        "idx, max = longer_grouped.size().agg(['idxmax','max'])\n",
        "print(\"There is a user with more than usual number of long tweets, it is the user with ID:\", int(idx))\n",
        "\n",
        "del long__mask_2o17, long__mask_others, longer_than_possible_df"
      ]
    },
    {
      "cell_type": "code",
      "execution_count": null,
      "metadata": {
        "id": "1v08QkRpnoRA",
        "colab": {
          "base_uri": "https://localhost:8080/"
        },
        "outputId": "80bad828-a5e3-47da-8244-44fe2b7fe13c"
      },
      "outputs": [
        {
          "output_type": "stream",
          "name": "stdout",
          "text": [
            "340                                                                                                                                      à¹à¸à¸·à¹à¸­à¹à¸«à¸­à¸°.. à¸à¸µà¹à¸¡à¸´à¹à¸(à¹à¸¡à¹à¸à¸µà¹à¸à¹)à¸à¹à¸²à¸à¸¥à¸±à¸§à¸à¸µà¹à¸ªà¸¸à¸ OTL (à¸à¸²à¸£à¸§à¸°à¸à¸µà¹à¸ªà¸²à¸§)\n",
            "8916                                                                                                                                                                       à¸à¸´à¸à¸à¸µà¹à¸à¸­à¸à¸à¸§à¸à¹à¸£à¸²à¹à¸ªà¸µà¸¢à¸à¸±à¸§à¹à¸¥à¹à¸§à¸à¸£à¸±à¸.. (à¸à¸²à¸à¹à¸«à¸à¸·à¹à¸­)\n",
            "9366                                                                                        @lenes_frano (à¸à¸¡à¸«à¸²à¸¢à¹à¸à¸ªà¸±à¸à¸à¸±à¸à¸à¹à¸­à¸à¸à¸¸à¹à¸à¸à¸¶à¹à¸à¸¡à¸²à¸à¸§à¹à¸²à¸à¸­à¹à¸¥à¸à¸à¹à¹à¸¥à¹à¸§à¸à¸¶à¸à¸¥à¸à¹à¸à¸à¸¡à¸­à¸¢à¸¹à¹à¸à¹à¸§à¸¢à¸à¸±à¸)\n",
            "14399                                                                                                                                                                                           @Grosmont à¹à¸à¸£à¸à¸£à¹à¸­à¸à¸à¹à¸²à¸à¸«à¸²à¸à¸¥à¸°à¸à¸£à¸±à¸ -w- (à¹à¸à¹à¸à¹à¸§à¸¢)\n",
            "16767                                                                                                               @lenes_atsusa à¹à¸à¹à¸­à¹à¸à¹à¸­à¹à¸«à¸à¹à¹à¸¥à¹à¸§à¹à¸¥à¸à¸à¹ à¹à¸à¸à¸­à¸à¸à¸±à¸à¸à¸µà¸à¸§à¹à¸²à¸à¸° à¹à¸à¸µà¹à¸¢à¸§à¸à¸¡à¸à¸²à¹à¸à¸ªà¹à¸ = =\"\n",
            "18270                                                                                                                                                                                                                                                                                            <NA>\n",
            "18541                                                                                                                                                                                                                            @lenes_atsusa (à¸à¸­à¸) à¸«à¸¢à¸¸à¸à¹à¸¡à¹à¹à¸à¹à¸®à¸° T___T\n",
            "19393    @jingkabellz @SaitoShane @EH_Leroi à¸à¹à¸²à¸¢.. à¹à¸à¸«à¸à¹à¸¡à¹à¸à¸µà¸à¸°à¸®à¸° (à¸«à¸±à¸§à¹à¸£à¸²à¸°) à¹à¸à¸£à¸²à¸°à¸­à¸¢à¹à¸²à¸à¸à¸­à¸à¹à¸¥à¸à¸à¹à¸²à¸à¸°à¹à¸à¹à¸à¸à¸±à¹à¸à¸¡à¸²à¸à¸à¸§à¹à¸²à¸£à¸­à¸à¹à¸§à¹à¸¥à¸­à¸£à¹.. à¹à¸à¹à¹à¸«à¸¡à¸à¸°? O_O\n",
            "23733                                                                                                                                                  @Eh_Tomson à¸à¸·à¹à¸­ (à¸¥à¸à¸à¸±à¹à¸à¸à¹à¸§à¸¢ à¹à¸à¸¢à¸´à¸à¹à¸à¹à¸²à¹à¸à¸¥à¹à¹à¸à¸µà¸¢à¸à¹) à¸à¸­à¹à¸à¸©à¸®à¸° TT_TT\n",
            "27314                                                                                                                       @miosux à¹à¸­à¹à¸à¸£à¸µà¸¢à¸ - à¸à¸´à¸à¸à¸¶à¸à¸à¸¡à¸à¸³à¹à¸¡à¸à¸£à¸±à¸? à¹à¸£à¸²à¹à¸¡à¹à¹à¸à¹à¹à¸à¹à¸à¸­à¸°à¹à¸£à¸à¸±à¸ (à¸«à¸±à¸§à¹à¸£à¸²à¸°)\n",
            "Name: text, dtype: string\n"
          ]
        }
      ],
      "source": [
        "print_full(tweets_df.loc[tweets_df.user_id == int(idx)]['text'].iloc[:10])"
      ]
    },
    {
      "cell_type": "markdown",
      "metadata": {
        "id": "XQ4K_VC0uVfA"
      },
      "source": [
        "As we can see the majority of tweets seems to doesn't have any meaning, but it could be a problem of encoding. So we try to encode in *ISO-8859-1* and back in *UTF-8* to be able to read them."
      ]
    },
    {
      "cell_type": "code",
      "execution_count": null,
      "metadata": {
        "id": "EQCPF5T8fZ3R",
        "colab": {
          "base_uri": "https://localhost:8080/"
        },
        "outputId": "ffda89c6-28d4-4f86-bfe2-c9d9e7e5dd71"
      },
      "outputs": [
        {
          "output_type": "stream",
          "name": "stdout",
          "text": [
            "เชื่อเหอะ.. พี่มิ้น(แม่ชีเน่)น่ากลัวที่สุด OTL (คารวะพี่สาว) and it is long: 60\n",
            "ซินนี่ของพวกเราเสียตัวแล้วครับ.. (ปาดเหงื่อ) and it is long: 44\n",
            "@lenes_frano (จมหายไปสักพักก่อนพุ่งขึ้นมาคว้าคอเลนซ์แล้วดึงลงไปจมอยู่ด้วยกัน) and it is long: 77\n",
            "@Grosmont โครตร้อนต่างหากละครับ -w- (แผ่ด้วย) and it is long: 45\n",
            "@lenes_atsusa เพ้อเจ้อใหญ๋แล้วเลนซ์ ไปนอนกันดีกว่านะ เดี๋ยวผมพาไปส่ง = =\" and it is long: 73\n",
            "@lenes_atsusa (กอด) หยุดไม่ได้ฮะ T___T and it is long: 38\n",
            "@jingkabellz @SaitoShane @EH_Leroi ช่าย.. โกหกไม่ดีนะฮะ (หัวเราะ) เพราะอย่างพอชเลนน่าจะเป็นปั๊กมากกว่ารอดไวเลอร์.. ใช่ไหมนะ? O_O and it is long: 128\n",
            "@Eh_Tomson งื้อ (ลงนั่งด้วย เขยิบเข้าใกล้เนียนๆ) ขอโทษฮะ TT_TT and it is long: 62\n",
            "@miosux เอเดรียน - คิดถึงผมทำไมครับ? เราไม่ได้เป็นอะไรกัน (หัวเราะ) and it is long: 67\n"
          ]
        }
      ],
      "source": [
        "for text in tweets_df.loc[tweets_df.user_id == int(idx)]['text'].iloc[:10]:\n",
        "  if not pd.isnull(text):\n",
        "    converted_str = text.encode('ISO-8859-1').decode('utf-8')\n",
        "    print(converted_str + \" and it is long: \" + str(len(converted_str)))"
      ]
    },
    {
      "cell_type": "markdown",
      "metadata": {
        "id": "VhWXMQdI8Hjg"
      },
      "source": [
        "As we have stated the tweets doesn't exceed the ceiling of lenght, but they were encoded in the wrong type. But as we have seen there are not only tweets from this user that are wrongly encoded, but are also from other users around the world. That's why we decided to convert all the tweets in the proper format so then we can see how many tweets are effectively exceeding the limit."
      ]
    },
    {
      "cell_type": "code",
      "execution_count": null,
      "metadata": {
        "id": "6GnY4AH8oF_1"
      },
      "outputs": [],
      "source": [
        "tweets_df['text'] = tweets_df['text'].apply(lambda x: x.encode('ISO-8859-1', errors='replace').decode('utf-8', errors='replace') if not pd.isnull(x) else x)"
      ]
    },
    {
      "cell_type": "markdown",
      "metadata": {
        "id": "Gxq38FiH78DK"
      },
      "source": [
        "Converting back to the proper format"
      ]
    },
    {
      "cell_type": "code",
      "execution_count": null,
      "metadata": {
        "id": "wTX0BPhAoF_1"
      },
      "outputs": [],
      "source": [
        "tweets_df['text'] = tweets_df['text'].astype('string')"
      ]
    },
    {
      "cell_type": "code",
      "execution_count": null,
      "metadata": {
        "id": "5JTON4L641Qx",
        "colab": {
          "base_uri": "https://localhost:8080/"
        },
        "outputId": "0c385615-22bd-441d-84fb-522ff5feef33"
      },
      "outputs": [
        {
          "output_type": "stream",
          "name": "stdout",
          "text": [
            "Long tweets before the update:  1585\n",
            "Long tweets after the update:   0\n"
          ]
        }
      ],
      "source": [
        "final_mask1 = (tweets_df['text'].str.len() > 140 ) & (tweets_df['created_at'] < pd.to_datetime('2017-11-08'))\n",
        "final_mask2 = (tweets_df['text'].str.len() > 280) & (tweets_df['created_at'] > pd.to_datetime('2017-11-08'))\n",
        "\n",
        "print(\"Long tweets before the update: \", len(tweets_df[final_mask1]))\n",
        "print(\"Long tweets after the update:  \", len(tweets_df[final_mask2]))\n",
        "\n",
        "del final_mask1, final_mask2"
      ]
    },
    {
      "cell_type": "markdown",
      "metadata": {
        "id": "fweiVhMNxTcs"
      },
      "source": [
        "We will not touch the remaining tweets because they can have a wrong 'created_at' value"
      ]
    },
    {
      "cell_type": "markdown",
      "metadata": {
        "id": "Dc525GCLC7ut"
      },
      "source": [
        "### **Removing user_id in tweets dataframe that are not present in users dataframe**\n",
        "\n",
        "In order to do this we merge the dataframes to assign to each user his tweets, then we drop users df columns"
      ]
    },
    {
      "cell_type": "code",
      "execution_count": null,
      "metadata": {
        "id": "-Lf3uabAuKBb",
        "colab": {
          "base_uri": "https://localhost:8080/"
        },
        "outputId": "1fe7c14d-3261-43f1-e7e6-71410442b2ab"
      },
      "outputs": [
        {
          "output_type": "stream",
          "name": "stdout",
          "text": [
            "<class 'pandas.core.frame.DataFrame'>\n",
            "Int64Index: 13230801 entries, 0 to 13664695\n",
            "Data columns (total 10 columns):\n",
            " #   Column          Dtype         \n",
            "---  ------          -----         \n",
            " 0   id              float64       \n",
            " 1   user_id         int64         \n",
            " 2   retweet_count   float64       \n",
            " 3   reply_count     float64       \n",
            " 4   favorite_count  float64       \n",
            " 5   num_hashtags    float64       \n",
            " 6   num_urls        float64       \n",
            " 7   num_mentions    float64       \n",
            " 8   created_at      datetime64[ns]\n",
            " 9   text            string        \n",
            "dtypes: datetime64[ns](1), float64(7), int64(1), string(1)\n",
            "memory usage: 1.1 GB\n"
          ]
        }
      ],
      "source": [
        "# remove rows on tweets dataframe that have user_id none\n",
        "tweets_df.dropna(subset=['user_id'], inplace=True)\n",
        "\n",
        "# in order to merge we convert user_id in int\n",
        "tweets_df['user_id'] = tweets_df['user_id'].astype('int')\n",
        "\n",
        "tweets_df.info()"
      ]
    },
    {
      "cell_type": "code",
      "execution_count": null,
      "metadata": {
        "id": "_cdMAg70q4IN",
        "colab": {
          "base_uri": "https://localhost:8080/"
        },
        "outputId": "9864b9fb-85ec-4ae6-d3ed-40cd930e3ff6"
      },
      "outputs": [
        {
          "output_type": "stream",
          "name": "stdout",
          "text": [
            "Number of tweets before the merge: 13230801\n",
            "Number of tweets after the merge: 13229862\n"
          ]
        }
      ],
      "source": [
        "# merge the two dataframe, checking length of df after and before merging\n",
        "\n",
        "users_df.rename(columns = {'id':'user_id'}, inplace = True)\n",
        "users_df.rename(columns = {'created_at':'subscription_date'}, inplace = True)\n",
        "\n",
        "\n",
        "print(\"Number of tweets before the merge:\", len(tweets_df))\n",
        "tweets_df = tweets_df.merge(users_df,on='user_id', how='inner')\n",
        "print(\"Number of tweets after the merge:\", len(tweets_df))\n",
        "\n",
        "tweets_df.drop(columns=['name', 'lang', 'bot', 'subscription_date', 'statuses_count'], axis=1, inplace=True)"
      ]
    },
    {
      "cell_type": "markdown",
      "metadata": {
        "id": "AbKxxU1lShmk"
      },
      "source": [
        "### **Removing duplicates and empty text**"
      ]
    },
    {
      "cell_type": "code",
      "execution_count": null,
      "metadata": {
        "id": "SArmSSmCKiy3",
        "colab": {
          "base_uri": "https://localhost:8080/"
        },
        "outputId": "9bd088a2-14b2-4841-9da9-29f423315ffd"
      },
      "outputs": [
        {
          "output_type": "stream",
          "name": "stdout",
          "text": [
            "Len of tweets_df before cleaning: 13229862\n",
            "duplicates removed from tweets_df file: \t1952100\n",
            "Len of tweets_df after cleaning: 11277762\n",
            "We have 14.7553% of duplicates in tweets_df file\n",
            "\n",
            "Len of users_df before cleaning: 11508\n",
            "duplicates removed from users_df file: \t0\n",
            "Len of users_df after cleaning: 11508\n",
            "We have 0.0% of duplicates in users_df file\n",
            "\n"
          ]
        }
      ],
      "source": [
        "def find_and_remove_duplicates(df: DataFrame, dataframe_name):\n",
        "    original_lenght = len(df)\n",
        "    print(f\"Len of {dataframe_name} before cleaning: {original_lenght}\")\n",
        "\n",
        "    df.drop_duplicates(inplace=True)\n",
        "    new_lenght = len(df)\n",
        "\n",
        "    count = original_lenght - new_lenght\n",
        "    print(f\"duplicates removed from {dataframe_name} file: \\t{count}\")\n",
        "    print(f\"Len of {dataframe_name} after cleaning: {new_lenght}\")\n",
        "    print(f\"We have {round((count/original_lenght)*100,4)}% of duplicates in {dataframe_name} file\\n\")\n",
        "\n",
        "find_and_remove_duplicates(tweets_df, \"tweets_df\")\n",
        "find_and_remove_duplicates(users_df, \"users_df\")"
      ]
    },
    {
      "cell_type": "code",
      "execution_count": null,
      "metadata": {
        "id": "tp4xEnzmTB9x"
      },
      "outputs": [],
      "source": [
        "# we decided to removes the rows that corresponds to empty text on tweets dataframe\n",
        "tweets_df.dropna(subset=['text'], inplace=True)"
      ]
    },
    {
      "cell_type": "markdown",
      "metadata": {
        "id": "WjIFHoItY67k"
      },
      "source": [
        "### **Check if there are duplicated ids on tweets df and handle it**"
      ]
    },
    {
      "cell_type": "code",
      "execution_count": null,
      "metadata": {
        "id": "yQXKSVIhWVIf",
        "colab": {
          "base_uri": "https://localhost:8080/"
        },
        "outputId": "eccdd59e-e907-4fbc-cc6e-6f7249b34f94"
      },
      "outputs": [
        {
          "output_type": "execute_result",
          "data": {
            "text/plain": [
              "69327       574164294280945664\n",
              "258997      579432000072773632\n",
              "315197              7674792957\n",
              "377921      587657400674607104\n",
              "503439      570813308145545216\n",
              "                   ...        \n",
              "13182743    459928211590086656\n",
              "13190430    460878703635857408\n",
              "13201526    476358378000633856\n",
              "13202201    461622394138804160\n",
              "13210064    460373867236556800\n",
              "Name: id, Length: 506, dtype: int64"
            ]
          },
          "metadata": {},
          "execution_count": 19
        }
      ],
      "source": [
        "# print non unique row in the tweets dataframe\n",
        "tweets_df[tweets_df['id'].duplicated() & tweets_df['id'].notnull()][\"id\"].astype(int)"
      ]
    },
    {
      "cell_type": "code",
      "execution_count": null,
      "metadata": {
        "id": "6Yp0KemoW1qD",
        "colab": {
          "base_uri": "https://localhost:8080/",
          "height": 191
        },
        "outputId": "78d1f62d-84b5-4960-bb3f-4a81fc626c68"
      },
      "outputs": [
        {
          "output_type": "execute_result",
          "data": {
            "text/plain": [
              "                    id     user_id  retweet_count  reply_count  \\\n",
              "8668469   4.817568e+17  2233856637            0.0          0.0   \n",
              "12265058  4.817568e+17   614258591            2.0          0.0   \n",
              "\n",
              "          favorite_count  num_hashtags  num_urls  num_mentions  \\\n",
              "8668469              0.0           0.0       0.0           1.0   \n",
              "12265058             5.0           0.0       0.0           0.0   \n",
              "\n",
              "                  created_at  \\\n",
              "8668469  2019-06-27 11:12:32   \n",
              "12265058 2019-06-27 11:12:32   \n",
              "\n",
              "                                                       text  \n",
              "8668469   @Dabizdiverxo yo prefiere bebermelo... Supongo...  \n",
              "12265058  Chi va piano va sano e va lontano. Ma probabil...  "
            ],
            "text/html": [
              "\n",
              "  <div id=\"df-d6c5d816-7c0a-4a04-a6f6-472b7cb6d378\">\n",
              "    <div class=\"colab-df-container\">\n",
              "      <div>\n",
              "<style scoped>\n",
              "    .dataframe tbody tr th:only-of-type {\n",
              "        vertical-align: middle;\n",
              "    }\n",
              "\n",
              "    .dataframe tbody tr th {\n",
              "        vertical-align: top;\n",
              "    }\n",
              "\n",
              "    .dataframe thead th {\n",
              "        text-align: right;\n",
              "    }\n",
              "</style>\n",
              "<table border=\"1\" class=\"dataframe\">\n",
              "  <thead>\n",
              "    <tr style=\"text-align: right;\">\n",
              "      <th></th>\n",
              "      <th>id</th>\n",
              "      <th>user_id</th>\n",
              "      <th>retweet_count</th>\n",
              "      <th>reply_count</th>\n",
              "      <th>favorite_count</th>\n",
              "      <th>num_hashtags</th>\n",
              "      <th>num_urls</th>\n",
              "      <th>num_mentions</th>\n",
              "      <th>created_at</th>\n",
              "      <th>text</th>\n",
              "    </tr>\n",
              "  </thead>\n",
              "  <tbody>\n",
              "    <tr>\n",
              "      <th>8668469</th>\n",
              "      <td>4.817568e+17</td>\n",
              "      <td>2233856637</td>\n",
              "      <td>0.0</td>\n",
              "      <td>0.0</td>\n",
              "      <td>0.0</td>\n",
              "      <td>0.0</td>\n",
              "      <td>0.0</td>\n",
              "      <td>1.0</td>\n",
              "      <td>2019-06-27 11:12:32</td>\n",
              "      <td>@Dabizdiverxo yo prefiere bebermelo... Supongo...</td>\n",
              "    </tr>\n",
              "    <tr>\n",
              "      <th>12265058</th>\n",
              "      <td>4.817568e+17</td>\n",
              "      <td>614258591</td>\n",
              "      <td>2.0</td>\n",
              "      <td>0.0</td>\n",
              "      <td>5.0</td>\n",
              "      <td>0.0</td>\n",
              "      <td>0.0</td>\n",
              "      <td>0.0</td>\n",
              "      <td>2019-06-27 11:12:32</td>\n",
              "      <td>Chi va piano va sano e va lontano. Ma probabil...</td>\n",
              "    </tr>\n",
              "  </tbody>\n",
              "</table>\n",
              "</div>\n",
              "      <button class=\"colab-df-convert\" onclick=\"convertToInteractive('df-d6c5d816-7c0a-4a04-a6f6-472b7cb6d378')\"\n",
              "              title=\"Convert this dataframe to an interactive table.\"\n",
              "              style=\"display:none;\">\n",
              "        \n",
              "  <svg xmlns=\"http://www.w3.org/2000/svg\" height=\"24px\"viewBox=\"0 0 24 24\"\n",
              "       width=\"24px\">\n",
              "    <path d=\"M0 0h24v24H0V0z\" fill=\"none\"/>\n",
              "    <path d=\"M18.56 5.44l.94 2.06.94-2.06 2.06-.94-2.06-.94-.94-2.06-.94 2.06-2.06.94zm-11 1L8.5 8.5l.94-2.06 2.06-.94-2.06-.94L8.5 2.5l-.94 2.06-2.06.94zm10 10l.94 2.06.94-2.06 2.06-.94-2.06-.94-.94-2.06-.94 2.06-2.06.94z\"/><path d=\"M17.41 7.96l-1.37-1.37c-.4-.4-.92-.59-1.43-.59-.52 0-1.04.2-1.43.59L10.3 9.45l-7.72 7.72c-.78.78-.78 2.05 0 2.83L4 21.41c.39.39.9.59 1.41.59.51 0 1.02-.2 1.41-.59l7.78-7.78 2.81-2.81c.8-.78.8-2.07 0-2.86zM5.41 20L4 18.59l7.72-7.72 1.47 1.35L5.41 20z\"/>\n",
              "  </svg>\n",
              "      </button>\n",
              "      \n",
              "  <style>\n",
              "    .colab-df-container {\n",
              "      display:flex;\n",
              "      flex-wrap:wrap;\n",
              "      gap: 12px;\n",
              "    }\n",
              "\n",
              "    .colab-df-convert {\n",
              "      background-color: #E8F0FE;\n",
              "      border: none;\n",
              "      border-radius: 50%;\n",
              "      cursor: pointer;\n",
              "      display: none;\n",
              "      fill: #1967D2;\n",
              "      height: 32px;\n",
              "      padding: 0 0 0 0;\n",
              "      width: 32px;\n",
              "    }\n",
              "\n",
              "    .colab-df-convert:hover {\n",
              "      background-color: #E2EBFA;\n",
              "      box-shadow: 0px 1px 2px rgba(60, 64, 67, 0.3), 0px 1px 3px 1px rgba(60, 64, 67, 0.15);\n",
              "      fill: #174EA6;\n",
              "    }\n",
              "\n",
              "    [theme=dark] .colab-df-convert {\n",
              "      background-color: #3B4455;\n",
              "      fill: #D2E3FC;\n",
              "    }\n",
              "\n",
              "    [theme=dark] .colab-df-convert:hover {\n",
              "      background-color: #434B5C;\n",
              "      box-shadow: 0px 1px 3px 1px rgba(0, 0, 0, 0.15);\n",
              "      filter: drop-shadow(0px 1px 2px rgba(0, 0, 0, 0.3));\n",
              "      fill: #FFFFFF;\n",
              "    }\n",
              "  </style>\n",
              "\n",
              "      <script>\n",
              "        const buttonEl =\n",
              "          document.querySelector('#df-d6c5d816-7c0a-4a04-a6f6-472b7cb6d378 button.colab-df-convert');\n",
              "        buttonEl.style.display =\n",
              "          google.colab.kernel.accessAllowed ? 'block' : 'none';\n",
              "\n",
              "        async function convertToInteractive(key) {\n",
              "          const element = document.querySelector('#df-d6c5d816-7c0a-4a04-a6f6-472b7cb6d378');\n",
              "          const dataTable =\n",
              "            await google.colab.kernel.invokeFunction('convertToInteractive',\n",
              "                                                     [key], {});\n",
              "          if (!dataTable) return;\n",
              "\n",
              "          const docLinkHtml = 'Like what you see? Visit the ' +\n",
              "            '<a target=\"_blank\" href=https://colab.research.google.com/notebooks/data_table.ipynb>data table notebook</a>'\n",
              "            + ' to learn more about interactive tables.';\n",
              "          element.innerHTML = '';\n",
              "          dataTable['output_type'] = 'display_data';\n",
              "          await google.colab.output.renderOutput(dataTable, element);\n",
              "          const docLink = document.createElement('div');\n",
              "          docLink.innerHTML = docLinkHtml;\n",
              "          element.appendChild(docLink);\n",
              "        }\n",
              "      </script>\n",
              "    </div>\n",
              "  </div>\n",
              "  "
            ]
          },
          "metadata": {},
          "execution_count": 20
        }
      ],
      "source": [
        "# take one of the ids and show its tweets\n",
        "tweets_df.loc[tweets_df[\"id\"]==481756826439286784]"
      ]
    },
    {
      "cell_type": "markdown",
      "metadata": {
        "id": "214i2576A99m"
      },
      "source": [
        "As we can see there are two tweets with the same tweet id but different user id, text and counters"
      ]
    },
    {
      "cell_type": "code",
      "execution_count": null,
      "metadata": {
        "id": "kYhLIl2nZKpj"
      },
      "outputs": [],
      "source": [
        " # we decided to replace a duplicated id with a NaN, later on these NaN values will be filled with an unique generated id\n",
        "tweets_df.loc[(tweets_df['id'].duplicated() & tweets_df['id'].notnull()), \"id\"] = np.nan "
      ]
    },
    {
      "cell_type": "markdown",
      "metadata": {
        "id": "OFsXisdsqdCA"
      },
      "source": [
        "Check duplicated ids on users dataframe"
      ]
    },
    {
      "cell_type": "code",
      "execution_count": null,
      "metadata": {
        "id": "C-iTvduxwjWH",
        "colab": {
          "base_uri": "https://localhost:8080/"
        },
        "outputId": "e2464b10-ce72-4d14-ed85-51a79e24b19e"
      },
      "outputs": [
        {
          "output_type": "execute_result",
          "data": {
            "text/plain": [
              "Series([], Name: user_id, dtype: int64)"
            ]
          },
          "metadata": {},
          "execution_count": 22
        }
      ],
      "source": [
        "# print non unique row in the users dataframe\n",
        "users_df[users_df['user_id'].duplicated() & users_df['user_id'].notnull()][\"user_id\"].astype(int)\n",
        "\n",
        "# no duplicated in users dataframe"
      ]
    },
    {
      "cell_type": "markdown",
      "metadata": {
        "id": "mZ66OGtXDoJ7"
      },
      "source": [
        "### **Handling of anomalies**\n",
        "\n",
        "In this section we handle anomalies identified in the understanding phase"
      ]
    },
    {
      "cell_type": "markdown",
      "metadata": {
        "id": "lH-sZ5TRYtla"
      },
      "source": [
        "#### Cleaning of counter type fields"
      ]
    },
    {
      "cell_type": "markdown",
      "metadata": {
        "id": "V5XHP7_CZPA1"
      },
      "source": [
        "As we can see using the describe method and from the graphs made in the understanding notebook in the counter type fields there are very high values that clearly are anomalies"
      ]
    },
    {
      "cell_type": "code",
      "execution_count": null,
      "metadata": {
        "id": "CZXrIaFgZtgz"
      },
      "outputs": [],
      "source": [
        "# substitute negative values\n",
        "columns = [\"retweet_count\", \"reply_count\", \"favorite_count\", \"num_hashtags\",  \"num_urls\", \"num_mentions\"] \n",
        "\n",
        "for col in columns:\n",
        "  tweets_df[col].mask(tweets_df[col].lt(0),0, inplace=True)"
      ]
    },
    {
      "cell_type": "code",
      "execution_count": null,
      "metadata": {
        "id": "KTNQmgi2d7Ii",
        "colab": {
          "base_uri": "https://localhost:8080/"
        },
        "outputId": "2e2d4799-531d-450d-8ef6-e5abc6cdd11c"
      },
      "outputs": [
        {
          "output_type": "stream",
          "name": "stdout",
          "text": [
            "0.750000    1.000000e+00\n",
            "0.900000    2.600000e+01\n",
            "0.950000    4.580000e+02\n",
            "0.970000    1.517000e+03\n",
            "0.990000    7.485000e+03\n",
            "0.995000    1.761537e+04\n",
            "0.999000    1.164896e+05\n",
            "0.999900    3.932630e+05\n",
            "0.999990    3.350059e+06\n",
            "0.999999    1.891735e+10\n",
            "Name: retweet_count, dtype: float64\n",
            "\n",
            "0.750000    0.000000e+00\n",
            "0.900000    0.000000e+00\n",
            "0.950000    0.000000e+00\n",
            "0.970000    0.000000e+00\n",
            "0.990000    0.000000e+00\n",
            "0.995000    0.000000e+00\n",
            "0.999000    1.000000e+00\n",
            "0.999900    2.300000e+01\n",
            "0.999990    7.960802e+03\n",
            "0.999999    1.317907e+37\n",
            "Name: reply_count, dtype: float64\n",
            "\n",
            "0.750000    0.000000e+00\n",
            "0.900000    1.000000e+00\n",
            "0.950000    2.000000e+00\n",
            "0.970000    3.000000e+00\n",
            "0.990000    7.000000e+00\n",
            "0.995000    1.200000e+01\n",
            "0.999000    4.600000e+01\n",
            "0.999900    3.288000e+03\n",
            "0.999990    2.266100e+04\n",
            "0.999999    8.257937e+09\n",
            "Name: favorite_count, dtype: float64\n",
            "\n",
            "0.750000    0.000000e+00\n",
            "0.900000    1.000000e+00\n",
            "0.950000    1.000000e+00\n",
            "0.970000    2.000000e+00\n",
            "0.990000    3.000000e+00\n",
            "0.995000    4.000000e+00\n",
            "0.999000    7.000000e+00\n",
            "0.999900    1.100000e+01\n",
            "0.999990    2.613724e+03\n",
            "0.999999    5.132382e+11\n",
            "Name: num_hashtags, dtype: float64\n",
            "\n",
            "0.750000    0.000000e+00\n",
            "0.900000    1.000000e+00\n",
            "0.950000    1.000000e+00\n",
            "0.970000    1.000000e+00\n",
            "0.990000    1.000000e+00\n",
            "0.995000    1.000000e+00\n",
            "0.999000    2.000000e+00\n",
            "0.999900    3.000000e+00\n",
            "0.999990    3.543156e+03\n",
            "0.999999    4.896048e+10\n",
            "Name: num_urls, dtype: float64\n",
            "\n",
            "0.750000    1.000000e+00\n",
            "0.900000    1.000000e+00\n",
            "0.950000    2.000000e+00\n",
            "0.970000    2.000000e+00\n",
            "0.990000    3.000000e+00\n",
            "0.995000    4.000000e+00\n",
            "0.999000    7.000000e+00\n",
            "0.999900    1.100000e+01\n",
            "0.999990    5.787726e+03\n",
            "0.999999    9.990972e+09\n",
            "Name: num_mentions, dtype: float64\n",
            "\n"
          ]
        }
      ],
      "source": [
        "# iterate on columns and substitute outliers with NaN. \n",
        "# NaN will be substituted with mean per user.\n",
        "\n",
        "# Since there are very high values first of all we print the data at a specific quantile\n",
        "quantile_list = [0.75, 0.90, 0.95, 0.97, 0.99,0.995, 0.999, 0.9999, 0.99999, 0.999999]\n",
        "\n",
        "for col in columns:\n",
        "  print(tweets_df[col].quantile(quantile_list))\n",
        "  print()"
      ]
    },
    {
      "cell_type": "code",
      "execution_count": null,
      "metadata": {
        "id": "miz2L-1Qj8nw"
      },
      "outputs": [],
      "source": [
        "# then we choose a quantile and we substitute all the values greater than the \n",
        "# quantile with NaN\n",
        "\n",
        "# based on the boxplots image on understanding notebook \n",
        "# and the printed percentile above we choose:\n",
        "# retweet count   0.999900\n",
        "# reply count     0.999990\n",
        "# favorite count  0.999990\n",
        "# num_hashtags    0.999990\n",
        "# num_urls        0.999900\n",
        "# num_mentions    0.999900\n",
        "\n",
        "tmp = [\"retweet_count\", \"num_urls\", \"num_mentions\"]\n",
        "for elem in tmp:\n",
        "  tweets_df[elem].where(tweets_df[elem] <= tweets_df[elem].quantile(0.999900), np.nan, inplace=True)\n",
        "\n",
        "tmp = [\"reply_count\", \"favorite_count\", \"num_hashtags\"]\n",
        "\n",
        "for col in tmp:\n",
        "  tweets_df[col].where(tweets_df[col] <= tweets_df[col].quantile(0.999990), np.nan, inplace=True)"
      ]
    },
    {
      "cell_type": "code",
      "execution_count": null,
      "metadata": {
        "id": "KHubzS9MeSbI",
        "colab": {
          "base_uri": "https://localhost:8080/",
          "height": 300
        },
        "outputId": "cf0f5fce-1741-4fc4-bdfd-43c2c96f6f70"
      },
      "outputs": [
        {
          "output_type": "execute_result",
          "data": {
            "text/plain": [
              "                 id       user_id  retweet_count   reply_count  \\\n",
              "count  1.059931e+07  1.086071e+07   1.045008e+07  1.045086e+07   \n",
              "mean   4.755295e+17  8.303962e+08   4.934116e+02  5.846484e-02   \n",
              "std    1.615231e+17  8.522354e+08   6.735149e+03  1.405089e+01   \n",
              "min    3.460000e+02  6.780330e+05   0.000000e+00  0.000000e+00   \n",
              "25%    4.646363e+17  2.325471e+08   0.000000e+00  0.000000e+00   \n",
              "50%    5.250204e+17  4.680735e+08   0.000000e+00  0.000000e+00   \n",
              "75%    5.774528e+17  1.226238e+09   1.000000e+00  0.000000e+00   \n",
              "max    9.999974e+17  3.164942e+09   3.932630e+05  7.900000e+03   \n",
              "\n",
              "       favorite_count  num_hashtags      num_urls  num_mentions  \n",
              "count    1.032346e+07  1.032318e+07  1.045067e+07  1.045084e+07  \n",
              "mean     1.292587e+00  1.887734e-01  1.643135e-01  5.268640e-01  \n",
              "std      7.279808e+01  3.161300e+00  3.765967e-01  8.140293e-01  \n",
              "min      0.000000e+00  0.000000e+00  0.000000e+00  0.000000e+00  \n",
              "25%      0.000000e+00  0.000000e+00  0.000000e+00  0.000000e+00  \n",
              "50%      0.000000e+00  0.000000e+00  0.000000e+00  0.000000e+00  \n",
              "75%      0.000000e+00  0.000000e+00  0.000000e+00  1.000000e+00  \n",
              "max      2.266100e+04  2.481000e+03  3.000000e+00  1.100000e+01  "
            ],
            "text/html": [
              "\n",
              "  <div id=\"df-302f784b-240f-409d-ad3c-0b9a584f17ba\">\n",
              "    <div class=\"colab-df-container\">\n",
              "      <div>\n",
              "<style scoped>\n",
              "    .dataframe tbody tr th:only-of-type {\n",
              "        vertical-align: middle;\n",
              "    }\n",
              "\n",
              "    .dataframe tbody tr th {\n",
              "        vertical-align: top;\n",
              "    }\n",
              "\n",
              "    .dataframe thead th {\n",
              "        text-align: right;\n",
              "    }\n",
              "</style>\n",
              "<table border=\"1\" class=\"dataframe\">\n",
              "  <thead>\n",
              "    <tr style=\"text-align: right;\">\n",
              "      <th></th>\n",
              "      <th>id</th>\n",
              "      <th>user_id</th>\n",
              "      <th>retweet_count</th>\n",
              "      <th>reply_count</th>\n",
              "      <th>favorite_count</th>\n",
              "      <th>num_hashtags</th>\n",
              "      <th>num_urls</th>\n",
              "      <th>num_mentions</th>\n",
              "    </tr>\n",
              "  </thead>\n",
              "  <tbody>\n",
              "    <tr>\n",
              "      <th>count</th>\n",
              "      <td>1.059931e+07</td>\n",
              "      <td>1.086071e+07</td>\n",
              "      <td>1.045008e+07</td>\n",
              "      <td>1.045086e+07</td>\n",
              "      <td>1.032346e+07</td>\n",
              "      <td>1.032318e+07</td>\n",
              "      <td>1.045067e+07</td>\n",
              "      <td>1.045084e+07</td>\n",
              "    </tr>\n",
              "    <tr>\n",
              "      <th>mean</th>\n",
              "      <td>4.755295e+17</td>\n",
              "      <td>8.303962e+08</td>\n",
              "      <td>4.934116e+02</td>\n",
              "      <td>5.846484e-02</td>\n",
              "      <td>1.292587e+00</td>\n",
              "      <td>1.887734e-01</td>\n",
              "      <td>1.643135e-01</td>\n",
              "      <td>5.268640e-01</td>\n",
              "    </tr>\n",
              "    <tr>\n",
              "      <th>std</th>\n",
              "      <td>1.615231e+17</td>\n",
              "      <td>8.522354e+08</td>\n",
              "      <td>6.735149e+03</td>\n",
              "      <td>1.405089e+01</td>\n",
              "      <td>7.279808e+01</td>\n",
              "      <td>3.161300e+00</td>\n",
              "      <td>3.765967e-01</td>\n",
              "      <td>8.140293e-01</td>\n",
              "    </tr>\n",
              "    <tr>\n",
              "      <th>min</th>\n",
              "      <td>3.460000e+02</td>\n",
              "      <td>6.780330e+05</td>\n",
              "      <td>0.000000e+00</td>\n",
              "      <td>0.000000e+00</td>\n",
              "      <td>0.000000e+00</td>\n",
              "      <td>0.000000e+00</td>\n",
              "      <td>0.000000e+00</td>\n",
              "      <td>0.000000e+00</td>\n",
              "    </tr>\n",
              "    <tr>\n",
              "      <th>25%</th>\n",
              "      <td>4.646363e+17</td>\n",
              "      <td>2.325471e+08</td>\n",
              "      <td>0.000000e+00</td>\n",
              "      <td>0.000000e+00</td>\n",
              "      <td>0.000000e+00</td>\n",
              "      <td>0.000000e+00</td>\n",
              "      <td>0.000000e+00</td>\n",
              "      <td>0.000000e+00</td>\n",
              "    </tr>\n",
              "    <tr>\n",
              "      <th>50%</th>\n",
              "      <td>5.250204e+17</td>\n",
              "      <td>4.680735e+08</td>\n",
              "      <td>0.000000e+00</td>\n",
              "      <td>0.000000e+00</td>\n",
              "      <td>0.000000e+00</td>\n",
              "      <td>0.000000e+00</td>\n",
              "      <td>0.000000e+00</td>\n",
              "      <td>0.000000e+00</td>\n",
              "    </tr>\n",
              "    <tr>\n",
              "      <th>75%</th>\n",
              "      <td>5.774528e+17</td>\n",
              "      <td>1.226238e+09</td>\n",
              "      <td>1.000000e+00</td>\n",
              "      <td>0.000000e+00</td>\n",
              "      <td>0.000000e+00</td>\n",
              "      <td>0.000000e+00</td>\n",
              "      <td>0.000000e+00</td>\n",
              "      <td>1.000000e+00</td>\n",
              "    </tr>\n",
              "    <tr>\n",
              "      <th>max</th>\n",
              "      <td>9.999974e+17</td>\n",
              "      <td>3.164942e+09</td>\n",
              "      <td>3.932630e+05</td>\n",
              "      <td>7.900000e+03</td>\n",
              "      <td>2.266100e+04</td>\n",
              "      <td>2.481000e+03</td>\n",
              "      <td>3.000000e+00</td>\n",
              "      <td>1.100000e+01</td>\n",
              "    </tr>\n",
              "  </tbody>\n",
              "</table>\n",
              "</div>\n",
              "      <button class=\"colab-df-convert\" onclick=\"convertToInteractive('df-302f784b-240f-409d-ad3c-0b9a584f17ba')\"\n",
              "              title=\"Convert this dataframe to an interactive table.\"\n",
              "              style=\"display:none;\">\n",
              "        \n",
              "  <svg xmlns=\"http://www.w3.org/2000/svg\" height=\"24px\"viewBox=\"0 0 24 24\"\n",
              "       width=\"24px\">\n",
              "    <path d=\"M0 0h24v24H0V0z\" fill=\"none\"/>\n",
              "    <path d=\"M18.56 5.44l.94 2.06.94-2.06 2.06-.94-2.06-.94-.94-2.06-.94 2.06-2.06.94zm-11 1L8.5 8.5l.94-2.06 2.06-.94-2.06-.94L8.5 2.5l-.94 2.06-2.06.94zm10 10l.94 2.06.94-2.06 2.06-.94-2.06-.94-.94-2.06-.94 2.06-2.06.94z\"/><path d=\"M17.41 7.96l-1.37-1.37c-.4-.4-.92-.59-1.43-.59-.52 0-1.04.2-1.43.59L10.3 9.45l-7.72 7.72c-.78.78-.78 2.05 0 2.83L4 21.41c.39.39.9.59 1.41.59.51 0 1.02-.2 1.41-.59l7.78-7.78 2.81-2.81c.8-.78.8-2.07 0-2.86zM5.41 20L4 18.59l7.72-7.72 1.47 1.35L5.41 20z\"/>\n",
              "  </svg>\n",
              "      </button>\n",
              "      \n",
              "  <style>\n",
              "    .colab-df-container {\n",
              "      display:flex;\n",
              "      flex-wrap:wrap;\n",
              "      gap: 12px;\n",
              "    }\n",
              "\n",
              "    .colab-df-convert {\n",
              "      background-color: #E8F0FE;\n",
              "      border: none;\n",
              "      border-radius: 50%;\n",
              "      cursor: pointer;\n",
              "      display: none;\n",
              "      fill: #1967D2;\n",
              "      height: 32px;\n",
              "      padding: 0 0 0 0;\n",
              "      width: 32px;\n",
              "    }\n",
              "\n",
              "    .colab-df-convert:hover {\n",
              "      background-color: #E2EBFA;\n",
              "      box-shadow: 0px 1px 2px rgba(60, 64, 67, 0.3), 0px 1px 3px 1px rgba(60, 64, 67, 0.15);\n",
              "      fill: #174EA6;\n",
              "    }\n",
              "\n",
              "    [theme=dark] .colab-df-convert {\n",
              "      background-color: #3B4455;\n",
              "      fill: #D2E3FC;\n",
              "    }\n",
              "\n",
              "    [theme=dark] .colab-df-convert:hover {\n",
              "      background-color: #434B5C;\n",
              "      box-shadow: 0px 1px 3px 1px rgba(0, 0, 0, 0.15);\n",
              "      filter: drop-shadow(0px 1px 2px rgba(0, 0, 0, 0.3));\n",
              "      fill: #FFFFFF;\n",
              "    }\n",
              "  </style>\n",
              "\n",
              "      <script>\n",
              "        const buttonEl =\n",
              "          document.querySelector('#df-302f784b-240f-409d-ad3c-0b9a584f17ba button.colab-df-convert');\n",
              "        buttonEl.style.display =\n",
              "          google.colab.kernel.accessAllowed ? 'block' : 'none';\n",
              "\n",
              "        async function convertToInteractive(key) {\n",
              "          const element = document.querySelector('#df-302f784b-240f-409d-ad3c-0b9a584f17ba');\n",
              "          const dataTable =\n",
              "            await google.colab.kernel.invokeFunction('convertToInteractive',\n",
              "                                                     [key], {});\n",
              "          if (!dataTable) return;\n",
              "\n",
              "          const docLinkHtml = 'Like what you see? Visit the ' +\n",
              "            '<a target=\"_blank\" href=https://colab.research.google.com/notebooks/data_table.ipynb>data table notebook</a>'\n",
              "            + ' to learn more about interactive tables.';\n",
              "          element.innerHTML = '';\n",
              "          dataTable['output_type'] = 'display_data';\n",
              "          await google.colab.output.renderOutput(dataTable, element);\n",
              "          const docLink = document.createElement('div');\n",
              "          docLink.innerHTML = docLinkHtml;\n",
              "          element.appendChild(docLink);\n",
              "        }\n",
              "      </script>\n",
              "    </div>\n",
              "  </div>\n",
              "  "
            ]
          },
          "metadata": {},
          "execution_count": 26
        }
      ],
      "source": [
        "tweets_df.describe()"
      ]
    },
    {
      "cell_type": "markdown",
      "metadata": {
        "id": "jxxisIK8K9XX"
      },
      "source": [
        "#### Clean the language column in the users dataframe"
      ]
    },
    {
      "cell_type": "markdown",
      "metadata": {
        "id": "I2d2aRCtPr9m"
      },
      "source": [
        "For the language column we analyzed a few tweets and decided to assign them the English value. We then transformed all the strings into a lower case in order to combine languages such as \"en-gb\" and \"en-GB\". The \"xx-lc\" language does not exist and has been transformed into \"en\""
      ]
    },
    {
      "cell_type": "code",
      "execution_count": null,
      "metadata": {
        "id": "3Mwb_jWhluWW"
      },
      "outputs": [],
      "source": [
        "users_df['lang'] = users_df['lang'].str.lower() # to lower case\n",
        "\n",
        "users_df['lang'] = users_df['lang'].replace(\"select language...\", \"en\")\n",
        "users_df['lang'] = users_df['lang'].replace(\"xx-lc\", \"en\")"
      ]
    },
    {
      "cell_type": "code",
      "execution_count": null,
      "metadata": {
        "id": "mqi8ZHoy09eY",
        "colab": {
          "base_uri": "https://localhost:8080/"
        },
        "outputId": "b3438d0f-f67a-49cf-b84b-1f1785dbf4e5"
      },
      "outputs": [
        {
          "output_type": "stream",
          "name": "stdout",
          "text": [
            "['en' 'it' 'fr' 'ru' 'es' 'tr' 'en-gb' 'pt' 'nl' 'id' 'zh-tw' 'ja' 'de'\n",
            " 'ko' 'en-au' 'da' 'ar' 'zh-cn' 'pl' 'el' 'fil' 'sv']\n"
          ]
        }
      ],
      "source": [
        "print(users_df[\"lang\"].unique())"
      ]
    },
    {
      "cell_type": "markdown",
      "metadata": {
        "id": "oYBYmCgqhnD0"
      },
      "source": [
        "#### Cleaning the wrong dates\n",
        "\n",
        "Our assumption is since the ID of tweets in an incremental number, older tweets will have a smaller ID and the younger a bigger one. Following this assumption we will assign to each day a median ID and then substitute the incorrect date with the nearest ID day."
      ]
    },
    {
      "cell_type": "code",
      "execution_count": null,
      "metadata": {
        "id": "SimqSjauhmc7",
        "colab": {
          "base_uri": "https://localhost:8080/"
        },
        "outputId": "d66aaa87-6e39-4bdc-d4b1-18805d5f25a0"
      },
      "outputs": [
        {
          "output_type": "stream",
          "name": "stdout",
          "text": [
            "  created_at          id\n",
            "0 2012-03-11   6460111.0\n",
            "1 2012-04-13  26267046.0\n",
            "2 2012-04-14  27196141.0\n",
            "3 2012-04-15  28060561.0\n",
            "4 2012-04-16  28729141.0\n",
            "Number of tweets with wrong dates:  97239\n"
          ]
        }
      ],
      "source": [
        "from datetime import datetime\n",
        "\n",
        "today = pd.to_datetime(\"today\")     # Tweets cannot be written in the future!\n",
        "min = pd.to_datetime(\"2006-03-21\")  # Neither before the creation of Twitter :D\n",
        "\n",
        "mask_datesOK = (tweets_df['created_at'] < today) & (tweets_df['created_at'] > min)  # We create a mask to divide in wrong and right dates\n",
        "\n",
        "id_calendar = tweets_df[mask_datesOK][['id', 'created_at']].copy()\n",
        "id_calendar['created_at'] = id_calendar['created_at'].dt.strftime('%Y-%m-%d')       # Converting the datetimes in just YY - mm - dd\n",
        "by_date_df = id_calendar.groupby('created_at', as_index=False).median()             # In order to group the tweets in days and extrapolate the median ID for each day\n",
        "\n",
        "del id_calendar # Free some RAM ...\n",
        "\n",
        "by_date_df[\"created_at\"]=pd.to_datetime(by_date_df[\"created_at\"], errors='coerce', yearfirst=True)\n",
        "print(by_date_df.head(5))\n",
        "print(\"Number of tweets with wrong dates: \", len(tweets_df[~mask_datesOK]))"
      ]
    },
    {
      "cell_type": "markdown",
      "metadata": {
        "id": "2dzF0-CtaOLT"
      },
      "source": [
        "As we can see in the frame by_date we have each day from the correct tweets and his reppresenting ID."
      ]
    },
    {
      "cell_type": "code",
      "execution_count": null,
      "metadata": {
        "id": "bTgQLu5sMtCk",
        "colab": {
          "base_uri": "https://localhost:8080/"
        },
        "outputId": "77cbc50a-469c-4fdb-b76a-9d5ea9332425"
      },
      "outputs": [
        {
          "output_type": "stream",
          "name": "stdout",
          "text": [
            "User with tweets dated uncorrectly subcribed first  2012-01-24 01:57:38\n",
            "User with tweets dated uncorrectly subcribed last   2018-09-23 00:40:35\n",
            "Frame with user subscriptions             236\n",
            "Frame with wrong tweets grouped by users  236\n"
          ]
        }
      ],
      "source": [
        "users_subscription = users_df[users_df['user_id'].isin(tweets_df[~mask_datesOK]['user_id'])].copy()\n",
        "users_subscription.drop(columns=['name', 'lang', 'bot', 'statuses_count'], inplace=True)            # Taking just the columns that we need\n",
        "\n",
        "print(\"User with tweets dated uncorrectly subcribed first \", users_subscription['subscription_date'].min())\n",
        "print(\"User with tweets dated uncorrectly subcribed last  \", users_subscription['subscription_date'].max())\n",
        "\n",
        "tweets_grouped = tweets_df[~mask_datesOK].groupby('user_id')\n",
        "\n",
        "print(\"Frame with user subscriptions            \", len(users_subscription))\n",
        "print(\"Frame with wrong tweets grouped by users \", len(tweets_grouped))"
      ]
    },
    {
      "cell_type": "markdown",
      "metadata": {
        "id": "1_0PiGk0Y231"
      },
      "source": [
        "As we expected the data grouped and the one SELECTed from the user_df have the same length. Now we can proceed to substitute the dates with the one assigned from the correct one IDs."
      ]
    },
    {
      "cell_type": "code",
      "execution_count": null,
      "metadata": {
        "id": "hrfr2jAvOJXM"
      },
      "outputs": [],
      "source": [
        "# In order to shrink computation time we take advantage of the function map,\n",
        "# to avoid substitute values inside the 2nd for loop\n",
        "for user, frame in tweets_grouped:\n",
        "  sub_date = users_subscription[users_subscription['user_id']==user]['subscription_date'].values[0] # The day of subscription of the user with incorrect dated tweets\n",
        "  user_mask = (by_date_df['created_at'] > sub_date)\n",
        "  good_dates = by_date_df[user_mask] # Taking the dates compatible with the subscription \n",
        "  \n",
        "  for row_index, row in frame.iterrows():\n",
        "    right_date = good_dates.iloc[(row['id'] - good_dates['id']).abs().argsort()[:1]]['created_at'].values[0]         \n",
        "\n",
        "    ts = (right_date - np.datetime64('1970-01-01T00:00')) / np.timedelta64(1, 's') # Conversion of numpy.datetime[64] in timeStamp\n",
        "    right_dt = datetime.utcfromtimestamp(ts) # Conversion of timeStamp in datetime\n",
        "    right_dt = right_dt.replace(hour = row['created_at'].hour, \n",
        "                     minute = row['created_at'].minute, \n",
        "                     second = row['created_at'].second)\n",
        "    tweets_df.at[row_index, 'created_at'] = right_dt\n",
        "\n",
        "try: \n",
        "  del tweets_grouped, sub_date, user_mask, good_dates, right_date\n",
        "except:\n",
        "  print(\"The variable is not instatiated\")"
      ]
    },
    {
      "cell_type": "code",
      "execution_count": null,
      "metadata": {
        "id": "4MDVsUjdrVrw",
        "colab": {
          "base_uri": "https://localhost:8080/",
          "height": 553
        },
        "outputId": "2798f53e-67fc-415e-aba6-1aff3cc09722"
      },
      "outputs": [
        {
          "output_type": "display_data",
          "data": {
            "text/plain": [
              "<Figure size 504x576 with 1 Axes>"
            ],
            "image/png": "[encoded data removed]"
          },
          "metadata": {}
        }
      ],
      "source": [
        "import seaborn as sns\n",
        "\n",
        "sns.set_theme(style=\"ticks\")\n",
        "f, ax = plt.subplots(figsize=(7, 8))\n",
        "sns.despine(f)\n",
        "\n",
        "# Create the histogram setting the column to be represented and the one to overlap\n",
        "g = sns.histplot(\n",
        "    tweets_df,\n",
        "    x=tweets_df['created_at'].dt.month, hue=tweets_df['created_at'].dt.year,\n",
        "    multiple='layer',\n",
        "    log_scale=[False, True],\n",
        "    discrete=True,\n",
        "    palette='husl'\n",
        ").set(title=\"Tweets distributions over the years\")\n",
        "\n",
        "# Tweak the visual presentation\n",
        "ax.xaxis.set_major_formatter(mpl.ticker.ScalarFormatter())\n",
        "ax.set_xticks([1, 2, 3, 4, 5, 6, 7, 8, 9, 10, 11, 12])\n",
        "ax.set_xlabel('Months')\n",
        "sns.move_legend(ax, \"upper left\", bbox_to_anchor=(1, 1), title='Year')\n",
        "ax.set_xticklabels([month for month in calendar.month_name[1:]],\n",
        "                    fontdict={'horizontalalignment': 'center', 'fontsize': 12, 'rotation': 30})\n",
        "plt.show()\n",
        "\n",
        "del g, ax\n",
        "\n",
        "del mask_datesOK"
      ]
    },
    {
      "cell_type": "markdown",
      "metadata": {
        "id": "c59Pw_ZnCh4q"
      },
      "source": [
        "As we can see the distribution isn't changed in a linear way, but respected some sort of ID distribution."
      ]
    },
    {
      "cell_type": "markdown",
      "metadata": {
        "id": "NGm9xxmWxUnu"
      },
      "source": [
        "## Filling missing values on tweets and users dataframe"
      ]
    },
    {
      "cell_type": "markdown",
      "metadata": {
        "id": "GCySwj5XYMT7"
      },
      "source": [
        "**num_hashtags**"
      ]
    },
    {
      "cell_type": "code",
      "execution_count": null,
      "metadata": {
        "id": "_nfAn4zwYPlP"
      },
      "outputs": [],
      "source": [
        "# use regex to find number of hashtags on a text and fill nan values\n",
        "\n",
        "import re\n",
        "\n",
        "\n",
        "regex_hashtag = \"#[a-zA-Z0-9_]+\" # or '#\\w+'\n",
        "\n",
        "m = tweets_df['num_hashtags'].isna()\n",
        "\n",
        "tweets_df.loc[m, 'num_hashtags'] = tweets_df.loc[m, 'text'].str.count(regex_hashtag)"
      ]
    },
    {
      "cell_type": "code",
      "execution_count": null,
      "metadata": {
        "id": "bSlASjpqhnYu",
        "colab": {
          "base_uri": "https://localhost:8080/"
        },
        "outputId": "d9d82511-e5d4-490a-8196-9a971708a9d3"
      },
      "outputs": [
        {
          "output_type": "execute_result",
          "data": {
            "text/plain": [
              "False"
            ]
          },
          "metadata": {},
          "execution_count": 35
        }
      ],
      "source": [
        "tweets_df['num_hashtags'].isnull().values.any()"
      ]
    },
    {
      "cell_type": "markdown",
      "metadata": {
        "id": "lEOHlLzbaL3H"
      },
      "source": [
        "**num_urls**\n"
      ]
    },
    {
      "cell_type": "code",
      "execution_count": null,
      "metadata": {
        "id": "uXveNf3maOqk"
      },
      "outputs": [],
      "source": [
        "regex_url = \"(https?:\\/\\/)?(www[.])?(t)\\.co\\/([a-zA-Z0-9_-]*)\\/?\"\n",
        "\n",
        "m = tweets_df['num_urls'].isna()\n",
        "\n",
        "tweets_df.loc[m, 'num_urls'] = tweets_df.loc[m, 'text'].str.count(regex_hashtag)"
      ]
    },
    {
      "cell_type": "code",
      "execution_count": null,
      "metadata": {
        "id": "XfWD6sNtu4Uj",
        "colab": {
          "base_uri": "https://localhost:8080/"
        },
        "outputId": "22338787-39d8-4de5-8b21-3b44c17486f8"
      },
      "outputs": [
        {
          "output_type": "execute_result",
          "data": {
            "text/plain": [
              "False"
            ]
          },
          "metadata": {},
          "execution_count": 37
        }
      ],
      "source": [
        "tweets_df['num_urls'].isnull().values.any()"
      ]
    },
    {
      "cell_type": "markdown",
      "metadata": {
        "id": "hswUebtBwDjM"
      },
      "source": [
        "**retweet, reply count, favorite count, num mentions.**"
      ]
    },
    {
      "cell_type": "code",
      "execution_count": null,
      "metadata": {
        "id": "0WzwRgrYSNdq"
      },
      "outputs": [],
      "source": [
        "# To avoid removing important records from the dataset \n",
        "# we decide, after removing the outliers, to compute the mean per user of these counters\n",
        "# and replace NaN values with the the mean per user\n",
        "\n",
        "columns = [\"retweet_count\", \"reply_count\", \"favorite_count\", \"num_mentions\"] \n",
        "\n",
        "for col in columns:\n",
        "  tweets_df[col].fillna(tweets_df.groupby('user_id')[col].transform('mean'), inplace=True)"
      ]
    },
    {
      "cell_type": "markdown",
      "metadata": {
        "id": "GnvBzBPxKq6c"
      },
      "source": [
        "**tweets_id**"
      ]
    },
    {
      "cell_type": "code",
      "execution_count": null,
      "metadata": {
        "id": "yw3BVMjiWZdJ"
      },
      "outputs": [],
      "source": [
        "# we decided to replace the values for the ids in the tweets dataset by creating new unique ids\n",
        "tweets_df[\"id\"] = tweets_df[\"id\"].fillna(method=\"ffill\")"
      ]
    },
    {
      "cell_type": "markdown",
      "metadata": {
        "id": "QMM6AurFxvh0"
      },
      "source": [
        "**statuses_count**"
      ]
    },
    {
      "cell_type": "code",
      "execution_count": null,
      "metadata": {
        "id": "6kfl92I2v_-x"
      },
      "outputs": [],
      "source": [
        "# On data undestanding notebook we saw that only non bot have nan values on statuses count feature \n",
        "# so we compute the mean only for non bot and we substitute it for the nan values\n",
        "average = users_df.loc[users_df['bot']==0]['statuses_count'].mean()\n",
        "\n",
        "users_df['statuses_count' ].fillna(value=average, inplace=True)"
      ]
    },
    {
      "cell_type": "markdown",
      "metadata": {
        "id": "UhQ1J4ZAzPtk"
      },
      "source": [
        "**name**"
      ]
    },
    {
      "cell_type": "code",
      "execution_count": null,
      "metadata": {
        "id": "KiRHNeFfzOEF"
      },
      "outputs": [],
      "source": [
        "# there is one NaN values in name feature on user dataframe that wwe substitute with the string \"UNKNOWN\"\n",
        "users_df['name'].fillna(value=\"UNKNOWN\", inplace=True)"
      ]
    },
    {
      "cell_type": "markdown",
      "metadata": {
        "id": "O9k-riuBygLk"
      },
      "source": [
        "## Final Check"
      ]
    },
    {
      "cell_type": "code",
      "execution_count": null,
      "metadata": {
        "id": "EsUGHeMlOook",
        "colab": {
          "base_uri": "https://localhost:8080/"
        },
        "outputId": "e989244a-86b4-4a7f-b90c-988df9d871be"
      },
      "outputs": [
        {
          "output_type": "stream",
          "name": "stdout",
          "text": [
            "id have NaN: False : 0\n",
            "user_id have NaN: False : 0\n",
            "retweet_count have NaN: False : 0\n",
            "reply_count have NaN: False : 0\n",
            "favorite_count have NaN: False : 0\n",
            "num_hashtags have NaN: False : 0\n",
            "num_urls have NaN: False : 0\n",
            "num_mentions have NaN: False : 0\n",
            "created_at have NaN: False : 0\n",
            "text have NaN: False : 0\n",
            "\n",
            "user_id have NaN: False : 0\n",
            "name have NaN: False : 0\n",
            "lang have NaN: False : 0\n",
            "bot have NaN: False : 0\n",
            "subscription_date have NaN: False : 0\n",
            "statuses_count have NaN: False : 0\n"
          ]
        }
      ],
      "source": [
        "# check if we still have nan\n",
        "\n",
        "for col in tweets_df:\n",
        "  print(f\"{col} have NaN: {tweets_df[col].isna().values.any()} : {tweets_df[col].isna().sum()}\")\n",
        "\n",
        "print()\n",
        "\n",
        "\n",
        "for col in users_df:\n",
        "  print(f\"{col} have NaN: {users_df[col].isna().values.any()} : {users_df[col].isna().sum()}\")  "
      ]
    },
    {
      "cell_type": "code",
      "execution_count": null,
      "metadata": {
        "id": "eP6tIb8vxjT5"
      },
      "outputs": [],
      "source": [
        "#after eliminating all the NaN we can assign correct type to the columns\n",
        "\n",
        "columns = [\"id\", \"user_id\", \"retweet_count\", \"reply_count\", \"favorite_count\", \"num_hashtags\",  \"num_urls\", \"num_mentions\"] \n",
        "for col in columns:\n",
        "  tweets_df[col] = tweets_df[col].astype(int)\n"
      ]
    },
    {
      "cell_type": "code",
      "execution_count": null,
      "metadata": {
        "id": "DMwUNaj_yu1t",
        "colab": {
          "base_uri": "https://localhost:8080/"
        },
        "outputId": "f45ba6dc-64ae-4f23-dc21-74b92702677b"
      },
      "outputs": [
        {
          "output_type": "stream",
          "name": "stdout",
          "text": [
            "<class 'pandas.core.frame.DataFrame'>\n",
            "Int64Index: 10860709 entries, 0 to 13229861\n",
            "Data columns (total 10 columns):\n",
            " #   Column          Dtype         \n",
            "---  ------          -----         \n",
            " 0   id              int64         \n",
            " 1   user_id         int64         \n",
            " 2   retweet_count   int64         \n",
            " 3   reply_count     int64         \n",
            " 4   favorite_count  int64         \n",
            " 5   num_hashtags    int64         \n",
            " 6   num_urls        int64         \n",
            " 7   num_mentions    int64         \n",
            " 8   created_at      datetime64[ns]\n",
            " 9   text            string        \n",
            "dtypes: datetime64[ns](1), int64(8), string(1)\n",
            "memory usage: 1.1 GB\n"
          ]
        }
      ],
      "source": [
        "tweets_df.info()"
      ]
    },
    {
      "cell_type": "code",
      "execution_count": null,
      "metadata": {
        "id": "4pkt9WOqyzSw",
        "colab": {
          "base_uri": "https://localhost:8080/",
          "height": 300
        },
        "outputId": "44cc0ce8-0e79-418a-fa48-71ceb3ca9572"
      },
      "outputs": [
        {
          "output_type": "execute_result",
          "data": {
            "text/plain": [
              "                 id       user_id  retweet_count   reply_count  \\\n",
              "count  1.086071e+07  1.086071e+07   1.086071e+07  1.086071e+07   \n",
              "mean   4.755511e+17  8.303962e+08   4.932719e+02  5.757258e-02   \n",
              "std    1.614480e+17  8.522354e+08   6.613825e+03  1.378363e+01   \n",
              "min    3.460000e+02  6.780330e+05   0.000000e+00  0.000000e+00   \n",
              "25%    4.646533e+17  2.325471e+08   0.000000e+00  0.000000e+00   \n",
              "50%    5.250046e+17  4.680735e+08   0.000000e+00  0.000000e+00   \n",
              "75%    5.774314e+17  1.226238e+09   1.000000e+00  0.000000e+00   \n",
              "max    9.999974e+17  3.164942e+09   3.932630e+05  7.900000e+03   \n",
              "\n",
              "       favorite_count  num_hashtags      num_urls  num_mentions  \n",
              "count    1.086071e+07  1.086071e+07  1.086071e+07  1.086071e+07  \n",
              "mean     1.283392e+00  1.872202e-01  1.640235e-01  5.120221e-01  \n",
              "std      7.120728e+01  3.084772e+00  3.860425e-01  8.051843e-01  \n",
              "min      0.000000e+00  0.000000e+00  0.000000e+00  0.000000e+00  \n",
              "25%      0.000000e+00  0.000000e+00  0.000000e+00  0.000000e+00  \n",
              "50%      0.000000e+00  0.000000e+00  0.000000e+00  0.000000e+00  \n",
              "75%      0.000000e+00  0.000000e+00  0.000000e+00  1.000000e+00  \n",
              "max      2.266100e+04  2.481000e+03  2.800000e+01  1.100000e+01  "
            ],
            "text/html": [
              "\n",
              "  <div id=\"df-0eb1e49f-6a9f-4c6e-a827-a5b19a3f9222\">\n",
              "    <div class=\"colab-df-container\">\n",
              "      <div>\n",
              "<style scoped>\n",
              "    .dataframe tbody tr th:only-of-type {\n",
              "        vertical-align: middle;\n",
              "    }\n",
              "\n",
              "    .dataframe tbody tr th {\n",
              "        vertical-align: top;\n",
              "    }\n",
              "\n",
              "    .dataframe thead th {\n",
              "        text-align: right;\n",
              "    }\n",
              "</style>\n",
              "<table border=\"1\" class=\"dataframe\">\n",
              "  <thead>\n",
              "    <tr style=\"text-align: right;\">\n",
              "      <th></th>\n",
              "      <th>id</th>\n",
              "      <th>user_id</th>\n",
              "      <th>retweet_count</th>\n",
              "      <th>reply_count</th>\n",
              "      <th>favorite_count</th>\n",
              "      <th>num_hashtags</th>\n",
              "      <th>num_urls</th>\n",
              "      <th>num_mentions</th>\n",
              "    </tr>\n",
              "  </thead>\n",
              "  <tbody>\n",
              "    <tr>\n",
              "      <th>count</th>\n",
              "      <td>1.086071e+07</td>\n",
              "      <td>1.086071e+07</td>\n",
              "      <td>1.086071e+07</td>\n",
              "      <td>1.086071e+07</td>\n",
              "      <td>1.086071e+07</td>\n",
              "      <td>1.086071e+07</td>\n",
              "      <td>1.086071e+07</td>\n",
              "      <td>1.086071e+07</td>\n",
              "    </tr>\n",
              "    <tr>\n",
              "      <th>mean</th>\n",
              "      <td>4.755511e+17</td>\n",
              "      <td>8.303962e+08</td>\n",
              "      <td>4.932719e+02</td>\n",
              "      <td>5.757258e-02</td>\n",
              "      <td>1.283392e+00</td>\n",
              "      <td>1.872202e-01</td>\n",
              "      <td>1.640235e-01</td>\n",
              "      <td>5.120221e-01</td>\n",
              "    </tr>\n",
              "    <tr>\n",
              "      <th>std</th>\n",
              "      <td>1.614480e+17</td>\n",
              "      <td>8.522354e+08</td>\n",
              "      <td>6.613825e+03</td>\n",
              "      <td>1.378363e+01</td>\n",
              "      <td>7.120728e+01</td>\n",
              "      <td>3.084772e+00</td>\n",
              "      <td>3.860425e-01</td>\n",
              "      <td>8.051843e-01</td>\n",
              "    </tr>\n",
              "    <tr>\n",
              "      <th>min</th>\n",
              "      <td>3.460000e+02</td>\n",
              "      <td>6.780330e+05</td>\n",
              "      <td>0.000000e+00</td>\n",
              "      <td>0.000000e+00</td>\n",
              "      <td>0.000000e+00</td>\n",
              "      <td>0.000000e+00</td>\n",
              "      <td>0.000000e+00</td>\n",
              "      <td>0.000000e+00</td>\n",
              "    </tr>\n",
              "    <tr>\n",
              "      <th>25%</th>\n",
              "      <td>4.646533e+17</td>\n",
              "      <td>2.325471e+08</td>\n",
              "      <td>0.000000e+00</td>\n",
              "      <td>0.000000e+00</td>\n",
              "      <td>0.000000e+00</td>\n",
              "      <td>0.000000e+00</td>\n",
              "      <td>0.000000e+00</td>\n",
              "      <td>0.000000e+00</td>\n",
              "    </tr>\n",
              "    <tr>\n",
              "      <th>50%</th>\n",
              "      <td>5.250046e+17</td>\n",
              "      <td>4.680735e+08</td>\n",
              "      <td>0.000000e+00</td>\n",
              "      <td>0.000000e+00</td>\n",
              "      <td>0.000000e+00</td>\n",
              "      <td>0.000000e+00</td>\n",
              "      <td>0.000000e+00</td>\n",
              "      <td>0.000000e+00</td>\n",
              "    </tr>\n",
              "    <tr>\n",
              "      <th>75%</th>\n",
              "      <td>5.774314e+17</td>\n",
              "      <td>1.226238e+09</td>\n",
              "      <td>1.000000e+00</td>\n",
              "      <td>0.000000e+00</td>\n",
              "      <td>0.000000e+00</td>\n",
              "      <td>0.000000e+00</td>\n",
              "      <td>0.000000e+00</td>\n",
              "      <td>1.000000e+00</td>\n",
              "    </tr>\n",
              "    <tr>\n",
              "      <th>max</th>\n",
              "      <td>9.999974e+17</td>\n",
              "      <td>3.164942e+09</td>\n",
              "      <td>3.932630e+05</td>\n",
              "      <td>7.900000e+03</td>\n",
              "      <td>2.266100e+04</td>\n",
              "      <td>2.481000e+03</td>\n",
              "      <td>2.800000e+01</td>\n",
              "      <td>1.100000e+01</td>\n",
              "    </tr>\n",
              "  </tbody>\n",
              "</table>\n",
              "</div>\n",
              "      <button class=\"colab-df-convert\" onclick=\"convertToInteractive('df-0eb1e49f-6a9f-4c6e-a827-a5b19a3f9222')\"\n",
              "              title=\"Convert this dataframe to an interactive table.\"\n",
              "              style=\"display:none;\">\n",
              "        \n",
              "  <svg xmlns=\"http://www.w3.org/2000/svg\" height=\"24px\"viewBox=\"0 0 24 24\"\n",
              "       width=\"24px\">\n",
              "    <path d=\"M0 0h24v24H0V0z\" fill=\"none\"/>\n",
              "    <path d=\"M18.56 5.44l.94 2.06.94-2.06 2.06-.94-2.06-.94-.94-2.06-.94 2.06-2.06.94zm-11 1L8.5 8.5l.94-2.06 2.06-.94-2.06-.94L8.5 2.5l-.94 2.06-2.06.94zm10 10l.94 2.06.94-2.06 2.06-.94-2.06-.94-.94-2.06-.94 2.06-2.06.94z\"/><path d=\"M17.41 7.96l-1.37-1.37c-.4-.4-.92-.59-1.43-.59-.52 0-1.04.2-1.43.59L10.3 9.45l-7.72 7.72c-.78.78-.78 2.05 0 2.83L4 21.41c.39.39.9.59 1.41.59.51 0 1.02-.2 1.41-.59l7.78-7.78 2.81-2.81c.8-.78.8-2.07 0-2.86zM5.41 20L4 18.59l7.72-7.72 1.47 1.35L5.41 20z\"/>\n",
              "  </svg>\n",
              "      </button>\n",
              "      \n",
              "  <style>\n",
              "    .colab-df-container {\n",
              "      display:flex;\n",
              "      flex-wrap:wrap;\n",
              "      gap: 12px;\n",
              "    }\n",
              "\n",
              "    .colab-df-convert {\n",
              "      background-color: #E8F0FE;\n",
              "      border: none;\n",
              "      border-radius: 50%;\n",
              "      cursor: pointer;\n",
              "      display: none;\n",
              "      fill: #1967D2;\n",
              "      height: 32px;\n",
              "      padding: 0 0 0 0;\n",
              "      width: 32px;\n",
              "    }\n",
              "\n",
              "    .colab-df-convert:hover {\n",
              "      background-color: #E2EBFA;\n",
              "      box-shadow: 0px 1px 2px rgba(60, 64, 67, 0.3), 0px 1px 3px 1px rgba(60, 64, 67, 0.15);\n",
              "      fill: #174EA6;\n",
              "    }\n",
              "\n",
              "    [theme=dark] .colab-df-convert {\n",
              "      background-color: #3B4455;\n",
              "      fill: #D2E3FC;\n",
              "    }\n",
              "\n",
              "    [theme=dark] .colab-df-convert:hover {\n",
              "      background-color: #434B5C;\n",
              "      box-shadow: 0px 1px 3px 1px rgba(0, 0, 0, 0.15);\n",
              "      filter: drop-shadow(0px 1px 2px rgba(0, 0, 0, 0.3));\n",
              "      fill: #FFFFFF;\n",
              "    }\n",
              "  </style>\n",
              "\n",
              "      <script>\n",
              "        const buttonEl =\n",
              "          document.querySelector('#df-0eb1e49f-6a9f-4c6e-a827-a5b19a3f9222 button.colab-df-convert');\n",
              "        buttonEl.style.display =\n",
              "          google.colab.kernel.accessAllowed ? 'block' : 'none';\n",
              "\n",
              "        async function convertToInteractive(key) {\n",
              "          const element = document.querySelector('#df-0eb1e49f-6a9f-4c6e-a827-a5b19a3f9222');\n",
              "          const dataTable =\n",
              "            await google.colab.kernel.invokeFunction('convertToInteractive',\n",
              "                                                     [key], {});\n",
              "          if (!dataTable) return;\n",
              "\n",
              "          const docLinkHtml = 'Like what you see? Visit the ' +\n",
              "            '<a target=\"_blank\" href=https://colab.research.google.com/notebooks/data_table.ipynb>data table notebook</a>'\n",
              "            + ' to learn more about interactive tables.';\n",
              "          element.innerHTML = '';\n",
              "          dataTable['output_type'] = 'display_data';\n",
              "          await google.colab.output.renderOutput(dataTable, element);\n",
              "          const docLink = document.createElement('div');\n",
              "          docLink.innerHTML = docLinkHtml;\n",
              "          element.appendChild(docLink);\n",
              "        }\n",
              "      </script>\n",
              "    </div>\n",
              "  </div>\n",
              "  "
            ]
          },
          "metadata": {},
          "execution_count": 45
        }
      ],
      "source": [
        "tweets_df.describe()"
      ]
    },
    {
      "cell_type": "code",
      "execution_count": null,
      "metadata": {
        "id": "xZc6InSdy4QC",
        "colab": {
          "base_uri": "https://localhost:8080/"
        },
        "outputId": "db2891e7-34d5-46ad-e936-20b5e4296c0e"
      },
      "outputs": [
        {
          "output_type": "stream",
          "name": "stdout",
          "text": [
            "<class 'pandas.core.frame.DataFrame'>\n",
            "Int64Index: 11508 entries, 0 to 11507\n",
            "Data columns (total 6 columns):\n",
            " #   Column             Non-Null Count  Dtype         \n",
            "---  ------             --------------  -----         \n",
            " 0   user_id            11508 non-null  int64         \n",
            " 1   name               11508 non-null  string        \n",
            " 2   lang               11508 non-null  object        \n",
            " 3   bot                11508 non-null  int64         \n",
            " 4   subscription_date  11508 non-null  datetime64[ns]\n",
            " 5   statuses_count     11508 non-null  float64       \n",
            "dtypes: datetime64[ns](1), float64(1), int64(2), object(1), string(1)\n",
            "memory usage: 629.3+ KB\n"
          ]
        }
      ],
      "source": [
        "users_df.info()"
      ]
    },
    {
      "cell_type": "code",
      "execution_count": null,
      "metadata": {
        "id": "NJICbVM9y9NX",
        "colab": {
          "base_uri": "https://localhost:8080/",
          "height": 300
        },
        "outputId": "9637fa10-2d85-49eb-8f38-94929928d991"
      },
      "outputs": [
        {
          "output_type": "execute_result",
          "data": {
            "text/plain": [
              "            user_id           bot  statuses_count\n",
              "count  1.150800e+04  11508.000000    11508.000000\n",
              "mean   1.274517e+09      0.531456     6082.843798\n",
              "std    9.354135e+08      0.499031    18768.971290\n",
              "min    6.780330e+05      0.000000        0.000000\n",
              "25%    4.663594e+08      0.000000       42.000000\n",
              "50%    1.128643e+09      1.000000       71.000000\n",
              "75%    2.357148e+09      1.000000     4318.000000\n",
              "max    3.164942e+09      1.000000   399555.000000"
            ],
            "text/html": [
              "\n",
              "  <div id=\"df-6b949642-e88b-45b4-8aa7-71d4308e26aa\">\n",
              "    <div class=\"colab-df-container\">\n",
              "      <div>\n",
              "<style scoped>\n",
              "    .dataframe tbody tr th:only-of-type {\n",
              "        vertical-align: middle;\n",
              "    }\n",
              "\n",
              "    .dataframe tbody tr th {\n",
              "        vertical-align: top;\n",
              "    }\n",
              "\n",
              "    .dataframe thead th {\n",
              "        text-align: right;\n",
              "    }\n",
              "</style>\n",
              "<table border=\"1\" class=\"dataframe\">\n",
              "  <thead>\n",
              "    <tr style=\"text-align: right;\">\n",
              "      <th></th>\n",
              "      <th>user_id</th>\n",
              "      <th>bot</th>\n",
              "      <th>statuses_count</th>\n",
              "    </tr>\n",
              "  </thead>\n",
              "  <tbody>\n",
              "    <tr>\n",
              "      <th>count</th>\n",
              "      <td>1.150800e+04</td>\n",
              "      <td>11508.000000</td>\n",
              "      <td>11508.000000</td>\n",
              "    </tr>\n",
              "    <tr>\n",
              "      <th>mean</th>\n",
              "      <td>1.274517e+09</td>\n",
              "      <td>0.531456</td>\n",
              "      <td>6082.843798</td>\n",
              "    </tr>\n",
              "    <tr>\n",
              "      <th>std</th>\n",
              "      <td>9.354135e+08</td>\n",
              "      <td>0.499031</td>\n",
              "      <td>18768.971290</td>\n",
              "    </tr>\n",
              "    <tr>\n",
              "      <th>min</th>\n",
              "      <td>6.780330e+05</td>\n",
              "      <td>0.000000</td>\n",
              "      <td>0.000000</td>\n",
              "    </tr>\n",
              "    <tr>\n",
              "      <th>25%</th>\n",
              "      <td>4.663594e+08</td>\n",
              "      <td>0.000000</td>\n",
              "      <td>42.000000</td>\n",
              "    </tr>\n",
              "    <tr>\n",
              "      <th>50%</th>\n",
              "      <td>1.128643e+09</td>\n",
              "      <td>1.000000</td>\n",
              "      <td>71.000000</td>\n",
              "    </tr>\n",
              "    <tr>\n",
              "      <th>75%</th>\n",
              "      <td>2.357148e+09</td>\n",
              "      <td>1.000000</td>\n",
              "      <td>4318.000000</td>\n",
              "    </tr>\n",
              "    <tr>\n",
              "      <th>max</th>\n",
              "      <td>3.164942e+09</td>\n",
              "      <td>1.000000</td>\n",
              "      <td>399555.000000</td>\n",
              "    </tr>\n",
              "  </tbody>\n",
              "</table>\n",
              "</div>\n",
              "      <button class=\"colab-df-convert\" onclick=\"convertToInteractive('df-6b949642-e88b-45b4-8aa7-71d4308e26aa')\"\n",
              "              title=\"Convert this dataframe to an interactive table.\"\n",
              "              style=\"display:none;\">\n",
              "        \n",
              "  <svg xmlns=\"http://www.w3.org/2000/svg\" height=\"24px\"viewBox=\"0 0 24 24\"\n",
              "       width=\"24px\">\n",
              "    <path d=\"M0 0h24v24H0V0z\" fill=\"none\"/>\n",
              "    <path d=\"M18.56 5.44l.94 2.06.94-2.06 2.06-.94-2.06-.94-.94-2.06-.94 2.06-2.06.94zm-11 1L8.5 8.5l.94-2.06 2.06-.94-2.06-.94L8.5 2.5l-.94 2.06-2.06.94zm10 10l.94 2.06.94-2.06 2.06-.94-2.06-.94-.94-2.06-.94 2.06-2.06.94z\"/><path d=\"M17.41 7.96l-1.37-1.37c-.4-.4-.92-.59-1.43-.59-.52 0-1.04.2-1.43.59L10.3 9.45l-7.72 7.72c-.78.78-.78 2.05 0 2.83L4 21.41c.39.39.9.59 1.41.59.51 0 1.02-.2 1.41-.59l7.78-7.78 2.81-2.81c.8-.78.8-2.07 0-2.86zM5.41 20L4 18.59l7.72-7.72 1.47 1.35L5.41 20z\"/>\n",
              "  </svg>\n",
              "      </button>\n",
              "      \n",
              "  <style>\n",
              "    .colab-df-container {\n",
              "      display:flex;\n",
              "      flex-wrap:wrap;\n",
              "      gap: 12px;\n",
              "    }\n",
              "\n",
              "    .colab-df-convert {\n",
              "      background-color: #E8F0FE;\n",
              "      border: none;\n",
              "      border-radius: 50%;\n",
              "      cursor: pointer;\n",
              "      display: none;\n",
              "      fill: #1967D2;\n",
              "      height: 32px;\n",
              "      padding: 0 0 0 0;\n",
              "      width: 32px;\n",
              "    }\n",
              "\n",
              "    .colab-df-convert:hover {\n",
              "      background-color: #E2EBFA;\n",
              "      box-shadow: 0px 1px 2px rgba(60, 64, 67, 0.3), 0px 1px 3px 1px rgba(60, 64, 67, 0.15);\n",
              "      fill: #174EA6;\n",
              "    }\n",
              "\n",
              "    [theme=dark] .colab-df-convert {\n",
              "      background-color: #3B4455;\n",
              "      fill: #D2E3FC;\n",
              "    }\n",
              "\n",
              "    [theme=dark] .colab-df-convert:hover {\n",
              "      background-color: #434B5C;\n",
              "      box-shadow: 0px 1px 3px 1px rgba(0, 0, 0, 0.15);\n",
              "      filter: drop-shadow(0px 1px 2px rgba(0, 0, 0, 0.3));\n",
              "      fill: #FFFFFF;\n",
              "    }\n",
              "  </style>\n",
              "\n",
              "      <script>\n",
              "        const buttonEl =\n",
              "          document.querySelector('#df-6b949642-e88b-45b4-8aa7-71d4308e26aa button.colab-df-convert');\n",
              "        buttonEl.style.display =\n",
              "          google.colab.kernel.accessAllowed ? 'block' : 'none';\n",
              "\n",
              "        async function convertToInteractive(key) {\n",
              "          const element = document.querySelector('#df-6b949642-e88b-45b4-8aa7-71d4308e26aa');\n",
              "          const dataTable =\n",
              "            await google.colab.kernel.invokeFunction('convertToInteractive',\n",
              "                                                     [key], {});\n",
              "          if (!dataTable) return;\n",
              "\n",
              "          const docLinkHtml = 'Like what you see? Visit the ' +\n",
              "            '<a target=\"_blank\" href=https://colab.research.google.com/notebooks/data_table.ipynb>data table notebook</a>'\n",
              "            + ' to learn more about interactive tables.';\n",
              "          element.innerHTML = '';\n",
              "          dataTable['output_type'] = 'display_data';\n",
              "          await google.colab.output.renderOutput(dataTable, element);\n",
              "          const docLink = document.createElement('div');\n",
              "          docLink.innerHTML = docLinkHtml;\n",
              "          element.appendChild(docLink);\n",
              "        }\n",
              "      </script>\n",
              "    </div>\n",
              "  </div>\n",
              "  "
            ]
          },
          "metadata": {},
          "execution_count": 47
        }
      ],
      "source": [
        "users_df.describe()"
      ]
    },
    {
      "cell_type": "markdown",
      "metadata": {
        "id": "m3FK60JljH4S"
      },
      "source": [
        "# Indicators\n"
      ]
    },
    {
      "cell_type": "markdown",
      "metadata": {
        "id": "JxKikF3tCvoV"
      },
      "source": [
        "#### Indicator 1 : How many tweets were published by the user?"
      ]
    },
    {
      "cell_type": "code",
      "execution_count": null,
      "metadata": {
        "id": "0Np5r-LUDgZA"
      },
      "outputs": [],
      "source": [
        "uniques_id = users_df['user_id'].unique()\n",
        "grouped = tweets_df.groupby('user_id')\n",
        "\n",
        "number_of_tweets = grouped['favorite_count'].count()\n",
        "for user_id in number_of_tweets.index:\n",
        "    users_df.loc[users_df['user_id'] == user_id, 'number_of_tweets'] = number_of_tweets[user_id]\n",
        "\n",
        "users_df['number_of_tweets'] = users_df['number_of_tweets']"
      ]
    },
    {
      "cell_type": "code",
      "source": [
        "len(tweets_df['user_id'].unique())"
      ],
      "metadata": {
        "id": "lv8KdN11HLW_",
        "colab": {
          "base_uri": "https://localhost:8080/"
        },
        "outputId": "dc5661d4-3cb1-456b-f496-c10b53f237d3"
      },
      "execution_count": null,
      "outputs": [
        {
          "output_type": "execute_result",
          "data": {
            "text/plain": [
              "11508"
            ]
          },
          "metadata": {},
          "execution_count": 49
        }
      ]
    },
    {
      "cell_type": "code",
      "source": [
        "users_df['number_of_tweets'].astype('Int64')\n"
      ],
      "metadata": {
        "id": "rICg7F9C8B40",
        "colab": {
          "base_uri": "https://localhost:8080/"
        },
        "outputId": "683f41f1-c458-4ff7-fb7a-c10159bc9849"
      },
      "execution_count": null,
      "outputs": [
        {
          "output_type": "execute_result",
          "data": {
            "text/plain": [
              "0         127\n",
              "1         119\n",
              "2           4\n",
              "3        1394\n",
              "4        3535\n",
              "         ... \n",
              "11503    1075\n",
              "11504    2022\n",
              "11505       7\n",
              "11506     101\n",
              "11507    3548\n",
              "Name: number_of_tweets, Length: 11508, dtype: Int64"
            ]
          },
          "metadata": {},
          "execution_count": 50
        }
      ]
    },
    {
      "cell_type": "code",
      "source": [
        "\n",
        "for col in users_df.columns:\n",
        "  print(f\"{col} have NaN: {users_df[col].isna().values.any()} : {users_df[col].isna().sum()}\")  "
      ],
      "metadata": {
        "id": "f9wStOnr87Fu",
        "colab": {
          "base_uri": "https://localhost:8080/"
        },
        "outputId": "2d06ae48-37e9-4c46-d1b9-490415fe4051"
      },
      "execution_count": null,
      "outputs": [
        {
          "output_type": "stream",
          "name": "stdout",
          "text": [
            "user_id have NaN: False : 0\n",
            "name have NaN: False : 0\n",
            "lang have NaN: False : 0\n",
            "bot have NaN: False : 0\n",
            "subscription_date have NaN: False : 0\n",
            "statuses_count have NaN: False : 0\n",
            "number_of_tweets have NaN: False : 0\n"
          ]
        }
      ]
    },
    {
      "cell_type": "markdown",
      "metadata": {
        "id": "kDz-Jbw3Cplx"
      },
      "source": [
        "#### Indicator 2 : How many tweets are published by the user in a given period of time"
      ]
    },
    {
      "cell_type": "code",
      "execution_count": null,
      "metadata": {
        "id": "OvFb4QLB0TjN"
      },
      "outputs": [],
      "source": [
        "grouped = tweets_df.groupby('user_id')\n",
        "result = grouped.apply(lambda x: x['created_at'].dt.year.value_counts().sort_index().to_dict())\n",
        "for user_id in result.index:\n",
        "    tweets_2019 = result[user_id].get(2019, 0)\n",
        "    tweets_2020 = result[user_id].get(2020, 0)\n",
        "    users_df.loc[users_df['user_id'] == user_id, 'tweets_2019'] = tweets_2019\n",
        "    users_df.loc[users_df['user_id'] == user_id, 'tweets_2020'] = tweets_2020\n",
        "\n",
        "users_df['tweets_2019'] = users_df['tweets_2019'].astype(int)\n",
        "users_df['tweets_2020'] = users_df['tweets_2020'].astype(int)"
      ]
    },
    {
      "cell_type": "code",
      "execution_count": null,
      "metadata": {
        "id": "Rcb8toveKXco",
        "colab": {
          "base_uri": "https://localhost:8080/"
        },
        "outputId": "b315b1fe-453f-435f-a882-bef486beb858"
      },
      "outputs": [
        {
          "output_type": "stream",
          "name": "stdout",
          "text": [
            "0         127\n",
            "1         119\n",
            "2           0\n",
            "3        1393\n",
            "4           0\n",
            "         ... \n",
            "11503       0\n",
            "11504     960\n",
            "11505       0\n",
            "11506     101\n",
            "11507       0\n",
            "Name: tweets_2019, Length: 11508, dtype: int64 0           0\n",
            "1           0\n",
            "2           0\n",
            "3           0\n",
            "4        3535\n",
            "         ... \n",
            "11503    1075\n",
            "11504     477\n",
            "11505       0\n",
            "11506       0\n",
            "11507    3548\n",
            "Name: tweets_2020, Length: 11508, dtype: int64\n"
          ]
        }
      ],
      "source": [
        "print(users_df['tweets_2019'], users_df['tweets_2020'])"
      ]
    },
    {
      "cell_type": "markdown",
      "metadata": {
        "id": "RpWpkBZmUWmu"
      },
      "source": [
        "#### Indicator 3: favorite_count\n",
        "Indicators on favorite_count\n",
        "1.   Total number of *likes* received by the user\n",
        "2.   Max number of *likes* received by the user\n",
        "3.   Mean number of *likes* received by the user per tweet\n",
        "\n"
      ]
    },
    {
      "cell_type": "code",
      "execution_count": null,
      "metadata": {
        "id": "rRoyk2gJAZ7X"
      },
      "outputs": [],
      "source": [
        "grouped = tweets_df.groupby('user_id')\n",
        "\n",
        "likes_sum = grouped['favorite_count'].sum()\n",
        "likes_max = grouped['favorite_count'].max()\n",
        "likes_mean = grouped['favorite_count'].mean()\n",
        "\n",
        "for user_id in likes_sum.index:\n",
        "    likes_sum_for_this_user = likes_sum[user_id]\n",
        "    likes_mean_for_this_user = likes_mean[user_id]\n",
        "    likes_max_for_this_user = likes_max[user_id]\n",
        "\n",
        "    users_df.loc[users_df['user_id'] == user_id, 'likes_sum'] = likes_sum_for_this_user\n",
        "    users_df.loc[users_df['user_id'] == user_id, 'likes_mean'] = likes_mean_for_this_user\n",
        "    users_df.loc[users_df['user_id'] == user_id, 'likes_max'] = likes_max_for_this_user\n",
        "\n",
        "\n",
        "users_df['likes_sum'] = users_df['likes_sum'].astype(int)\n",
        "users_df['likes_max'] = users_df['likes_max'].astype(int)"
      ]
    },
    {
      "cell_type": "markdown",
      "metadata": {
        "id": "eM26M7ziUhv9"
      },
      "source": [
        "#### Indicator 4: Ratio between the number of tweets and the number of likes"
      ]
    },
    {
      "cell_type": "code",
      "execution_count": null,
      "metadata": {
        "id": "RmKm9IlmUpxs"
      },
      "outputs": [],
      "source": [
        "grouped = tweets_df.groupby('user_id')\n",
        "\n",
        "likes_sum = grouped['favorite_count'].sum()\n",
        "number_of_tweets = grouped['favorite_count'].count()\n",
        "\n",
        "for user_id in likes_sum.index:\n",
        "    likes_sum_for_this_user = likes_sum[user_id]\n",
        "    number_of_tweets_for_this_user = number_of_tweets[user_id]\n",
        "\n",
        "    ratio_num_likes_and_num_tweets = likes_sum_for_this_user/number_of_tweets_for_this_user\n",
        "\n",
        "    users_df.loc[users_df['user_id'] == user_id, 'ratio_num_likes_and_num_tweets'] = ratio_num_likes_and_num_tweets"
      ]
    },
    {
      "cell_type": "markdown",
      "metadata": {
        "id": "VNbIIwZc4XhM"
      },
      "source": [
        "#### Indicator 5 : Time delta in sec"
      ]
    },
    {
      "cell_type": "markdown",
      "source": [
        "This indicator provides the average time passed between the publishing of two consecutive tweets by the same user expressed in seconds"
      ],
      "metadata": {
        "id": "YKS6aTenjIn6"
      }
    },
    {
      "cell_type": "code",
      "execution_count": null,
      "metadata": {
        "id": "Tktv9tb24W32"
      },
      "outputs": [],
      "source": [
        "uniques_id = users_df['user_id'].unique()\n",
        "grouped = tweets_df.groupby('user_id')\n",
        "\n",
        "for user_id in uniques_id:\n",
        "  dates = grouped.get_group(user_id)[\"created_at\"].sort_values()\n",
        "  if(len(dates)<2):\n",
        "    users_df.loc[users_df['user_id'] == user_id, \"time_delta_sec\"] = 0\n",
        "    continue\n",
        "\n",
        "  mean_delta = 0\n",
        "\n",
        "  for first_date, second_date in zip(dates, dates[1:]):\n",
        "    diff = (second_date-first_date).total_seconds()\n",
        "    mean_delta += diff\n",
        "    time_delta_sec = mean_delta/(len(dates)-1)\n",
        "  \n",
        "  users_df.loc[users_df['user_id'] == user_id, \"time_delta_sec\"] = time_delta_sec"
      ]
    },
    {
      "cell_type": "markdown",
      "metadata": {
        "id": "A-YFlohYUsYU"
      },
      "source": [
        "#### Indicator 6: Entropy of the user"
      ]
    },
    {
      "cell_type": "code",
      "execution_count": null,
      "metadata": {
        "id": "uWLJlhPxoNkJ"
      },
      "outputs": [],
      "source": [
        "from scipy.stats import entropy\n",
        "from math import log, e\n",
        "\n",
        "def calculate_entropy(column):\n",
        "    vc = pd.Series(column).value_counts(normalize=True, sort=False)\n",
        "    return -(vc * np.log(vc)/np.log(e)).sum()"
      ]
    },
    {
      "cell_type": "code",
      "execution_count": null,
      "metadata": {
        "id": "cC_z8rXfmWk9"
      },
      "outputs": [],
      "source": [
        "from scipy.stats import entropy\n",
        "\n",
        "def calculate_entropy_for_this_feature(feature): #must be a tweets_df feature\n",
        "  if feature not in tweets_df.columns:\n",
        "    raise BaseException(\"feature must be a column of tweets_df: [\"+(tweets_df.columns)+\"]\")\n",
        "\n",
        "  uniques_id = users_df['user_id'].unique()\n",
        "  grouped = tweets_df.groupby('user_id')\n",
        "\n",
        "  for user_id in uniques_id:\n",
        "      likes_for_this_user = grouped.get_group(user_id)[feature]\n",
        "      entropy = calculate_entropy(likes_for_this_user)\n",
        "      label = feature+\"_entropy\"\n",
        "      users_df.loc[users_df['user_id'] == user_id, label] = entropy"
      ]
    },
    {
      "cell_type": "code",
      "execution_count": null,
      "metadata": {
        "id": "6lGQkCYYyiEB"
      },
      "outputs": [],
      "source": [
        "calculate_entropy_for_this_feature(\"favorite_count\")"
      ]
    },
    {
      "cell_type": "code",
      "execution_count": null,
      "metadata": {
        "id": "o8u5cYajh_Il",
        "colab": {
          "base_uri": "https://localhost:8080/"
        },
        "outputId": "8b3a82b4-9d06-45f1-f9d5-b353cd7201c3"
      },
      "outputs": [
        {
          "output_type": "stream",
          "name": "stdout",
          "text": [
            "<class 'pandas.core.frame.DataFrame'>\n",
            "Int64Index: 10860709 entries, 0 to 13229861\n",
            "Data columns (total 10 columns):\n",
            " #   Column          Dtype         \n",
            "---  ------          -----         \n",
            " 0   id              int64         \n",
            " 1   user_id         int64         \n",
            " 2   retweet_count   int64         \n",
            " 3   reply_count     int64         \n",
            " 4   favorite_count  int64         \n",
            " 5   num_hashtags    int64         \n",
            " 6   num_urls        int64         \n",
            " 7   num_mentions    int64         \n",
            " 8   created_at      datetime64[ns]\n",
            " 9   text            string        \n",
            "dtypes: datetime64[ns](1), int64(8), string(1)\n",
            "memory usage: 1.1 GB\n"
          ]
        }
      ],
      "source": [
        "tweets_df.info()"
      ]
    },
    {
      "cell_type": "code",
      "execution_count": null,
      "metadata": {
        "id": "MUcWc2rkh4Lg"
      },
      "outputs": [],
      "source": [
        "calculate_entropy_for_this_feature(\"num_hashtags\")"
      ]
    },
    {
      "cell_type": "code",
      "execution_count": null,
      "metadata": {
        "id": "mlslxC_ZiG68"
      },
      "outputs": [],
      "source": [
        "calculate_entropy_for_this_feature(\"created_at\")"
      ]
    },
    {
      "cell_type": "markdown",
      "metadata": {
        "id": "-DpbK5feUzkm"
      },
      "source": [
        "#### Indicator 7: Average  and max length of the tweets per user"
      ]
    },
    {
      "cell_type": "code",
      "execution_count": null,
      "metadata": {
        "id": "5vcDCAB4U5J3"
      },
      "outputs": [],
      "source": [
        "grouped = tweets_df.groupby('user_id')\n",
        "mean_len = grouped['text'].apply(lambda x: x.str.len().mean())\n",
        "max_len = grouped['text'].apply(lambda x: x.str.len().max())\n",
        "\n",
        "for user_id in mean_len.index:\n",
        "    value_mean = mean_len[user_id]\n",
        "    value_max = max_len[user_id]\n",
        "    users_df.loc[users_df['user_id'] == user_id, 'mean_length'] = value_mean\n",
        "    users_df.loc[users_df['user_id'] == user_id, 'mean_length'] = value_max"
      ]
    },
    {
      "cell_type": "markdown",
      "metadata": {
        "id": "1DMgZfroU62f"
      },
      "source": [
        "#### Indicator 8: Average number of special characters in the tweets per user"
      ]
    },
    {
      "cell_type": "code",
      "execution_count": null,
      "metadata": {
        "id": "sgNLvZ6sU-xa"
      },
      "outputs": [],
      "source": [
        "set_of_special_characters = [\".\",\";\",\":\",\"!\",\"?\",\"-\",\",\",\"_\",\"/\",\n",
        "                             \"(\",\")\",\"[\",\"]\",\"{\",\"}\",\"|\",\"\\\\\",\"$\",\n",
        "                             \"%\",\"^\",\"&\",\"*\",\"~\",\"`\",\"'\",\"\\\"\",\n",
        "                             \"<\",\">\",\"=\",\"+\",\"-\",\"—\",\"–\",\"…\",\n",
        "                             \"’\",\"‘\",\"“\",\"”\",\"—\", \"Ã\",\"©\",\"®\",\"™\",\"â\",\"€\",\"™\",\"¢\",\"£\",\n",
        "                             \"¨\",\"§\",\"¶\",\"•\",\"ª\",\"º\",\"¹\",\"²\",\"³\",\"¼\",\"½\",\"¾\",\"¿\",\"×\",\"÷\",\n",
        "                             \"Ø\",\"ø\",\"Æ\",\"æ\",\"ß\",\"Þ\",\"þ\",\"Ð\",\"ð\",\"Ý\",\"ý\",\"ÿ\",\"Ù\",\"ù\",\"Ú\",\n",
        "                             \"¡\",\"¤\",\"¦\",\"¥\",\"¦\",\"¬\",\"¯\",\"±\",\"µ\",\"¶\",\"·\",\"¸\",\"¹\",\"º\",\"»\",\"¼\",\"½\",\"¾\",\"¿\",\"×\",\"÷\",\n",
        "                             \"Û\",\"û\",\"Ý\",\"ý\",\"ÿ\",\"Ÿ\",\"Œ\",\"œ\",\"Š\",\"š\",\"Ÿ\",\"Ž\",\"ž\",\"ƒ\",\n",
        "                             \"Ç\",\"ç\",\"Ê\",\"ê\",\"Ë\",\"ë\",\"Ì\",\"ì\",\"Í\",\"í\",\"Î\",\n",
        "                             \"î\",\"Ï\",\"ï\",\"Ñ\",\"ñ\",\"Ô\",\"ô\",\"Õ\",\"õ\",\"Û\",\"û\",\"Ü\",\"ü\"]\n",
        "\n",
        "uniques_id = users_df['user_id'].unique()\n",
        "grouped = tweets_df.groupby('user_id')\n",
        "combine = lambda x: ''.join(filter(None, x))\n",
        "count_special_characters = lambda x: sum(map(x.count, set_of_special_characters))\n",
        "combined = grouped['text'].apply(combine)\n",
        "number_special_chars_per_users = combined.apply(count_special_characters)"
      ]
    },
    {
      "cell_type": "code",
      "execution_count": null,
      "metadata": {
        "id": "MWgvabZ0bAwG"
      },
      "outputs": [],
      "source": [
        "for user_id in number_special_chars_per_users.index:\n",
        "    number_special_chars_for_this_user = number_special_chars_per_users[user_id]\n",
        "    len_all_tweets_for_this_user = len(combined[user_id])\n",
        "    users_df.loc[users_df['user_id'] == user_id, 'number_of_special_chars'] = number_special_chars_for_this_user\n",
        "    users_df.loc[users_df['user_id'] == user_id, 'len_all_tweets'] = len_all_tweets_for_this_user\n",
        "    users_df.loc[users_df['user_id'] == user_id, 'mean_special_char'] = number_special_chars_for_this_user/len_all_tweets_for_this_user\n",
        "\n",
        "users_df['number_of_special_chars'] = users_df['number_of_special_chars'].astype(int)\n",
        "users_df['len_all_tweets'] = users_df['len_all_tweets'].astype(int)"
      ]
    },
    {
      "cell_type": "markdown",
      "metadata": {
        "id": "6WCGoEECekna"
      },
      "source": [
        "#### Custom Indicator 9 : Mean, Max for num_hashtag"
      ]
    },
    {
      "cell_type": "code",
      "execution_count": null,
      "metadata": {
        "id": "3gfM-OkpyqFn"
      },
      "outputs": [],
      "source": [
        "grouped = tweets_df.groupby('user_id')\n",
        "\n",
        "num_hashtags_mean = grouped['num_hashtags'].mean()\n",
        "num_hashtags_max = grouped['num_hashtags'].max()\n",
        "\n",
        "for user_id in num_hashtags_mean.index:\n",
        "    num_hashtags_mean_for_this_user = num_hashtags_mean[user_id]\n",
        "    num_hashtags_max_for_this_user = num_hashtags_max[user_id]\n",
        "\n",
        "    users_df.loc[users_df['user_id'] == user_id, 'num_hashtags_mean'] = num_hashtags_mean_for_this_user\n",
        "    users_df.loc[users_df['user_id'] == user_id, 'num_hashtags_max'] = num_hashtags_max_for_this_user"
      ]
    },
    {
      "cell_type": "markdown",
      "metadata": {
        "id": "BQUQ5andzB9U"
      },
      "source": [
        "#### Custom Indicator 10 : Mean, Max for num_urls"
      ]
    },
    {
      "cell_type": "code",
      "execution_count": null,
      "metadata": {
        "id": "ho5AbwaOzBPj"
      },
      "outputs": [],
      "source": [
        "grouped = tweets_df.groupby('user_id')\n",
        "\n",
        "num_urls_mean = grouped['num_urls'].mean()\n",
        "num_urls_max = grouped['num_urls'].max()\n",
        "\n",
        "for user_id in num_urls_mean.index:\n",
        "    num_urls_mean_for_this_user = num_urls_mean[user_id]\n",
        "    num_urls_max_for_this_user = num_urls_max[user_id]\n",
        "\n",
        "    users_df.loc[users_df['user_id'] == user_id, 'num_urls_mean'] = num_urls_mean_for_this_user\n",
        "    users_df.loc[users_df['user_id'] == user_id, 'num_urls_max'] = num_urls_max_for_this_user"
      ]
    },
    {
      "cell_type": "markdown",
      "metadata": {
        "id": "VJPUmsRqzjmZ"
      },
      "source": [
        "#### Custom Indicator 11 : Mean, Max for num_mentions"
      ]
    },
    {
      "cell_type": "code",
      "execution_count": null,
      "metadata": {
        "id": "D0iu5Udrziic"
      },
      "outputs": [],
      "source": [
        "grouped = tweets_df.groupby('user_id')\n",
        "\n",
        "num_mentions_mean = grouped['num_mentions'].mean()\n",
        "num_mentions_max = grouped['num_mentions'].max()\n",
        "\n",
        "for user_id in num_mentions_mean.index:\n",
        "    num_mentions_mean_for_this_user = num_mentions_mean[user_id]\n",
        "    num_mentions_max_for_this_user = num_mentions_max[user_id]\n",
        "\n",
        "    users_df.loc[users_df['user_id'] == user_id, 'num_mentions_mean'] = num_mentions_mean_for_this_user\n",
        "    users_df.loc[users_df['user_id'] == user_id, 'num_mentions_max'] = num_mentions_max_for_this_user"
      ]
    },
    {
      "cell_type": "markdown",
      "metadata": {
        "id": "5x8NyHXhycng"
      },
      "source": [
        "#### Custom Indicator 12 : Number of retweets\n"
      ]
    },
    {
      "cell_type": "code",
      "execution_count": null,
      "metadata": {
        "id": "aQOgsrM_-CVE",
        "colab": {
          "base_uri": "https://localhost:8080/"
        },
        "outputId": "527e3594-e5ee-4b46-e4b6-1a45f1e8c961"
      },
      "outputs": [
        {
          "output_type": "stream",
          "name": "stdout",
          "text": [
            "False    8862276\n",
            "True     1998433\n",
            "Name: is_retweet, dtype: Int64\n"
          ]
        }
      ],
      "source": [
        "tweets_df['is_retweet'] = tweets_df['text'].str.contains('^RT @[\\w_]+:', regex=True)\n",
        "print(tweets_df['is_retweet'].value_counts())"
      ]
    },
    {
      "cell_type": "code",
      "execution_count": null,
      "metadata": {
        "id": "w7XaP8Rz3hzO"
      },
      "outputs": [],
      "source": [
        "grouped = tweets_df.groupby('user_id')\n",
        "\n",
        "for i,(val, user_number_of_retweets) in enumerate(grouped['is_retweet'].value_counts().iteritems()):\n",
        "  user_id = val[0]\n",
        "  user_is_a_retweet = val[1]\n",
        "\n",
        "  if user_is_a_retweet:\n",
        "    users_df.loc[users_df['user_id'] == user_id, 'user_number_of_retweets'] = user_number_of_retweets\n",
        "\n",
        "users_df['user_number_of_retweets'] = users_df['user_number_of_retweets'].fillna(0)\n",
        "users_df['user_number_of_retweets'] = users_df['user_number_of_retweets'].astype(int)"
      ]
    },
    {
      "cell_type": "markdown",
      "metadata": {
        "id": "2p9527vRuUJP"
      },
      "source": [
        "## Conclusion: recap of indicators "
      ]
    },
    {
      "cell_type": "code",
      "execution_count": null,
      "metadata": {
        "id": "eRxPIVItuXbT",
        "colab": {
          "base_uri": "https://localhost:8080/"
        },
        "outputId": "d3759828-1a5a-4741-9515-fb8b7530f9cb"
      },
      "outputs": [
        {
          "output_type": "execute_result",
          "data": {
            "text/plain": [
              "Index(['user_id', 'name', 'lang', 'bot', 'subscription_date', 'statuses_count',\n",
              "       'number_of_tweets', 'tweets_2019', 'tweets_2020', 'likes_sum',\n",
              "       'likes_mean', 'likes_max', 'ratio_num_likes_and_num_tweets',\n",
              "       'time_delta_sec', 'favorite_count_entropy', 'num_hashtags_entropy',\n",
              "       'created_at_entropy', 'mean_length', 'number_of_special_chars',\n",
              "       'len_all_tweets', 'mean_special_char', 'num_hashtags_mean',\n",
              "       'num_hashtags_max', 'num_urls_mean', 'num_urls_max',\n",
              "       'num_mentions_mean', 'num_mentions_max', 'user_number_of_retweets'],\n",
              "      dtype='object')"
            ]
          },
          "metadata": {},
          "execution_count": 71
        }
      ],
      "source": [
        "users_df.columns"
      ]
    },
    {
      "cell_type": "code",
      "execution_count": null,
      "metadata": {
        "id": "-O2C4oLb0JpU",
        "colab": {
          "base_uri": "https://localhost:8080/",
          "height": 386
        },
        "outputId": "6f091479-e9fd-46df-ffc8-6685530ef726"
      },
      "outputs": [
        {
          "output_type": "execute_result",
          "data": {
            "text/plain": [
              "      user_id              name lang  bot   subscription_date  statuses_count  \\\n",
              "0  2353593986   Lamonica Raborn   en    1 2019-02-22 18:00:42            76.0   \n",
              "1  2358850842     Lourie Botton   en    0 2019-02-26 03:02:32            54.0   \n",
              "2   137959629  Dadan Syarifudin   en    1 2015-04-30 07:09:56             3.0   \n",
              "3   466124818    Carletto Focia   it    1 2017-01-18 02:49:18            50.0   \n",
              "4  2571493866         MBK Ebook   en    0 2019-06-18 19:30:21          7085.0   \n",
              "\n",
              "   number_of_tweets  tweets_2019  tweets_2020  likes_sum  ...  \\\n",
              "0             127.0          127            0          5  ...   \n",
              "1             119.0          119            0          6  ...   \n",
              "2               4.0            0            0          0  ...   \n",
              "3            1394.0         1393            0        254  ...   \n",
              "4            3535.0            0         3535        218  ...   \n",
              "\n",
              "   number_of_special_chars  len_all_tweets  mean_special_char  \\\n",
              "0                      479            8202           0.058400   \n",
              "1                      392            8367           0.046851   \n",
              "2                       19              77           0.246753   \n",
              "3                     6589          123587           0.053315   \n",
              "4                    10785          263532           0.040925   \n",
              "\n",
              "   num_hashtags_mean  num_hashtags_max  num_urls_mean  num_urls_max  \\\n",
              "0           0.102362               3.0       0.000000           0.0   \n",
              "1           0.033613               1.0       0.000000           0.0   \n",
              "2           0.000000               0.0       0.000000           0.0   \n",
              "3           0.083214               9.0       0.026542           2.0   \n",
              "4           0.135219               4.0       0.004809           2.0   \n",
              "\n",
              "   num_mentions_mean  num_mentions_max  user_number_of_retweets  \n",
              "0           0.283465               1.0                        0  \n",
              "1           0.344538               1.0                        0  \n",
              "2           0.000000               0.0                        0  \n",
              "3           0.006456               3.0                        6  \n",
              "4           0.522772               6.0                        0  \n",
              "\n",
              "[5 rows x 28 columns]"
            ],
            "text/html": [
              "\n",
              "  <div id=\"df-7ac5cafa-cc94-4cca-9840-db57251c896a\">\n",
              "    <div class=\"colab-df-container\">\n",
              "      <div>\n",
              "<style scoped>\n",
              "    .dataframe tbody tr th:only-of-type {\n",
              "        vertical-align: middle;\n",
              "    }\n",
              "\n",
              "    .dataframe tbody tr th {\n",
              "        vertical-align: top;\n",
              "    }\n",
              "\n",
              "    .dataframe thead th {\n",
              "        text-align: right;\n",
              "    }\n",
              "</style>\n",
              "<table border=\"1\" class=\"dataframe\">\n",
              "  <thead>\n",
              "    <tr style=\"text-align: right;\">\n",
              "      <th></th>\n",
              "      <th>user_id</th>\n",
              "      <th>name</th>\n",
              "      <th>lang</th>\n",
              "      <th>bot</th>\n",
              "      <th>subscription_date</th>\n",
              "      <th>statuses_count</th>\n",
              "      <th>number_of_tweets</th>\n",
              "      <th>tweets_2019</th>\n",
              "      <th>tweets_2020</th>\n",
              "      <th>likes_sum</th>\n",
              "      <th>...</th>\n",
              "      <th>number_of_special_chars</th>\n",
              "      <th>len_all_tweets</th>\n",
              "      <th>mean_special_char</th>\n",
              "      <th>num_hashtags_mean</th>\n",
              "      <th>num_hashtags_max</th>\n",
              "      <th>num_urls_mean</th>\n",
              "      <th>num_urls_max</th>\n",
              "      <th>num_mentions_mean</th>\n",
              "      <th>num_mentions_max</th>\n",
              "      <th>user_number_of_retweets</th>\n",
              "    </tr>\n",
              "  </thead>\n",
              "  <tbody>\n",
              "    <tr>\n",
              "      <th>0</th>\n",
              "      <td>2353593986</td>\n",
              "      <td>Lamonica Raborn</td>\n",
              "      <td>en</td>\n",
              "      <td>1</td>\n",
              "      <td>2019-02-22 18:00:42</td>\n",
              "      <td>76.0</td>\n",
              "      <td>127.0</td>\n",
              "      <td>127</td>\n",
              "      <td>0</td>\n",
              "      <td>5</td>\n",
              "      <td>...</td>\n",
              "      <td>479</td>\n",
              "      <td>8202</td>\n",
              "      <td>0.058400</td>\n",
              "      <td>0.102362</td>\n",
              "      <td>3.0</td>\n",
              "      <td>0.000000</td>\n",
              "      <td>0.0</td>\n",
              "      <td>0.283465</td>\n",
              "      <td>1.0</td>\n",
              "      <td>0</td>\n",
              "    </tr>\n",
              "    <tr>\n",
              "      <th>1</th>\n",
              "      <td>2358850842</td>\n",
              "      <td>Lourie Botton</td>\n",
              "      <td>en</td>\n",
              "      <td>0</td>\n",
              "      <td>2019-02-26 03:02:32</td>\n",
              "      <td>54.0</td>\n",
              "      <td>119.0</td>\n",
              "      <td>119</td>\n",
              "      <td>0</td>\n",
              "      <td>6</td>\n",
              "      <td>...</td>\n",
              "      <td>392</td>\n",
              "      <td>8367</td>\n",
              "      <td>0.046851</td>\n",
              "      <td>0.033613</td>\n",
              "      <td>1.0</td>\n",
              "      <td>0.000000</td>\n",
              "      <td>0.0</td>\n",
              "      <td>0.344538</td>\n",
              "      <td>1.0</td>\n",
              "      <td>0</td>\n",
              "    </tr>\n",
              "    <tr>\n",
              "      <th>2</th>\n",
              "      <td>137959629</td>\n",
              "      <td>Dadan Syarifudin</td>\n",
              "      <td>en</td>\n",
              "      <td>1</td>\n",
              "      <td>2015-04-30 07:09:56</td>\n",
              "      <td>3.0</td>\n",
              "      <td>4.0</td>\n",
              "      <td>0</td>\n",
              "      <td>0</td>\n",
              "      <td>0</td>\n",
              "      <td>...</td>\n",
              "      <td>19</td>\n",
              "      <td>77</td>\n",
              "      <td>0.246753</td>\n",
              "      <td>0.000000</td>\n",
              "      <td>0.0</td>\n",
              "      <td>0.000000</td>\n",
              "      <td>0.0</td>\n",
              "      <td>0.000000</td>\n",
              "      <td>0.0</td>\n",
              "      <td>0</td>\n",
              "    </tr>\n",
              "    <tr>\n",
              "      <th>3</th>\n",
              "      <td>466124818</td>\n",
              "      <td>Carletto Focia</td>\n",
              "      <td>it</td>\n",
              "      <td>1</td>\n",
              "      <td>2017-01-18 02:49:18</td>\n",
              "      <td>50.0</td>\n",
              "      <td>1394.0</td>\n",
              "      <td>1393</td>\n",
              "      <td>0</td>\n",
              "      <td>254</td>\n",
              "      <td>...</td>\n",
              "      <td>6589</td>\n",
              "      <td>123587</td>\n",
              "      <td>0.053315</td>\n",
              "      <td>0.083214</td>\n",
              "      <td>9.0</td>\n",
              "      <td>0.026542</td>\n",
              "      <td>2.0</td>\n",
              "      <td>0.006456</td>\n",
              "      <td>3.0</td>\n",
              "      <td>6</td>\n",
              "    </tr>\n",
              "    <tr>\n",
              "      <th>4</th>\n",
              "      <td>2571493866</td>\n",
              "      <td>MBK Ebook</td>\n",
              "      <td>en</td>\n",
              "      <td>0</td>\n",
              "      <td>2019-06-18 19:30:21</td>\n",
              "      <td>7085.0</td>\n",
              "      <td>3535.0</td>\n",
              "      <td>0</td>\n",
              "      <td>3535</td>\n",
              "      <td>218</td>\n",
              "      <td>...</td>\n",
              "      <td>10785</td>\n",
              "      <td>263532</td>\n",
              "      <td>0.040925</td>\n",
              "      <td>0.135219</td>\n",
              "      <td>4.0</td>\n",
              "      <td>0.004809</td>\n",
              "      <td>2.0</td>\n",
              "      <td>0.522772</td>\n",
              "      <td>6.0</td>\n",
              "      <td>0</td>\n",
              "    </tr>\n",
              "  </tbody>\n",
              "</table>\n",
              "<p>5 rows × 28 columns</p>\n",
              "</div>\n",
              "      <button class=\"colab-df-convert\" onclick=\"convertToInteractive('df-7ac5cafa-cc94-4cca-9840-db57251c896a')\"\n",
              "              title=\"Convert this dataframe to an interactive table.\"\n",
              "              style=\"display:none;\">\n",
              "        \n",
              "  <svg xmlns=\"http://www.w3.org/2000/svg\" height=\"24px\"viewBox=\"0 0 24 24\"\n",
              "       width=\"24px\">\n",
              "    <path d=\"M0 0h24v24H0V0z\" fill=\"none\"/>\n",
              "    <path d=\"M18.56 5.44l.94 2.06.94-2.06 2.06-.94-2.06-.94-.94-2.06-.94 2.06-2.06.94zm-11 1L8.5 8.5l.94-2.06 2.06-.94-2.06-.94L8.5 2.5l-.94 2.06-2.06.94zm10 10l.94 2.06.94-2.06 2.06-.94-2.06-.94-.94-2.06-.94 2.06-2.06.94z\"/><path d=\"M17.41 7.96l-1.37-1.37c-.4-.4-.92-.59-1.43-.59-.52 0-1.04.2-1.43.59L10.3 9.45l-7.72 7.72c-.78.78-.78 2.05 0 2.83L4 21.41c.39.39.9.59 1.41.59.51 0 1.02-.2 1.41-.59l7.78-7.78 2.81-2.81c.8-.78.8-2.07 0-2.86zM5.41 20L4 18.59l7.72-7.72 1.47 1.35L5.41 20z\"/>\n",
              "  </svg>\n",
              "      </button>\n",
              "      \n",
              "  <style>\n",
              "    .colab-df-container {\n",
              "      display:flex;\n",
              "      flex-wrap:wrap;\n",
              "      gap: 12px;\n",
              "    }\n",
              "\n",
              "    .colab-df-convert {\n",
              "      background-color: #E8F0FE;\n",
              "      border: none;\n",
              "      border-radius: 50%;\n",
              "      cursor: pointer;\n",
              "      display: none;\n",
              "      fill: #1967D2;\n",
              "      height: 32px;\n",
              "      padding: 0 0 0 0;\n",
              "      width: 32px;\n",
              "    }\n",
              "\n",
              "    .colab-df-convert:hover {\n",
              "      background-color: #E2EBFA;\n",
              "      box-shadow: 0px 1px 2px rgba(60, 64, 67, 0.3), 0px 1px 3px 1px rgba(60, 64, 67, 0.15);\n",
              "      fill: #174EA6;\n",
              "    }\n",
              "\n",
              "    [theme=dark] .colab-df-convert {\n",
              "      background-color: #3B4455;\n",
              "      fill: #D2E3FC;\n",
              "    }\n",
              "\n",
              "    [theme=dark] .colab-df-convert:hover {\n",
              "      background-color: #434B5C;\n",
              "      box-shadow: 0px 1px 3px 1px rgba(0, 0, 0, 0.15);\n",
              "      filter: drop-shadow(0px 1px 2px rgba(0, 0, 0, 0.3));\n",
              "      fill: #FFFFFF;\n",
              "    }\n",
              "  </style>\n",
              "\n",
              "      <script>\n",
              "        const buttonEl =\n",
              "          document.querySelector('#df-7ac5cafa-cc94-4cca-9840-db57251c896a button.colab-df-convert');\n",
              "        buttonEl.style.display =\n",
              "          google.colab.kernel.accessAllowed ? 'block' : 'none';\n",
              "\n",
              "        async function convertToInteractive(key) {\n",
              "          const element = document.querySelector('#df-7ac5cafa-cc94-4cca-9840-db57251c896a');\n",
              "          const dataTable =\n",
              "            await google.colab.kernel.invokeFunction('convertToInteractive',\n",
              "                                                     [key], {});\n",
              "          if (!dataTable) return;\n",
              "\n",
              "          const docLinkHtml = 'Like what you see? Visit the ' +\n",
              "            '<a target=\"_blank\" href=https://colab.research.google.com/notebooks/data_table.ipynb>data table notebook</a>'\n",
              "            + ' to learn more about interactive tables.';\n",
              "          element.innerHTML = '';\n",
              "          dataTable['output_type'] = 'display_data';\n",
              "          await google.colab.output.renderOutput(dataTable, element);\n",
              "          const docLink = document.createElement('div');\n",
              "          docLink.innerHTML = docLinkHtml;\n",
              "          element.appendChild(docLink);\n",
              "        }\n",
              "      </script>\n",
              "    </div>\n",
              "  </div>\n",
              "  "
            ]
          },
          "metadata": {},
          "execution_count": 72
        }
      ],
      "source": [
        "users_df.head()"
      ]
    },
    {
      "cell_type": "code",
      "execution_count": null,
      "metadata": {
        "id": "w-WgUbJX1Hws",
        "colab": {
          "base_uri": "https://localhost:8080/"
        },
        "outputId": "274beab0-a273-4ad9-b50f-3315b9f12cee"
      },
      "outputs": [
        {
          "output_type": "stream",
          "name": "stdout",
          "text": [
            "<class 'pandas.core.frame.DataFrame'>\n",
            "Int64Index: 11508 entries, 0 to 11507\n",
            "Data columns (total 28 columns):\n",
            " #   Column                          Non-Null Count  Dtype         \n",
            "---  ------                          --------------  -----         \n",
            " 0   user_id                         11508 non-null  int64         \n",
            " 1   name                            11508 non-null  string        \n",
            " 2   lang                            11508 non-null  object        \n",
            " 3   bot                             11508 non-null  int64         \n",
            " 4   subscription_date               11508 non-null  datetime64[ns]\n",
            " 5   statuses_count                  11508 non-null  float64       \n",
            " 6   number_of_tweets                11508 non-null  float64       \n",
            " 7   tweets_2019                     11508 non-null  int64         \n",
            " 8   tweets_2020                     11508 non-null  int64         \n",
            " 9   likes_sum                       11508 non-null  int64         \n",
            " 10  likes_mean                      11508 non-null  float64       \n",
            " 11  likes_max                       11508 non-null  int64         \n",
            " 12  ratio_num_likes_and_num_tweets  11508 non-null  float64       \n",
            " 13  time_delta_sec                  11508 non-null  float64       \n",
            " 14  favorite_count_entropy          11508 non-null  float64       \n",
            " 15  num_hashtags_entropy            11508 non-null  float64       \n",
            " 16  created_at_entropy              11508 non-null  float64       \n",
            " 17  mean_length                     11508 non-null  float64       \n",
            " 18  number_of_special_chars         11508 non-null  int64         \n",
            " 19  len_all_tweets                  11508 non-null  int64         \n",
            " 20  mean_special_char               11508 non-null  float64       \n",
            " 21  num_hashtags_mean               11508 non-null  float64       \n",
            " 22  num_hashtags_max                11508 non-null  float64       \n",
            " 23  num_urls_mean                   11508 non-null  float64       \n",
            " 24  num_urls_max                    11508 non-null  float64       \n",
            " 25  num_mentions_mean               11508 non-null  float64       \n",
            " 26  num_mentions_max                11508 non-null  float64       \n",
            " 27  user_number_of_retweets         11508 non-null  int64         \n",
            "dtypes: datetime64[ns](1), float64(16), int64(9), object(1), string(1)\n",
            "memory usage: 2.5+ MB\n"
          ]
        }
      ],
      "source": [
        "users_df.info()"
      ]
    },
    {
      "cell_type": "code",
      "execution_count": null,
      "metadata": {
        "id": "gUcf85O_1Zp-",
        "colab": {
          "base_uri": "https://localhost:8080/"
        },
        "outputId": "8aa86e86-be31-43e0-cbd6-fb2df679061a"
      },
      "outputs": [
        {
          "output_type": "stream",
          "name": "stdout",
          "text": [
            "user_id have NaN: False : 0\n",
            "name have NaN: False : 0\n",
            "lang have NaN: False : 0\n",
            "bot have NaN: False : 0\n",
            "subscription_date have NaN: False : 0\n",
            "statuses_count have NaN: False : 0\n",
            "number_of_tweets have NaN: False : 0\n",
            "tweets_2019 have NaN: False : 0\n",
            "tweets_2020 have NaN: False : 0\n",
            "likes_sum have NaN: False : 0\n",
            "likes_mean have NaN: False : 0\n",
            "likes_max have NaN: False : 0\n",
            "ratio_num_likes_and_num_tweets have NaN: False : 0\n",
            "time_delta_sec have NaN: False : 0\n",
            "favorite_count_entropy have NaN: False : 0\n",
            "num_hashtags_entropy have NaN: False : 0\n",
            "created_at_entropy have NaN: False : 0\n",
            "mean_length have NaN: False : 0\n",
            "number_of_special_chars have NaN: False : 0\n",
            "len_all_tweets have NaN: False : 0\n",
            "mean_special_char have NaN: False : 0\n",
            "num_hashtags_mean have NaN: False : 0\n",
            "num_hashtags_max have NaN: False : 0\n",
            "num_urls_mean have NaN: False : 0\n",
            "num_urls_max have NaN: False : 0\n",
            "num_mentions_mean have NaN: False : 0\n",
            "num_mentions_max have NaN: False : 0\n",
            "user_number_of_retweets have NaN: False : 0\n"
          ]
        }
      ],
      "source": [
        "for col in users_df:\n",
        "  print(f\"{col} have NaN: {users_df[col].isna().values.any()} : {users_df[col].isna().sum()}\")"
      ]
    },
    {
      "cell_type": "markdown",
      "metadata": {
        "id": "pqJqUInapdGg"
      },
      "source": [
        "#Correlation"
      ]
    },
    {
      "cell_type": "code",
      "execution_count": null,
      "metadata": {
        "id": "eie6rm-ZJmH3",
        "colab": {
          "base_uri": "https://localhost:8080/",
          "height": 1000
        },
        "outputId": "1874bb4f-92f8-49d7-8d3d-65dfd952c139"
      },
      "outputs": [
        {
          "output_type": "display_data",
          "data": {
            "text/plain": [
              "<Figure size 2160x1080 with 2 Axes>"
            ],
            "image/png": "[encoded data removed]"
          },
          "metadata": {}
        }
      ],
      "source": [
        "corr = users_df.drop(columns=['user_id', 'user_id']).corr()\n",
        "\n",
        "mask = np.triu(np.ones_like(corr, dtype=bool))\n",
        "f, ax = plt.subplots(figsize=(30, 15))\n",
        "\n",
        "cmap = sns.diverging_palette(230, 20, as_cmap=True)\n",
        "sns.heatmap(corr, mask=mask, annot=True, annot_kws={\"size\": 10},\n",
        "            cmap=cmap, center=0,\n",
        "            square=True, linewidths=.5)\n",
        "plt.show()"
      ]
    },
    {
      "cell_type": "markdown",
      "metadata": {
        "id": "v6jAhbWThUNq"
      },
      "source": [
        "# Saving the merged dataframe in order to be used in future tasks"
      ]
    },
    {
      "cell_type": "code",
      "source": [
        "from google.colab import drive\n",
        "drive.mount('/content/drive')"
      ],
      "metadata": {
        "colab": {
          "base_uri": "https://localhost:8080/"
        },
        "id": "R7DJoUchTdoD",
        "outputId": "394375f8-5ab8-45c0-f3a5-919b1901c48a"
      },
      "execution_count": null,
      "outputs": [
        {
          "output_type": "stream",
          "name": "stdout",
          "text": [
            "Mounted at /content/drive\n"
          ]
        }
      ]
    },
    {
      "cell_type": "code",
      "source": [
        "path = \"/content/drive/My Drive/Datasets/Data Mining/users_new.csv\"\n",
        "users_df.to_csv(path)\n",
        "path = \"/content/drive/My Drive/Datasets/Data Mining/tweets_new.csv\"\n",
        "tweets_df.to_csv(path)"
      ],
      "metadata": {
        "id": "I6IeyOSHTfFc"
      },
      "execution_count": null,
      "outputs": []
    }
  ],
  "metadata": {
    "colab": {
      "collapsed_sections": [],
      "provenance": [],
      "toc_visible": true,
      "include_colab_link": true
    },
    "kernelspec": {
      "display_name": "Python 3",
      "name": "python3"
    },
    "language_info": {
      "name": "python"
    }
  },
  "nbformat": 4,
  "nbformat_minor": 0
}