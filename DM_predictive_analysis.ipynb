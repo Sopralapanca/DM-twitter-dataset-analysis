{
  "cells": [
    {
      "cell_type": "markdown",
      "metadata": {
        "id": "view-in-github",
        "colab_type": "text"
      },
      "source": [
        "<a href=\"https://colab.research.google.com/github/Sopralapanca/TwitterDataset-DM-Project/blob/main/DM_predictive_analysis.ipynb\" target=\"_parent\"><img src=\"https://colab.research.google.com/assets/colab-badge.svg\" alt=\"Open In Colab\"/></a>"
      ]
    },
    {
      "cell_type": "markdown",
      "metadata": {
        "id": "sDEATIMiXh4y"
      },
      "source": [
        "# Text\n",
        "Consider the problem of predicting for each user the label which is a binary variable that indicates if a user is a bot or a genuine user.\n",
        "\n",
        "The students need to:\n",
        "1. Define a user profile that enables the classification. Please, reason on the\n",
        "suitability of the user profile, defined for the clustering analysis. In case this profile is not suitable for the above prediction problem you can also change the indicators.\n",
        "\n",
        "2. Perform the predictive analysis comparing the performance of different models\n",
        "discussing the results and discussing the possible preprocessing applied to the\n",
        "data for managing possible identified problems that can make the prediction hard.\n",
        "\n",
        "Note that the evaluation should be performed on both training and test sets.\n"
      ]
    },
    {
      "cell_type": "markdown",
      "metadata": {
        "id": "4HBC5qyu1rPG"
      },
      "source": [
        "# Downloading data and import libraries"
      ]
    },
    {
      "cell_type": "code",
      "execution_count": null,
      "metadata": {
        "id": "VYfIdMRJ1b6U"
      },
      "outputs": [],
      "source": [
        "import os\n",
        "import time\n",
        "import numpy as np\n",
        "import pandas as pd\n",
        "import seaborn as sns \n",
        "from os import path\n",
        "\n",
        "from sklearn import metrics\n",
        "from sklearn.metrics import classification_report\n",
        "from sklearn.model_selection import cross_validate\n",
        "import statistics\n",
        "\n",
        "from sklearn.metrics import ConfusionMatrixDisplay\n",
        "import matplotlib.pyplot as plt\n",
        "\n",
        "from sklearn.model_selection import RandomizedSearchCV\n",
        "from sklearn.model_selection import GridSearchCV\n",
        "from scipy.stats import randint as sp_randint\n",
        "from sklearn.metrics import make_scorer\n",
        "from sklearn.metrics import accuracy_score"
      ]
    },
    {
      "cell_type": "code",
      "execution_count": null,
      "metadata": {
        "id": "FsWmaol9ZOlK"
      },
      "outputs": [],
      "source": [
        "very_start_time=time.time()"
      ]
    },
    {
      "cell_type": "code",
      "execution_count": null,
      "metadata": {
        "colab": {
          "base_uri": "https://localhost:8080/"
        },
        "id": "mJpAMoCmWWrh",
        "outputId": "faa516b8-0df9-4322-fe6a-dd5d092b2f70"
      },
      "outputs": [
        {
          "output_type": "stream",
          "name": "stdout",
          "text": [
            "Looking in indexes: https://pypi.org/simple, https://us-python.pkg.dev/colab-wheels/public/simple/\n",
            "Requirement already satisfied: gdown in /usr/local/lib/python3.8/dist-packages (4.4.0)\n",
            "Requirement already satisfied: beautifulsoup4 in /usr/local/lib/python3.8/dist-packages (from gdown) (4.6.3)\n",
            "Requirement already satisfied: filelock in /usr/local/lib/python3.8/dist-packages (from gdown) (3.8.2)\n",
            "Requirement already satisfied: six in /usr/local/lib/python3.8/dist-packages (from gdown) (1.15.0)\n",
            "Requirement already satisfied: requests[socks] in /usr/local/lib/python3.8/dist-packages (from gdown) (2.25.1)\n",
            "Requirement already satisfied: tqdm in /usr/local/lib/python3.8/dist-packages (from gdown) (4.64.1)\n",
            "Requirement already satisfied: chardet<5,>=3.0.2 in /usr/local/lib/python3.8/dist-packages (from requests[socks]->gdown) (4.0.0)\n",
            "Requirement already satisfied: certifi>=2017.4.17 in /usr/local/lib/python3.8/dist-packages (from requests[socks]->gdown) (2022.12.7)\n",
            "Requirement already satisfied: idna<3,>=2.5 in /usr/local/lib/python3.8/dist-packages (from requests[socks]->gdown) (2.10)\n",
            "Requirement already satisfied: urllib3<1.27,>=1.21.1 in /usr/local/lib/python3.8/dist-packages (from requests[socks]->gdown) (1.24.3)\n",
            "Requirement already satisfied: PySocks!=1.5.7,>=1.5.6 in /usr/local/lib/python3.8/dist-packages (from requests[socks]->gdown) (1.7.1)\n",
            "Looking in indexes: https://pypi.org/simple, https://us-python.pkg.dev/colab-wheels/public/simple/\n",
            "Requirement already satisfied: pydotplus in /usr/local/lib/python3.8/dist-packages (2.0.2)\n",
            "Requirement already satisfied: pyparsing>=2.0.1 in /usr/local/lib/python3.8/dist-packages (from pydotplus) (3.0.9)\n"
          ]
        }
      ],
      "source": [
        "!pip install gdown\n",
        "!pip install pydotplus"
      ]
    },
    {
      "cell_type": "code",
      "execution_count": null,
      "metadata": {
        "id": "0eFx67JEHgfT"
      },
      "outputs": [],
      "source": [
        "file_name = \"users_final.parquet.gzip\""
      ]
    },
    {
      "cell_type": "code",
      "execution_count": null,
      "metadata": {
        "colab": {
          "base_uri": "https://localhost:8080/"
        },
        "id": "7l8L30vGlmD4",
        "outputId": "bc6bcd1b-c2b2-4d7f-86b1-30546c58b49c"
      },
      "outputs": [
        {
          "output_type": "stream",
          "name": "stdout",
          "text": [
            "Downloading...\n",
            "From: https://drive.google.com/uc?id=1cG6TcjL5DygWGTsThL9CT9XJRqfueg_G\n",
            "To: /content/users_final.parquet.gzip\n",
            "\r  0% 0.00/1.18M [00:00<?, ?B/s]\r100% 1.18M/1.18M [00:00<00:00, 131MB/s]\n"
          ]
        }
      ],
      "source": [
        "if not path.exists(file_name):\n",
        "  users_df_id = \"1cG6TcjL5DygWGTsThL9CT9XJRqfueg_G\"\n",
        "  !gdown $users_df_id"
      ]
    },
    {
      "cell_type": "code",
      "execution_count": null,
      "metadata": {
        "colab": {
          "base_uri": "https://localhost:8080/"
        },
        "id": "3-FZU4gKmt8R",
        "outputId": "19153cfe-3d9b-4582-fae9-118baa251d19"
      },
      "outputs": [
        {
          "output_type": "stream",
          "name": "stdout",
          "text": [
            "<class 'pandas.core.frame.DataFrame'>\n",
            "Int64Index: 11508 entries, 0 to 11507\n",
            "Data columns (total 36 columns):\n",
            " #   Column                          Non-Null Count  Dtype         \n",
            "---  ------                          --------------  -----         \n",
            " 0   user_id                         11508 non-null  int64         \n",
            " 1   name                            11508 non-null  string        \n",
            " 2   lang                            11508 non-null  object        \n",
            " 3   bot                             11508 non-null  int64         \n",
            " 4   subscription_date               11508 non-null  datetime64[ns]\n",
            " 5   statuses_count                  11508 non-null  float64       \n",
            " 6   number_of_tweets                11508 non-null  int64         \n",
            " 7   tweets_2019                     11508 non-null  int64         \n",
            " 8   tweets_2020                     11508 non-null  int64         \n",
            " 9   likes_sum                       11508 non-null  int64         \n",
            " 10  likes_mean                      11508 non-null  int64         \n",
            " 11  likes_max                       11508 non-null  int64         \n",
            " 12  ratio_num_likes_and_num_tweets  11508 non-null  float64       \n",
            " 13  mean_time_delta_sec             11508 non-null  float64       \n",
            " 14  min_delta_sec                   11508 non-null  float64       \n",
            " 15  mean_length                     11508 non-null  int64         \n",
            " 16  max_length                      11508 non-null  int64         \n",
            " 17  sum_number_of_special_chars     11508 non-null  int64         \n",
            " 18  sum_len_all_tweets              11508 non-null  int64         \n",
            " 19  num_hashtags_mean               11508 non-null  int64         \n",
            " 20  num_hashtags_max                11508 non-null  int64         \n",
            " 21  num_urls_mean                   11508 non-null  int64         \n",
            " 22  num_urls_max                    11508 non-null  int64         \n",
            " 23  num_mentions_mean               11508 non-null  int64         \n",
            " 24  num_mentions_max                11508 non-null  int64         \n",
            " 25  user_number_of_retweets         11508 non-null  int64         \n",
            " 26  consecutive_days                11508 non-null  int64         \n",
            " 27  sum_duplicate_tweets            11508 non-null  Int64         \n",
            " 28  max_duplicate_tweets            11508 non-null  Int64         \n",
            " 29  average_tweets_per_h            11508 non-null  int64         \n",
            " 30  min_tweets_per_h                11508 non-null  int64         \n",
            " 31  max_tweets_per_h                11508 non-null  int64         \n",
            " 32  favorite_count_entropy          11508 non-null  float64       \n",
            " 33  num_hashtags_entropy            11508 non-null  float64       \n",
            " 34  created_at_entropy              11508 non-null  float64       \n",
            " 35  length_entropy                  11508 non-null  float64       \n",
            "dtypes: Int64(2), datetime64[ns](1), float64(8), int64(23), object(1), string(1)\n",
            "memory usage: 3.3+ MB\n"
          ]
        }
      ],
      "source": [
        "df = pd.read_parquet(file_name)\n",
        "df.info()"
      ]
    },
    {
      "cell_type": "code",
      "execution_count": null,
      "metadata": {
        "id": "NZvPdYJVd7Mm"
      },
      "outputs": [],
      "source": [
        "# check null values\n",
        "r = df.isnull().values.any()\n",
        "assert r == False"
      ]
    },
    {
      "cell_type": "markdown",
      "metadata": {
        "id": "EJtv8jcxec4R"
      },
      "source": [
        "# Setup "
      ]
    },
    {
      "cell_type": "markdown",
      "metadata": {
        "id": "TSYhdAkIekZC"
      },
      "source": [
        "First of all we discretize categorical features like lang"
      ]
    },
    {
      "cell_type": "code",
      "execution_count": null,
      "metadata": {
        "id": "w3fHMOvbg608"
      },
      "outputs": [],
      "source": [
        "#function to discretize the variables\n",
        "#input: the dataset and the list of variables' names to discretize\n",
        "def discretize_data(dataset, variables):\n",
        "    for variable in variables:\n",
        "        #get the unique variable's values\n",
        "        var = sorted(dataset[variable].unique())\n",
        "        \n",
        "        #generate a mapping from the variable's values to the number representation  \n",
        "        mapping = dict(zip(var, range(0, len(var) + 1)))\n",
        "\n",
        "        #add a new colum with the number representation of the variable\n",
        "        dataset[variable+'_num'] = dataset[variable].map(mapping).astype(int)\n",
        "    return dataset\n",
        "\n",
        "variables = ['lang']\n",
        "df = discretize_data(df, variables)"
      ]
    },
    {
      "cell_type": "code",
      "execution_count": null,
      "metadata": {
        "colab": {
          "base_uri": "https://localhost:8080/"
        },
        "id": "HZg14hgYhVAm",
        "outputId": "cc820ad4-680b-4459-ea24-4d71ebea3dee"
      },
      "outputs": [
        {
          "output_type": "stream",
          "name": "stdout",
          "text": [
            "<class 'pandas.core.frame.DataFrame'>\n",
            "Int64Index: 11508 entries, 0 to 11507\n",
            "Data columns (total 37 columns):\n",
            " #   Column                          Non-Null Count  Dtype         \n",
            "---  ------                          --------------  -----         \n",
            " 0   user_id                         11508 non-null  int64         \n",
            " 1   name                            11508 non-null  string        \n",
            " 2   lang                            11508 non-null  object        \n",
            " 3   bot                             11508 non-null  int64         \n",
            " 4   subscription_date               11508 non-null  datetime64[ns]\n",
            " 5   statuses_count                  11508 non-null  float64       \n",
            " 6   number_of_tweets                11508 non-null  int64         \n",
            " 7   tweets_2019                     11508 non-null  int64         \n",
            " 8   tweets_2020                     11508 non-null  int64         \n",
            " 9   likes_sum                       11508 non-null  int64         \n",
            " 10  likes_mean                      11508 non-null  int64         \n",
            " 11  likes_max                       11508 non-null  int64         \n",
            " 12  ratio_num_likes_and_num_tweets  11508 non-null  float64       \n",
            " 13  mean_time_delta_sec             11508 non-null  float64       \n",
            " 14  min_delta_sec                   11508 non-null  float64       \n",
            " 15  mean_length                     11508 non-null  int64         \n",
            " 16  max_length                      11508 non-null  int64         \n",
            " 17  sum_number_of_special_chars     11508 non-null  int64         \n",
            " 18  sum_len_all_tweets              11508 non-null  int64         \n",
            " 19  num_hashtags_mean               11508 non-null  int64         \n",
            " 20  num_hashtags_max                11508 non-null  int64         \n",
            " 21  num_urls_mean                   11508 non-null  int64         \n",
            " 22  num_urls_max                    11508 non-null  int64         \n",
            " 23  num_mentions_mean               11508 non-null  int64         \n",
            " 24  num_mentions_max                11508 non-null  int64         \n",
            " 25  user_number_of_retweets         11508 non-null  int64         \n",
            " 26  consecutive_days                11508 non-null  int64         \n",
            " 27  sum_duplicate_tweets            11508 non-null  Int64         \n",
            " 28  max_duplicate_tweets            11508 non-null  Int64         \n",
            " 29  average_tweets_per_h            11508 non-null  int64         \n",
            " 30  min_tweets_per_h                11508 non-null  int64         \n",
            " 31  max_tweets_per_h                11508 non-null  int64         \n",
            " 32  favorite_count_entropy          11508 non-null  float64       \n",
            " 33  num_hashtags_entropy            11508 non-null  float64       \n",
            " 34  created_at_entropy              11508 non-null  float64       \n",
            " 35  length_entropy                  11508 non-null  float64       \n",
            " 36  lang_num                        11508 non-null  int64         \n",
            "dtypes: Int64(2), datetime64[ns](1), float64(8), int64(24), object(1), string(1)\n",
            "memory usage: 3.4+ MB\n"
          ]
        }
      ],
      "source": [
        "df.info()"
      ]
    },
    {
      "cell_type": "markdown",
      "metadata": {
        "id": "zdMiKqLjfMJG"
      },
      "source": [
        "We check if the dataset is balanced or not"
      ]
    },
    {
      "cell_type": "code",
      "execution_count": null,
      "metadata": {
        "colab": {
          "base_uri": "https://localhost:8080/"
        },
        "id": "nnODT3YDfMJH",
        "outputId": "0f793295-6270-4691-8607-ff51d40b96ea"
      },
      "outputs": [
        {
          "output_type": "stream",
          "name": "stdout",
          "text": [
            "We have a dataset of 11508 users.\n",
            "The 0.5315 % are bots, while the 0.4685 % are genunine users.\n"
          ]
        }
      ],
      "source": [
        "print(\"We have a dataset of\", len(df), \"users.\")\n",
        "print(\"The\", round(df[\"bot\"].value_counts()[1]/len(df), 4), \"% are bots, while the\", round(df[\"bot\"].value_counts()[0]/len(df), 4), \"% are genunine users.\")"
      ]
    },
    {
      "cell_type": "markdown",
      "metadata": {
        "id": "-w40FOObfMJI"
      },
      "source": [
        "Since that, we don't need to use some balancing tecnique."
      ]
    },
    {
      "cell_type": "markdown",
      "metadata": {
        "id": "YmklqtJ7hQ7m"
      },
      "source": [
        "Then we save bot feature that we use as label for classification and we drop useless feature"
      ]
    },
    {
      "cell_type": "code",
      "execution_count": null,
      "metadata": {
        "id": "1_ymWOW3hdmQ"
      },
      "outputs": [],
      "source": [
        "label = df.pop('bot')\n",
        "\n",
        "df.drop(columns=['name', 'lang', 'subscription_date', 'user_id'], axis=1, inplace=True)"
      ]
    },
    {
      "cell_type": "markdown",
      "metadata": {
        "id": "scesB0p4XLeH"
      },
      "source": [
        "# Scaling the data"
      ]
    },
    {
      "cell_type": "code",
      "execution_count": null,
      "metadata": {
        "id": "gbaqWQji74DO"
      },
      "outputs": [],
      "source": [
        "for column in df.columns:\n",
        "  df[column] = df[column].apply(lambda x: np.log(x+1))"
      ]
    },
    {
      "cell_type": "code",
      "execution_count": null,
      "metadata": {
        "id": "5YBq5bmyrjEm"
      },
      "outputs": [],
      "source": [
        "from sklearn.preprocessing import StandardScaler, MinMaxScaler\n",
        "\n",
        "scaler = StandardScaler()\n",
        "scaler.fit(df.values)\n",
        "scaled_values = scaler.transform(df.values)\n",
        "\n",
        "df_scaled = pd.DataFrame(scaled_values, columns=df.columns)"
      ]
    },
    {
      "cell_type": "markdown",
      "metadata": {
        "id": "9vlNlK5itD1T"
      },
      "source": [
        "# Utilities"
      ]
    },
    {
      "cell_type": "code",
      "execution_count": null,
      "metadata": {
        "id": "FOppUXRuF8rx"
      },
      "outputs": [],
      "source": [
        "# Constants \n",
        "seed = 42\n",
        "np.random.seed(seed)\n",
        "\n",
        "test_size = 0.10  # test set size\n",
        "\n",
        "# dataframe to plot results\n",
        "results_df = pd.DataFrame(columns=['model','score','value'])\n",
        "\n",
        "compute_model_selection = False"
      ]
    },
    {
      "cell_type": "code",
      "execution_count": null,
      "metadata": {
        "id": "fuNngot0fuSf"
      },
      "outputs": [],
      "source": [
        "# method to append rows on results_df\n",
        "# we append the cross validation, f1 score and accuracy for each model we tested\n",
        "\n",
        "def append_df(results_df, model_name, accuracy_result, f1_result, validation_score):\n",
        "  new_row = {'model':model_name, 'score':'CROSS-VALIDATION', 'value':validation_score}\n",
        "  results_df = results_df.append(new_row, ignore_index=True)\n",
        "  \n",
        "  new_row = {'model':model_name, 'score':'F1', 'value':f1_result}\n",
        "  results_df = results_df.append(new_row, ignore_index=True)\n",
        "  \n",
        "  new_row = {'model':model_name, 'score':'ACCURACY', 'value':accuracy_result}\n",
        "  results_df = results_df.append(new_row, ignore_index=True)\n",
        "\n",
        "  return results_df"
      ]
    },
    {
      "cell_type": "markdown",
      "metadata": {
        "id": "sQu9HMICtdl5"
      },
      "source": [
        "## Model Selection utilities"
      ]
    },
    {
      "cell_type": "code",
      "execution_count": null,
      "metadata": {
        "id": "UHDwCJWPtdOQ"
      },
      "outputs": [],
      "source": [
        "def plots(random_search, dict_params):\n",
        "  df = pd.DataFrame(random_search.cv_results_)\n",
        "\n",
        "  if \"param_class_weight\" in df.columns: \n",
        "    df['param_class_weight'] = df['param_class_weight'].astype(\"string\")\n",
        "\n",
        "  if \"param_hidden_layer_sizes\" in df.columns: \n",
        "    df['param_hidden_layer_sizes'] = df['param_hidden_layer_sizes'].astype(\"string\")\n",
        "\n",
        "  if \"bootstrap\" in df.columns:\n",
        "    df['bootstrap'] = df['bootstrap'].astype(\"string\")\n",
        "  \n",
        "  results = ['mean_test_score',\n",
        "            'mean_train_score',\n",
        "            'std_test_score', \n",
        "            'std_train_score']\n",
        "\n",
        "  \n",
        "  def pooled_var(stds):\n",
        "      n = 5 # size of each group\n",
        "      return np.sqrt(sum((n-1)*(stds**2))/ len(stds)*(n-1))\n",
        "\n",
        "\n",
        "  fig, axes = plt.subplots(1, len(dict_params), \n",
        "                          figsize = (5*len(dict_params), 7),\n",
        "                          sharey='row')\n",
        "  if len(dict_params) > 1:\n",
        "    axes[0].set_ylabel(\"Score\", fontsize=25)\n",
        "  else:\n",
        "    axes.set_ylabel(\"Score\", fontsize=25)\n",
        "  \n",
        "  lw = 2\n",
        "  \n",
        "  for idx, (param_name, param_range) in enumerate(dict_params.items()):\n",
        "    \n",
        "      grouped_df = df.groupby(f'param_{param_name}')[results]\\\n",
        "          .agg({'mean_train_score': 'mean',\n",
        "                'mean_test_score': 'mean',\n",
        "                'std_train_score': pooled_var,\n",
        "                'std_test_score': pooled_var})\n",
        "\n",
        "      previous_group = df.groupby(f'param_{param_name}')[results]\n",
        "      if len(dict_params) > 1:\n",
        "        axes[idx].set_xlabel(param_name, fontsize=30)\n",
        "        axes[idx].set_ylim(0.0, 1.1)\n",
        "\n",
        "        x_values = grouped_df['mean_train_score'].axes[0]\n",
        "\n",
        "        axes[idx].plot(x_values, grouped_df['mean_train_score'], label=\"Training score\",\n",
        "                    color=\"darkorange\", lw=lw)\n",
        "        \n",
        "        if(param_name==\"bootstrap\"):\n",
        "          x_values = x_values.astype(\"str\")\n",
        "        \n",
        "        axes[idx].fill_between(x_values, grouped_df['mean_train_score'] - grouped_df['std_train_score'],\n",
        "                        grouped_df['mean_train_score'] + grouped_df['std_train_score'], alpha=0.2,\n",
        "                        color=\"darkorange\", lw=lw)\n",
        "        \n",
        "        axes[idx].plot(x_values, grouped_df['mean_test_score'], label=\"Cross-validation score\",\n",
        "                    color=\"navy\", lw=lw)\n",
        "        \n",
        "        axes[idx].fill_between(x_values, grouped_df['mean_test_score'] - grouped_df['std_test_score'],\n",
        "                        grouped_df['mean_test_score'] + grouped_df['std_test_score'], alpha=0.2,\n",
        "                        color=\"navy\", lw=lw)\n",
        "      else:\n",
        "        axes.set_xlabel(param_name, fontsize=30)\n",
        "        axes.set_ylim(0.0, 1.1)\n",
        "\n",
        "        x_values = grouped_df['mean_train_score']\n",
        "\n",
        "        axes.plot(x_values, grouped_df['mean_train_score'], label=\"Training score\",\n",
        "                    color=\"darkorange\", lw=lw)\n",
        "        \n",
        "        if(param_name==\"bootstrap\"):\n",
        "          x_values = x_values.astype(\"str\")\n",
        "        \n",
        "        axes.fill_between(x_values, grouped_df['mean_train_score'] - grouped_df['std_train_score'],\n",
        "                        grouped_df['mean_train_score'] + grouped_df['std_train_score'], alpha=0.2,\n",
        "                        color=\"darkorange\", lw=lw)\n",
        "        \n",
        "        axes.plot(x_values, grouped_df['mean_test_score'], label=\"Cross-validation score\",\n",
        "                    color=\"navy\", lw=lw)\n",
        "        \n",
        "        axes.fill_between(x_values, grouped_df['mean_test_score'] - grouped_df['std_test_score'],\n",
        "                        grouped_df['mean_test_score'] + grouped_df['std_test_score'], alpha=0.2,\n",
        "                        color=\"navy\", lw=lw)\n",
        "\n",
        "  if len(dict_params) > 1:\n",
        "    handles, labels = axes[0].get_legend_handles_labels()\n",
        "  else:\n",
        "    handles, labels = axes.get_legend_handles_labels()\n",
        "  \n",
        "  fig.suptitle('Validation curves', fontsize=40)\n",
        "  fig.legend(handles, labels, loc=8, ncol=2, fontsize=20)\n",
        "\n",
        "  fig.subplots_adjust(bottom=0.25, top=0.85)  \n",
        "  plt.show()"
      ]
    },
    {
      "cell_type": "code",
      "execution_count": null,
      "metadata": {
        "id": "qVKF2M3wy-rL"
      },
      "outputs": [],
      "source": [
        "# Grid search with Cross Validation\n",
        "def grid_search(model, dict_params, train_set, train_label, cv=5, verbose=False, plot=False):\n",
        "    print(\"[Starting Grid Search]\")\n",
        "    gs = GridSearchCV(model, dict_params, cv=cv, scoring='accuracy', return_train_score=True)\n",
        "    gs.fit(train_set, train_label)\n",
        "\n",
        "    if plot:\n",
        "      plots(gs, dict_params)\n",
        "\n",
        "    print('Best setting parameters ', gs.best_params_)\n",
        "    print('Best score', gs.best_score_)\n",
        "    return gs.best_params_, gs.best_score_\n"
      ]
    },
    {
      "cell_type": "code",
      "execution_count": null,
      "metadata": {
        "id": "875J00fVtmTj"
      },
      "outputs": [],
      "source": [
        "def random_search(model, dict_params, train_set, train_label, n_iter=30, cv=5, plot=True):\n",
        "  print(\"[Starting Random Search]\")  \n",
        "  rs = RandomizedSearchCV(model, param_distributions=dict_params, \n",
        "                              n_iter=n_iter, \n",
        "                              n_jobs=-1, \n",
        "                              cv=cv,\n",
        "                              scoring=make_scorer(accuracy_score),\n",
        "                              verbose=3,\n",
        "                              return_train_score=True)\n",
        "  \n",
        "  search = rs.fit(train_set, train_label)\n",
        "  if plot:\n",
        "    plots(rs, dict_params)\n",
        "  \n",
        "  print('Best setting parameters ', search.best_params_)\n",
        "  print('Best score', search.best_score_)\n",
        "  return search.best_params_, search.best_score_"
      ]
    },
    {
      "cell_type": "markdown",
      "metadata": {
        "id": "H0aJN5sYtP-V"
      },
      "source": [
        "## Evaluation utilities"
      ]
    },
    {
      "cell_type": "code",
      "execution_count": null,
      "metadata": {
        "id": "p55GAj3OtKZ2"
      },
      "outputs": [],
      "source": [
        "def report_scores(test_label, test_pred):\n",
        "    print(classification_report(test_label, test_pred, \n",
        "                      target_names=[\"Non-Bot\", \"Bot\"]))"
      ]
    },
    {
      "cell_type": "code",
      "execution_count": null,
      "metadata": {
        "id": "RjZDsOdztMk3"
      },
      "outputs": [],
      "source": [
        "#evaulate the accuracy on the train set and the test set\n",
        "#metrics also contains precision, recall, f1 and the support\n",
        "\n",
        "def evaluation(train_label, train_pred, test_label, test_pred):\n",
        "  acc_train = metrics.accuracy_score(train_label, train_pred)\n",
        "  print('Accuracy train set ', acc_train)\n",
        "  acc_test = metrics.accuracy_score(test_label, test_pred)\n",
        "  print('Accuracy test set ',acc_test)\n",
        "  print()\n",
        "  \n",
        "  print('Precision train set ', metrics.precision_score(train_label, train_pred, average='weighted'))\n",
        "  print('Recall train set ', metrics.recall_score(train_label, train_pred, average='weighted'))\n",
        "  f1_train = metrics.f1_score(train_label, train_pred, average='weighted')\n",
        "  print('F1 score train set ', f1_train)\n",
        "  print('Support train set ', metrics.precision_recall_fscore_support(train_label, train_pred))\n",
        "  print()\n",
        "  print('Precision test set ', metrics.precision_score(test_label, test_pred, average='weighted'))\n",
        "  print('Recall test set ', metrics.recall_score(test_label, test_pred, average='weighted'))\n",
        "  f1_test = metrics.f1_score(test_label, test_pred, average='weighted')\n",
        "  print('F1 score test set ', f1_test)\n",
        "  print('Support test set ', metrics.precision_recall_fscore_support(test_label, test_pred))\n",
        "  return acc_train, acc_test, f1_train, f1_test"
      ]
    },
    {
      "cell_type": "code",
      "source": [
        "from sklearn.model_selection import cross_validate\n",
        "import statistics \n",
        "def CrossValidate(model, train_set, train_label):\n",
        "  scores = cross_validate(model, train_set, train_label, cv=5, return_train_score= True)\n",
        "  print('Cross Validation Score: ', statistics.mean(scores['test_score']))\n",
        "  return statistics.mean(scores['test_score'])"
      ],
      "metadata": {
        "id": "eO7j58cGVwCZ"
      },
      "execution_count": null,
      "outputs": []
    },
    {
      "cell_type": "markdown",
      "metadata": {
        "id": "FGl0mBTR2bjn"
      },
      "source": [
        "# Splitting the dataset"
      ]
    },
    {
      "cell_type": "code",
      "execution_count": null,
      "metadata": {
        "colab": {
          "base_uri": "https://localhost:8080/"
        },
        "id": "kn3FO_nufQ7v",
        "outputId": "b90993f3-8182-4e0d-997f-31510cffae87"
      },
      "outputs": [
        {
          "output_type": "stream",
          "name": "stdout",
          "text": [
            "We have a training set of 10357 elements and a test set of 1151\n"
          ]
        }
      ],
      "source": [
        "from sklearn.model_selection import train_test_split\n",
        "\n",
        "# use stratify to keep distribution the same between the splits also we shuffle the data\n",
        "train_set, test_set, train_label, test_label = train_test_split(df_scaled.values, \n",
        "            label, shuffle=True, stratify=label, test_size=test_size)\n",
        "\n",
        "print(\"We have a training set of\", len(train_set),\"elements and a test set of\",len(test_set) )"
      ]
    },
    {
      "cell_type": "code",
      "execution_count": null,
      "metadata": {
        "colab": {
          "base_uri": "https://localhost:8080/"
        },
        "id": "kgZQl3fAL3b8",
        "outputId": "19518503-f223-430d-f4df-373b30ef322b"
      },
      "outputs": [
        {
          "output_type": "execute_result",
          "data": {
            "text/plain": [
              "32"
            ]
          },
          "metadata": {},
          "execution_count": 23
        }
      ],
      "source": [
        "n_components = len(df_scaled.columns)\n",
        "n_components"
      ]
    },
    {
      "cell_type": "markdown",
      "metadata": {
        "id": "pEeLapFLiikY"
      },
      "source": [
        "# Classification"
      ]
    },
    {
      "cell_type": "code",
      "execution_count": null,
      "metadata": {
        "id": "ECLyeAj70__f"
      },
      "outputs": [],
      "source": [
        "# here we store the fitted models\n",
        "outputs = {}"
      ]
    },
    {
      "cell_type": "code",
      "execution_count": null,
      "metadata": {
        "id": "RPMsjVFRDnJS"
      },
      "outputs": [],
      "source": [
        "# params for model selection for decision tree/random forest models\n",
        "max_features_list = list(range(2, n_components+1, 2))\n",
        "min_sample_split_list = list(range(10, 101, 5))\n",
        "min_sample_leaf_list = list(range(10, 101, 5))\n",
        "criterion = [\"entropy\", \"gini\"]\n",
        "class_weight = ['balanced', None, {0: 0.3, 1: 0.7}]\n",
        "max_depth = [10,12,14,16,18,20,22,None]"
      ]
    },
    {
      "cell_type": "markdown",
      "metadata": {
        "id": "K_FLUefTnRI2"
      },
      "source": [
        "## Decision Tree"
      ]
    },
    {
      "cell_type": "code",
      "execution_count": null,
      "metadata": {
        "id": "vP_KJpRouAIr"
      },
      "outputs": [],
      "source": [
        "from sklearn import tree"
      ]
    },
    {
      "cell_type": "markdown",
      "metadata": {
        "id": "42H1F8BtBEr4"
      },
      "source": [
        "### Model Selection"
      ]
    },
    {
      "cell_type": "code",
      "execution_count": null,
      "metadata": {
        "id": "tpBPhgWxI7kg"
      },
      "outputs": [],
      "source": [
        "param_dist_dt = {\"max_depth\": max_depth,\n",
        "              \"max_features\": max_features_list,\n",
        "              \"min_samples_split\": min_sample_split_list,\n",
        "              \"min_samples_leaf\": min_sample_leaf_list,\n",
        "              \"criterion\": criterion,\n",
        "              \"class_weight\": class_weight}"
      ]
    },
    {
      "cell_type": "code",
      "execution_count": null,
      "metadata": {
        "id": "AA6INXbFioLy"
      },
      "outputs": [],
      "source": [
        "if compute_model_selection:\n",
        "  dec_tree = tree.DecisionTreeClassifier(random_state=seed)\n",
        "\n",
        "  start_time = time.time()\n",
        "  dt_best_params, best_score = random_search(model=dec_tree, train_set=train_set, train_label=train_label, \n",
        "                                cv=5, dict_params=param_dist_dt,\n",
        "                                n_iter=100)\n",
        "  end_time = time.time()\n",
        "  dt_model_selection_time = end_time-start_time\n",
        "  print(\"Model selection time\", dt_model_selection_time, \"sec\")"
      ]
    },
    {
      "cell_type": "code",
      "execution_count": null,
      "metadata": {
        "id": "H1JmqyUPhVdf"
      },
      "outputs": [],
      "source": [
        "if compute_model_selection:\n",
        "  max_depth_result         = dt_best_params[\"max_depth\"]\n",
        "  max_features_result      = dt_best_params[\"max_features\"]\n",
        "  min_samples_split_result = dt_best_params[\"min_samples_split\"]\n",
        "  min_samples_leaf_result  = dt_best_params[\"min_samples_leaf\"]\n",
        "  criterion_result         = dt_best_params[\"criterion\"]\n",
        "  class_weight_result      = dt_best_params[\"class_weight\"]\n",
        "else:\n",
        "  max_depth_result         = 14\n",
        "  max_features_result      = 26\n",
        "  min_samples_split_result = 50\n",
        "  min_samples_leaf_result  = 100\n",
        "  criterion_result         = \"gini\"\n",
        "  class_weight_result      = {0: 0.3, 1: 0.7}"
      ]
    },
    {
      "cell_type": "markdown",
      "metadata": {
        "id": "kSuMRGW-Becg"
      },
      "source": [
        "### Evaluation"
      ]
    },
    {
      "cell_type": "code",
      "execution_count": null,
      "metadata": {
        "id": "a6SFJshJ2MYP"
      },
      "outputs": [],
      "source": [
        "dec_tree = tree.DecisionTreeClassifier(criterion=criterion_result, max_depth=max_depth_result, \n",
        "                                  min_samples_split=min_samples_split_result,\n",
        "                                  max_features=max_features_result,\n",
        "                                  min_samples_leaf=min_samples_leaf_result,\n",
        "                                  class_weight=class_weight_result)\n",
        "\n",
        "dec_tree = dec_tree.fit(train_set, train_label)"
      ]
    },
    {
      "cell_type": "code",
      "execution_count": null,
      "metadata": {
        "colab": {
          "base_uri": "https://localhost:8080/",
          "height": 1000
        },
        "id": "8ZiOIaiXjiw_",
        "outputId": "8d859dea-a011-4b04-b0e8-e9a6fba506aa"
      },
      "outputs": [
        {
          "output_type": "execute_result",
          "data": {
            "text/plain": [
              "<graphviz.files.Source at 0x7f265cc9c820>"
            ],
            "image/svg+xml": "<?xml version=\"1.0\" encoding=\"UTF-8\" standalone=\"no\"?>\n<!DOCTYPE svg PUBLIC \"-//W3C//DTD SVG 1.1//EN\"\n \"http://www.w3.org/Graphics/SVG/1.1/DTD/svg11.dtd\">\n<!-- Generated by graphviz version 2.40.1 (20161225.0304)\n -->\n<!-- Title: Tree Pages: 1 -->\n<svg width=\"3831pt\" height=\"1623pt\"\n viewBox=\"0.00 0.00 3830.50 1623.00\" xmlns=\"http://www.w3.org/2000/svg\" xmlns:xlink=\"http://www.w3.org/1999/xlink\">\n<g id=\"graph0\" class=\"graph\" transform=\"scale(1 1) rotate(0) translate(4 1619)\">\n<title>Tree</title>\n<polygon fill=\"#ffffff\" stroke=\"transparent\" points=\"-4,4 -4,-1619 3826.5,-1619 3826.5,4 -4,4\"/>\n<!-- 0 -->\n<g id=\"node1\" class=\"node\">\n<title>0</title>\n<path fill=\"#84c2ef\" stroke=\"#000000\" d=\"M3510.5,-1615C3510.5,-1615 3361.5,-1615 3361.5,-1615 3355.5,-1615 3349.5,-1609 3349.5,-1603 3349.5,-1603 3349.5,-1544 3349.5,-1544 3349.5,-1538 3355.5,-1532 3361.5,-1532 3361.5,-1532 3510.5,-1532 3510.5,-1532 3516.5,-1532 3522.5,-1538 3522.5,-1544 3522.5,-1544 3522.5,-1603 3522.5,-1603 3522.5,-1609 3516.5,-1615 3510.5,-1615\"/>\n<text text-anchor=\"middle\" x=\"3436\" y=\"-1599.8\" font-family=\"Helvetica,sans-Serif\" font-size=\"14.00\" fill=\"#000000\">tweets_2020 &lt;= &#45;0.403</text>\n<text text-anchor=\"middle\" x=\"3436\" y=\"-1584.8\" font-family=\"Helvetica,sans-Serif\" font-size=\"14.00\" fill=\"#000000\">gini = 0.398</text>\n<text text-anchor=\"middle\" x=\"3436\" y=\"-1569.8\" font-family=\"Helvetica,sans-Serif\" font-size=\"14.00\" fill=\"#000000\">samples = 10357</text>\n<text text-anchor=\"middle\" x=\"3436\" y=\"-1554.8\" font-family=\"Helvetica,sans-Serif\" font-size=\"14.00\" fill=\"#000000\">value = [1455.9, 3852.8]</text>\n<text text-anchor=\"middle\" x=\"3436\" y=\"-1539.8\" font-family=\"Helvetica,sans-Serif\" font-size=\"14.00\" fill=\"#000000\">class = 1</text>\n</g>\n<!-- 1 -->\n<g id=\"node2\" class=\"node\">\n<title>1</title>\n<path fill=\"#55abe9\" stroke=\"#000000\" d=\"M3418,-1496C3418,-1496 3266,-1496 3266,-1496 3260,-1496 3254,-1490 3254,-1484 3254,-1484 3254,-1425 3254,-1425 3254,-1419 3260,-1413 3266,-1413 3266,-1413 3418,-1413 3418,-1413 3424,-1413 3430,-1419 3430,-1425 3430,-1425 3430,-1484 3430,-1484 3430,-1490 3424,-1496 3418,-1496\"/>\n<text text-anchor=\"middle\" x=\"3342\" y=\"-1480.8\" font-family=\"Helvetica,sans-Serif\" font-size=\"14.00\" fill=\"#000000\">statuses_count &lt;= 1.369</text>\n<text text-anchor=\"middle\" x=\"3342\" y=\"-1465.8\" font-family=\"Helvetica,sans-Serif\" font-size=\"14.00\" fill=\"#000000\">gini = 0.216</text>\n<text text-anchor=\"middle\" x=\"3342\" y=\"-1450.8\" font-family=\"Helvetica,sans-Serif\" font-size=\"14.00\" fill=\"#000000\">samples = 7307</text>\n<text text-anchor=\"middle\" x=\"3342\" y=\"-1435.8\" font-family=\"Helvetica,sans-Serif\" font-size=\"14.00\" fill=\"#000000\">value = [540.9, 3852.8]</text>\n<text text-anchor=\"middle\" x=\"3342\" y=\"-1420.8\" font-family=\"Helvetica,sans-Serif\" font-size=\"14.00\" fill=\"#000000\">class = 1</text>\n</g>\n<!-- 0&#45;&gt;1 -->\n<g id=\"edge1\" class=\"edge\">\n<title>0&#45;&gt;1</title>\n<path fill=\"none\" stroke=\"#000000\" d=\"M3403.1234,-1531.8796C3396.0803,-1522.9633 3388.5707,-1513.4565 3381.3126,-1504.268\"/>\n<polygon fill=\"#000000\" stroke=\"#000000\" points=\"3383.9621,-1501.9757 3375.017,-1496.2981 3378.4691,-1506.3147 3383.9621,-1501.9757\"/>\n<text text-anchor=\"middle\" x=\"3372.1027\" y=\"-1517.4276\" font-family=\"Helvetica,sans-Serif\" font-size=\"14.00\" fill=\"#000000\">True</text>\n</g>\n<!-- 98 -->\n<g id=\"node99\" class=\"node\">\n<title>98</title>\n<path fill=\"#e58139\" stroke=\"#000000\" d=\"M3602.5,-1496C3602.5,-1496 3459.5,-1496 3459.5,-1496 3453.5,-1496 3447.5,-1490 3447.5,-1484 3447.5,-1484 3447.5,-1425 3447.5,-1425 3447.5,-1419 3453.5,-1413 3459.5,-1413 3459.5,-1413 3602.5,-1413 3602.5,-1413 3608.5,-1413 3614.5,-1419 3614.5,-1425 3614.5,-1425 3614.5,-1484 3614.5,-1484 3614.5,-1490 3608.5,-1496 3602.5,-1496\"/>\n<text text-anchor=\"middle\" x=\"3531\" y=\"-1480.8\" font-family=\"Helvetica,sans-Serif\" font-size=\"14.00\" fill=\"#000000\">mean_length &lt;= &#45;1.957</text>\n<text text-anchor=\"middle\" x=\"3531\" y=\"-1465.8\" font-family=\"Helvetica,sans-Serif\" font-size=\"14.00\" fill=\"#000000\">gini = 0.0</text>\n<text text-anchor=\"middle\" x=\"3531\" y=\"-1450.8\" font-family=\"Helvetica,sans-Serif\" font-size=\"14.00\" fill=\"#000000\">samples = 3050</text>\n<text text-anchor=\"middle\" x=\"3531\" y=\"-1435.8\" font-family=\"Helvetica,sans-Serif\" font-size=\"14.00\" fill=\"#000000\">value = [915.0, 0.0]</text>\n<text text-anchor=\"middle\" x=\"3531\" y=\"-1420.8\" font-family=\"Helvetica,sans-Serif\" font-size=\"14.00\" fill=\"#000000\">class = 0</text>\n</g>\n<!-- 0&#45;&gt;98 -->\n<g id=\"edge98\" class=\"edge\">\n<title>0&#45;&gt;98</title>\n<path fill=\"none\" stroke=\"#000000\" d=\"M3469.2264,-1531.8796C3476.3444,-1522.9633 3483.9339,-1513.4565 3491.2692,-1504.268\"/>\n<polygon fill=\"#000000\" stroke=\"#000000\" points=\"3494.1281,-1506.2968 3497.6318,-1496.2981 3488.6575,-1501.9295 3494.1281,-1506.2968\"/>\n<text text-anchor=\"middle\" x=\"3500.4181\" y=\"-1517.4423\" font-family=\"Helvetica,sans-Serif\" font-size=\"14.00\" fill=\"#000000\">False</text>\n</g>\n<!-- 2 -->\n<g id=\"node3\" class=\"node\">\n<title>2</title>\n<path fill=\"#50a8e8\" stroke=\"#000000\" d=\"M3152,-1377C3152,-1377 3012,-1377 3012,-1377 3006,-1377 3000,-1371 3000,-1365 3000,-1365 3000,-1306 3000,-1306 3000,-1300 3006,-1294 3012,-1294 3012,-1294 3152,-1294 3152,-1294 3158,-1294 3164,-1300 3164,-1306 3164,-1306 3164,-1365 3164,-1365 3164,-1371 3158,-1377 3152,-1377\"/>\n<text text-anchor=\"middle\" x=\"3082\" y=\"-1361.8\" font-family=\"Helvetica,sans-Serif\" font-size=\"14.00\" fill=\"#000000\">tweets_2019 &lt;= 0.663</text>\n<text text-anchor=\"middle\" x=\"3082\" y=\"-1346.8\" font-family=\"Helvetica,sans-Serif\" font-size=\"14.00\" fill=\"#000000\">gini = 0.188</text>\n<text text-anchor=\"middle\" x=\"3082\" y=\"-1331.8\" font-family=\"Helvetica,sans-Serif\" font-size=\"14.00\" fill=\"#000000\">samples = 6712</text>\n<text text-anchor=\"middle\" x=\"3082\" y=\"-1316.8\" font-family=\"Helvetica,sans-Serif\" font-size=\"14.00\" fill=\"#000000\">value = [432.6, 3689.0]</text>\n<text text-anchor=\"middle\" x=\"3082\" y=\"-1301.8\" font-family=\"Helvetica,sans-Serif\" font-size=\"14.00\" fill=\"#000000\">class = 1</text>\n</g>\n<!-- 1&#45;&gt;2 -->\n<g id=\"edge2\" class=\"edge\">\n<title>1&#45;&gt;2</title>\n<path fill=\"none\" stroke=\"#000000\" d=\"M3253.9759,-1414.212C3228.0147,-1402.3298 3199.5516,-1389.3025 3173.3842,-1377.3259\"/>\n<polygon fill=\"#000000\" stroke=\"#000000\" points=\"3174.7816,-1374.1163 3164.2322,-1373.137 3171.8684,-1380.4813 3174.7816,-1374.1163\"/>\n</g>\n<!-- 91 -->\n<g id=\"node92\" class=\"node\">\n<title>91</title>\n<path fill=\"#bcdef6\" stroke=\"#000000\" d=\"M3420,-1377C3420,-1377 3276,-1377 3276,-1377 3270,-1377 3264,-1371 3264,-1365 3264,-1365 3264,-1306 3264,-1306 3264,-1300 3270,-1294 3276,-1294 3276,-1294 3420,-1294 3420,-1294 3426,-1294 3432,-1300 3432,-1306 3432,-1306 3432,-1365 3432,-1365 3432,-1371 3426,-1377 3420,-1377\"/>\n<text text-anchor=\"middle\" x=\"3348\" y=\"-1361.8\" font-family=\"Helvetica,sans-Serif\" font-size=\"14.00\" fill=\"#000000\">statuses_count &lt;= 1.37</text>\n<text text-anchor=\"middle\" x=\"3348\" y=\"-1346.8\" font-family=\"Helvetica,sans-Serif\" font-size=\"14.00\" fill=\"#000000\">gini = 0.479</text>\n<text text-anchor=\"middle\" x=\"3348\" y=\"-1331.8\" font-family=\"Helvetica,sans-Serif\" font-size=\"14.00\" fill=\"#000000\">samples = 595</text>\n<text text-anchor=\"middle\" x=\"3348\" y=\"-1316.8\" font-family=\"Helvetica,sans-Serif\" font-size=\"14.00\" fill=\"#000000\">value = [108.3, 163.8]</text>\n<text text-anchor=\"middle\" x=\"3348\" y=\"-1301.8\" font-family=\"Helvetica,sans-Serif\" font-size=\"14.00\" fill=\"#000000\">class = 1</text>\n</g>\n<!-- 1&#45;&gt;91 -->\n<g id=\"edge91\" class=\"edge\">\n<title>1&#45;&gt;91</title>\n<path fill=\"none\" stroke=\"#000000\" d=\"M3344.0985,-1412.8796C3344.5117,-1404.6838 3344.9501,-1395.9891 3345.3781,-1387.5013\"/>\n<polygon fill=\"#000000\" stroke=\"#000000\" points=\"3348.8844,-1387.4617 3345.8925,-1377.2981 3341.8933,-1387.1091 3348.8844,-1387.4617\"/>\n</g>\n<!-- 3 -->\n<g id=\"node4\" class=\"node\">\n<title>3</title>\n<path fill=\"#56ace9\" stroke=\"#000000\" d=\"M2929.5,-1258C2929.5,-1258 2726.5,-1258 2726.5,-1258 2720.5,-1258 2714.5,-1252 2714.5,-1246 2714.5,-1246 2714.5,-1187 2714.5,-1187 2714.5,-1181 2720.5,-1175 2726.5,-1175 2726.5,-1175 2929.5,-1175 2929.5,-1175 2935.5,-1175 2941.5,-1181 2941.5,-1187 2941.5,-1187 2941.5,-1246 2941.5,-1246 2941.5,-1252 2935.5,-1258 2929.5,-1258\"/>\n<text text-anchor=\"middle\" x=\"2828\" y=\"-1242.8\" font-family=\"Helvetica,sans-Serif\" font-size=\"14.00\" fill=\"#000000\">sum_duplicate_tweets &lt;= &#45;0.094</text>\n<text text-anchor=\"middle\" x=\"2828\" y=\"-1227.8\" font-family=\"Helvetica,sans-Serif\" font-size=\"14.00\" fill=\"#000000\">gini = 0.225</text>\n<text text-anchor=\"middle\" x=\"2828\" y=\"-1212.8\" font-family=\"Helvetica,sans-Serif\" font-size=\"14.00\" fill=\"#000000\">samples = 5567</text>\n<text text-anchor=\"middle\" x=\"2828\" y=\"-1197.8\" font-family=\"Helvetica,sans-Serif\" font-size=\"14.00\" fill=\"#000000\">value = [429.6, 2894.5]</text>\n<text text-anchor=\"middle\" x=\"2828\" y=\"-1182.8\" font-family=\"Helvetica,sans-Serif\" font-size=\"14.00\" fill=\"#000000\">class = 1</text>\n</g>\n<!-- 2&#45;&gt;3 -->\n<g id=\"edge3\" class=\"edge\">\n<title>2&#45;&gt;3</title>\n<path fill=\"none\" stroke=\"#000000\" d=\"M2999.8843,-1297.0284C2976.3648,-1286.0095 2950.4883,-1273.8863 2926.1114,-1262.4656\"/>\n<polygon fill=\"#000000\" stroke=\"#000000\" points=\"2927.3905,-1259.1998 2916.8501,-1258.1266 2924.4207,-1265.5386 2927.3905,-1259.1998\"/>\n</g>\n<!-- 88 -->\n<g id=\"node89\" class=\"node\">\n<title>88</title>\n<path fill=\"#3a9de5\" stroke=\"#000000\" d=\"M3173,-1258C3173,-1258 2991,-1258 2991,-1258 2985,-1258 2979,-1252 2979,-1246 2979,-1246 2979,-1187 2979,-1187 2979,-1181 2985,-1175 2991,-1175 2991,-1175 3173,-1175 3173,-1175 3179,-1175 3185,-1181 3185,-1187 3185,-1187 3185,-1246 3185,-1246 3185,-1252 3179,-1258 3173,-1258\"/>\n<text text-anchor=\"middle\" x=\"3082\" y=\"-1242.8\" font-family=\"Helvetica,sans-Serif\" font-size=\"14.00\" fill=\"#000000\">sum_len_all_tweets &lt;= 0.989</text>\n<text text-anchor=\"middle\" x=\"3082\" y=\"-1227.8\" font-family=\"Helvetica,sans-Serif\" font-size=\"14.00\" fill=\"#000000\">gini = 0.007</text>\n<text text-anchor=\"middle\" x=\"3082\" y=\"-1212.8\" font-family=\"Helvetica,sans-Serif\" font-size=\"14.00\" fill=\"#000000\">samples = 1145</text>\n<text text-anchor=\"middle\" x=\"3082\" y=\"-1197.8\" font-family=\"Helvetica,sans-Serif\" font-size=\"14.00\" fill=\"#000000\">value = [3.0, 794.5]</text>\n<text text-anchor=\"middle\" x=\"3082\" y=\"-1182.8\" font-family=\"Helvetica,sans-Serif\" font-size=\"14.00\" fill=\"#000000\">class = 1</text>\n</g>\n<!-- 2&#45;&gt;88 -->\n<g id=\"edge88\" class=\"edge\">\n<title>2&#45;&gt;88</title>\n<path fill=\"none\" stroke=\"#000000\" d=\"M3082,-1293.8796C3082,-1285.6838 3082,-1276.9891 3082,-1268.5013\"/>\n<polygon fill=\"#000000\" stroke=\"#000000\" points=\"3085.5001,-1268.298 3082,-1258.2981 3078.5001,-1268.2981 3085.5001,-1268.298\"/>\n</g>\n<!-- 4 -->\n<g id=\"node5\" class=\"node\">\n<title>4</title>\n<path fill=\"#58ace9\" stroke=\"#000000\" d=\"M2603,-1139C2603,-1139 2427,-1139 2427,-1139 2421,-1139 2415,-1133 2415,-1127 2415,-1127 2415,-1068 2415,-1068 2415,-1062 2421,-1056 2427,-1056 2427,-1056 2603,-1056 2603,-1056 2609,-1056 2615,-1062 2615,-1068 2615,-1068 2615,-1127 2615,-1127 2615,-1133 2609,-1139 2603,-1139\"/>\n<text text-anchor=\"middle\" x=\"2515\" y=\"-1123.8\" font-family=\"Helvetica,sans-Serif\" font-size=\"14.00\" fill=\"#000000\">consecutive_days &lt;= &#45;0.625</text>\n<text text-anchor=\"middle\" x=\"2515\" y=\"-1108.8\" font-family=\"Helvetica,sans-Serif\" font-size=\"14.00\" fill=\"#000000\">gini = 0.234</text>\n<text text-anchor=\"middle\" x=\"2515\" y=\"-1093.8\" font-family=\"Helvetica,sans-Serif\" font-size=\"14.00\" fill=\"#000000\">samples = 3923</text>\n<text text-anchor=\"middle\" x=\"2515\" y=\"-1078.8\" font-family=\"Helvetica,sans-Serif\" font-size=\"14.00\" fill=\"#000000\">value = [315.0, 2011.1]</text>\n<text text-anchor=\"middle\" x=\"2515\" y=\"-1063.8\" font-family=\"Helvetica,sans-Serif\" font-size=\"14.00\" fill=\"#000000\">class = 1</text>\n</g>\n<!-- 3&#45;&gt;4 -->\n<g id=\"edge4\" class=\"edge\">\n<title>3&#45;&gt;4</title>\n<path fill=\"none\" stroke=\"#000000\" d=\"M2718.5278,-1174.8796C2688.0931,-1163.3086 2655.0425,-1150.743 2624.6005,-1139.1692\"/>\n<polygon fill=\"#000000\" stroke=\"#000000\" points=\"2625.8336,-1135.8936 2615.2425,-1135.6114 2623.3459,-1142.4367 2625.8336,-1135.8936\"/>\n</g>\n<!-- 65 -->\n<g id=\"node66\" class=\"node\">\n<title>65</title>\n<path fill=\"#53aae8\" stroke=\"#000000\" d=\"M2906.5,-1139C2906.5,-1139 2749.5,-1139 2749.5,-1139 2743.5,-1139 2737.5,-1133 2737.5,-1127 2737.5,-1127 2737.5,-1068 2737.5,-1068 2737.5,-1062 2743.5,-1056 2749.5,-1056 2749.5,-1056 2906.5,-1056 2906.5,-1056 2912.5,-1056 2918.5,-1062 2918.5,-1068 2918.5,-1068 2918.5,-1127 2918.5,-1127 2918.5,-1133 2912.5,-1139 2906.5,-1139\"/>\n<text text-anchor=\"middle\" x=\"2828\" y=\"-1123.8\" font-family=\"Helvetica,sans-Serif\" font-size=\"14.00\" fill=\"#000000\">statuses_count &lt;= &#45;0.539</text>\n<text text-anchor=\"middle\" x=\"2828\" y=\"-1108.8\" font-family=\"Helvetica,sans-Serif\" font-size=\"14.00\" fill=\"#000000\">gini = 0.203</text>\n<text text-anchor=\"middle\" x=\"2828\" y=\"-1093.8\" font-family=\"Helvetica,sans-Serif\" font-size=\"14.00\" fill=\"#000000\">samples = 1644</text>\n<text text-anchor=\"middle\" x=\"2828\" y=\"-1078.8\" font-family=\"Helvetica,sans-Serif\" font-size=\"14.00\" fill=\"#000000\">value = [114.6, 883.4]</text>\n<text text-anchor=\"middle\" x=\"2828\" y=\"-1063.8\" font-family=\"Helvetica,sans-Serif\" font-size=\"14.00\" fill=\"#000000\">class = 1</text>\n</g>\n<!-- 3&#45;&gt;65 -->\n<g id=\"edge65\" class=\"edge\">\n<title>3&#45;&gt;65</title>\n<path fill=\"none\" stroke=\"#000000\" d=\"M2828,-1174.8796C2828,-1166.6838 2828,-1157.9891 2828,-1149.5013\"/>\n<polygon fill=\"#000000\" stroke=\"#000000\" points=\"2831.5001,-1149.298 2828,-1139.2981 2824.5001,-1149.2981 2831.5001,-1149.298\"/>\n</g>\n<!-- 5 -->\n<g id=\"node6\" class=\"node\">\n<title>5</title>\n<path fill=\"#55abe9\" stroke=\"#000000\" d=\"M1449,-1020C1449,-1020 1261,-1020 1261,-1020 1255,-1020 1249,-1014 1249,-1008 1249,-1008 1249,-949 1249,-949 1249,-943 1255,-937 1261,-937 1261,-937 1449,-937 1449,-937 1455,-937 1461,-943 1461,-949 1461,-949 1461,-1008 1461,-1008 1461,-1014 1455,-1020 1449,-1020\"/>\n<text text-anchor=\"middle\" x=\"1355\" y=\"-1004.8\" font-family=\"Helvetica,sans-Serif\" font-size=\"14.00\" fill=\"#000000\">mean_time_delta_sec &lt;= 0.17</text>\n<text text-anchor=\"middle\" x=\"1355\" y=\"-989.8\" font-family=\"Helvetica,sans-Serif\" font-size=\"14.00\" fill=\"#000000\">gini = 0.217</text>\n<text text-anchor=\"middle\" x=\"1355\" y=\"-974.8\" font-family=\"Helvetica,sans-Serif\" font-size=\"14.00\" fill=\"#000000\">samples = 2204</text>\n<text text-anchor=\"middle\" x=\"1355\" y=\"-959.8\" font-family=\"Helvetica,sans-Serif\" font-size=\"14.00\" fill=\"#000000\">value = [163.8, 1160.6]</text>\n<text text-anchor=\"middle\" x=\"1355\" y=\"-944.8\" font-family=\"Helvetica,sans-Serif\" font-size=\"14.00\" fill=\"#000000\">class = 1</text>\n</g>\n<!-- 4&#45;&gt;5 -->\n<g id=\"edge5\" class=\"edge\">\n<title>4&#45;&gt;5</title>\n<path fill=\"none\" stroke=\"#000000\" d=\"M2414.8434,-1087.2253C2200.6508,-1065.2521 1699.0791,-1013.7978 1471.2606,-990.4267\"/>\n<polygon fill=\"#000000\" stroke=\"#000000\" points=\"1471.5885,-986.9421 1461.2835,-989.4032 1470.8741,-993.9055 1471.5885,-986.9421\"/>\n</g>\n<!-- 40 -->\n<g id=\"node41\" class=\"node\">\n<title>40</title>\n<path fill=\"#5caeea\" stroke=\"#000000\" d=\"M2581,-1020C2581,-1020 2449,-1020 2449,-1020 2443,-1020 2437,-1014 2437,-1008 2437,-1008 2437,-949 2437,-949 2437,-943 2443,-937 2449,-937 2449,-937 2581,-937 2581,-937 2587,-937 2593,-943 2593,-949 2593,-949 2593,-1008 2593,-1008 2593,-1014 2587,-1020 2581,-1020\"/>\n<text text-anchor=\"middle\" x=\"2515\" y=\"-1004.8\" font-family=\"Helvetica,sans-Serif\" font-size=\"14.00\" fill=\"#000000\">likes_sum &lt;= 0.484</text>\n<text text-anchor=\"middle\" x=\"2515\" y=\"-989.8\" font-family=\"Helvetica,sans-Serif\" font-size=\"14.00\" fill=\"#000000\">gini = 0.256</text>\n<text text-anchor=\"middle\" x=\"2515\" y=\"-974.8\" font-family=\"Helvetica,sans-Serif\" font-size=\"14.00\" fill=\"#000000\">samples = 1719</text>\n<text text-anchor=\"middle\" x=\"2515\" y=\"-959.8\" font-family=\"Helvetica,sans-Serif\" font-size=\"14.00\" fill=\"#000000\">value = [151.2, 850.5]</text>\n<text text-anchor=\"middle\" x=\"2515\" y=\"-944.8\" font-family=\"Helvetica,sans-Serif\" font-size=\"14.00\" fill=\"#000000\">class = 1</text>\n</g>\n<!-- 4&#45;&gt;40 -->\n<g id=\"edge40\" class=\"edge\">\n<title>4&#45;&gt;40</title>\n<path fill=\"none\" stroke=\"#000000\" d=\"M2515,-1055.8796C2515,-1047.6838 2515,-1038.9891 2515,-1030.5013\"/>\n<polygon fill=\"#000000\" stroke=\"#000000\" points=\"2518.5001,-1030.298 2515,-1020.2981 2511.5001,-1030.2981 2518.5001,-1030.298\"/>\n</g>\n<!-- 6 -->\n<g id=\"node7\" class=\"node\">\n<title>6</title>\n<path fill=\"#45a3e7\" stroke=\"#000000\" d=\"M1236.5,-893.5C1236.5,-893.5 1129.5,-893.5 1129.5,-893.5 1123.5,-893.5 1117.5,-887.5 1117.5,-881.5 1117.5,-881.5 1117.5,-837.5 1117.5,-837.5 1117.5,-831.5 1123.5,-825.5 1129.5,-825.5 1129.5,-825.5 1236.5,-825.5 1236.5,-825.5 1242.5,-825.5 1248.5,-831.5 1248.5,-837.5 1248.5,-837.5 1248.5,-881.5 1248.5,-881.5 1248.5,-887.5 1242.5,-893.5 1236.5,-893.5\"/>\n<text text-anchor=\"middle\" x=\"1183\" y=\"-878.3\" font-family=\"Helvetica,sans-Serif\" font-size=\"14.00\" fill=\"#000000\">gini = 0.111</text>\n<text text-anchor=\"middle\" x=\"1183\" y=\"-863.3\" font-family=\"Helvetica,sans-Serif\" font-size=\"14.00\" fill=\"#000000\">samples = 102</text>\n<text text-anchor=\"middle\" x=\"1183\" y=\"-848.3\" font-family=\"Helvetica,sans-Serif\" font-size=\"14.00\" fill=\"#000000\">value = [3.9, 62.3]</text>\n<text text-anchor=\"middle\" x=\"1183\" y=\"-833.3\" font-family=\"Helvetica,sans-Serif\" font-size=\"14.00\" fill=\"#000000\">class = 1</text>\n</g>\n<!-- 5&#45;&gt;6 -->\n<g id=\"edge6\" class=\"edge\">\n<title>5&#45;&gt;6</title>\n<path fill=\"none\" stroke=\"#000000\" d=\"M1294.8427,-936.8796C1277.2766,-924.7263 1258.1248,-911.4759 1240.7136,-899.4297\"/>\n<polygon fill=\"#000000\" stroke=\"#000000\" points=\"1242.5357,-896.4344 1232.3207,-893.623 1238.553,-902.191 1242.5357,-896.4344\"/>\n</g>\n<!-- 7 -->\n<g id=\"node8\" class=\"node\">\n<title>7</title>\n<path fill=\"#56abe9\" stroke=\"#000000\" d=\"M1431,-901C1431,-901 1279,-901 1279,-901 1273,-901 1267,-895 1267,-889 1267,-889 1267,-830 1267,-830 1267,-824 1273,-818 1279,-818 1279,-818 1431,-818 1431,-818 1437,-818 1443,-824 1443,-830 1443,-830 1443,-889 1443,-889 1443,-895 1437,-901 1431,-901\"/>\n<text text-anchor=\"middle\" x=\"1355\" y=\"-885.8\" font-family=\"Helvetica,sans-Serif\" font-size=\"14.00\" fill=\"#000000\">min_delta_sec &lt;= &#45;0.457</text>\n<text text-anchor=\"middle\" x=\"1355\" y=\"-870.8\" font-family=\"Helvetica,sans-Serif\" font-size=\"14.00\" fill=\"#000000\">gini = 0.222</text>\n<text text-anchor=\"middle\" x=\"1355\" y=\"-855.8\" font-family=\"Helvetica,sans-Serif\" font-size=\"14.00\" fill=\"#000000\">samples = 2102</text>\n<text text-anchor=\"middle\" x=\"1355\" y=\"-840.8\" font-family=\"Helvetica,sans-Serif\" font-size=\"14.00\" fill=\"#000000\">value = [159.9, 1098.3]</text>\n<text text-anchor=\"middle\" x=\"1355\" y=\"-825.8\" font-family=\"Helvetica,sans-Serif\" font-size=\"14.00\" fill=\"#000000\">class = 1</text>\n</g>\n<!-- 5&#45;&gt;7 -->\n<g id=\"edge7\" class=\"edge\">\n<title>5&#45;&gt;7</title>\n<path fill=\"none\" stroke=\"#000000\" d=\"M1355,-936.8796C1355,-928.6838 1355,-919.9891 1355,-911.5013\"/>\n<polygon fill=\"#000000\" stroke=\"#000000\" points=\"1358.5001,-911.298 1355,-901.2981 1351.5001,-911.2981 1358.5001,-911.298\"/>\n</g>\n<!-- 8 -->\n<g id=\"node9\" class=\"node\">\n<title>8</title>\n<path fill=\"#63b2eb\" stroke=\"#000000\" d=\"M1119.5,-782C1119.5,-782 912.5,-782 912.5,-782 906.5,-782 900.5,-776 900.5,-770 900.5,-770 900.5,-711 900.5,-711 900.5,-705 906.5,-699 912.5,-699 912.5,-699 1119.5,-699 1119.5,-699 1125.5,-699 1131.5,-705 1131.5,-711 1131.5,-711 1131.5,-770 1131.5,-770 1131.5,-776 1125.5,-782 1119.5,-782\"/>\n<text text-anchor=\"middle\" x=\"1016\" y=\"-766.8\" font-family=\"Helvetica,sans-Serif\" font-size=\"14.00\" fill=\"#000000\">num_hashtags_entropy &lt;= 0.051</text>\n<text text-anchor=\"middle\" x=\"1016\" y=\"-751.8\" font-family=\"Helvetica,sans-Serif\" font-size=\"14.00\" fill=\"#000000\">gini = 0.289</text>\n<text text-anchor=\"middle\" x=\"1016\" y=\"-736.8\" font-family=\"Helvetica,sans-Serif\" font-size=\"14.00\" fill=\"#000000\">samples = 205</text>\n<text text-anchor=\"middle\" x=\"1016\" y=\"-721.8\" font-family=\"Helvetica,sans-Serif\" font-size=\"14.00\" fill=\"#000000\">value = [20.4, 95.9]</text>\n<text text-anchor=\"middle\" x=\"1016\" y=\"-706.8\" font-family=\"Helvetica,sans-Serif\" font-size=\"14.00\" fill=\"#000000\">class = 1</text>\n</g>\n<!-- 7&#45;&gt;8 -->\n<g id=\"edge8\" class=\"edge\">\n<title>7&#45;&gt;8</title>\n<path fill=\"none\" stroke=\"#000000\" d=\"M1266.7344,-821.6937C1263.4567,-820.4263 1260.204,-819.1909 1257,-818 1219.8443,-804.1901 1178.9561,-790.4916 1141.5772,-778.54\"/>\n<polygon fill=\"#000000\" stroke=\"#000000\" points=\"1142.2362,-775.0768 1131.6457,-775.379 1140.1131,-781.7471 1142.2362,-775.0768\"/>\n</g>\n<!-- 11 -->\n<g id=\"node12\" class=\"node\">\n<title>11</title>\n<path fill=\"#55abe9\" stroke=\"#000000\" d=\"M1458,-782C1458,-782 1252,-782 1252,-782 1246,-782 1240,-776 1240,-770 1240,-770 1240,-711 1240,-711 1240,-705 1246,-699 1252,-699 1252,-699 1458,-699 1458,-699 1464,-699 1470,-705 1470,-711 1470,-711 1470,-770 1470,-770 1470,-776 1464,-782 1458,-782\"/>\n<text text-anchor=\"middle\" x=\"1355\" y=\"-766.8\" font-family=\"Helvetica,sans-Serif\" font-size=\"14.00\" fill=\"#000000\">favorite_count_entropy &lt;= &#45;0.103</text>\n<text text-anchor=\"middle\" x=\"1355\" y=\"-751.8\" font-family=\"Helvetica,sans-Serif\" font-size=\"14.00\" fill=\"#000000\">gini = 0.214</text>\n<text text-anchor=\"middle\" x=\"1355\" y=\"-736.8\" font-family=\"Helvetica,sans-Serif\" font-size=\"14.00\" fill=\"#000000\">samples = 1897</text>\n<text text-anchor=\"middle\" x=\"1355\" y=\"-721.8\" font-family=\"Helvetica,sans-Serif\" font-size=\"14.00\" fill=\"#000000\">value = [139.5, 1002.4]</text>\n<text text-anchor=\"middle\" x=\"1355\" y=\"-706.8\" font-family=\"Helvetica,sans-Serif\" font-size=\"14.00\" fill=\"#000000\">class = 1</text>\n</g>\n<!-- 7&#45;&gt;11 -->\n<g id=\"edge11\" class=\"edge\">\n<title>7&#45;&gt;11</title>\n<path fill=\"none\" stroke=\"#000000\" d=\"M1355,-817.8796C1355,-809.6838 1355,-800.9891 1355,-792.5013\"/>\n<polygon fill=\"#000000\" stroke=\"#000000\" points=\"1358.5001,-792.298 1355,-782.2981 1351.5001,-792.2981 1358.5001,-792.298\"/>\n</g>\n<!-- 9 -->\n<g id=\"node10\" class=\"node\">\n<title>9</title>\n<path fill=\"#6bb6ec\" stroke=\"#000000\" d=\"M920,-655.5C920,-655.5 804,-655.5 804,-655.5 798,-655.5 792,-649.5 792,-643.5 792,-643.5 792,-599.5 792,-599.5 792,-593.5 798,-587.5 804,-587.5 804,-587.5 920,-587.5 920,-587.5 926,-587.5 932,-593.5 932,-599.5 932,-599.5 932,-643.5 932,-643.5 932,-649.5 926,-655.5 920,-655.5\"/>\n<text text-anchor=\"middle\" x=\"862\" y=\"-640.3\" font-family=\"Helvetica,sans-Serif\" font-size=\"14.00\" fill=\"#000000\">gini = 0.321</text>\n<text text-anchor=\"middle\" x=\"862\" y=\"-625.3\" font-family=\"Helvetica,sans-Serif\" font-size=\"14.00\" fill=\"#000000\">samples = 100</text>\n<text text-anchor=\"middle\" x=\"862\" y=\"-610.3\" font-family=\"Helvetica,sans-Serif\" font-size=\"14.00\" fill=\"#000000\">value = [11.1, 44.1]</text>\n<text text-anchor=\"middle\" x=\"862\" y=\"-595.3\" font-family=\"Helvetica,sans-Serif\" font-size=\"14.00\" fill=\"#000000\">class = 1</text>\n</g>\n<!-- 8&#45;&gt;9 -->\n<g id=\"edge9\" class=\"edge\">\n<title>8&#45;&gt;9</title>\n<path fill=\"none\" stroke=\"#000000\" d=\"M962.1383,-698.8796C946.7696,-687.0038 930.0453,-674.0804 914.7441,-662.2568\"/>\n<polygon fill=\"#000000\" stroke=\"#000000\" points=\"916.4605,-659.1599 906.4076,-655.8149 912.1804,-664.699 916.4605,-659.1599\"/>\n</g>\n<!-- 10 -->\n<g id=\"node11\" class=\"node\">\n<title>10</title>\n<path fill=\"#5dafea\" stroke=\"#000000\" d=\"M1069.5,-655.5C1069.5,-655.5 962.5,-655.5 962.5,-655.5 956.5,-655.5 950.5,-649.5 950.5,-643.5 950.5,-643.5 950.5,-599.5 950.5,-599.5 950.5,-593.5 956.5,-587.5 962.5,-587.5 962.5,-587.5 1069.5,-587.5 1069.5,-587.5 1075.5,-587.5 1081.5,-593.5 1081.5,-599.5 1081.5,-599.5 1081.5,-643.5 1081.5,-643.5 1081.5,-649.5 1075.5,-655.5 1069.5,-655.5\"/>\n<text text-anchor=\"middle\" x=\"1016\" y=\"-640.3\" font-family=\"Helvetica,sans-Serif\" font-size=\"14.00\" fill=\"#000000\">gini = 0.258</text>\n<text text-anchor=\"middle\" x=\"1016\" y=\"-625.3\" font-family=\"Helvetica,sans-Serif\" font-size=\"14.00\" fill=\"#000000\">samples = 105</text>\n<text text-anchor=\"middle\" x=\"1016\" y=\"-610.3\" font-family=\"Helvetica,sans-Serif\" font-size=\"14.00\" fill=\"#000000\">value = [9.3, 51.8]</text>\n<text text-anchor=\"middle\" x=\"1016\" y=\"-595.3\" font-family=\"Helvetica,sans-Serif\" font-size=\"14.00\" fill=\"#000000\">class = 1</text>\n</g>\n<!-- 8&#45;&gt;10 -->\n<g id=\"edge10\" class=\"edge\">\n<title>8&#45;&gt;10</title>\n<path fill=\"none\" stroke=\"#000000\" d=\"M1016,-698.8796C1016,-688.2134 1016,-676.7021 1016,-665.9015\"/>\n<polygon fill=\"#000000\" stroke=\"#000000\" points=\"1019.5001,-665.8149 1016,-655.8149 1012.5001,-665.815 1019.5001,-665.8149\"/>\n</g>\n<!-- 12 -->\n<g id=\"node13\" class=\"node\">\n<title>12</title>\n<path fill=\"#53aae8\" stroke=\"#000000\" d=\"M1308.5,-663C1308.5,-663 1111.5,-663 1111.5,-663 1105.5,-663 1099.5,-657 1099.5,-651 1099.5,-651 1099.5,-592 1099.5,-592 1099.5,-586 1105.5,-580 1111.5,-580 1111.5,-580 1308.5,-580 1308.5,-580 1314.5,-580 1320.5,-586 1320.5,-592 1320.5,-592 1320.5,-651 1320.5,-651 1320.5,-657 1314.5,-663 1308.5,-663\"/>\n<text text-anchor=\"middle\" x=\"1210\" y=\"-647.8\" font-family=\"Helvetica,sans-Serif\" font-size=\"14.00\" fill=\"#000000\">mean_time_delta_sec &lt;= 0.899</text>\n<text text-anchor=\"middle\" x=\"1210\" y=\"-632.8\" font-family=\"Helvetica,sans-Serif\" font-size=\"14.00\" fill=\"#000000\">gini = 0.204</text>\n<text text-anchor=\"middle\" x=\"1210\" y=\"-617.8\" font-family=\"Helvetica,sans-Serif\" font-size=\"14.00\" fill=\"#000000\">samples = 1652</text>\n<text text-anchor=\"middle\" x=\"1210\" y=\"-602.8\" font-family=\"Helvetica,sans-Serif\" font-size=\"14.00\" fill=\"#000000\">value = [115.5, 886.9]</text>\n<text text-anchor=\"middle\" x=\"1210\" y=\"-587.8\" font-family=\"Helvetica,sans-Serif\" font-size=\"14.00\" fill=\"#000000\">class = 1</text>\n</g>\n<!-- 11&#45;&gt;12 -->\n<g id=\"edge12\" class=\"edge\">\n<title>11&#45;&gt;12</title>\n<path fill=\"none\" stroke=\"#000000\" d=\"M1304.286,-698.8796C1292.873,-689.513 1280.6659,-679.4948 1268.9485,-669.8784\"/>\n<polygon fill=\"#000000\" stroke=\"#000000\" points=\"1270.8809,-666.9366 1260.9304,-663.2981 1266.4401,-672.3476 1270.8809,-666.9366\"/>\n</g>\n<!-- 37 -->\n<g id=\"node38\" class=\"node\">\n<title>37</title>\n<path fill=\"#62b1ea\" stroke=\"#000000\" d=\"M1539,-663C1539,-663 1351,-663 1351,-663 1345,-663 1339,-657 1339,-651 1339,-651 1339,-592 1339,-592 1339,-586 1345,-580 1351,-580 1351,-580 1539,-580 1539,-580 1545,-580 1551,-586 1551,-592 1551,-592 1551,-651 1551,-651 1551,-657 1545,-663 1539,-663\"/>\n<text text-anchor=\"middle\" x=\"1445\" y=\"-647.8\" font-family=\"Helvetica,sans-Serif\" font-size=\"14.00\" fill=\"#000000\">mean_time_delta_sec &lt;= 0.81</text>\n<text text-anchor=\"middle\" x=\"1445\" y=\"-632.8\" font-family=\"Helvetica,sans-Serif\" font-size=\"14.00\" fill=\"#000000\">gini = 0.285</text>\n<text text-anchor=\"middle\" x=\"1445\" y=\"-617.8\" font-family=\"Helvetica,sans-Serif\" font-size=\"14.00\" fill=\"#000000\">samples = 245</text>\n<text text-anchor=\"middle\" x=\"1445\" y=\"-602.8\" font-family=\"Helvetica,sans-Serif\" font-size=\"14.00\" fill=\"#000000\">value = [24.0, 115.5]</text>\n<text text-anchor=\"middle\" x=\"1445\" y=\"-587.8\" font-family=\"Helvetica,sans-Serif\" font-size=\"14.00\" fill=\"#000000\">class = 1</text>\n</g>\n<!-- 11&#45;&gt;37 -->\n<g id=\"edge37\" class=\"edge\">\n<title>11&#45;&gt;37</title>\n<path fill=\"none\" stroke=\"#000000\" d=\"M1386.4776,-698.8796C1393.1529,-690.0534 1400.2658,-680.6485 1407.1496,-671.5466\"/>\n<polygon fill=\"#000000\" stroke=\"#000000\" points=\"1410.1474,-673.3852 1413.388,-663.2981 1404.5643,-669.1626 1410.1474,-673.3852\"/>\n</g>\n<!-- 13 -->\n<g id=\"node14\" class=\"node\">\n<title>13</title>\n<path fill=\"#50a8e8\" stroke=\"#000000\" d=\"M678.5,-544C678.5,-544 535.5,-544 535.5,-544 529.5,-544 523.5,-538 523.5,-532 523.5,-532 523.5,-473 523.5,-473 523.5,-467 529.5,-461 535.5,-461 535.5,-461 678.5,-461 678.5,-461 684.5,-461 690.5,-467 690.5,-473 690.5,-473 690.5,-532 690.5,-532 690.5,-538 684.5,-544 678.5,-544\"/>\n<text text-anchor=\"middle\" x=\"607\" y=\"-528.8\" font-family=\"Helvetica,sans-Serif\" font-size=\"14.00\" fill=\"#000000\">mean_length &lt;= &#45;0.828</text>\n<text text-anchor=\"middle\" x=\"607\" y=\"-513.8\" font-family=\"Helvetica,sans-Serif\" font-size=\"14.00\" fill=\"#000000\">gini = 0.185</text>\n<text text-anchor=\"middle\" x=\"607\" y=\"-498.8\" font-family=\"Helvetica,sans-Serif\" font-size=\"14.00\" fill=\"#000000\">samples = 896</text>\n<text text-anchor=\"middle\" x=\"607\" y=\"-483.8\" font-family=\"Helvetica,sans-Serif\" font-size=\"14.00\" fill=\"#000000\">value = [57.0, 494.2]</text>\n<text text-anchor=\"middle\" x=\"607\" y=\"-468.8\" font-family=\"Helvetica,sans-Serif\" font-size=\"14.00\" fill=\"#000000\">class = 1</text>\n</g>\n<!-- 12&#45;&gt;13 -->\n<g id=\"edge13\" class=\"edge\">\n<title>12&#45;&gt;13</title>\n<path fill=\"none\" stroke=\"#000000\" d=\"M1099.388,-582.4627C1096.234,-581.6019 1093.1001,-580.7785 1090,-580 956.747,-546.538 799.027,-524.4187 700.9762,-512.6691\"/>\n<polygon fill=\"#000000\" stroke=\"#000000\" points=\"701.1371,-509.1637 690.7942,-511.4606 700.312,-516.115 701.1371,-509.1637\"/>\n</g>\n<!-- 26 -->\n<g id=\"node27\" class=\"node\">\n<title>26</title>\n<path fill=\"#56ace9\" stroke=\"#000000\" d=\"M1309.5,-544C1309.5,-544 1110.5,-544 1110.5,-544 1104.5,-544 1098.5,-538 1098.5,-532 1098.5,-532 1098.5,-473 1098.5,-473 1098.5,-467 1104.5,-461 1110.5,-461 1110.5,-461 1309.5,-461 1309.5,-461 1315.5,-461 1321.5,-467 1321.5,-473 1321.5,-473 1321.5,-532 1321.5,-532 1321.5,-538 1315.5,-544 1309.5,-544\"/>\n<text text-anchor=\"middle\" x=\"1210\" y=\"-528.8\" font-family=\"Helvetica,sans-Serif\" font-size=\"14.00\" fill=\"#000000\">num_hashtags_entropy &lt;= 0.84</text>\n<text text-anchor=\"middle\" x=\"1210\" y=\"-513.8\" font-family=\"Helvetica,sans-Serif\" font-size=\"14.00\" fill=\"#000000\">gini = 0.226</text>\n<text text-anchor=\"middle\" x=\"1210\" y=\"-498.8\" font-family=\"Helvetica,sans-Serif\" font-size=\"14.00\" fill=\"#000000\">samples = 756</text>\n<text text-anchor=\"middle\" x=\"1210\" y=\"-483.8\" font-family=\"Helvetica,sans-Serif\" font-size=\"14.00\" fill=\"#000000\">value = [58.5, 392.7]</text>\n<text text-anchor=\"middle\" x=\"1210\" y=\"-468.8\" font-family=\"Helvetica,sans-Serif\" font-size=\"14.00\" fill=\"#000000\">class = 1</text>\n</g>\n<!-- 12&#45;&gt;26 -->\n<g id=\"edge26\" class=\"edge\">\n<title>12&#45;&gt;26</title>\n<path fill=\"none\" stroke=\"#000000\" d=\"M1210,-579.8796C1210,-571.6838 1210,-562.9891 1210,-554.5013\"/>\n<polygon fill=\"#000000\" stroke=\"#000000\" points=\"1213.5001,-554.298 1210,-544.2981 1206.5001,-554.2981 1213.5001,-554.298\"/>\n</g>\n<!-- 14 -->\n<g id=\"node15\" class=\"node\">\n<title>14</title>\n<path fill=\"#45a3e7\" stroke=\"#000000\" d=\"M434,-417.5C434,-417.5 318,-417.5 318,-417.5 312,-417.5 306,-411.5 306,-405.5 306,-405.5 306,-361.5 306,-361.5 306,-355.5 312,-349.5 318,-349.5 318,-349.5 434,-349.5 434,-349.5 440,-349.5 446,-355.5 446,-361.5 446,-361.5 446,-405.5 446,-405.5 446,-411.5 440,-417.5 434,-417.5\"/>\n<text text-anchor=\"middle\" x=\"376\" y=\"-402.3\" font-family=\"Helvetica,sans-Serif\" font-size=\"14.00\" fill=\"#000000\">gini = 0.11</text>\n<text text-anchor=\"middle\" x=\"376\" y=\"-387.3\" font-family=\"Helvetica,sans-Serif\" font-size=\"14.00\" fill=\"#000000\">samples = 182</text>\n<text text-anchor=\"middle\" x=\"376\" y=\"-372.3\" font-family=\"Helvetica,sans-Serif\" font-size=\"14.00\" fill=\"#000000\">value = [6.9, 111.3]</text>\n<text text-anchor=\"middle\" x=\"376\" y=\"-357.3\" font-family=\"Helvetica,sans-Serif\" font-size=\"14.00\" fill=\"#000000\">class = 1</text>\n</g>\n<!-- 13&#45;&gt;14 -->\n<g id=\"edge14\" class=\"edge\">\n<title>13&#45;&gt;14</title>\n<path fill=\"none\" stroke=\"#000000\" d=\"M524.8657,-460.8528C502.2007,-449.2975 477.6235,-436.7092 455,-425 453.2457,-424.0921 451.4703,-423.1716 449.68,-422.2421\"/>\n<polygon fill=\"#000000\" stroke=\"#000000\" points=\"451.1224,-419.0472 440.6358,-417.536 447.8912,-425.2569 451.1224,-419.0472\"/>\n</g>\n<!-- 15 -->\n<g id=\"node16\" class=\"node\">\n<title>15</title>\n<path fill=\"#53aae8\" stroke=\"#000000\" d=\"M738,-425C738,-425 476,-425 476,-425 470,-425 464,-419 464,-413 464,-413 464,-354 464,-354 464,-348 470,-342 476,-342 476,-342 738,-342 738,-342 744,-342 750,-348 750,-354 750,-354 750,-413 750,-413 750,-419 744,-425 738,-425\"/>\n<text text-anchor=\"middle\" x=\"607\" y=\"-409.8\" font-family=\"Helvetica,sans-Serif\" font-size=\"14.00\" fill=\"#000000\">sum_number_of_special_chars &lt;= &#45;1.132</text>\n<text text-anchor=\"middle\" x=\"607\" y=\"-394.8\" font-family=\"Helvetica,sans-Serif\" font-size=\"14.00\" fill=\"#000000\">gini = 0.205</text>\n<text text-anchor=\"middle\" x=\"607\" y=\"-379.8\" font-family=\"Helvetica,sans-Serif\" font-size=\"14.00\" fill=\"#000000\">samples = 714</text>\n<text text-anchor=\"middle\" x=\"607\" y=\"-364.8\" font-family=\"Helvetica,sans-Serif\" font-size=\"14.00\" fill=\"#000000\">value = [50.1, 382.9]</text>\n<text text-anchor=\"middle\" x=\"607\" y=\"-349.8\" font-family=\"Helvetica,sans-Serif\" font-size=\"14.00\" fill=\"#000000\">class = 1</text>\n</g>\n<!-- 13&#45;&gt;15 -->\n<g id=\"edge15\" class=\"edge\">\n<title>13&#45;&gt;15</title>\n<path fill=\"none\" stroke=\"#000000\" d=\"M607,-460.8796C607,-452.6838 607,-443.9891 607,-435.5013\"/>\n<polygon fill=\"#000000\" stroke=\"#000000\" points=\"610.5001,-435.298 607,-425.2981 603.5001,-435.2981 610.5001,-435.298\"/>\n</g>\n<!-- 16 -->\n<g id=\"node17\" class=\"node\">\n<title>16</title>\n<path fill=\"#5cafea\" stroke=\"#000000\" d=\"M300,-306C300,-306 148,-306 148,-306 142,-306 136,-300 136,-294 136,-294 136,-235 136,-235 136,-229 142,-223 148,-223 148,-223 300,-223 300,-223 306,-223 312,-229 312,-235 312,-235 312,-294 312,-294 312,-300 306,-306 300,-306\"/>\n<text text-anchor=\"middle\" x=\"224\" y=\"-290.8\" font-family=\"Helvetica,sans-Serif\" font-size=\"14.00\" fill=\"#000000\">min_delta_sec &lt;= &#45;0.322</text>\n<text text-anchor=\"middle\" x=\"224\" y=\"-275.8\" font-family=\"Helvetica,sans-Serif\" font-size=\"14.00\" fill=\"#000000\">gini = 0.257</text>\n<text text-anchor=\"middle\" x=\"224\" y=\"-260.8\" font-family=\"Helvetica,sans-Serif\" font-size=\"14.00\" fill=\"#000000\">samples = 231</text>\n<text text-anchor=\"middle\" x=\"224\" y=\"-245.8\" font-family=\"Helvetica,sans-Serif\" font-size=\"14.00\" fill=\"#000000\">value = [20.4, 114.1]</text>\n<text text-anchor=\"middle\" x=\"224\" y=\"-230.8\" font-family=\"Helvetica,sans-Serif\" font-size=\"14.00\" fill=\"#000000\">class = 1</text>\n</g>\n<!-- 15&#45;&gt;16 -->\n<g id=\"edge16\" class=\"edge\">\n<title>15&#45;&gt;16</title>\n<path fill=\"none\" stroke=\"#000000\" d=\"M473.3141,-341.9631C423.4502,-326.4702 367.8155,-309.1842 321.7745,-294.879\"/>\n<polygon fill=\"#000000\" stroke=\"#000000\" points=\"322.6892,-291.4982 312.101,-291.8734 320.6122,-298.183 322.6892,-291.4982\"/>\n</g>\n<!-- 19 -->\n<g id=\"node20\" class=\"node\">\n<title>19</title>\n<path fill=\"#4fa8e8\" stroke=\"#000000\" d=\"M734,-306C734,-306 480,-306 480,-306 474,-306 468,-300 468,-294 468,-294 468,-235 468,-235 468,-229 474,-223 480,-223 480,-223 734,-223 734,-223 740,-223 746,-229 746,-235 746,-235 746,-294 746,-294 746,-300 740,-306 734,-306\"/>\n<text text-anchor=\"middle\" x=\"607\" y=\"-290.8\" font-family=\"Helvetica,sans-Serif\" font-size=\"14.00\" fill=\"#000000\">sum_number_of_special_chars &lt;= &#45;0.62</text>\n<text text-anchor=\"middle\" x=\"607\" y=\"-275.8\" font-family=\"Helvetica,sans-Serif\" font-size=\"14.00\" fill=\"#000000\">gini = 0.179</text>\n<text text-anchor=\"middle\" x=\"607\" y=\"-260.8\" font-family=\"Helvetica,sans-Serif\" font-size=\"14.00\" fill=\"#000000\">samples = 483</text>\n<text text-anchor=\"middle\" x=\"607\" y=\"-245.8\" font-family=\"Helvetica,sans-Serif\" font-size=\"14.00\" fill=\"#000000\">value = [29.7, 268.8]</text>\n<text text-anchor=\"middle\" x=\"607\" y=\"-230.8\" font-family=\"Helvetica,sans-Serif\" font-size=\"14.00\" fill=\"#000000\">class = 1</text>\n</g>\n<!-- 15&#45;&gt;19 -->\n<g id=\"edge19\" class=\"edge\">\n<title>15&#45;&gt;19</title>\n<path fill=\"none\" stroke=\"#000000\" d=\"M607,-341.8796C607,-333.6838 607,-324.9891 607,-316.5013\"/>\n<polygon fill=\"#000000\" stroke=\"#000000\" points=\"610.5001,-316.298 607,-306.2981 603.5001,-316.2981 610.5001,-316.298\"/>\n</g>\n<!-- 17 -->\n<g id=\"node18\" class=\"node\">\n<title>17</title>\n<path fill=\"#6cb6ec\" stroke=\"#000000\" d=\"M128,-179.5C128,-179.5 12,-179.5 12,-179.5 6,-179.5 0,-173.5 0,-167.5 0,-167.5 0,-123.5 0,-123.5 0,-117.5 6,-111.5 12,-111.5 12,-111.5 128,-111.5 128,-111.5 134,-111.5 140,-117.5 140,-123.5 140,-123.5 140,-167.5 140,-167.5 140,-173.5 134,-179.5 128,-179.5\"/>\n<text text-anchor=\"middle\" x=\"70\" y=\"-164.3\" font-family=\"Helvetica,sans-Serif\" font-size=\"14.00\" fill=\"#000000\">gini = 0.327</text>\n<text text-anchor=\"middle\" x=\"70\" y=\"-149.3\" font-family=\"Helvetica,sans-Serif\" font-size=\"14.00\" fill=\"#000000\">samples = 106</text>\n<text text-anchor=\"middle\" x=\"70\" y=\"-134.3\" font-family=\"Helvetica,sans-Serif\" font-size=\"14.00\" fill=\"#000000\">value = [12.0, 46.2]</text>\n<text text-anchor=\"middle\" x=\"70\" y=\"-119.3\" font-family=\"Helvetica,sans-Serif\" font-size=\"14.00\" fill=\"#000000\">class = 1</text>\n</g>\n<!-- 16&#45;&gt;17 -->\n<g id=\"edge17\" class=\"edge\">\n<title>16&#45;&gt;17</title>\n<path fill=\"none\" stroke=\"#000000\" d=\"M170.1383,-222.8796C154.7696,-211.0038 138.0453,-198.0804 122.7441,-186.2568\"/>\n<polygon fill=\"#000000\" stroke=\"#000000\" points=\"124.4605,-183.1599 114.4076,-179.8149 120.1804,-188.699 124.4605,-183.1599\"/>\n</g>\n<!-- 18 -->\n<g id=\"node19\" class=\"node\">\n<title>18</title>\n<path fill=\"#51a9e8\" stroke=\"#000000\" d=\"M277.5,-179.5C277.5,-179.5 170.5,-179.5 170.5,-179.5 164.5,-179.5 158.5,-173.5 158.5,-167.5 158.5,-167.5 158.5,-123.5 158.5,-123.5 158.5,-117.5 164.5,-111.5 170.5,-111.5 170.5,-111.5 277.5,-111.5 277.5,-111.5 283.5,-111.5 289.5,-117.5 289.5,-123.5 289.5,-123.5 289.5,-167.5 289.5,-167.5 289.5,-173.5 283.5,-179.5 277.5,-179.5\"/>\n<text text-anchor=\"middle\" x=\"224\" y=\"-164.3\" font-family=\"Helvetica,sans-Serif\" font-size=\"14.00\" fill=\"#000000\">gini = 0.196</text>\n<text text-anchor=\"middle\" x=\"224\" y=\"-149.3\" font-family=\"Helvetica,sans-Serif\" font-size=\"14.00\" fill=\"#000000\">samples = 125</text>\n<text text-anchor=\"middle\" x=\"224\" y=\"-134.3\" font-family=\"Helvetica,sans-Serif\" font-size=\"14.00\" fill=\"#000000\">value = [8.4, 67.9]</text>\n<text text-anchor=\"middle\" x=\"224\" y=\"-119.3\" font-family=\"Helvetica,sans-Serif\" font-size=\"14.00\" fill=\"#000000\">class = 1</text>\n</g>\n<!-- 16&#45;&gt;18 -->\n<g id=\"edge18\" class=\"edge\">\n<title>16&#45;&gt;18</title>\n<path fill=\"none\" stroke=\"#000000\" d=\"M224,-222.8796C224,-212.2134 224,-200.7021 224,-189.9015\"/>\n<polygon fill=\"#000000\" stroke=\"#000000\" points=\"227.5001,-189.8149 224,-179.8149 220.5001,-189.815 227.5001,-189.8149\"/>\n</g>\n<!-- 20 -->\n<g id=\"node21\" class=\"node\">\n<title>20</title>\n<path fill=\"#47a4e7\" stroke=\"#000000\" d=\"M600,-187C600,-187 320,-187 320,-187 314,-187 308,-181 308,-175 308,-175 308,-116 308,-116 308,-110 314,-104 320,-104 320,-104 600,-104 600,-104 606,-104 612,-110 612,-116 612,-116 612,-175 612,-175 612,-181 606,-187 600,-187\"/>\n<text text-anchor=\"middle\" x=\"460\" y=\"-171.8\" font-family=\"Helvetica,sans-Serif\" font-size=\"14.00\" fill=\"#000000\">ratio_num_likes_and_num_tweets &lt;= &#45;0.382</text>\n<text text-anchor=\"middle\" x=\"460\" y=\"-156.8\" font-family=\"Helvetica,sans-Serif\" font-size=\"14.00\" fill=\"#000000\">gini = 0.123</text>\n<text text-anchor=\"middle\" x=\"460\" y=\"-141.8\" font-family=\"Helvetica,sans-Serif\" font-size=\"14.00\" fill=\"#000000\">samples = 270</text>\n<text text-anchor=\"middle\" x=\"460\" y=\"-126.8\" font-family=\"Helvetica,sans-Serif\" font-size=\"14.00\" fill=\"#000000\">value = [11.4, 162.4]</text>\n<text text-anchor=\"middle\" x=\"460\" y=\"-111.8\" font-family=\"Helvetica,sans-Serif\" font-size=\"14.00\" fill=\"#000000\">class = 1</text>\n</g>\n<!-- 19&#45;&gt;20 -->\n<g id=\"edge20\" class=\"edge\">\n<title>19&#45;&gt;20</title>\n<path fill=\"none\" stroke=\"#000000\" d=\"M555.5865,-222.8796C543.9048,-213.4229 531.4025,-203.302 519.419,-193.6011\"/>\n<polygon fill=\"#000000\" stroke=\"#000000\" points=\"521.6076,-190.8697 511.6329,-187.2981 517.2032,-196.3105 521.6076,-190.8697\"/>\n</g>\n<!-- 23 -->\n<g id=\"node24\" class=\"node\">\n<title>23</title>\n<path fill=\"#5baee9\" stroke=\"#000000\" d=\"M845.5,-187C845.5,-187 642.5,-187 642.5,-187 636.5,-187 630.5,-181 630.5,-175 630.5,-175 630.5,-116 630.5,-116 630.5,-110 636.5,-104 642.5,-104 642.5,-104 845.5,-104 845.5,-104 851.5,-104 857.5,-110 857.5,-116 857.5,-116 857.5,-175 857.5,-175 857.5,-181 851.5,-187 845.5,-187\"/>\n<text text-anchor=\"middle\" x=\"744\" y=\"-171.8\" font-family=\"Helvetica,sans-Serif\" font-size=\"14.00\" fill=\"#000000\">average_tweets_per_h &lt;= 0.617</text>\n<text text-anchor=\"middle\" x=\"744\" y=\"-156.8\" font-family=\"Helvetica,sans-Serif\" font-size=\"14.00\" fill=\"#000000\">gini = 0.25</text>\n<text text-anchor=\"middle\" x=\"744\" y=\"-141.8\" font-family=\"Helvetica,sans-Serif\" font-size=\"14.00\" fill=\"#000000\">samples = 213</text>\n<text text-anchor=\"middle\" x=\"744\" y=\"-126.8\" font-family=\"Helvetica,sans-Serif\" font-size=\"14.00\" fill=\"#000000\">value = [18.3, 106.4]</text>\n<text text-anchor=\"middle\" x=\"744\" y=\"-111.8\" font-family=\"Helvetica,sans-Serif\" font-size=\"14.00\" fill=\"#000000\">class = 1</text>\n</g>\n<!-- 19&#45;&gt;23 -->\n<g id=\"edge23\" class=\"edge\">\n<title>19&#45;&gt;23</title>\n<path fill=\"none\" stroke=\"#000000\" d=\"M654.916,-222.8796C665.6993,-213.513 677.2329,-203.4948 688.3039,-193.8784\"/>\n<polygon fill=\"#000000\" stroke=\"#000000\" points=\"690.6251,-196.4982 695.8795,-187.2981 686.0347,-191.2134 690.6251,-196.4982\"/>\n</g>\n<!-- 21 -->\n<g id=\"node22\" class=\"node\">\n<title>21</title>\n<path fill=\"#4da7e8\" stroke=\"#000000\" d=\"M397.5,-68C397.5,-68 290.5,-68 290.5,-68 284.5,-68 278.5,-62 278.5,-56 278.5,-56 278.5,-12 278.5,-12 278.5,-6 284.5,0 290.5,0 290.5,0 397.5,0 397.5,0 403.5,0 409.5,-6 409.5,-12 409.5,-12 409.5,-56 409.5,-56 409.5,-62 403.5,-68 397.5,-68\"/>\n<text text-anchor=\"middle\" x=\"344\" y=\"-52.8\" font-family=\"Helvetica,sans-Serif\" font-size=\"14.00\" fill=\"#000000\">gini = 0.166</text>\n<text text-anchor=\"middle\" x=\"344\" y=\"-37.8\" font-family=\"Helvetica,sans-Serif\" font-size=\"14.00\" fill=\"#000000\">samples = 126</text>\n<text text-anchor=\"middle\" x=\"344\" y=\"-22.8\" font-family=\"Helvetica,sans-Serif\" font-size=\"14.00\" fill=\"#000000\">value = [7.2, 71.4]</text>\n<text text-anchor=\"middle\" x=\"344\" y=\"-7.8\" font-family=\"Helvetica,sans-Serif\" font-size=\"14.00\" fill=\"#000000\">class = 1</text>\n</g>\n<!-- 20&#45;&gt;21 -->\n<g id=\"edge21\" class=\"edge\">\n<title>20&#45;&gt;21</title>\n<path fill=\"none\" stroke=\"#000000\" d=\"M416.8059,-103.9815C407.0531,-94.607 396.7017,-84.6572 386.9586,-75.2921\"/>\n<polygon fill=\"#000000\" stroke=\"#000000\" points=\"389.2815,-72.6702 379.6465,-68.2637 384.4306,-77.7169 389.2815,-72.6702\"/>\n</g>\n<!-- 22 -->\n<g id=\"node23\" class=\"node\">\n<title>22</title>\n<path fill=\"#42a2e6\" stroke=\"#000000\" d=\"M546.5,-68C546.5,-68 439.5,-68 439.5,-68 433.5,-68 427.5,-62 427.5,-56 427.5,-56 427.5,-12 427.5,-12 427.5,-6 433.5,0 439.5,0 439.5,0 546.5,0 546.5,0 552.5,0 558.5,-6 558.5,-12 558.5,-12 558.5,-56 558.5,-56 558.5,-62 552.5,-68 546.5,-68\"/>\n<text text-anchor=\"middle\" x=\"493\" y=\"-52.8\" font-family=\"Helvetica,sans-Serif\" font-size=\"14.00\" fill=\"#000000\">gini = 0.084</text>\n<text text-anchor=\"middle\" x=\"493\" y=\"-37.8\" font-family=\"Helvetica,sans-Serif\" font-size=\"14.00\" fill=\"#000000\">samples = 144</text>\n<text text-anchor=\"middle\" x=\"493\" y=\"-22.8\" font-family=\"Helvetica,sans-Serif\" font-size=\"14.00\" fill=\"#000000\">value = [4.2, 91.0]</text>\n<text text-anchor=\"middle\" x=\"493\" y=\"-7.8\" font-family=\"Helvetica,sans-Serif\" font-size=\"14.00\" fill=\"#000000\">class = 1</text>\n</g>\n<!-- 20&#45;&gt;22 -->\n<g id=\"edge22\" class=\"edge\">\n<title>20&#45;&gt;22</title>\n<path fill=\"none\" stroke=\"#000000\" d=\"M472.288,-103.9815C474.7905,-95.5261 477.4315,-86.6026 479.9591,-78.0623\"/>\n<polygon fill=\"#000000\" stroke=\"#000000\" points=\"483.3773,-78.8458 482.8592,-68.2637 476.6651,-76.8592 483.3773,-78.8458\"/>\n</g>\n<!-- 24 -->\n<g id=\"node25\" class=\"node\">\n<title>24</title>\n<path fill=\"#6bb6ec\" stroke=\"#000000\" d=\"M770,-68C770,-68 654,-68 654,-68 648,-68 642,-62 642,-56 642,-56 642,-12 642,-12 642,-6 648,0 654,0 654,0 770,0 770,0 776,0 782,-6 782,-12 782,-12 782,-56 782,-56 782,-62 776,-68 770,-68\"/>\n<text text-anchor=\"middle\" x=\"712\" y=\"-52.8\" font-family=\"Helvetica,sans-Serif\" font-size=\"14.00\" fill=\"#000000\">gini = 0.323</text>\n<text text-anchor=\"middle\" x=\"712\" y=\"-37.8\" font-family=\"Helvetica,sans-Serif\" font-size=\"14.00\" fill=\"#000000\">samples = 102</text>\n<text text-anchor=\"middle\" x=\"712\" y=\"-22.8\" font-family=\"Helvetica,sans-Serif\" font-size=\"14.00\" fill=\"#000000\">value = [11.4, 44.8]</text>\n<text text-anchor=\"middle\" x=\"712\" y=\"-7.8\" font-family=\"Helvetica,sans-Serif\" font-size=\"14.00\" fill=\"#000000\">class = 1</text>\n</g>\n<!-- 23&#45;&gt;24 -->\n<g id=\"edge24\" class=\"edge\">\n<title>23&#45;&gt;24</title>\n<path fill=\"none\" stroke=\"#000000\" d=\"M732.0844,-103.9815C729.6577,-95.5261 727.0967,-86.6026 724.6457,-78.0623\"/>\n<polygon fill=\"#000000\" stroke=\"#000000\" points=\"727.9564,-76.9101 721.8335,-68.2637 721.228,-78.8412 727.9564,-76.9101\"/>\n</g>\n<!-- 25 -->\n<g id=\"node26\" class=\"node\">\n<title>25</title>\n<path fill=\"#4fa8e8\" stroke=\"#000000\" d=\"M919.5,-68C919.5,-68 812.5,-68 812.5,-68 806.5,-68 800.5,-62 800.5,-56 800.5,-56 800.5,-12 800.5,-12 800.5,-6 806.5,0 812.5,0 812.5,0 919.5,0 919.5,0 925.5,0 931.5,-6 931.5,-12 931.5,-12 931.5,-56 931.5,-56 931.5,-62 925.5,-68 919.5,-68\"/>\n<text text-anchor=\"middle\" x=\"866\" y=\"-52.8\" font-family=\"Helvetica,sans-Serif\" font-size=\"14.00\" fill=\"#000000\">gini = 0.181</text>\n<text text-anchor=\"middle\" x=\"866\" y=\"-37.8\" font-family=\"Helvetica,sans-Serif\" font-size=\"14.00\" fill=\"#000000\">samples = 111</text>\n<text text-anchor=\"middle\" x=\"866\" y=\"-22.8\" font-family=\"Helvetica,sans-Serif\" font-size=\"14.00\" fill=\"#000000\">value = [6.9, 61.6]</text>\n<text text-anchor=\"middle\" x=\"866\" y=\"-7.8\" font-family=\"Helvetica,sans-Serif\" font-size=\"14.00\" fill=\"#000000\">class = 1</text>\n</g>\n<!-- 23&#45;&gt;25 -->\n<g id=\"edge25\" class=\"edge\">\n<title>23&#45;&gt;25</title>\n<path fill=\"none\" stroke=\"#000000\" d=\"M789.4283,-103.9815C799.7861,-94.5151 810.7859,-84.462 821.1206,-75.0168\"/>\n<polygon fill=\"#000000\" stroke=\"#000000\" points=\"823.4893,-77.5935 828.5097,-68.2637 818.7669,-72.4264 823.4893,-77.5935\"/>\n</g>\n<!-- 27 -->\n<g id=\"node28\" class=\"node\">\n<title>27</title>\n<path fill=\"#59ade9\" stroke=\"#000000\" d=\"M1293.5,-425C1293.5,-425 1096.5,-425 1096.5,-425 1090.5,-425 1084.5,-419 1084.5,-413 1084.5,-413 1084.5,-354 1084.5,-354 1084.5,-348 1090.5,-342 1096.5,-342 1096.5,-342 1293.5,-342 1293.5,-342 1299.5,-342 1305.5,-348 1305.5,-354 1305.5,-354 1305.5,-413 1305.5,-413 1305.5,-419 1299.5,-425 1293.5,-425\"/>\n<text text-anchor=\"middle\" x=\"1195\" y=\"-409.8\" font-family=\"Helvetica,sans-Serif\" font-size=\"14.00\" fill=\"#000000\">mean_time_delta_sec &lt;= 1.145</text>\n<text text-anchor=\"middle\" x=\"1195\" y=\"-394.8\" font-family=\"Helvetica,sans-Serif\" font-size=\"14.00\" fill=\"#000000\">gini = 0.24</text>\n<text text-anchor=\"middle\" x=\"1195\" y=\"-379.8\" font-family=\"Helvetica,sans-Serif\" font-size=\"14.00\" fill=\"#000000\">samples = 617</text>\n<text text-anchor=\"middle\" x=\"1195\" y=\"-364.8\" font-family=\"Helvetica,sans-Serif\" font-size=\"14.00\" fill=\"#000000\">value = [50.7, 313.6]</text>\n<text text-anchor=\"middle\" x=\"1195\" y=\"-349.8\" font-family=\"Helvetica,sans-Serif\" font-size=\"14.00\" fill=\"#000000\">class = 1</text>\n</g>\n<!-- 26&#45;&gt;27 -->\n<g id=\"edge27\" class=\"edge\">\n<title>26&#45;&gt;27</title>\n<path fill=\"none\" stroke=\"#000000\" d=\"M1204.7537,-460.8796C1203.7093,-452.5938 1202.6006,-443.798 1201.5195,-435.2216\"/>\n<polygon fill=\"#000000\" stroke=\"#000000\" points=\"1204.9919,-434.7818 1200.2687,-425.2981 1198.0468,-435.6573 1204.9919,-434.7818\"/>\n</g>\n<!-- 36 -->\n<g id=\"node37\" class=\"node\">\n<title>36</title>\n<path fill=\"#4da7e8\" stroke=\"#000000\" d=\"M1442.5,-417.5C1442.5,-417.5 1335.5,-417.5 1335.5,-417.5 1329.5,-417.5 1323.5,-411.5 1323.5,-405.5 1323.5,-405.5 1323.5,-361.5 1323.5,-361.5 1323.5,-355.5 1329.5,-349.5 1335.5,-349.5 1335.5,-349.5 1442.5,-349.5 1442.5,-349.5 1448.5,-349.5 1454.5,-355.5 1454.5,-361.5 1454.5,-361.5 1454.5,-405.5 1454.5,-405.5 1454.5,-411.5 1448.5,-417.5 1442.5,-417.5\"/>\n<text text-anchor=\"middle\" x=\"1389\" y=\"-402.3\" font-family=\"Helvetica,sans-Serif\" font-size=\"14.00\" fill=\"#000000\">gini = 0.163</text>\n<text text-anchor=\"middle\" x=\"1389\" y=\"-387.3\" font-family=\"Helvetica,sans-Serif\" font-size=\"14.00\" fill=\"#000000\">samples = 139</text>\n<text text-anchor=\"middle\" x=\"1389\" y=\"-372.3\" font-family=\"Helvetica,sans-Serif\" font-size=\"14.00\" fill=\"#000000\">value = [7.8, 79.1]</text>\n<text text-anchor=\"middle\" x=\"1389\" y=\"-357.3\" font-family=\"Helvetica,sans-Serif\" font-size=\"14.00\" fill=\"#000000\">class = 1</text>\n</g>\n<!-- 26&#45;&gt;36 -->\n<g id=\"edge36\" class=\"edge\">\n<title>26&#45;&gt;36</title>\n<path fill=\"none\" stroke=\"#000000\" d=\"M1272.6055,-460.8796C1290.8865,-448.7263 1310.8178,-435.4759 1328.9376,-423.4297\"/>\n<polygon fill=\"#000000\" stroke=\"#000000\" points=\"1331.2821,-426.074 1337.6721,-417.623 1327.4067,-420.2447 1331.2821,-426.074\"/>\n</g>\n<!-- 28 -->\n<g id=\"node29\" class=\"node\">\n<title>28</title>\n<path fill=\"#5fb0ea\" stroke=\"#000000\" d=\"M1230,-306C1230,-306 1046,-306 1046,-306 1040,-306 1034,-300 1034,-294 1034,-294 1034,-235 1034,-235 1034,-229 1040,-223 1046,-223 1046,-223 1230,-223 1230,-223 1236,-223 1242,-229 1242,-235 1242,-235 1242,-294 1242,-294 1242,-300 1236,-306 1230,-306\"/>\n<text text-anchor=\"middle\" x=\"1138\" y=\"-290.8\" font-family=\"Helvetica,sans-Serif\" font-size=\"14.00\" fill=\"#000000\">created_at_entropy &lt;= &#45;0.898</text>\n<text text-anchor=\"middle\" x=\"1138\" y=\"-275.8\" font-family=\"Helvetica,sans-Serif\" font-size=\"14.00\" fill=\"#000000\">gini = 0.271</text>\n<text text-anchor=\"middle\" x=\"1138\" y=\"-260.8\" font-family=\"Helvetica,sans-Serif\" font-size=\"14.00\" fill=\"#000000\">samples = 329</text>\n<text text-anchor=\"middle\" x=\"1138\" y=\"-245.8\" font-family=\"Helvetica,sans-Serif\" font-size=\"14.00\" fill=\"#000000\">value = [30.6, 158.9]</text>\n<text text-anchor=\"middle\" x=\"1138\" y=\"-230.8\" font-family=\"Helvetica,sans-Serif\" font-size=\"14.00\" fill=\"#000000\">class = 1</text>\n</g>\n<!-- 27&#45;&gt;28 -->\n<g id=\"edge28\" class=\"edge\">\n<title>27&#45;&gt;28</title>\n<path fill=\"none\" stroke=\"#000000\" d=\"M1175.0642,-341.8796C1170.9659,-333.3236 1166.6072,-324.2238 1162.3727,-315.3833\"/>\n<polygon fill=\"#000000\" stroke=\"#000000\" points=\"1165.4975,-313.8049 1158.0209,-306.2981 1159.1843,-316.8288 1165.4975,-313.8049\"/>\n</g>\n<!-- 33 -->\n<g id=\"node34\" class=\"node\">\n<title>33</title>\n<path fill=\"#53aae8\" stroke=\"#000000\" d=\"M1420,-306C1420,-306 1272,-306 1272,-306 1266,-306 1260,-300 1260,-294 1260,-294 1260,-235 1260,-235 1260,-229 1266,-223 1272,-223 1272,-223 1420,-223 1420,-223 1426,-223 1432,-229 1432,-235 1432,-235 1432,-294 1432,-294 1432,-300 1426,-306 1420,-306\"/>\n<text text-anchor=\"middle\" x=\"1346\" y=\"-290.8\" font-family=\"Helvetica,sans-Serif\" font-size=\"14.00\" fill=\"#000000\">min_delta_sec &lt;= 1.034</text>\n<text text-anchor=\"middle\" x=\"1346\" y=\"-275.8\" font-family=\"Helvetica,sans-Serif\" font-size=\"14.00\" fill=\"#000000\">gini = 0.204</text>\n<text text-anchor=\"middle\" x=\"1346\" y=\"-260.8\" font-family=\"Helvetica,sans-Serif\" font-size=\"14.00\" fill=\"#000000\">samples = 288</text>\n<text text-anchor=\"middle\" x=\"1346\" y=\"-245.8\" font-family=\"Helvetica,sans-Serif\" font-size=\"14.00\" fill=\"#000000\">value = [20.1, 154.7]</text>\n<text text-anchor=\"middle\" x=\"1346\" y=\"-230.8\" font-family=\"Helvetica,sans-Serif\" font-size=\"14.00\" fill=\"#000000\">class = 1</text>\n</g>\n<!-- 27&#45;&gt;33 -->\n<g id=\"edge33\" class=\"edge\">\n<title>27&#45;&gt;33</title>\n<path fill=\"none\" stroke=\"#000000\" d=\"M1247.8125,-341.8796C1259.8818,-332.368 1272.8039,-322.1843 1285.1788,-312.432\"/>\n<polygon fill=\"#000000\" stroke=\"#000000\" points=\"1287.5296,-315.0356 1293.2173,-306.0969 1283.1968,-309.5377 1287.5296,-315.0356\"/>\n</g>\n<!-- 29 -->\n<g id=\"node30\" class=\"node\">\n<title>29</title>\n<path fill=\"#73baed\" stroke=\"#000000\" d=\"M1004,-179.5C1004,-179.5 888,-179.5 888,-179.5 882,-179.5 876,-173.5 876,-167.5 876,-167.5 876,-123.5 876,-123.5 876,-117.5 882,-111.5 888,-111.5 888,-111.5 1004,-111.5 1004,-111.5 1010,-111.5 1016,-117.5 1016,-123.5 1016,-123.5 1016,-167.5 1016,-167.5 1016,-173.5 1010,-179.5 1004,-179.5\"/>\n<text text-anchor=\"middle\" x=\"946\" y=\"-164.3\" font-family=\"Helvetica,sans-Serif\" font-size=\"14.00\" fill=\"#000000\">gini = 0.35</text>\n<text text-anchor=\"middle\" x=\"946\" y=\"-149.3\" font-family=\"Helvetica,sans-Serif\" font-size=\"14.00\" fill=\"#000000\">samples = 101</text>\n<text text-anchor=\"middle\" x=\"946\" y=\"-134.3\" font-family=\"Helvetica,sans-Serif\" font-size=\"14.00\" fill=\"#000000\">value = [12.3, 42.0]</text>\n<text text-anchor=\"middle\" x=\"946\" y=\"-119.3\" font-family=\"Helvetica,sans-Serif\" font-size=\"14.00\" fill=\"#000000\">class = 1</text>\n</g>\n<!-- 28&#45;&gt;29 -->\n<g id=\"edge29\" class=\"edge\">\n<title>28&#45;&gt;29</title>\n<path fill=\"none\" stroke=\"#000000\" d=\"M1070.8477,-222.8796C1050.9717,-210.5606 1029.2768,-197.1143 1009.6305,-184.9376\"/>\n<polygon fill=\"#000000\" stroke=\"#000000\" points=\"1011.3993,-181.9163 1001.0557,-179.623 1007.7116,-187.8661 1011.3993,-181.9163\"/>\n</g>\n<!-- 30 -->\n<g id=\"node31\" class=\"node\">\n<title>30</title>\n<path fill=\"#58ace9\" stroke=\"#000000\" d=\"M1243.5,-187C1243.5,-187 1046.5,-187 1046.5,-187 1040.5,-187 1034.5,-181 1034.5,-175 1034.5,-175 1034.5,-116 1034.5,-116 1034.5,-110 1040.5,-104 1046.5,-104 1046.5,-104 1243.5,-104 1243.5,-104 1249.5,-104 1255.5,-110 1255.5,-116 1255.5,-116 1255.5,-175 1255.5,-175 1255.5,-181 1249.5,-187 1243.5,-187\"/>\n<text text-anchor=\"middle\" x=\"1145\" y=\"-171.8\" font-family=\"Helvetica,sans-Serif\" font-size=\"14.00\" fill=\"#000000\">mean_time_delta_sec &lt;= 0.977</text>\n<text text-anchor=\"middle\" x=\"1145\" y=\"-156.8\" font-family=\"Helvetica,sans-Serif\" font-size=\"14.00\" fill=\"#000000\">gini = 0.234</text>\n<text text-anchor=\"middle\" x=\"1145\" y=\"-141.8\" font-family=\"Helvetica,sans-Serif\" font-size=\"14.00\" fill=\"#000000\">samples = 228</text>\n<text text-anchor=\"middle\" x=\"1145\" y=\"-126.8\" font-family=\"Helvetica,sans-Serif\" font-size=\"14.00\" fill=\"#000000\">value = [18.3, 116.9]</text>\n<text text-anchor=\"middle\" x=\"1145\" y=\"-111.8\" font-family=\"Helvetica,sans-Serif\" font-size=\"14.00\" fill=\"#000000\">class = 1</text>\n</g>\n<!-- 28&#45;&gt;30 -->\n<g id=\"edge30\" class=\"edge\">\n<title>28&#45;&gt;30</title>\n<path fill=\"none\" stroke=\"#000000\" d=\"M1140.4483,-222.8796C1140.9304,-214.6838 1141.4418,-205.9891 1141.9411,-197.5013\"/>\n<polygon fill=\"#000000\" stroke=\"#000000\" points=\"1145.4479,-197.4864 1142.5413,-187.2981 1138.46,-197.0753 1145.4479,-197.4864\"/>\n</g>\n<!-- 31 -->\n<g id=\"node32\" class=\"node\">\n<title>31</title>\n<path fill=\"#63b2eb\" stroke=\"#000000\" d=\"M1157,-68C1157,-68 1041,-68 1041,-68 1035,-68 1029,-62 1029,-56 1029,-56 1029,-12 1029,-12 1029,-6 1035,0 1041,0 1041,0 1157,0 1157,0 1163,0 1169,-6 1169,-12 1169,-12 1169,-56 1169,-56 1169,-62 1163,-68 1157,-68\"/>\n<text text-anchor=\"middle\" x=\"1099\" y=\"-52.8\" font-family=\"Helvetica,sans-Serif\" font-size=\"14.00\" fill=\"#000000\">gini = 0.291</text>\n<text text-anchor=\"middle\" x=\"1099\" y=\"-37.8\" font-family=\"Helvetica,sans-Serif\" font-size=\"14.00\" fill=\"#000000\">samples = 105</text>\n<text text-anchor=\"middle\" x=\"1099\" y=\"-22.8\" font-family=\"Helvetica,sans-Serif\" font-size=\"14.00\" fill=\"#000000\">value = [10.5, 49.0]</text>\n<text text-anchor=\"middle\" x=\"1099\" y=\"-7.8\" font-family=\"Helvetica,sans-Serif\" font-size=\"14.00\" fill=\"#000000\">class = 1</text>\n</g>\n<!-- 30&#45;&gt;31 -->\n<g id=\"edge31\" class=\"edge\">\n<title>30&#45;&gt;31</title>\n<path fill=\"none\" stroke=\"#000000\" d=\"M1127.8713,-103.9815C1124.345,-95.4342 1120.6215,-86.4086 1117.0633,-77.7839\"/>\n<polygon fill=\"#000000\" stroke=\"#000000\" points=\"1120.185,-76.1731 1113.1357,-68.2637 1113.714,-78.8427 1120.185,-76.1731\"/>\n</g>\n<!-- 32 -->\n<g id=\"node33\" class=\"node\">\n<title>32</title>\n<path fill=\"#50a8e8\" stroke=\"#000000\" d=\"M1306.5,-68C1306.5,-68 1199.5,-68 1199.5,-68 1193.5,-68 1187.5,-62 1187.5,-56 1187.5,-56 1187.5,-12 1187.5,-12 1187.5,-6 1193.5,0 1199.5,0 1199.5,0 1306.5,0 1306.5,0 1312.5,0 1318.5,-6 1318.5,-12 1318.5,-12 1318.5,-56 1318.5,-56 1318.5,-62 1312.5,-68 1306.5,-68\"/>\n<text text-anchor=\"middle\" x=\"1253\" y=\"-52.8\" font-family=\"Helvetica,sans-Serif\" font-size=\"14.00\" fill=\"#000000\">gini = 0.185</text>\n<text text-anchor=\"middle\" x=\"1253\" y=\"-37.8\" font-family=\"Helvetica,sans-Serif\" font-size=\"14.00\" fill=\"#000000\">samples = 123</text>\n<text text-anchor=\"middle\" x=\"1253\" y=\"-22.8\" font-family=\"Helvetica,sans-Serif\" font-size=\"14.00\" fill=\"#000000\">value = [7.8, 67.9]</text>\n<text text-anchor=\"middle\" x=\"1253\" y=\"-7.8\" font-family=\"Helvetica,sans-Serif\" font-size=\"14.00\" fill=\"#000000\">class = 1</text>\n</g>\n<!-- 30&#45;&gt;32 -->\n<g id=\"edge32\" class=\"edge\">\n<title>30&#45;&gt;32</title>\n<path fill=\"none\" stroke=\"#000000\" d=\"M1185.2152,-103.9815C1194.2064,-94.6989 1203.744,-84.8522 1212.7371,-75.5677\"/>\n<polygon fill=\"#000000\" stroke=\"#000000\" points=\"1215.3684,-77.8817 1219.8119,-68.2637 1210.3404,-73.0115 1215.3684,-77.8817\"/>\n</g>\n<!-- 34 -->\n<g id=\"node35\" class=\"node\">\n<title>34</title>\n<path fill=\"#4ba6e7\" stroke=\"#000000\" d=\"M1392.5,-179.5C1392.5,-179.5 1285.5,-179.5 1285.5,-179.5 1279.5,-179.5 1273.5,-173.5 1273.5,-167.5 1273.5,-167.5 1273.5,-123.5 1273.5,-123.5 1273.5,-117.5 1279.5,-111.5 1285.5,-111.5 1285.5,-111.5 1392.5,-111.5 1392.5,-111.5 1398.5,-111.5 1404.5,-117.5 1404.5,-123.5 1404.5,-123.5 1404.5,-167.5 1404.5,-167.5 1404.5,-173.5 1398.5,-179.5 1392.5,-179.5\"/>\n<text text-anchor=\"middle\" x=\"1339\" y=\"-164.3\" font-family=\"Helvetica,sans-Serif\" font-size=\"14.00\" fill=\"#000000\">gini = 0.153</text>\n<text text-anchor=\"middle\" x=\"1339\" y=\"-149.3\" font-family=\"Helvetica,sans-Serif\" font-size=\"14.00\" fill=\"#000000\">samples = 114</text>\n<text text-anchor=\"middle\" x=\"1339\" y=\"-134.3\" font-family=\"Helvetica,sans-Serif\" font-size=\"14.00\" fill=\"#000000\">value = [6.0, 65.8]</text>\n<text text-anchor=\"middle\" x=\"1339\" y=\"-119.3\" font-family=\"Helvetica,sans-Serif\" font-size=\"14.00\" fill=\"#000000\">class = 1</text>\n</g>\n<!-- 33&#45;&gt;34 -->\n<g id=\"edge34\" class=\"edge\">\n<title>33&#45;&gt;34</title>\n<path fill=\"none\" stroke=\"#000000\" d=\"M1343.5517,-222.8796C1342.9243,-212.2134 1342.2472,-200.7021 1341.6119,-189.9015\"/>\n<polygon fill=\"#000000\" stroke=\"#000000\" points=\"1345.0998,-189.5921 1341.0185,-179.8149 1338.1119,-190.0032 1345.0998,-189.5921\"/>\n</g>\n<!-- 35 -->\n<g id=\"node36\" class=\"node\">\n<title>35</title>\n<path fill=\"#58ade9\" stroke=\"#000000\" d=\"M1551,-179.5C1551,-179.5 1435,-179.5 1435,-179.5 1429,-179.5 1423,-173.5 1423,-167.5 1423,-167.5 1423,-123.5 1423,-123.5 1423,-117.5 1429,-111.5 1435,-111.5 1435,-111.5 1551,-111.5 1551,-111.5 1557,-111.5 1563,-117.5 1563,-123.5 1563,-123.5 1563,-167.5 1563,-167.5 1563,-173.5 1557,-179.5 1551,-179.5\"/>\n<text text-anchor=\"middle\" x=\"1493\" y=\"-164.3\" font-family=\"Helvetica,sans-Serif\" font-size=\"14.00\" fill=\"#000000\">gini = 0.236</text>\n<text text-anchor=\"middle\" x=\"1493\" y=\"-149.3\" font-family=\"Helvetica,sans-Serif\" font-size=\"14.00\" fill=\"#000000\">samples = 174</text>\n<text text-anchor=\"middle\" x=\"1493\" y=\"-134.3\" font-family=\"Helvetica,sans-Serif\" font-size=\"14.00\" fill=\"#000000\">value = [14.1, 88.9]</text>\n<text text-anchor=\"middle\" x=\"1493\" y=\"-119.3\" font-family=\"Helvetica,sans-Serif\" font-size=\"14.00\" fill=\"#000000\">class = 1</text>\n</g>\n<!-- 33&#45;&gt;35 -->\n<g id=\"edge35\" class=\"edge\">\n<title>33&#45;&gt;35</title>\n<path fill=\"none\" stroke=\"#000000\" d=\"M1397.4135,-222.8796C1412.0835,-211.0038 1428.0477,-198.0804 1442.6533,-186.2568\"/>\n<polygon fill=\"#000000\" stroke=\"#000000\" points=\"1445.0407,-188.8273 1450.611,-179.8149 1440.6363,-183.3866 1445.0407,-188.8273\"/>\n</g>\n<!-- 38 -->\n<g id=\"node39\" class=\"node\">\n<title>38</title>\n<path fill=\"#71b9ec\" stroke=\"#000000\" d=\"M1482,-536.5C1482,-536.5 1366,-536.5 1366,-536.5 1360,-536.5 1354,-530.5 1354,-524.5 1354,-524.5 1354,-480.5 1354,-480.5 1354,-474.5 1360,-468.5 1366,-468.5 1366,-468.5 1482,-468.5 1482,-468.5 1488,-468.5 1494,-474.5 1494,-480.5 1494,-480.5 1494,-524.5 1494,-524.5 1494,-530.5 1488,-536.5 1482,-536.5\"/>\n<text text-anchor=\"middle\" x=\"1424\" y=\"-521.3\" font-family=\"Helvetica,sans-Serif\" font-size=\"14.00\" fill=\"#000000\">gini = 0.344</text>\n<text text-anchor=\"middle\" x=\"1424\" y=\"-506.3\" font-family=\"Helvetica,sans-Serif\" font-size=\"14.00\" fill=\"#000000\">samples = 133</text>\n<text text-anchor=\"middle\" x=\"1424\" y=\"-491.3\" font-family=\"Helvetica,sans-Serif\" font-size=\"14.00\" fill=\"#000000\">value = [15.9, 56.0]</text>\n<text text-anchor=\"middle\" x=\"1424\" y=\"-476.3\" font-family=\"Helvetica,sans-Serif\" font-size=\"14.00\" fill=\"#000000\">class = 1</text>\n</g>\n<!-- 37&#45;&gt;38 -->\n<g id=\"edge38\" class=\"edge\">\n<title>37&#45;&gt;38</title>\n<path fill=\"none\" stroke=\"#000000\" d=\"M1437.6552,-579.8796C1435.7729,-569.2134 1433.7415,-557.7021 1431.8356,-546.9015\"/>\n<polygon fill=\"#000000\" stroke=\"#000000\" points=\"1435.2403,-546.0545 1430.0556,-536.8149 1428.3468,-547.2711 1435.2403,-546.0545\"/>\n</g>\n<!-- 39 -->\n<g id=\"node40\" class=\"node\">\n<title>39</title>\n<path fill=\"#54aae9\" stroke=\"#000000\" d=\"M1631.5,-536.5C1631.5,-536.5 1524.5,-536.5 1524.5,-536.5 1518.5,-536.5 1512.5,-530.5 1512.5,-524.5 1512.5,-524.5 1512.5,-480.5 1512.5,-480.5 1512.5,-474.5 1518.5,-468.5 1524.5,-468.5 1524.5,-468.5 1631.5,-468.5 1631.5,-468.5 1637.5,-468.5 1643.5,-474.5 1643.5,-480.5 1643.5,-480.5 1643.5,-524.5 1643.5,-524.5 1643.5,-530.5 1637.5,-536.5 1631.5,-536.5\"/>\n<text text-anchor=\"middle\" x=\"1578\" y=\"-521.3\" font-family=\"Helvetica,sans-Serif\" font-size=\"14.00\" fill=\"#000000\">gini = 0.211</text>\n<text text-anchor=\"middle\" x=\"1578\" y=\"-506.3\" font-family=\"Helvetica,sans-Serif\" font-size=\"14.00\" fill=\"#000000\">samples = 112</text>\n<text text-anchor=\"middle\" x=\"1578\" y=\"-491.3\" font-family=\"Helvetica,sans-Serif\" font-size=\"14.00\" fill=\"#000000\">value = [8.1, 59.5]</text>\n<text text-anchor=\"middle\" x=\"1578\" y=\"-476.3\" font-family=\"Helvetica,sans-Serif\" font-size=\"14.00\" fill=\"#000000\">class = 1</text>\n</g>\n<!-- 37&#45;&gt;39 -->\n<g id=\"edge39\" class=\"edge\">\n<title>37&#45;&gt;39</title>\n<path fill=\"none\" stroke=\"#000000\" d=\"M1491.5169,-579.8796C1504.667,-568.1138 1518.9663,-555.3197 1532.0809,-543.5855\"/>\n<polygon fill=\"#000000\" stroke=\"#000000\" points=\"1534.5294,-546.0913 1539.648,-536.8149 1529.8618,-540.8746 1534.5294,-546.0913\"/>\n</g>\n<!-- 41 -->\n<g id=\"node42\" class=\"node\">\n<title>41</title>\n<path fill=\"#5eafea\" stroke=\"#000000\" d=\"M2488,-901C2488,-901 2302,-901 2302,-901 2296,-901 2290,-895 2290,-889 2290,-889 2290,-830 2290,-830 2290,-824 2296,-818 2302,-818 2302,-818 2488,-818 2488,-818 2494,-818 2500,-824 2500,-830 2500,-830 2500,-889 2500,-889 2500,-895 2494,-901 2488,-901\"/>\n<text text-anchor=\"middle\" x=\"2395\" y=\"-885.8\" font-family=\"Helvetica,sans-Serif\" font-size=\"14.00\" fill=\"#000000\">sum_len_all_tweets &lt;= &#45;0.271</text>\n<text text-anchor=\"middle\" x=\"2395\" y=\"-870.8\" font-family=\"Helvetica,sans-Serif\" font-size=\"14.00\" fill=\"#000000\">gini = 0.265</text>\n<text text-anchor=\"middle\" x=\"2395\" y=\"-855.8\" font-family=\"Helvetica,sans-Serif\" font-size=\"14.00\" fill=\"#000000\">samples = 1599</text>\n<text text-anchor=\"middle\" x=\"2395\" y=\"-840.8\" font-family=\"Helvetica,sans-Serif\" font-size=\"14.00\" fill=\"#000000\">value = [145.2, 780.5]</text>\n<text text-anchor=\"middle\" x=\"2395\" y=\"-825.8\" font-family=\"Helvetica,sans-Serif\" font-size=\"14.00\" fill=\"#000000\">class = 1</text>\n</g>\n<!-- 40&#45;&gt;41 -->\n<g id=\"edge41\" class=\"edge\">\n<title>40&#45;&gt;41</title>\n<path fill=\"none\" stroke=\"#000000\" d=\"M2473.0298,-936.8796C2463.7662,-927.6931 2453.8704,-917.8798 2444.3448,-908.4336\"/>\n<polygon fill=\"#000000\" stroke=\"#000000\" points=\"2446.7144,-905.8543 2437.1493,-901.2981 2441.7854,-910.8247 2446.7144,-905.8543\"/>\n</g>\n<!-- 64 -->\n<g id=\"node65\" class=\"node\">\n<title>64</title>\n<path fill=\"#4aa5e7\" stroke=\"#000000\" d=\"M2637.5,-893.5C2637.5,-893.5 2530.5,-893.5 2530.5,-893.5 2524.5,-893.5 2518.5,-887.5 2518.5,-881.5 2518.5,-881.5 2518.5,-837.5 2518.5,-837.5 2518.5,-831.5 2524.5,-825.5 2530.5,-825.5 2530.5,-825.5 2637.5,-825.5 2637.5,-825.5 2643.5,-825.5 2649.5,-831.5 2649.5,-837.5 2649.5,-837.5 2649.5,-881.5 2649.5,-881.5 2649.5,-887.5 2643.5,-893.5 2637.5,-893.5\"/>\n<text text-anchor=\"middle\" x=\"2584\" y=\"-878.3\" font-family=\"Helvetica,sans-Serif\" font-size=\"14.00\" fill=\"#000000\">gini = 0.145</text>\n<text text-anchor=\"middle\" x=\"2584\" y=\"-863.3\" font-family=\"Helvetica,sans-Serif\" font-size=\"14.00\" fill=\"#000000\">samples = 120</text>\n<text text-anchor=\"middle\" x=\"2584\" y=\"-848.3\" font-family=\"Helvetica,sans-Serif\" font-size=\"14.00\" fill=\"#000000\">value = [6.0, 70.0]</text>\n<text text-anchor=\"middle\" x=\"2584\" y=\"-833.3\" font-family=\"Helvetica,sans-Serif\" font-size=\"14.00\" fill=\"#000000\">class = 1</text>\n</g>\n<!-- 40&#45;&gt;64 -->\n<g id=\"edge64\" class=\"edge\">\n<title>40&#45;&gt;64</title>\n<path fill=\"none\" stroke=\"#000000\" d=\"M2539.1329,-936.8796C2545.5725,-925.7735 2552.5434,-913.7513 2559.0271,-902.5691\"/>\n<polygon fill=\"#000000\" stroke=\"#000000\" points=\"2562.1148,-904.2215 2564.1031,-893.8149 2556.0591,-900.7102 2562.1148,-904.2215\"/>\n</g>\n<!-- 42 -->\n<g id=\"node43\" class=\"node\">\n<title>42</title>\n<path fill=\"#5caeea\" stroke=\"#000000\" d=\"M2361.5,-782C2361.5,-782 2158.5,-782 2158.5,-782 2152.5,-782 2146.5,-776 2146.5,-770 2146.5,-770 2146.5,-711 2146.5,-711 2146.5,-705 2152.5,-699 2158.5,-699 2158.5,-699 2361.5,-699 2361.5,-699 2367.5,-699 2373.5,-705 2373.5,-711 2373.5,-711 2373.5,-770 2373.5,-770 2373.5,-776 2367.5,-782 2361.5,-782\"/>\n<text text-anchor=\"middle\" x=\"2260\" y=\"-766.8\" font-family=\"Helvetica,sans-Serif\" font-size=\"14.00\" fill=\"#000000\">sum_duplicate_tweets &lt;= &#45;0.153</text>\n<text text-anchor=\"middle\" x=\"2260\" y=\"-751.8\" font-family=\"Helvetica,sans-Serif\" font-size=\"14.00\" fill=\"#000000\">gini = 0.256</text>\n<text text-anchor=\"middle\" x=\"2260\" y=\"-736.8\" font-family=\"Helvetica,sans-Serif\" font-size=\"14.00\" fill=\"#000000\">samples = 1467</text>\n<text text-anchor=\"middle\" x=\"2260\" y=\"-721.8\" font-family=\"Helvetica,sans-Serif\" font-size=\"14.00\" fill=\"#000000\">value = [129.0, 725.9]</text>\n<text text-anchor=\"middle\" x=\"2260\" y=\"-706.8\" font-family=\"Helvetica,sans-Serif\" font-size=\"14.00\" fill=\"#000000\">class = 1</text>\n</g>\n<!-- 41&#45;&gt;42 -->\n<g id=\"edge42\" class=\"edge\">\n<title>41&#45;&gt;42</title>\n<path fill=\"none\" stroke=\"#000000\" d=\"M2347.7836,-817.8796C2337.2598,-808.6031 2326.0109,-798.6874 2315.1979,-789.1559\"/>\n<polygon fill=\"#000000\" stroke=\"#000000\" points=\"2317.234,-786.2851 2307.418,-782.2981 2312.6052,-791.5362 2317.234,-786.2851\"/>\n</g>\n<!-- 63 -->\n<g id=\"node64\" class=\"node\">\n<title>63</title>\n<path fill=\"#74baed\" stroke=\"#000000\" d=\"M2520,-774.5C2520,-774.5 2404,-774.5 2404,-774.5 2398,-774.5 2392,-768.5 2392,-762.5 2392,-762.5 2392,-718.5 2392,-718.5 2392,-712.5 2398,-706.5 2404,-706.5 2404,-706.5 2520,-706.5 2520,-706.5 2526,-706.5 2532,-712.5 2532,-718.5 2532,-718.5 2532,-762.5 2532,-762.5 2532,-768.5 2526,-774.5 2520,-774.5\"/>\n<text text-anchor=\"middle\" x=\"2462\" y=\"-759.3\" font-family=\"Helvetica,sans-Serif\" font-size=\"14.00\" fill=\"#000000\">gini = 0.353</text>\n<text text-anchor=\"middle\" x=\"2462\" y=\"-744.3\" font-family=\"Helvetica,sans-Serif\" font-size=\"14.00\" fill=\"#000000\">samples = 132</text>\n<text text-anchor=\"middle\" x=\"2462\" y=\"-729.3\" font-family=\"Helvetica,sans-Serif\" font-size=\"14.00\" fill=\"#000000\">value = [16.2, 54.6]</text>\n<text text-anchor=\"middle\" x=\"2462\" y=\"-714.3\" font-family=\"Helvetica,sans-Serif\" font-size=\"14.00\" fill=\"#000000\">class = 1</text>\n</g>\n<!-- 41&#45;&gt;63 -->\n<g id=\"edge63\" class=\"edge\">\n<title>41&#45;&gt;63</title>\n<path fill=\"none\" stroke=\"#000000\" d=\"M2418.4333,-817.8796C2424.6863,-806.7735 2431.4552,-794.7513 2437.751,-783.5691\"/>\n<polygon fill=\"#000000\" stroke=\"#000000\" points=\"2440.8235,-785.2459 2442.6798,-774.8149 2434.7239,-781.8116 2440.8235,-785.2459\"/>\n</g>\n<!-- 43 -->\n<g id=\"node44\" class=\"node\">\n<title>43</title>\n<path fill=\"#5eafea\" stroke=\"#000000\" d=\"M2209,-663C2209,-663 1947,-663 1947,-663 1941,-663 1935,-657 1935,-651 1935,-651 1935,-592 1935,-592 1935,-586 1941,-580 1947,-580 1947,-580 2209,-580 2209,-580 2215,-580 2221,-586 2221,-592 2221,-592 2221,-651 2221,-651 2221,-657 2215,-663 2209,-663\"/>\n<text text-anchor=\"middle\" x=\"2078\" y=\"-647.8\" font-family=\"Helvetica,sans-Serif\" font-size=\"14.00\" fill=\"#000000\">sum_number_of_special_chars &lt;= &#45;0.421</text>\n<text text-anchor=\"middle\" x=\"2078\" y=\"-632.8\" font-family=\"Helvetica,sans-Serif\" font-size=\"14.00\" fill=\"#000000\">gini = 0.267</text>\n<text text-anchor=\"middle\" x=\"2078\" y=\"-617.8\" font-family=\"Helvetica,sans-Serif\" font-size=\"14.00\" fill=\"#000000\">samples = 1179</text>\n<text text-anchor=\"middle\" x=\"2078\" y=\"-602.8\" font-family=\"Helvetica,sans-Serif\" font-size=\"14.00\" fill=\"#000000\">value = [108.0, 573.3]</text>\n<text text-anchor=\"middle\" x=\"2078\" y=\"-587.8\" font-family=\"Helvetica,sans-Serif\" font-size=\"14.00\" fill=\"#000000\">class = 1</text>\n</g>\n<!-- 42&#45;&gt;43 -->\n<g id=\"edge43\" class=\"edge\">\n<title>42&#45;&gt;43</title>\n<path fill=\"none\" stroke=\"#000000\" d=\"M2196.3452,-698.8796C2181.3824,-689.0962 2165.3323,-678.6019 2150.0309,-668.5971\"/>\n<polygon fill=\"#000000\" stroke=\"#000000\" points=\"2151.9039,-665.6401 2141.6188,-663.0969 2148.0731,-671.4989 2151.9039,-665.6401\"/>\n</g>\n<!-- 60 -->\n<g id=\"node61\" class=\"node\">\n<title>60</title>\n<path fill=\"#54aae9\" stroke=\"#000000\" d=\"M2399,-663C2399,-663 2251,-663 2251,-663 2245,-663 2239,-657 2239,-651 2239,-651 2239,-592 2239,-592 2239,-586 2245,-580 2251,-580 2251,-580 2399,-580 2399,-580 2405,-580 2411,-586 2411,-592 2411,-592 2411,-651 2411,-651 2411,-657 2405,-663 2399,-663\"/>\n<text text-anchor=\"middle\" x=\"2325\" y=\"-647.8\" font-family=\"Helvetica,sans-Serif\" font-size=\"14.00\" fill=\"#000000\">min_delta_sec &lt;= 0.197</text>\n<text text-anchor=\"middle\" x=\"2325\" y=\"-632.8\" font-family=\"Helvetica,sans-Serif\" font-size=\"14.00\" fill=\"#000000\">gini = 0.213</text>\n<text text-anchor=\"middle\" x=\"2325\" y=\"-617.8\" font-family=\"Helvetica,sans-Serif\" font-size=\"14.00\" fill=\"#000000\">samples = 288</text>\n<text text-anchor=\"middle\" x=\"2325\" y=\"-602.8\" font-family=\"Helvetica,sans-Serif\" font-size=\"14.00\" fill=\"#000000\">value = [21.0, 152.6]</text>\n<text text-anchor=\"middle\" x=\"2325\" y=\"-587.8\" font-family=\"Helvetica,sans-Serif\" font-size=\"14.00\" fill=\"#000000\">class = 1</text>\n</g>\n<!-- 42&#45;&gt;60 -->\n<g id=\"edge60\" class=\"edge\">\n<title>42&#45;&gt;60</title>\n<path fill=\"none\" stroke=\"#000000\" d=\"M2282.7338,-698.8796C2287.4565,-690.2335 2292.4824,-681.0322 2297.359,-672.1042\"/>\n<polygon fill=\"#000000\" stroke=\"#000000\" points=\"2300.447,-673.752 2302.1691,-663.2981 2294.3037,-670.3964 2300.447,-673.752\"/>\n</g>\n<!-- 44 -->\n<g id=\"node45\" class=\"node\">\n<title>44</title>\n<path fill=\"#5baee9\" stroke=\"#000000\" d=\"M1961,-544C1961,-544 1681,-544 1681,-544 1675,-544 1669,-538 1669,-532 1669,-532 1669,-473 1669,-473 1669,-467 1675,-461 1681,-461 1681,-461 1961,-461 1961,-461 1967,-461 1973,-467 1973,-473 1973,-473 1973,-532 1973,-532 1973,-538 1967,-544 1961,-544\"/>\n<text text-anchor=\"middle\" x=\"1821\" y=\"-528.8\" font-family=\"Helvetica,sans-Serif\" font-size=\"14.00\" fill=\"#000000\">ratio_num_likes_and_num_tweets &lt;= &#45;0.314</text>\n<text text-anchor=\"middle\" x=\"1821\" y=\"-513.8\" font-family=\"Helvetica,sans-Serif\" font-size=\"14.00\" fill=\"#000000\">gini = 0.251</text>\n<text text-anchor=\"middle\" x=\"1821\" y=\"-498.8\" font-family=\"Helvetica,sans-Serif\" font-size=\"14.00\" fill=\"#000000\">samples = 853</text>\n<text text-anchor=\"middle\" x=\"1821\" y=\"-483.8\" font-family=\"Helvetica,sans-Serif\" font-size=\"14.00\" fill=\"#000000\">value = [73.5, 425.6]</text>\n<text text-anchor=\"middle\" x=\"1821\" y=\"-468.8\" font-family=\"Helvetica,sans-Serif\" font-size=\"14.00\" fill=\"#000000\">class = 1</text>\n</g>\n<!-- 43&#45;&gt;44 -->\n<g id=\"edge44\" class=\"edge\">\n<title>43&#45;&gt;44</title>\n<path fill=\"none\" stroke=\"#000000\" d=\"M1988.1139,-579.8796C1966.1047,-569.6886 1942.4295,-558.7261 1920.0188,-548.3492\"/>\n<polygon fill=\"#000000\" stroke=\"#000000\" points=\"1921.3804,-545.1227 1910.8354,-544.0969 1918.4392,-551.4748 1921.3804,-545.1227\"/>\n</g>\n<!-- 55 -->\n<g id=\"node56\" class=\"node\">\n<title>55</title>\n<path fill=\"#67b4eb\" stroke=\"#000000\" d=\"M2200.5,-544C2200.5,-544 2003.5,-544 2003.5,-544 1997.5,-544 1991.5,-538 1991.5,-532 1991.5,-532 1991.5,-473 1991.5,-473 1991.5,-467 1997.5,-461 2003.5,-461 2003.5,-461 2200.5,-461 2200.5,-461 2206.5,-461 2212.5,-467 2212.5,-473 2212.5,-473 2212.5,-532 2212.5,-532 2212.5,-538 2206.5,-544 2200.5,-544\"/>\n<text text-anchor=\"middle\" x=\"2102\" y=\"-528.8\" font-family=\"Helvetica,sans-Serif\" font-size=\"14.00\" fill=\"#000000\">mean_time_delta_sec &lt;= 0.119</text>\n<text text-anchor=\"middle\" x=\"2102\" y=\"-513.8\" font-family=\"Helvetica,sans-Serif\" font-size=\"14.00\" fill=\"#000000\">gini = 0.307</text>\n<text text-anchor=\"middle\" x=\"2102\" y=\"-498.8\" font-family=\"Helvetica,sans-Serif\" font-size=\"14.00\" fill=\"#000000\">samples = 326</text>\n<text text-anchor=\"middle\" x=\"2102\" y=\"-483.8\" font-family=\"Helvetica,sans-Serif\" font-size=\"14.00\" fill=\"#000000\">value = [34.5, 147.7]</text>\n<text text-anchor=\"middle\" x=\"2102\" y=\"-468.8\" font-family=\"Helvetica,sans-Serif\" font-size=\"14.00\" fill=\"#000000\">class = 1</text>\n</g>\n<!-- 43&#45;&gt;55 -->\n<g id=\"edge55\" class=\"edge\">\n<title>43&#45;&gt;55</title>\n<path fill=\"none\" stroke=\"#000000\" d=\"M2086.394,-579.8796C2088.0651,-571.5938 2089.8391,-562.798 2091.5688,-554.2216\"/>\n<polygon fill=\"#000000\" stroke=\"#000000\" points=\"2095.024,-554.7927 2093.5701,-544.2981 2088.1621,-553.4087 2095.024,-554.7927\"/>\n</g>\n<!-- 45 -->\n<g id=\"node46\" class=\"node\">\n<title>45</title>\n<path fill=\"#58ade9\" stroke=\"#000000\" d=\"M1847.5,-425C1847.5,-425 1644.5,-425 1644.5,-425 1638.5,-425 1632.5,-419 1632.5,-413 1632.5,-413 1632.5,-354 1632.5,-354 1632.5,-348 1638.5,-342 1644.5,-342 1644.5,-342 1847.5,-342 1847.5,-342 1853.5,-342 1859.5,-348 1859.5,-354 1859.5,-354 1859.5,-413 1859.5,-413 1859.5,-419 1853.5,-425 1847.5,-425\"/>\n<text text-anchor=\"middle\" x=\"1746\" y=\"-409.8\" font-family=\"Helvetica,sans-Serif\" font-size=\"14.00\" fill=\"#000000\">max_duplicate_tweets &lt;= &#45;0.316</text>\n<text text-anchor=\"middle\" x=\"1746\" y=\"-394.8\" font-family=\"Helvetica,sans-Serif\" font-size=\"14.00\" fill=\"#000000\">gini = 0.237</text>\n<text text-anchor=\"middle\" x=\"1746\" y=\"-379.8\" font-family=\"Helvetica,sans-Serif\" font-size=\"14.00\" fill=\"#000000\">samples = 669</text>\n<text text-anchor=\"middle\" x=\"1746\" y=\"-364.8\" font-family=\"Helvetica,sans-Serif\" font-size=\"14.00\" fill=\"#000000\">value = [54.3, 341.6]</text>\n<text text-anchor=\"middle\" x=\"1746\" y=\"-349.8\" font-family=\"Helvetica,sans-Serif\" font-size=\"14.00\" fill=\"#000000\">class = 1</text>\n</g>\n<!-- 44&#45;&gt;45 -->\n<g id=\"edge45\" class=\"edge\">\n<title>44&#45;&gt;45</title>\n<path fill=\"none\" stroke=\"#000000\" d=\"M1794.7686,-460.8796C1789.2627,-452.1434 1783.3994,-442.8404 1777.7176,-433.8253\"/>\n<polygon fill=\"#000000\" stroke=\"#000000\" points=\"1780.6363,-431.8919 1772.3433,-425.2981 1774.7143,-435.6242 1780.6363,-431.8919\"/>\n</g>\n<!-- 54 -->\n<g id=\"node55\" class=\"node\">\n<title>54</title>\n<path fill=\"#66b3eb\" stroke=\"#000000\" d=\"M2006,-417.5C2006,-417.5 1890,-417.5 1890,-417.5 1884,-417.5 1878,-411.5 1878,-405.5 1878,-405.5 1878,-361.5 1878,-361.5 1878,-355.5 1884,-349.5 1890,-349.5 1890,-349.5 2006,-349.5 2006,-349.5 2012,-349.5 2018,-355.5 2018,-361.5 2018,-361.5 2018,-405.5 2018,-405.5 2018,-411.5 2012,-417.5 2006,-417.5\"/>\n<text text-anchor=\"middle\" x=\"1948\" y=\"-402.3\" font-family=\"Helvetica,sans-Serif\" font-size=\"14.00\" fill=\"#000000\">gini = 0.303</text>\n<text text-anchor=\"middle\" x=\"1948\" y=\"-387.3\" font-family=\"Helvetica,sans-Serif\" font-size=\"14.00\" fill=\"#000000\">samples = 184</text>\n<text text-anchor=\"middle\" x=\"1948\" y=\"-372.3\" font-family=\"Helvetica,sans-Serif\" font-size=\"14.00\" fill=\"#000000\">value = [19.2, 84.0]</text>\n<text text-anchor=\"middle\" x=\"1948\" y=\"-357.3\" font-family=\"Helvetica,sans-Serif\" font-size=\"14.00\" fill=\"#000000\">class = 1</text>\n</g>\n<!-- 44&#45;&gt;54 -->\n<g id=\"edge54\" class=\"edge\">\n<title>44&#45;&gt;54</title>\n<path fill=\"none\" stroke=\"#000000\" d=\"M1865.4184,-460.8796C1877.8579,-449.2237 1891.3743,-436.5587 1903.801,-424.9148\"/>\n<polygon fill=\"#000000\" stroke=\"#000000\" points=\"1906.4741,-427.2065 1911.3782,-417.8149 1901.6879,-422.0985 1906.4741,-427.2065\"/>\n</g>\n<!-- 46 -->\n<g id=\"node47\" class=\"node\">\n<title>46</title>\n<path fill=\"#63b2ea\" stroke=\"#000000\" d=\"M1837,-306C1837,-306 1655,-306 1655,-306 1649,-306 1643,-300 1643,-294 1643,-294 1643,-235 1643,-235 1643,-229 1649,-223 1655,-223 1655,-223 1837,-223 1837,-223 1843,-223 1849,-229 1849,-235 1849,-235 1849,-294 1849,-294 1849,-300 1843,-306 1837,-306\"/>\n<text text-anchor=\"middle\" x=\"1746\" y=\"-290.8\" font-family=\"Helvetica,sans-Serif\" font-size=\"14.00\" fill=\"#000000\">max_tweets_per_h &lt;= &#45;1.256</text>\n<text text-anchor=\"middle\" x=\"1746\" y=\"-275.8\" font-family=\"Helvetica,sans-Serif\" font-size=\"14.00\" fill=\"#000000\">gini = 0.288</text>\n<text text-anchor=\"middle\" x=\"1746\" y=\"-260.8\" font-family=\"Helvetica,sans-Serif\" font-size=\"14.00\" fill=\"#000000\">samples = 330</text>\n<text text-anchor=\"middle\" x=\"1746\" y=\"-245.8\" font-family=\"Helvetica,sans-Serif\" font-size=\"14.00\" fill=\"#000000\">value = [32.7, 154.7]</text>\n<text text-anchor=\"middle\" x=\"1746\" y=\"-230.8\" font-family=\"Helvetica,sans-Serif\" font-size=\"14.00\" fill=\"#000000\">class = 1</text>\n</g>\n<!-- 45&#45;&gt;46 -->\n<g id=\"edge46\" class=\"edge\">\n<title>45&#45;&gt;46</title>\n<path fill=\"none\" stroke=\"#000000\" d=\"M1746,-341.8796C1746,-333.6838 1746,-324.9891 1746,-316.5013\"/>\n<polygon fill=\"#000000\" stroke=\"#000000\" points=\"1749.5001,-316.298 1746,-306.2981 1742.5001,-316.2981 1749.5001,-316.298\"/>\n</g>\n<!-- 49 -->\n<g id=\"node50\" class=\"node\">\n<title>49</title>\n<path fill=\"#50a8e8\" stroke=\"#000000\" d=\"M2114.5,-306C2114.5,-306 1907.5,-306 1907.5,-306 1901.5,-306 1895.5,-300 1895.5,-294 1895.5,-294 1895.5,-235 1895.5,-235 1895.5,-229 1901.5,-223 1907.5,-223 1907.5,-223 2114.5,-223 2114.5,-223 2120.5,-223 2126.5,-229 2126.5,-235 2126.5,-235 2126.5,-294 2126.5,-294 2126.5,-300 2120.5,-306 2114.5,-306\"/>\n<text text-anchor=\"middle\" x=\"2011\" y=\"-290.8\" font-family=\"Helvetica,sans-Serif\" font-size=\"14.00\" fill=\"#000000\">num_hashtags_entropy &lt;= 0.037</text>\n<text text-anchor=\"middle\" x=\"2011\" y=\"-275.8\" font-family=\"Helvetica,sans-Serif\" font-size=\"14.00\" fill=\"#000000\">gini = 0.186</text>\n<text text-anchor=\"middle\" x=\"2011\" y=\"-260.8\" font-family=\"Helvetica,sans-Serif\" font-size=\"14.00\" fill=\"#000000\">samples = 339</text>\n<text text-anchor=\"middle\" x=\"2011\" y=\"-245.8\" font-family=\"Helvetica,sans-Serif\" font-size=\"14.00\" fill=\"#000000\">value = [21.6, 186.9]</text>\n<text text-anchor=\"middle\" x=\"2011\" y=\"-230.8\" font-family=\"Helvetica,sans-Serif\" font-size=\"14.00\" fill=\"#000000\">class = 1</text>\n</g>\n<!-- 45&#45;&gt;49 -->\n<g id=\"edge49\" class=\"edge\">\n<title>45&#45;&gt;49</title>\n<path fill=\"none\" stroke=\"#000000\" d=\"M1838.6841,-341.8796C1861.4793,-331.6433 1886.0077,-320.6286 1909.207,-310.2108\"/>\n<polygon fill=\"#000000\" stroke=\"#000000\" points=\"1910.6795,-313.3863 1918.3682,-306.0969 1907.812,-307.0006 1910.6795,-313.3863\"/>\n</g>\n<!-- 47 -->\n<g id=\"node48\" class=\"node\">\n<title>47</title>\n<path fill=\"#5aade9\" stroke=\"#000000\" d=\"M1709,-179.5C1709,-179.5 1593,-179.5 1593,-179.5 1587,-179.5 1581,-173.5 1581,-167.5 1581,-167.5 1581,-123.5 1581,-123.5 1581,-117.5 1587,-111.5 1593,-111.5 1593,-111.5 1709,-111.5 1709,-111.5 1715,-111.5 1721,-117.5 1721,-123.5 1721,-123.5 1721,-167.5 1721,-167.5 1721,-173.5 1715,-179.5 1709,-179.5\"/>\n<text text-anchor=\"middle\" x=\"1651\" y=\"-164.3\" font-family=\"Helvetica,sans-Serif\" font-size=\"14.00\" fill=\"#000000\">gini = 0.246</text>\n<text text-anchor=\"middle\" x=\"1651\" y=\"-149.3\" font-family=\"Helvetica,sans-Serif\" font-size=\"14.00\" fill=\"#000000\">samples = 181</text>\n<text text-anchor=\"middle\" x=\"1651\" y=\"-134.3\" font-family=\"Helvetica,sans-Serif\" font-size=\"14.00\" fill=\"#000000\">value = [15.3, 91.0]</text>\n<text text-anchor=\"middle\" x=\"1651\" y=\"-119.3\" font-family=\"Helvetica,sans-Serif\" font-size=\"14.00\" fill=\"#000000\">class = 1</text>\n</g>\n<!-- 46&#45;&gt;47 -->\n<g id=\"edge47\" class=\"edge\">\n<title>46&#45;&gt;47</title>\n<path fill=\"none\" stroke=\"#000000\" d=\"M1712.7736,-222.8796C1703.7319,-211.5536 1693.9295,-199.2748 1684.8534,-187.9058\"/>\n<polygon fill=\"#000000\" stroke=\"#000000\" points=\"1687.3685,-185.4464 1678.3943,-179.8149 1681.898,-189.8137 1687.3685,-185.4464\"/>\n</g>\n<!-- 48 -->\n<g id=\"node49\" class=\"node\">\n<title>48</title>\n<path fill=\"#6fb8ec\" stroke=\"#000000\" d=\"M1867,-179.5C1867,-179.5 1751,-179.5 1751,-179.5 1745,-179.5 1739,-173.5 1739,-167.5 1739,-167.5 1739,-123.5 1739,-123.5 1739,-117.5 1745,-111.5 1751,-111.5 1751,-111.5 1867,-111.5 1867,-111.5 1873,-111.5 1879,-117.5 1879,-123.5 1879,-123.5 1879,-167.5 1879,-167.5 1879,-173.5 1873,-179.5 1867,-179.5\"/>\n<text text-anchor=\"middle\" x=\"1809\" y=\"-164.3\" font-family=\"Helvetica,sans-Serif\" font-size=\"14.00\" fill=\"#000000\">gini = 0.337</text>\n<text text-anchor=\"middle\" x=\"1809\" y=\"-149.3\" font-family=\"Helvetica,sans-Serif\" font-size=\"14.00\" fill=\"#000000\">samples = 149</text>\n<text text-anchor=\"middle\" x=\"1809\" y=\"-134.3\" font-family=\"Helvetica,sans-Serif\" font-size=\"14.00\" fill=\"#000000\">value = [17.4, 63.7]</text>\n<text text-anchor=\"middle\" x=\"1809\" y=\"-119.3\" font-family=\"Helvetica,sans-Serif\" font-size=\"14.00\" fill=\"#000000\">class = 1</text>\n</g>\n<!-- 46&#45;&gt;48 -->\n<g id=\"edge48\" class=\"edge\">\n<title>46&#45;&gt;48</title>\n<path fill=\"none\" stroke=\"#000000\" d=\"M1768.0343,-222.8796C1773.8558,-211.8835 1780.1527,-199.9893 1786.0227,-188.9015\"/>\n<polygon fill=\"#000000\" stroke=\"#000000\" points=\"1789.2476,-190.2905 1790.8333,-179.8149 1783.0611,-187.0152 1789.2476,-190.2905\"/>\n</g>\n<!-- 50 -->\n<g id=\"node51\" class=\"node\">\n<title>50</title>\n<path fill=\"#4aa6e7\" stroke=\"#000000\" d=\"M2112.5,-187C2112.5,-187 1909.5,-187 1909.5,-187 1903.5,-187 1897.5,-181 1897.5,-175 1897.5,-175 1897.5,-116 1897.5,-116 1897.5,-110 1903.5,-104 1909.5,-104 1909.5,-104 2112.5,-104 2112.5,-104 2118.5,-104 2124.5,-110 2124.5,-116 2124.5,-116 2124.5,-175 2124.5,-175 2124.5,-181 2118.5,-187 2112.5,-187\"/>\n<text text-anchor=\"middle\" x=\"2011\" y=\"-171.8\" font-family=\"Helvetica,sans-Serif\" font-size=\"14.00\" fill=\"#000000\">sum_duplicate_tweets &lt;= &#45;0.253</text>\n<text text-anchor=\"middle\" x=\"2011\" y=\"-156.8\" font-family=\"Helvetica,sans-Serif\" font-size=\"14.00\" fill=\"#000000\">gini = 0.149</text>\n<text text-anchor=\"middle\" x=\"2011\" y=\"-141.8\" font-family=\"Helvetica,sans-Serif\" font-size=\"14.00\" fill=\"#000000\">samples = 211</text>\n<text text-anchor=\"middle\" x=\"2011\" y=\"-126.8\" font-family=\"Helvetica,sans-Serif\" font-size=\"14.00\" fill=\"#000000\">value = [10.8, 122.5]</text>\n<text text-anchor=\"middle\" x=\"2011\" y=\"-111.8\" font-family=\"Helvetica,sans-Serif\" font-size=\"14.00\" fill=\"#000000\">class = 1</text>\n</g>\n<!-- 49&#45;&gt;50 -->\n<g id=\"edge50\" class=\"edge\">\n<title>49&#45;&gt;50</title>\n<path fill=\"none\" stroke=\"#000000\" d=\"M2011,-222.8796C2011,-214.6838 2011,-205.9891 2011,-197.5013\"/>\n<polygon fill=\"#000000\" stroke=\"#000000\" points=\"2014.5001,-197.298 2011,-187.2981 2007.5001,-197.2981 2014.5001,-197.298\"/>\n</g>\n<!-- 53 -->\n<g id=\"node54\" class=\"node\">\n<title>53</title>\n<path fill=\"#5aade9\" stroke=\"#000000\" d=\"M2271,-179.5C2271,-179.5 2155,-179.5 2155,-179.5 2149,-179.5 2143,-173.5 2143,-167.5 2143,-167.5 2143,-123.5 2143,-123.5 2143,-117.5 2149,-111.5 2155,-111.5 2155,-111.5 2271,-111.5 2271,-111.5 2277,-111.5 2283,-117.5 2283,-123.5 2283,-123.5 2283,-167.5 2283,-167.5 2283,-173.5 2277,-179.5 2271,-179.5\"/>\n<text text-anchor=\"middle\" x=\"2213\" y=\"-164.3\" font-family=\"Helvetica,sans-Serif\" font-size=\"14.00\" fill=\"#000000\">gini = 0.246</text>\n<text text-anchor=\"middle\" x=\"2213\" y=\"-149.3\" font-family=\"Helvetica,sans-Serif\" font-size=\"14.00\" fill=\"#000000\">samples = 128</text>\n<text text-anchor=\"middle\" x=\"2213\" y=\"-134.3\" font-family=\"Helvetica,sans-Serif\" font-size=\"14.00\" fill=\"#000000\">value = [10.8, 64.4]</text>\n<text text-anchor=\"middle\" x=\"2213\" y=\"-119.3\" font-family=\"Helvetica,sans-Serif\" font-size=\"14.00\" fill=\"#000000\">class = 1</text>\n</g>\n<!-- 49&#45;&gt;53 -->\n<g id=\"edge53\" class=\"edge\">\n<title>49&#45;&gt;53</title>\n<path fill=\"none\" stroke=\"#000000\" d=\"M2081.6498,-222.8796C2102.6548,-210.5053 2125.5906,-196.9937 2146.3334,-184.7739\"/>\n<polygon fill=\"#000000\" stroke=\"#000000\" points=\"2148.2373,-187.7145 2155.0769,-179.623 2144.6843,-181.6833 2148.2373,-187.7145\"/>\n</g>\n<!-- 51 -->\n<g id=\"node52\" class=\"node\">\n<title>51</title>\n<path fill=\"#44a3e6\" stroke=\"#000000\" d=\"M1989.5,-68C1989.5,-68 1882.5,-68 1882.5,-68 1876.5,-68 1870.5,-62 1870.5,-56 1870.5,-56 1870.5,-12 1870.5,-12 1870.5,-6 1876.5,0 1882.5,0 1882.5,0 1989.5,0 1989.5,0 1995.5,0 2001.5,-6 2001.5,-12 2001.5,-12 2001.5,-56 2001.5,-56 2001.5,-62 1995.5,-68 1989.5,-68\"/>\n<text text-anchor=\"middle\" x=\"1936\" y=\"-52.8\" font-family=\"Helvetica,sans-Serif\" font-size=\"14.00\" fill=\"#000000\">gini = 0.102</text>\n<text text-anchor=\"middle\" x=\"1936\" y=\"-37.8\" font-family=\"Helvetica,sans-Serif\" font-size=\"14.00\" fill=\"#000000\">samples = 111</text>\n<text text-anchor=\"middle\" x=\"1936\" y=\"-22.8\" font-family=\"Helvetica,sans-Serif\" font-size=\"14.00\" fill=\"#000000\">value = [3.9, 68.6]</text>\n<text text-anchor=\"middle\" x=\"1936\" y=\"-7.8\" font-family=\"Helvetica,sans-Serif\" font-size=\"14.00\" fill=\"#000000\">class = 1</text>\n</g>\n<!-- 50&#45;&gt;51 -->\n<g id=\"edge51\" class=\"edge\">\n<title>50&#45;&gt;51</title>\n<path fill=\"none\" stroke=\"#000000\" d=\"M1983.0728,-103.9815C1977.0762,-95.0666 1970.7296,-85.6313 1964.7041,-76.6734\"/>\n<polygon fill=\"#000000\" stroke=\"#000000\" points=\"1967.5328,-74.6078 1959.0473,-68.2637 1961.7245,-78.5147 1967.5328,-74.6078\"/>\n</g>\n<!-- 52 -->\n<g id=\"node53\" class=\"node\">\n<title>52</title>\n<path fill=\"#52aae8\" stroke=\"#000000\" d=\"M2138.5,-68C2138.5,-68 2031.5,-68 2031.5,-68 2025.5,-68 2019.5,-62 2019.5,-56 2019.5,-56 2019.5,-12 2019.5,-12 2019.5,-6 2025.5,0 2031.5,0 2031.5,0 2138.5,0 2138.5,0 2144.5,0 2150.5,-6 2150.5,-12 2150.5,-12 2150.5,-56 2150.5,-56 2150.5,-62 2144.5,-68 2138.5,-68\"/>\n<text text-anchor=\"middle\" x=\"2085\" y=\"-52.8\" font-family=\"Helvetica,sans-Serif\" font-size=\"14.00\" fill=\"#000000\">gini = 0.201</text>\n<text text-anchor=\"middle\" x=\"2085\" y=\"-37.8\" font-family=\"Helvetica,sans-Serif\" font-size=\"14.00\" fill=\"#000000\">samples = 100</text>\n<text text-anchor=\"middle\" x=\"2085\" y=\"-22.8\" font-family=\"Helvetica,sans-Serif\" font-size=\"14.00\" fill=\"#000000\">value = [6.9, 53.9]</text>\n<text text-anchor=\"middle\" x=\"2085\" y=\"-7.8\" font-family=\"Helvetica,sans-Serif\" font-size=\"14.00\" fill=\"#000000\">class = 1</text>\n</g>\n<!-- 50&#45;&gt;52 -->\n<g id=\"edge52\" class=\"edge\">\n<title>50&#45;&gt;52</title>\n<path fill=\"none\" stroke=\"#000000\" d=\"M2038.5549,-103.9815C2044.4715,-95.0666 2050.7335,-85.6313 2056.6787,-76.6734\"/>\n<polygon fill=\"#000000\" stroke=\"#000000\" points=\"2059.6464,-78.5311 2062.26,-68.2637 2053.814,-74.6602 2059.6464,-78.5311\"/>\n</g>\n<!-- 56 -->\n<g id=\"node57\" class=\"node\">\n<title>56</title>\n<path fill=\"#57ace9\" stroke=\"#000000\" d=\"M2155.5,-417.5C2155.5,-417.5 2048.5,-417.5 2048.5,-417.5 2042.5,-417.5 2036.5,-411.5 2036.5,-405.5 2036.5,-405.5 2036.5,-361.5 2036.5,-361.5 2036.5,-355.5 2042.5,-349.5 2048.5,-349.5 2048.5,-349.5 2155.5,-349.5 2155.5,-349.5 2161.5,-349.5 2167.5,-355.5 2167.5,-361.5 2167.5,-361.5 2167.5,-405.5 2167.5,-405.5 2167.5,-411.5 2161.5,-417.5 2155.5,-417.5\"/>\n<text text-anchor=\"middle\" x=\"2102\" y=\"-402.3\" font-family=\"Helvetica,sans-Serif\" font-size=\"14.00\" fill=\"#000000\">gini = 0.227</text>\n<text text-anchor=\"middle\" x=\"2102\" y=\"-387.3\" font-family=\"Helvetica,sans-Serif\" font-size=\"14.00\" fill=\"#000000\">samples = 100</text>\n<text text-anchor=\"middle\" x=\"2102\" y=\"-372.3\" font-family=\"Helvetica,sans-Serif\" font-size=\"14.00\" fill=\"#000000\">value = [7.8, 51.8]</text>\n<text text-anchor=\"middle\" x=\"2102\" y=\"-357.3\" font-family=\"Helvetica,sans-Serif\" font-size=\"14.00\" fill=\"#000000\">class = 1</text>\n</g>\n<!-- 55&#45;&gt;56 -->\n<g id=\"edge56\" class=\"edge\">\n<title>55&#45;&gt;56</title>\n<path fill=\"none\" stroke=\"#000000\" d=\"M2102,-460.8796C2102,-450.2134 2102,-438.7021 2102,-427.9015\"/>\n<polygon fill=\"#000000\" stroke=\"#000000\" points=\"2105.5001,-427.8149 2102,-417.8149 2098.5001,-427.815 2105.5001,-427.8149\"/>\n</g>\n<!-- 57 -->\n<g id=\"node58\" class=\"node\">\n<title>57</title>\n<path fill=\"#70b8ec\" stroke=\"#000000\" d=\"M2400.5,-425C2400.5,-425 2197.5,-425 2197.5,-425 2191.5,-425 2185.5,-419 2185.5,-413 2185.5,-413 2185.5,-354 2185.5,-354 2185.5,-348 2191.5,-342 2197.5,-342 2197.5,-342 2400.5,-342 2400.5,-342 2406.5,-342 2412.5,-348 2412.5,-354 2412.5,-354 2412.5,-413 2412.5,-413 2412.5,-419 2406.5,-425 2400.5,-425\"/>\n<text text-anchor=\"middle\" x=\"2299\" y=\"-409.8\" font-family=\"Helvetica,sans-Serif\" font-size=\"14.00\" fill=\"#000000\">max_duplicate_tweets &lt;= &#45;0.134</text>\n<text text-anchor=\"middle\" x=\"2299\" y=\"-394.8\" font-family=\"Helvetica,sans-Serif\" font-size=\"14.00\" fill=\"#000000\">gini = 0.341</text>\n<text text-anchor=\"middle\" x=\"2299\" y=\"-379.8\" font-family=\"Helvetica,sans-Serif\" font-size=\"14.00\" fill=\"#000000\">samples = 226</text>\n<text text-anchor=\"middle\" x=\"2299\" y=\"-364.8\" font-family=\"Helvetica,sans-Serif\" font-size=\"14.00\" fill=\"#000000\">value = [26.7, 95.9]</text>\n<text text-anchor=\"middle\" x=\"2299\" y=\"-349.8\" font-family=\"Helvetica,sans-Serif\" font-size=\"14.00\" fill=\"#000000\">class = 1</text>\n</g>\n<!-- 55&#45;&gt;57 -->\n<g id=\"edge57\" class=\"edge\">\n<title>55&#45;&gt;57</title>\n<path fill=\"none\" stroke=\"#000000\" d=\"M2170.901,-460.8796C2187.247,-451.0056 2204.7919,-440.4075 2221.4924,-430.3193\"/>\n<polygon fill=\"#000000\" stroke=\"#000000\" points=\"2223.388,-433.2633 2230.1379,-425.0969 2219.7686,-427.2716 2223.388,-433.2633\"/>\n</g>\n<!-- 58 -->\n<g id=\"node59\" class=\"node\">\n<title>58</title>\n<path fill=\"#66b3eb\" stroke=\"#000000\" d=\"M2315,-298.5C2315,-298.5 2199,-298.5 2199,-298.5 2193,-298.5 2187,-292.5 2187,-286.5 2187,-286.5 2187,-242.5 2187,-242.5 2187,-236.5 2193,-230.5 2199,-230.5 2199,-230.5 2315,-230.5 2315,-230.5 2321,-230.5 2327,-236.5 2327,-242.5 2327,-242.5 2327,-286.5 2327,-286.5 2327,-292.5 2321,-298.5 2315,-298.5\"/>\n<text text-anchor=\"middle\" x=\"2257\" y=\"-283.3\" font-family=\"Helvetica,sans-Serif\" font-size=\"14.00\" fill=\"#000000\">gini = 0.303</text>\n<text text-anchor=\"middle\" x=\"2257\" y=\"-268.3\" font-family=\"Helvetica,sans-Serif\" font-size=\"14.00\" fill=\"#000000\">samples = 115</text>\n<text text-anchor=\"middle\" x=\"2257\" y=\"-253.3\" font-family=\"Helvetica,sans-Serif\" font-size=\"14.00\" fill=\"#000000\">value = [12.0, 52.5]</text>\n<text text-anchor=\"middle\" x=\"2257\" y=\"-238.3\" font-family=\"Helvetica,sans-Serif\" font-size=\"14.00\" fill=\"#000000\">class = 1</text>\n</g>\n<!-- 57&#45;&gt;58 -->\n<g id=\"edge58\" class=\"edge\">\n<title>57&#45;&gt;58</title>\n<path fill=\"none\" stroke=\"#000000\" d=\"M2284.3104,-341.8796C2280.5071,-331.1034 2276.3993,-319.4647 2272.5533,-308.5677\"/>\n<polygon fill=\"#000000\" stroke=\"#000000\" points=\"2275.7399,-307.08 2269.1112,-298.8149 2269.139,-309.4097 2275.7399,-307.08\"/>\n</g>\n<!-- 59 -->\n<g id=\"node60\" class=\"node\">\n<title>59</title>\n<path fill=\"#7cbeee\" stroke=\"#000000\" d=\"M2473,-298.5C2473,-298.5 2357,-298.5 2357,-298.5 2351,-298.5 2345,-292.5 2345,-286.5 2345,-286.5 2345,-242.5 2345,-242.5 2345,-236.5 2351,-230.5 2357,-230.5 2357,-230.5 2473,-230.5 2473,-230.5 2479,-230.5 2485,-236.5 2485,-242.5 2485,-242.5 2485,-286.5 2485,-286.5 2485,-292.5 2479,-298.5 2473,-298.5\"/>\n<text text-anchor=\"middle\" x=\"2415\" y=\"-283.3\" font-family=\"Helvetica,sans-Serif\" font-size=\"14.00\" fill=\"#000000\">gini = 0.378</text>\n<text text-anchor=\"middle\" x=\"2415\" y=\"-268.3\" font-family=\"Helvetica,sans-Serif\" font-size=\"14.00\" fill=\"#000000\">samples = 111</text>\n<text text-anchor=\"middle\" x=\"2415\" y=\"-253.3\" font-family=\"Helvetica,sans-Serif\" font-size=\"14.00\" fill=\"#000000\">value = [14.7, 43.4]</text>\n<text text-anchor=\"middle\" x=\"2415\" y=\"-238.3\" font-family=\"Helvetica,sans-Serif\" font-size=\"14.00\" fill=\"#000000\">class = 1</text>\n</g>\n<!-- 57&#45;&gt;59 -->\n<g id=\"edge59\" class=\"edge\">\n<title>57&#45;&gt;59</title>\n<path fill=\"none\" stroke=\"#000000\" d=\"M2339.5712,-341.8796C2350.826,-330.3337 2363.0461,-317.7976 2374.3078,-306.2446\"/>\n<polygon fill=\"#000000\" stroke=\"#000000\" points=\"2377.0762,-308.4188 2381.5501,-298.8149 2372.0636,-303.5326 2377.0762,-308.4188\"/>\n</g>\n<!-- 61 -->\n<g id=\"node62\" class=\"node\">\n<title>61</title>\n<path fill=\"#5dafea\" stroke=\"#000000\" d=\"M2359,-536.5C2359,-536.5 2243,-536.5 2243,-536.5 2237,-536.5 2231,-530.5 2231,-524.5 2231,-524.5 2231,-480.5 2231,-480.5 2231,-474.5 2237,-468.5 2243,-468.5 2243,-468.5 2359,-468.5 2359,-468.5 2365,-468.5 2371,-474.5 2371,-480.5 2371,-480.5 2371,-524.5 2371,-524.5 2371,-530.5 2365,-536.5 2359,-536.5\"/>\n<text text-anchor=\"middle\" x=\"2301\" y=\"-521.3\" font-family=\"Helvetica,sans-Serif\" font-size=\"14.00\" fill=\"#000000\">gini = 0.259</text>\n<text text-anchor=\"middle\" x=\"2301\" y=\"-506.3\" font-family=\"Helvetica,sans-Serif\" font-size=\"14.00\" fill=\"#000000\">samples = 125</text>\n<text text-anchor=\"middle\" x=\"2301\" y=\"-491.3\" font-family=\"Helvetica,sans-Serif\" font-size=\"14.00\" fill=\"#000000\">value = [11.1, 61.6]</text>\n<text text-anchor=\"middle\" x=\"2301\" y=\"-476.3\" font-family=\"Helvetica,sans-Serif\" font-size=\"14.00\" fill=\"#000000\">class = 1</text>\n</g>\n<!-- 60&#45;&gt;61 -->\n<g id=\"edge61\" class=\"edge\">\n<title>60&#45;&gt;61</title>\n<path fill=\"none\" stroke=\"#000000\" d=\"M2316.606,-579.8796C2314.4548,-569.2134 2312.1332,-557.7021 2309.9549,-546.9015\"/>\n<polygon fill=\"#000000\" stroke=\"#000000\" points=\"2313.3287,-545.9256 2307.9207,-536.8149 2306.4668,-547.3095 2313.3287,-545.9256\"/>\n</g>\n<!-- 62 -->\n<g id=\"node63\" class=\"node\">\n<title>62</title>\n<path fill=\"#4fa8e8\" stroke=\"#000000\" d=\"M2508.5,-536.5C2508.5,-536.5 2401.5,-536.5 2401.5,-536.5 2395.5,-536.5 2389.5,-530.5 2389.5,-524.5 2389.5,-524.5 2389.5,-480.5 2389.5,-480.5 2389.5,-474.5 2395.5,-468.5 2401.5,-468.5 2401.5,-468.5 2508.5,-468.5 2508.5,-468.5 2514.5,-468.5 2520.5,-474.5 2520.5,-480.5 2520.5,-480.5 2520.5,-524.5 2520.5,-524.5 2520.5,-530.5 2514.5,-536.5 2508.5,-536.5\"/>\n<text text-anchor=\"middle\" x=\"2455\" y=\"-521.3\" font-family=\"Helvetica,sans-Serif\" font-size=\"14.00\" fill=\"#000000\">gini = 0.177</text>\n<text text-anchor=\"middle\" x=\"2455\" y=\"-506.3\" font-family=\"Helvetica,sans-Serif\" font-size=\"14.00\" fill=\"#000000\">samples = 163</text>\n<text text-anchor=\"middle\" x=\"2455\" y=\"-491.3\" font-family=\"Helvetica,sans-Serif\" font-size=\"14.00\" fill=\"#000000\">value = [9.9, 91.0]</text>\n<text text-anchor=\"middle\" x=\"2455\" y=\"-476.3\" font-family=\"Helvetica,sans-Serif\" font-size=\"14.00\" fill=\"#000000\">class = 1</text>\n</g>\n<!-- 60&#45;&gt;62 -->\n<g id=\"edge62\" class=\"edge\">\n<title>60&#45;&gt;62</title>\n<path fill=\"none\" stroke=\"#000000\" d=\"M2370.4677,-579.8796C2383.3211,-568.1138 2397.2979,-555.3197 2410.1166,-543.5855\"/>\n<polygon fill=\"#000000\" stroke=\"#000000\" points=\"2412.5001,-546.1488 2417.5131,-536.8149 2407.7736,-540.9854 2412.5001,-546.1488\"/>\n</g>\n<!-- 66 -->\n<g id=\"node67\" class=\"node\">\n<title>66</title>\n<path fill=\"#4fa8e8\" stroke=\"#000000\" d=\"M2959,-1020C2959,-1020 2697,-1020 2697,-1020 2691,-1020 2685,-1014 2685,-1008 2685,-1008 2685,-949 2685,-949 2685,-943 2691,-937 2697,-937 2697,-937 2959,-937 2959,-937 2965,-937 2971,-943 2971,-949 2971,-949 2971,-1008 2971,-1008 2971,-1014 2965,-1020 2959,-1020\"/>\n<text text-anchor=\"middle\" x=\"2828\" y=\"-1004.8\" font-family=\"Helvetica,sans-Serif\" font-size=\"14.00\" fill=\"#000000\">sum_number_of_special_chars &lt;= &#45;0.268</text>\n<text text-anchor=\"middle\" x=\"2828\" y=\"-989.8\" font-family=\"Helvetica,sans-Serif\" font-size=\"14.00\" fill=\"#000000\">gini = 0.177</text>\n<text text-anchor=\"middle\" x=\"2828\" y=\"-974.8\" font-family=\"Helvetica,sans-Serif\" font-size=\"14.00\" fill=\"#000000\">samples = 1021</text>\n<text text-anchor=\"middle\" x=\"2828\" y=\"-959.8\" font-family=\"Helvetica,sans-Serif\" font-size=\"14.00\" fill=\"#000000\">value = [62.1, 569.8]</text>\n<text text-anchor=\"middle\" x=\"2828\" y=\"-944.8\" font-family=\"Helvetica,sans-Serif\" font-size=\"14.00\" fill=\"#000000\">class = 1</text>\n</g>\n<!-- 65&#45;&gt;66 -->\n<g id=\"edge66\" class=\"edge\">\n<title>65&#45;&gt;66</title>\n<path fill=\"none\" stroke=\"#000000\" d=\"M2828,-1055.8796C2828,-1047.6838 2828,-1038.9891 2828,-1030.5013\"/>\n<polygon fill=\"#000000\" stroke=\"#000000\" points=\"2831.5001,-1030.298 2828,-1020.2981 2824.5001,-1030.2981 2831.5001,-1030.298\"/>\n</g>\n<!-- 79 -->\n<g id=\"node80\" class=\"node\">\n<title>79</title>\n<path fill=\"#5aade9\" stroke=\"#000000\" d=\"M3217,-1020C3217,-1020 3047,-1020 3047,-1020 3041,-1020 3035,-1014 3035,-1008 3035,-1008 3035,-949 3035,-949 3035,-943 3041,-937 3047,-937 3047,-937 3217,-937 3217,-937 3223,-937 3229,-943 3229,-949 3229,-949 3229,-1008 3229,-1008 3229,-1014 3223,-1020 3217,-1020\"/>\n<text text-anchor=\"middle\" x=\"3132\" y=\"-1004.8\" font-family=\"Helvetica,sans-Serif\" font-size=\"14.00\" fill=\"#000000\">number_of_tweets &lt;= &#45;0.28</text>\n<text text-anchor=\"middle\" x=\"3132\" y=\"-989.8\" font-family=\"Helvetica,sans-Serif\" font-size=\"14.00\" fill=\"#000000\">gini = 0.246</text>\n<text text-anchor=\"middle\" x=\"3132\" y=\"-974.8\" font-family=\"Helvetica,sans-Serif\" font-size=\"14.00\" fill=\"#000000\">samples = 623</text>\n<text text-anchor=\"middle\" x=\"3132\" y=\"-959.8\" font-family=\"Helvetica,sans-Serif\" font-size=\"14.00\" fill=\"#000000\">value = [52.5, 313.6]</text>\n<text text-anchor=\"middle\" x=\"3132\" y=\"-944.8\" font-family=\"Helvetica,sans-Serif\" font-size=\"14.00\" fill=\"#000000\">class = 1</text>\n</g>\n<!-- 65&#45;&gt;79 -->\n<g id=\"edge79\" class=\"edge\">\n<title>65&#45;&gt;79</title>\n<path fill=\"none\" stroke=\"#000000\" d=\"M2918.5844,-1059.3764C2921.4195,-1058.2317 2924.23,-1057.1038 2927,-1056 2958.7119,-1043.3636 2993.3751,-1030.0655 3025.026,-1018.1215\"/>\n<polygon fill=\"#000000\" stroke=\"#000000\" points=\"3026.621,-1021.2609 3034.7454,-1014.4605 3024.1535,-1014.7102 3026.621,-1021.2609\"/>\n</g>\n<!-- 67 -->\n<g id=\"node68\" class=\"node\">\n<title>67</title>\n<path fill=\"#50a8e8\" stroke=\"#000000\" d=\"M2844,-901C2844,-901 2720,-901 2720,-901 2714,-901 2708,-895 2708,-889 2708,-889 2708,-830 2708,-830 2708,-824 2714,-818 2720,-818 2720,-818 2844,-818 2844,-818 2850,-818 2856,-824 2856,-830 2856,-830 2856,-889 2856,-889 2856,-895 2850,-901 2844,-901\"/>\n<text text-anchor=\"middle\" x=\"2782\" y=\"-885.8\" font-family=\"Helvetica,sans-Serif\" font-size=\"14.00\" fill=\"#000000\">likes_max &lt;= &#45;0.464</text>\n<text text-anchor=\"middle\" x=\"2782\" y=\"-870.8\" font-family=\"Helvetica,sans-Serif\" font-size=\"14.00\" fill=\"#000000\">gini = 0.187</text>\n<text text-anchor=\"middle\" x=\"2782\" y=\"-855.8\" font-family=\"Helvetica,sans-Serif\" font-size=\"14.00\" fill=\"#000000\">samples = 882</text>\n<text text-anchor=\"middle\" x=\"2782\" y=\"-840.8\" font-family=\"Helvetica,sans-Serif\" font-size=\"14.00\" fill=\"#000000\">value = [56.7, 485.1]</text>\n<text text-anchor=\"middle\" x=\"2782\" y=\"-825.8\" font-family=\"Helvetica,sans-Serif\" font-size=\"14.00\" fill=\"#000000\">class = 1</text>\n</g>\n<!-- 66&#45;&gt;67 -->\n<g id=\"edge67\" class=\"edge\">\n<title>66&#45;&gt;67</title>\n<path fill=\"none\" stroke=\"#000000\" d=\"M2811.9114,-936.8796C2808.6389,-928.4136 2805.1605,-919.4153 2801.7771,-910.6626\"/>\n<polygon fill=\"#000000\" stroke=\"#000000\" points=\"2805.0274,-909.3635 2798.1572,-901.2981 2798.4983,-911.8874 2805.0274,-909.3635\"/>\n</g>\n<!-- 78 -->\n<g id=\"node79\" class=\"node\">\n<title>78</title>\n<path fill=\"#46a3e7\" stroke=\"#000000\" d=\"M2993.5,-893.5C2993.5,-893.5 2886.5,-893.5 2886.5,-893.5 2880.5,-893.5 2874.5,-887.5 2874.5,-881.5 2874.5,-881.5 2874.5,-837.5 2874.5,-837.5 2874.5,-831.5 2880.5,-825.5 2886.5,-825.5 2886.5,-825.5 2993.5,-825.5 2993.5,-825.5 2999.5,-825.5 3005.5,-831.5 3005.5,-837.5 3005.5,-837.5 3005.5,-881.5 3005.5,-881.5 3005.5,-887.5 2999.5,-893.5 2993.5,-893.5\"/>\n<text text-anchor=\"middle\" x=\"2940\" y=\"-878.3\" font-family=\"Helvetica,sans-Serif\" font-size=\"14.00\" fill=\"#000000\">gini = 0.113</text>\n<text text-anchor=\"middle\" x=\"2940\" y=\"-863.3\" font-family=\"Helvetica,sans-Serif\" font-size=\"14.00\" fill=\"#000000\">samples = 139</text>\n<text text-anchor=\"middle\" x=\"2940\" y=\"-848.3\" font-family=\"Helvetica,sans-Serif\" font-size=\"14.00\" fill=\"#000000\">value = [5.4, 84.7]</text>\n<text text-anchor=\"middle\" x=\"2940\" y=\"-833.3\" font-family=\"Helvetica,sans-Serif\" font-size=\"14.00\" fill=\"#000000\">class = 1</text>\n</g>\n<!-- 66&#45;&gt;78 -->\n<g id=\"edge78\" class=\"edge\">\n<title>66&#45;&gt;78</title>\n<path fill=\"none\" stroke=\"#000000\" d=\"M2867.1722,-936.8796C2878.0389,-925.3337 2889.8376,-912.7976 2900.7109,-901.2446\"/>\n<polygon fill=\"#000000\" stroke=\"#000000\" points=\"2903.3986,-903.4958 2907.7036,-893.8149 2898.3012,-898.6982 2903.3986,-903.4958\"/>\n</g>\n<!-- 68 -->\n<g id=\"node69\" class=\"node\">\n<title>68</title>\n<path fill=\"#52a9e8\" stroke=\"#000000\" d=\"M2869,-782C2869,-782 2657,-782 2657,-782 2651,-782 2645,-776 2645,-770 2645,-770 2645,-711 2645,-711 2645,-705 2651,-699 2657,-699 2657,-699 2869,-699 2869,-699 2875,-699 2881,-705 2881,-711 2881,-711 2881,-770 2881,-770 2881,-776 2875,-782 2869,-782\"/>\n<text text-anchor=\"middle\" x=\"2763\" y=\"-766.8\" font-family=\"Helvetica,sans-Serif\" font-size=\"14.00\" fill=\"#000000\">num_hashtags_entropy &lt;= &#45;0.421</text>\n<text text-anchor=\"middle\" x=\"2763\" y=\"-751.8\" font-family=\"Helvetica,sans-Serif\" font-size=\"14.00\" fill=\"#000000\">gini = 0.199</text>\n<text text-anchor=\"middle\" x=\"2763\" y=\"-736.8\" font-family=\"Helvetica,sans-Serif\" font-size=\"14.00\" fill=\"#000000\">samples = 704</text>\n<text text-anchor=\"middle\" x=\"2763\" y=\"-721.8\" font-family=\"Helvetica,sans-Serif\" font-size=\"14.00\" fill=\"#000000\">value = [48.0, 380.8]</text>\n<text text-anchor=\"middle\" x=\"2763\" y=\"-706.8\" font-family=\"Helvetica,sans-Serif\" font-size=\"14.00\" fill=\"#000000\">class = 1</text>\n</g>\n<!-- 67&#45;&gt;68 -->\n<g id=\"edge68\" class=\"edge\">\n<title>67&#45;&gt;68</title>\n<path fill=\"none\" stroke=\"#000000\" d=\"M2775.3547,-817.8796C2774.0318,-809.5938 2772.6274,-800.798 2771.2581,-792.2216\"/>\n<polygon fill=\"#000000\" stroke=\"#000000\" points=\"2774.7066,-791.6211 2769.6736,-782.2981 2767.7942,-792.7249 2774.7066,-791.6211\"/>\n</g>\n<!-- 77 -->\n<g id=\"node78\" class=\"node\">\n<title>77</title>\n<path fill=\"#4aa5e7\" stroke=\"#000000\" d=\"M3027,-774.5C3027,-774.5 2911,-774.5 2911,-774.5 2905,-774.5 2899,-768.5 2899,-762.5 2899,-762.5 2899,-718.5 2899,-718.5 2899,-712.5 2905,-706.5 2911,-706.5 2911,-706.5 3027,-706.5 3027,-706.5 3033,-706.5 3039,-712.5 3039,-718.5 3039,-718.5 3039,-762.5 3039,-762.5 3039,-768.5 3033,-774.5 3027,-774.5\"/>\n<text text-anchor=\"middle\" x=\"2969\" y=\"-759.3\" font-family=\"Helvetica,sans-Serif\" font-size=\"14.00\" fill=\"#000000\">gini = 0.142</text>\n<text text-anchor=\"middle\" x=\"2969\" y=\"-744.3\" font-family=\"Helvetica,sans-Serif\" font-size=\"14.00\" fill=\"#000000\">samples = 178</text>\n<text text-anchor=\"middle\" x=\"2969\" y=\"-729.3\" font-family=\"Helvetica,sans-Serif\" font-size=\"14.00\" fill=\"#000000\">value = [8.7, 104.3]</text>\n<text text-anchor=\"middle\" x=\"2969\" y=\"-714.3\" font-family=\"Helvetica,sans-Serif\" font-size=\"14.00\" fill=\"#000000\">class = 1</text>\n</g>\n<!-- 67&#45;&gt;77 -->\n<g id=\"edge77\" class=\"edge\">\n<title>67&#45;&gt;77</title>\n<path fill=\"none\" stroke=\"#000000\" d=\"M2847.4035,-817.8796C2866.6752,-805.6158 2887.7024,-792.2348 2906.769,-780.1015\"/>\n<polygon fill=\"#000000\" stroke=\"#000000\" points=\"2908.8205,-782.9447 2915.3781,-774.623 2905.0624,-777.039 2908.8205,-782.9447\"/>\n</g>\n<!-- 69 -->\n<g id=\"node70\" class=\"node\">\n<title>69</title>\n<path fill=\"#4ea7e8\" stroke=\"#000000\" d=\"M2846,-663C2846,-663 2662,-663 2662,-663 2656,-663 2650,-657 2650,-651 2650,-651 2650,-592 2650,-592 2650,-586 2656,-580 2662,-580 2662,-580 2846,-580 2846,-580 2852,-580 2858,-586 2858,-592 2858,-592 2858,-651 2858,-651 2858,-657 2852,-663 2846,-663\"/>\n<text text-anchor=\"middle\" x=\"2754\" y=\"-647.8\" font-family=\"Helvetica,sans-Serif\" font-size=\"14.00\" fill=\"#000000\">created_at_entropy &lt;= &#45;0.163</text>\n<text text-anchor=\"middle\" x=\"2754\" y=\"-632.8\" font-family=\"Helvetica,sans-Serif\" font-size=\"14.00\" fill=\"#000000\">gini = 0.17</text>\n<text text-anchor=\"middle\" x=\"2754\" y=\"-617.8\" font-family=\"Helvetica,sans-Serif\" font-size=\"14.00\" fill=\"#000000\">samples = 303</text>\n<text text-anchor=\"middle\" x=\"2754\" y=\"-602.8\" font-family=\"Helvetica,sans-Serif\" font-size=\"14.00\" fill=\"#000000\">value = [17.7, 170.8]</text>\n<text text-anchor=\"middle\" x=\"2754\" y=\"-587.8\" font-family=\"Helvetica,sans-Serif\" font-size=\"14.00\" fill=\"#000000\">class = 1</text>\n</g>\n<!-- 68&#45;&gt;69 -->\n<g id=\"edge69\" class=\"edge\">\n<title>68&#45;&gt;69</title>\n<path fill=\"none\" stroke=\"#000000\" d=\"M2759.8522,-698.8796C2759.2324,-690.6838 2758.5748,-681.9891 2757.9329,-673.5013\"/>\n<polygon fill=\"#000000\" stroke=\"#000000\" points=\"2761.4055,-673.0056 2757.1612,-663.2981 2754.4254,-673.5336 2761.4055,-673.0056\"/>\n</g>\n<!-- 72 -->\n<g id=\"node73\" class=\"node\">\n<title>72</title>\n<path fill=\"#56abe9\" stroke=\"#000000\" d=\"M3026,-663C3026,-663 2888,-663 2888,-663 2882,-663 2876,-657 2876,-651 2876,-651 2876,-592 2876,-592 2876,-586 2882,-580 2888,-580 2888,-580 3026,-580 3026,-580 3032,-580 3038,-586 3038,-592 3038,-592 3038,-651 3038,-651 3038,-657 3032,-663 3026,-663\"/>\n<text text-anchor=\"middle\" x=\"2957\" y=\"-647.8\" font-family=\"Helvetica,sans-Serif\" font-size=\"14.00\" fill=\"#000000\">mean_length &lt;= 0.061</text>\n<text text-anchor=\"middle\" x=\"2957\" y=\"-632.8\" font-family=\"Helvetica,sans-Serif\" font-size=\"14.00\" fill=\"#000000\">gini = 0.22</text>\n<text text-anchor=\"middle\" x=\"2957\" y=\"-617.8\" font-family=\"Helvetica,sans-Serif\" font-size=\"14.00\" fill=\"#000000\">samples = 401</text>\n<text text-anchor=\"middle\" x=\"2957\" y=\"-602.8\" font-family=\"Helvetica,sans-Serif\" font-size=\"14.00\" fill=\"#000000\">value = [30.3, 210.0]</text>\n<text text-anchor=\"middle\" x=\"2957\" y=\"-587.8\" font-family=\"Helvetica,sans-Serif\" font-size=\"14.00\" fill=\"#000000\">class = 1</text>\n</g>\n<!-- 68&#45;&gt;72 -->\n<g id=\"edge72\" class=\"edge\">\n<title>68&#45;&gt;72</title>\n<path fill=\"none\" stroke=\"#000000\" d=\"M2830.8518,-698.8796C2846.8011,-689.0962 2863.9096,-678.6019 2880.2198,-668.5971\"/>\n<polygon fill=\"#000000\" stroke=\"#000000\" points=\"2882.4925,-671.3091 2889.1865,-663.0969 2878.8323,-665.3422 2882.4925,-671.3091\"/>\n</g>\n<!-- 70 -->\n<g id=\"node71\" class=\"node\">\n<title>70</title>\n<path fill=\"#48a4e7\" stroke=\"#000000\" d=\"M2657.5,-536.5C2657.5,-536.5 2550.5,-536.5 2550.5,-536.5 2544.5,-536.5 2538.5,-530.5 2538.5,-524.5 2538.5,-524.5 2538.5,-480.5 2538.5,-480.5 2538.5,-474.5 2544.5,-468.5 2550.5,-468.5 2550.5,-468.5 2657.5,-468.5 2657.5,-468.5 2663.5,-468.5 2669.5,-474.5 2669.5,-480.5 2669.5,-480.5 2669.5,-524.5 2669.5,-524.5 2669.5,-530.5 2663.5,-536.5 2657.5,-536.5\"/>\n<text text-anchor=\"middle\" x=\"2604\" y=\"-521.3\" font-family=\"Helvetica,sans-Serif\" font-size=\"14.00\" fill=\"#000000\">gini = 0.128</text>\n<text text-anchor=\"middle\" x=\"2604\" y=\"-506.3\" font-family=\"Helvetica,sans-Serif\" font-size=\"14.00\" fill=\"#000000\">samples = 164</text>\n<text text-anchor=\"middle\" x=\"2604\" y=\"-491.3\" font-family=\"Helvetica,sans-Serif\" font-size=\"14.00\" fill=\"#000000\">value = [7.2, 98.0]</text>\n<text text-anchor=\"middle\" x=\"2604\" y=\"-476.3\" font-family=\"Helvetica,sans-Serif\" font-size=\"14.00\" fill=\"#000000\">class = 1</text>\n</g>\n<!-- 69&#45;&gt;70 -->\n<g id=\"edge70\" class=\"edge\">\n<title>69&#45;&gt;70</title>\n<path fill=\"none\" stroke=\"#000000\" d=\"M2701.5373,-579.8796C2686.5678,-568.0038 2670.2778,-555.0804 2655.3741,-543.2568\"/>\n<polygon fill=\"#000000\" stroke=\"#000000\" points=\"2657.2635,-540.2881 2647.2541,-536.8149 2652.913,-545.772 2657.2635,-540.2881\"/>\n</g>\n<!-- 71 -->\n<g id=\"node72\" class=\"node\">\n<title>71</title>\n<path fill=\"#56abe9\" stroke=\"#000000\" d=\"M2816,-536.5C2816,-536.5 2700,-536.5 2700,-536.5 2694,-536.5 2688,-530.5 2688,-524.5 2688,-524.5 2688,-480.5 2688,-480.5 2688,-474.5 2694,-468.5 2700,-468.5 2700,-468.5 2816,-468.5 2816,-468.5 2822,-468.5 2828,-474.5 2828,-480.5 2828,-480.5 2828,-524.5 2828,-524.5 2828,-530.5 2822,-536.5 2816,-536.5\"/>\n<text text-anchor=\"middle\" x=\"2758\" y=\"-521.3\" font-family=\"Helvetica,sans-Serif\" font-size=\"14.00\" fill=\"#000000\">gini = 0.22</text>\n<text text-anchor=\"middle\" x=\"2758\" y=\"-506.3\" font-family=\"Helvetica,sans-Serif\" font-size=\"14.00\" fill=\"#000000\">samples = 139</text>\n<text text-anchor=\"middle\" x=\"2758\" y=\"-491.3\" font-family=\"Helvetica,sans-Serif\" font-size=\"14.00\" fill=\"#000000\">value = [10.5, 72.8]</text>\n<text text-anchor=\"middle\" x=\"2758\" y=\"-476.3\" font-family=\"Helvetica,sans-Serif\" font-size=\"14.00\" fill=\"#000000\">class = 1</text>\n</g>\n<!-- 69&#45;&gt;71 -->\n<g id=\"edge71\" class=\"edge\">\n<title>69&#45;&gt;71</title>\n<path fill=\"none\" stroke=\"#000000\" d=\"M2755.399,-579.8796C2755.7575,-569.2134 2756.1445,-557.7021 2756.5075,-546.9015\"/>\n<polygon fill=\"#000000\" stroke=\"#000000\" points=\"2760.0085,-546.9269 2756.8466,-536.8149 2753.0125,-546.6917 2760.0085,-546.9269\"/>\n</g>\n<!-- 73 -->\n<g id=\"node74\" class=\"node\">\n<title>73</title>\n<path fill=\"#51a9e8\" stroke=\"#000000\" d=\"M3049.5,-544C3049.5,-544 2858.5,-544 2858.5,-544 2852.5,-544 2846.5,-538 2846.5,-532 2846.5,-532 2846.5,-473 2846.5,-473 2846.5,-467 2852.5,-461 2858.5,-461 2858.5,-461 3049.5,-461 3049.5,-461 3055.5,-461 3061.5,-467 3061.5,-473 3061.5,-473 3061.5,-532 3061.5,-532 3061.5,-538 3055.5,-544 3049.5,-544\"/>\n<text text-anchor=\"middle\" x=\"2954\" y=\"-528.8\" font-family=\"Helvetica,sans-Serif\" font-size=\"14.00\" fill=\"#000000\">num_hashtags_max &lt;= &#45;0.135</text>\n<text text-anchor=\"middle\" x=\"2954\" y=\"-513.8\" font-family=\"Helvetica,sans-Serif\" font-size=\"14.00\" fill=\"#000000\">gini = 0.195</text>\n<text text-anchor=\"middle\" x=\"2954\" y=\"-498.8\" font-family=\"Helvetica,sans-Serif\" font-size=\"14.00\" fill=\"#000000\">samples = 265</text>\n<text text-anchor=\"middle\" x=\"2954\" y=\"-483.8\" font-family=\"Helvetica,sans-Serif\" font-size=\"14.00\" fill=\"#000000\">value = [17.7, 144.2]</text>\n<text text-anchor=\"middle\" x=\"2954\" y=\"-468.8\" font-family=\"Helvetica,sans-Serif\" font-size=\"14.00\" fill=\"#000000\">class = 1</text>\n</g>\n<!-- 72&#45;&gt;73 -->\n<g id=\"edge73\" class=\"edge\">\n<title>72&#45;&gt;73</title>\n<path fill=\"none\" stroke=\"#000000\" d=\"M2955.9507,-579.8796C2955.7441,-571.6838 2955.5249,-562.9891 2955.311,-554.5013\"/>\n<polygon fill=\"#000000\" stroke=\"#000000\" points=\"2958.8047,-554.2067 2955.0537,-544.2981 2951.807,-554.3831 2958.8047,-554.2067\"/>\n</g>\n<!-- 76 -->\n<g id=\"node77\" class=\"node\">\n<title>76</title>\n<path fill=\"#5fb0ea\" stroke=\"#000000\" d=\"M3208,-536.5C3208,-536.5 3092,-536.5 3092,-536.5 3086,-536.5 3080,-530.5 3080,-524.5 3080,-524.5 3080,-480.5 3080,-480.5 3080,-474.5 3086,-468.5 3092,-468.5 3092,-468.5 3208,-468.5 3208,-468.5 3214,-468.5 3220,-474.5 3220,-480.5 3220,-480.5 3220,-524.5 3220,-524.5 3220,-530.5 3214,-536.5 3208,-536.5\"/>\n<text text-anchor=\"middle\" x=\"3150\" y=\"-521.3\" font-family=\"Helvetica,sans-Serif\" font-size=\"14.00\" fill=\"#000000\">gini = 0.27</text>\n<text text-anchor=\"middle\" x=\"3150\" y=\"-506.3\" font-family=\"Helvetica,sans-Serif\" font-size=\"14.00\" fill=\"#000000\">samples = 136</text>\n<text text-anchor=\"middle\" x=\"3150\" y=\"-491.3\" font-family=\"Helvetica,sans-Serif\" font-size=\"14.00\" fill=\"#000000\">value = [12.6, 65.8]</text>\n<text text-anchor=\"middle\" x=\"3150\" y=\"-476.3\" font-family=\"Helvetica,sans-Serif\" font-size=\"14.00\" fill=\"#000000\">class = 1</text>\n</g>\n<!-- 72&#45;&gt;76 -->\n<g id=\"edge76\" class=\"edge\">\n<title>72&#45;&gt;76</title>\n<path fill=\"none\" stroke=\"#000000\" d=\"M3024.502,-579.8796C3044.4816,-567.5606 3066.2895,-554.1143 3086.0381,-541.9376\"/>\n<polygon fill=\"#000000\" stroke=\"#000000\" points=\"3087.9825,-544.8507 3094.6576,-536.623 3084.3086,-538.8922 3087.9825,-544.8507\"/>\n</g>\n<!-- 74 -->\n<g id=\"node75\" class=\"node\">\n<title>74</title>\n<path fill=\"#58ace9\" stroke=\"#000000\" d=\"M2935,-417.5C2935,-417.5 2819,-417.5 2819,-417.5 2813,-417.5 2807,-411.5 2807,-405.5 2807,-405.5 2807,-361.5 2807,-361.5 2807,-355.5 2813,-349.5 2819,-349.5 2819,-349.5 2935,-349.5 2935,-349.5 2941,-349.5 2947,-355.5 2947,-361.5 2947,-361.5 2947,-405.5 2947,-405.5 2947,-411.5 2941,-417.5 2935,-417.5\"/>\n<text text-anchor=\"middle\" x=\"2877\" y=\"-402.3\" font-family=\"Helvetica,sans-Serif\" font-size=\"14.00\" fill=\"#000000\">gini = 0.233</text>\n<text text-anchor=\"middle\" x=\"2877\" y=\"-387.3\" font-family=\"Helvetica,sans-Serif\" font-size=\"14.00\" fill=\"#000000\">samples = 158</text>\n<text text-anchor=\"middle\" x=\"2877\" y=\"-372.3\" font-family=\"Helvetica,sans-Serif\" font-size=\"14.00\" fill=\"#000000\">value = [12.6, 81.2]</text>\n<text text-anchor=\"middle\" x=\"2877\" y=\"-357.3\" font-family=\"Helvetica,sans-Serif\" font-size=\"14.00\" fill=\"#000000\">class = 1</text>\n</g>\n<!-- 73&#45;&gt;74 -->\n<g id=\"edge74\" class=\"edge\">\n<title>73&#45;&gt;74</title>\n<path fill=\"none\" stroke=\"#000000\" d=\"M2927.0691,-460.8796C2919.8117,-449.6636 2911.9497,-437.5131 2904.6535,-426.2372\"/>\n<polygon fill=\"#000000\" stroke=\"#000000\" points=\"2907.5748,-424.3093 2899.2038,-417.8149 2901.6978,-428.112 2907.5748,-424.3093\"/>\n</g>\n<!-- 75 -->\n<g id=\"node76\" class=\"node\">\n<title>75</title>\n<path fill=\"#49a5e7\" stroke=\"#000000\" d=\"M3084.5,-417.5C3084.5,-417.5 2977.5,-417.5 2977.5,-417.5 2971.5,-417.5 2965.5,-411.5 2965.5,-405.5 2965.5,-405.5 2965.5,-361.5 2965.5,-361.5 2965.5,-355.5 2971.5,-349.5 2977.5,-349.5 2977.5,-349.5 3084.5,-349.5 3084.5,-349.5 3090.5,-349.5 3096.5,-355.5 3096.5,-361.5 3096.5,-361.5 3096.5,-405.5 3096.5,-405.5 3096.5,-411.5 3090.5,-417.5 3084.5,-417.5\"/>\n<text text-anchor=\"middle\" x=\"3031\" y=\"-402.3\" font-family=\"Helvetica,sans-Serif\" font-size=\"14.00\" fill=\"#000000\">gini = 0.139</text>\n<text text-anchor=\"middle\" x=\"3031\" y=\"-387.3\" font-family=\"Helvetica,sans-Serif\" font-size=\"14.00\" fill=\"#000000\">samples = 107</text>\n<text text-anchor=\"middle\" x=\"3031\" y=\"-372.3\" font-family=\"Helvetica,sans-Serif\" font-size=\"14.00\" fill=\"#000000\">value = [5.1, 63.0]</text>\n<text text-anchor=\"middle\" x=\"3031\" y=\"-357.3\" font-family=\"Helvetica,sans-Serif\" font-size=\"14.00\" fill=\"#000000\">class = 1</text>\n</g>\n<!-- 73&#45;&gt;75 -->\n<g id=\"edge75\" class=\"edge\">\n<title>73&#45;&gt;75</title>\n<path fill=\"none\" stroke=\"#000000\" d=\"M2980.9309,-460.8796C2988.1883,-449.6636 2996.0503,-437.5131 3003.3465,-426.2372\"/>\n<polygon fill=\"#000000\" stroke=\"#000000\" points=\"3006.3022,-428.112 3008.7962,-417.8149 3000.4252,-424.3093 3006.3022,-428.112\"/>\n</g>\n<!-- 80 -->\n<g id=\"node81\" class=\"node\">\n<title>80</title>\n<path fill=\"#68b4eb\" stroke=\"#000000\" d=\"M3190,-893.5C3190,-893.5 3074,-893.5 3074,-893.5 3068,-893.5 3062,-887.5 3062,-881.5 3062,-881.5 3062,-837.5 3062,-837.5 3062,-831.5 3068,-825.5 3074,-825.5 3074,-825.5 3190,-825.5 3190,-825.5 3196,-825.5 3202,-831.5 3202,-837.5 3202,-837.5 3202,-881.5 3202,-881.5 3202,-887.5 3196,-893.5 3190,-893.5\"/>\n<text text-anchor=\"middle\" x=\"3132\" y=\"-878.3\" font-family=\"Helvetica,sans-Serif\" font-size=\"14.00\" fill=\"#000000\">gini = 0.311</text>\n<text text-anchor=\"middle\" x=\"3132\" y=\"-863.3\" font-family=\"Helvetica,sans-Serif\" font-size=\"14.00\" fill=\"#000000\">samples = 176</text>\n<text text-anchor=\"middle\" x=\"3132\" y=\"-848.3\" font-family=\"Helvetica,sans-Serif\" font-size=\"14.00\" fill=\"#000000\">value = [18.9, 79.1]</text>\n<text text-anchor=\"middle\" x=\"3132\" y=\"-833.3\" font-family=\"Helvetica,sans-Serif\" font-size=\"14.00\" fill=\"#000000\">class = 1</text>\n</g>\n<!-- 79&#45;&gt;80 -->\n<g id=\"edge80\" class=\"edge\">\n<title>79&#45;&gt;80</title>\n<path fill=\"none\" stroke=\"#000000\" d=\"M3132,-936.8796C3132,-926.2134 3132,-914.7021 3132,-903.9015\"/>\n<polygon fill=\"#000000\" stroke=\"#000000\" points=\"3135.5001,-903.8149 3132,-893.8149 3128.5001,-903.815 3135.5001,-903.8149\"/>\n</g>\n<!-- 81 -->\n<g id=\"node82\" class=\"node\">\n<title>81</title>\n<path fill=\"#55abe9\" stroke=\"#000000\" d=\"M3368.5,-901C3368.5,-901 3239.5,-901 3239.5,-901 3233.5,-901 3227.5,-895 3227.5,-889 3227.5,-889 3227.5,-830 3227.5,-830 3227.5,-824 3233.5,-818 3239.5,-818 3239.5,-818 3368.5,-818 3368.5,-818 3374.5,-818 3380.5,-824 3380.5,-830 3380.5,-830 3380.5,-889 3380.5,-889 3380.5,-895 3374.5,-901 3368.5,-901\"/>\n<text text-anchor=\"middle\" x=\"3304\" y=\"-885.8\" font-family=\"Helvetica,sans-Serif\" font-size=\"14.00\" fill=\"#000000\">max_length &lt;= 0.141</text>\n<text text-anchor=\"middle\" x=\"3304\" y=\"-870.8\" font-family=\"Helvetica,sans-Serif\" font-size=\"14.00\" fill=\"#000000\">gini = 0.219</text>\n<text text-anchor=\"middle\" x=\"3304\" y=\"-855.8\" font-family=\"Helvetica,sans-Serif\" font-size=\"14.00\" fill=\"#000000\">samples = 447</text>\n<text text-anchor=\"middle\" x=\"3304\" y=\"-840.8\" font-family=\"Helvetica,sans-Serif\" font-size=\"14.00\" fill=\"#000000\">value = [33.6, 234.5]</text>\n<text text-anchor=\"middle\" x=\"3304\" y=\"-825.8\" font-family=\"Helvetica,sans-Serif\" font-size=\"14.00\" fill=\"#000000\">class = 1</text>\n</g>\n<!-- 79&#45;&gt;81 -->\n<g id=\"edge81\" class=\"edge\">\n<title>79&#45;&gt;81</title>\n<path fill=\"none\" stroke=\"#000000\" d=\"M3192.1573,-936.8796C3206.167,-927.1868 3221.1854,-916.7961 3235.525,-906.8752\"/>\n<polygon fill=\"#000000\" stroke=\"#000000\" points=\"3237.6444,-909.6649 3243.8767,-901.0969 3233.6617,-903.9083 3237.6444,-909.6649\"/>\n</g>\n<!-- 82 -->\n<g id=\"node83\" class=\"node\">\n<title>82</title>\n<path fill=\"#5baeea\" stroke=\"#000000\" d=\"M3379,-782C3379,-782 3229,-782 3229,-782 3223,-782 3217,-776 3217,-770 3217,-770 3217,-711 3217,-711 3217,-705 3223,-699 3229,-699 3229,-699 3379,-699 3379,-699 3385,-699 3391,-705 3391,-711 3391,-711 3391,-770 3391,-770 3391,-776 3385,-782 3379,-782\"/>\n<text text-anchor=\"middle\" x=\"3304\" y=\"-766.8\" font-family=\"Helvetica,sans-Serif\" font-size=\"14.00\" fill=\"#000000\">length_entropy &lt;= 0.382</text>\n<text text-anchor=\"middle\" x=\"3304\" y=\"-751.8\" font-family=\"Helvetica,sans-Serif\" font-size=\"14.00\" fill=\"#000000\">gini = 0.252</text>\n<text text-anchor=\"middle\" x=\"3304\" y=\"-736.8\" font-family=\"Helvetica,sans-Serif\" font-size=\"14.00\" fill=\"#000000\">samples = 323</text>\n<text text-anchor=\"middle\" x=\"3304\" y=\"-721.8\" font-family=\"Helvetica,sans-Serif\" font-size=\"14.00\" fill=\"#000000\">value = [27.9, 161.0]</text>\n<text text-anchor=\"middle\" x=\"3304\" y=\"-706.8\" font-family=\"Helvetica,sans-Serif\" font-size=\"14.00\" fill=\"#000000\">class = 1</text>\n</g>\n<!-- 81&#45;&gt;82 -->\n<g id=\"edge82\" class=\"edge\">\n<title>81&#45;&gt;82</title>\n<path fill=\"none\" stroke=\"#000000\" d=\"M3304,-817.8796C3304,-809.6838 3304,-800.9891 3304,-792.5013\"/>\n<polygon fill=\"#000000\" stroke=\"#000000\" points=\"3307.5001,-792.298 3304,-782.2981 3300.5001,-792.2981 3307.5001,-792.298\"/>\n</g>\n<!-- 87 -->\n<g id=\"node88\" class=\"node\">\n<title>87</title>\n<path fill=\"#48a5e7\" stroke=\"#000000\" d=\"M3528.5,-774.5C3528.5,-774.5 3421.5,-774.5 3421.5,-774.5 3415.5,-774.5 3409.5,-768.5 3409.5,-762.5 3409.5,-762.5 3409.5,-718.5 3409.5,-718.5 3409.5,-712.5 3415.5,-706.5 3421.5,-706.5 3421.5,-706.5 3528.5,-706.5 3528.5,-706.5 3534.5,-706.5 3540.5,-712.5 3540.5,-718.5 3540.5,-718.5 3540.5,-762.5 3540.5,-762.5 3540.5,-768.5 3534.5,-774.5 3528.5,-774.5\"/>\n<text text-anchor=\"middle\" x=\"3475\" y=\"-759.3\" font-family=\"Helvetica,sans-Serif\" font-size=\"14.00\" fill=\"#000000\">gini = 0.134</text>\n<text text-anchor=\"middle\" x=\"3475\" y=\"-744.3\" font-family=\"Helvetica,sans-Serif\" font-size=\"14.00\" fill=\"#000000\">samples = 124</text>\n<text text-anchor=\"middle\" x=\"3475\" y=\"-729.3\" font-family=\"Helvetica,sans-Serif\" font-size=\"14.00\" fill=\"#000000\">value = [5.7, 73.5]</text>\n<text text-anchor=\"middle\" x=\"3475\" y=\"-714.3\" font-family=\"Helvetica,sans-Serif\" font-size=\"14.00\" fill=\"#000000\">class = 1</text>\n</g>\n<!-- 81&#45;&gt;87 -->\n<g id=\"edge87\" class=\"edge\">\n<title>81&#45;&gt;87</title>\n<path fill=\"none\" stroke=\"#000000\" d=\"M3363.8075,-817.8796C3381.2715,-805.7263 3400.312,-792.4759 3417.622,-780.4297\"/>\n<polygon fill=\"#000000\" stroke=\"#000000\" points=\"3419.7572,-783.208 3425.9661,-774.623 3415.7587,-777.4623 3419.7572,-783.208\"/>\n</g>\n<!-- 83 -->\n<g id=\"node84\" class=\"node\">\n<title>83</title>\n<path fill=\"#54aae9\" stroke=\"#000000\" d=\"M3382.5,-663C3382.5,-663 3225.5,-663 3225.5,-663 3219.5,-663 3213.5,-657 3213.5,-651 3213.5,-651 3213.5,-592 3213.5,-592 3213.5,-586 3219.5,-580 3225.5,-580 3225.5,-580 3382.5,-580 3382.5,-580 3388.5,-580 3394.5,-586 3394.5,-592 3394.5,-592 3394.5,-651 3394.5,-651 3394.5,-657 3388.5,-663 3382.5,-663\"/>\n<text text-anchor=\"middle\" x=\"3304\" y=\"-647.8\" font-family=\"Helvetica,sans-Serif\" font-size=\"14.00\" fill=\"#000000\">statuses_count &lt;= &#45;0.493</text>\n<text text-anchor=\"middle\" x=\"3304\" y=\"-632.8\" font-family=\"Helvetica,sans-Serif\" font-size=\"14.00\" fill=\"#000000\">gini = 0.212</text>\n<text text-anchor=\"middle\" x=\"3304\" y=\"-617.8\" font-family=\"Helvetica,sans-Serif\" font-size=\"14.00\" fill=\"#000000\">samples = 223</text>\n<text text-anchor=\"middle\" x=\"3304\" y=\"-602.8\" font-family=\"Helvetica,sans-Serif\" font-size=\"14.00\" fill=\"#000000\">value = [16.2, 118.3]</text>\n<text text-anchor=\"middle\" x=\"3304\" y=\"-587.8\" font-family=\"Helvetica,sans-Serif\" font-size=\"14.00\" fill=\"#000000\">class = 1</text>\n</g>\n<!-- 82&#45;&gt;83 -->\n<g id=\"edge83\" class=\"edge\">\n<title>82&#45;&gt;83</title>\n<path fill=\"none\" stroke=\"#000000\" d=\"M3304,-698.8796C3304,-690.6838 3304,-681.9891 3304,-673.5013\"/>\n<polygon fill=\"#000000\" stroke=\"#000000\" points=\"3307.5001,-673.298 3304,-663.2981 3300.5001,-673.2981 3307.5001,-673.298\"/>\n</g>\n<!-- 86 -->\n<g id=\"node87\" class=\"node\">\n<title>86</title>\n<path fill=\"#6fb8ec\" stroke=\"#000000\" d=\"M3541,-655.5C3541,-655.5 3425,-655.5 3425,-655.5 3419,-655.5 3413,-649.5 3413,-643.5 3413,-643.5 3413,-599.5 3413,-599.5 3413,-593.5 3419,-587.5 3425,-587.5 3425,-587.5 3541,-587.5 3541,-587.5 3547,-587.5 3553,-593.5 3553,-599.5 3553,-599.5 3553,-643.5 3553,-643.5 3553,-649.5 3547,-655.5 3541,-655.5\"/>\n<text text-anchor=\"middle\" x=\"3483\" y=\"-640.3\" font-family=\"Helvetica,sans-Serif\" font-size=\"14.00\" fill=\"#000000\">gini = 0.338</text>\n<text text-anchor=\"middle\" x=\"3483\" y=\"-625.3\" font-family=\"Helvetica,sans-Serif\" font-size=\"14.00\" fill=\"#000000\">samples = 100</text>\n<text text-anchor=\"middle\" x=\"3483\" y=\"-610.3\" font-family=\"Helvetica,sans-Serif\" font-size=\"14.00\" fill=\"#000000\">value = [11.7, 42.7]</text>\n<text text-anchor=\"middle\" x=\"3483\" y=\"-595.3\" font-family=\"Helvetica,sans-Serif\" font-size=\"14.00\" fill=\"#000000\">class = 1</text>\n</g>\n<!-- 82&#45;&gt;86 -->\n<g id=\"edge86\" class=\"edge\">\n<title>82&#45;&gt;86</title>\n<path fill=\"none\" stroke=\"#000000\" d=\"M3366.6055,-698.8796C3384.8865,-686.7263 3404.8178,-673.4759 3422.9376,-661.4297\"/>\n<polygon fill=\"#000000\" stroke=\"#000000\" points=\"3425.2821,-664.074 3431.6721,-655.623 3421.4067,-658.2447 3425.2821,-664.074\"/>\n</g>\n<!-- 84 -->\n<g id=\"node85\" class=\"node\">\n<title>84</title>\n<path fill=\"#5baeea\" stroke=\"#000000\" d=\"M3357.5,-536.5C3357.5,-536.5 3250.5,-536.5 3250.5,-536.5 3244.5,-536.5 3238.5,-530.5 3238.5,-524.5 3238.5,-524.5 3238.5,-480.5 3238.5,-480.5 3238.5,-474.5 3244.5,-468.5 3250.5,-468.5 3250.5,-468.5 3357.5,-468.5 3357.5,-468.5 3363.5,-468.5 3369.5,-474.5 3369.5,-480.5 3369.5,-480.5 3369.5,-524.5 3369.5,-524.5 3369.5,-530.5 3363.5,-536.5 3357.5,-536.5\"/>\n<text text-anchor=\"middle\" x=\"3304\" y=\"-521.3\" font-family=\"Helvetica,sans-Serif\" font-size=\"14.00\" fill=\"#000000\">gini = 0.252</text>\n<text text-anchor=\"middle\" x=\"3304\" y=\"-506.3\" font-family=\"Helvetica,sans-Serif\" font-size=\"14.00\" fill=\"#000000\">samples = 111</text>\n<text text-anchor=\"middle\" x=\"3304\" y=\"-491.3\" font-family=\"Helvetica,sans-Serif\" font-size=\"14.00\" fill=\"#000000\">value = [9.6, 55.3]</text>\n<text text-anchor=\"middle\" x=\"3304\" y=\"-476.3\" font-family=\"Helvetica,sans-Serif\" font-size=\"14.00\" fill=\"#000000\">class = 1</text>\n</g>\n<!-- 83&#45;&gt;84 -->\n<g id=\"edge84\" class=\"edge\">\n<title>83&#45;&gt;84</title>\n<path fill=\"none\" stroke=\"#000000\" d=\"M3304,-579.8796C3304,-569.2134 3304,-557.7021 3304,-546.9015\"/>\n<polygon fill=\"#000000\" stroke=\"#000000\" points=\"3307.5001,-546.8149 3304,-536.8149 3300.5001,-546.815 3307.5001,-546.8149\"/>\n</g>\n<!-- 85 -->\n<g id=\"node86\" class=\"node\">\n<title>85</title>\n<path fill=\"#4ea7e8\" stroke=\"#000000\" d=\"M3506.5,-536.5C3506.5,-536.5 3399.5,-536.5 3399.5,-536.5 3393.5,-536.5 3387.5,-530.5 3387.5,-524.5 3387.5,-524.5 3387.5,-480.5 3387.5,-480.5 3387.5,-474.5 3393.5,-468.5 3399.5,-468.5 3399.5,-468.5 3506.5,-468.5 3506.5,-468.5 3512.5,-468.5 3518.5,-474.5 3518.5,-480.5 3518.5,-480.5 3518.5,-524.5 3518.5,-524.5 3518.5,-530.5 3512.5,-536.5 3506.5,-536.5\"/>\n<text text-anchor=\"middle\" x=\"3453\" y=\"-521.3\" font-family=\"Helvetica,sans-Serif\" font-size=\"14.00\" fill=\"#000000\">gini = 0.172</text>\n<text text-anchor=\"middle\" x=\"3453\" y=\"-506.3\" font-family=\"Helvetica,sans-Serif\" font-size=\"14.00\" fill=\"#000000\">samples = 112</text>\n<text text-anchor=\"middle\" x=\"3453\" y=\"-491.3\" font-family=\"Helvetica,sans-Serif\" font-size=\"14.00\" fill=\"#000000\">value = [6.6, 63.0]</text>\n<text text-anchor=\"middle\" x=\"3453\" y=\"-476.3\" font-family=\"Helvetica,sans-Serif\" font-size=\"14.00\" fill=\"#000000\">class = 1</text>\n</g>\n<!-- 83&#45;&gt;85 -->\n<g id=\"edge85\" class=\"edge\">\n<title>83&#45;&gt;85</title>\n<path fill=\"none\" stroke=\"#000000\" d=\"M3356.113,-579.8796C3370.9826,-568.0038 3387.164,-555.0804 3401.9683,-543.2568\"/>\n<polygon fill=\"#000000\" stroke=\"#000000\" points=\"3404.4046,-545.7904 3410.0342,-536.8149 3400.0362,-540.3207 3404.4046,-545.7904\"/>\n</g>\n<!-- 89 -->\n<g id=\"node90\" class=\"node\">\n<title>89</title>\n<path fill=\"#42a2e6\" stroke=\"#000000\" d=\"M3055.5,-1131.5C3055.5,-1131.5 2948.5,-1131.5 2948.5,-1131.5 2942.5,-1131.5 2936.5,-1125.5 2936.5,-1119.5 2936.5,-1119.5 2936.5,-1075.5 2936.5,-1075.5 2936.5,-1069.5 2942.5,-1063.5 2948.5,-1063.5 2948.5,-1063.5 3055.5,-1063.5 3055.5,-1063.5 3061.5,-1063.5 3067.5,-1069.5 3067.5,-1075.5 3067.5,-1075.5 3067.5,-1119.5 3067.5,-1119.5 3067.5,-1125.5 3061.5,-1131.5 3055.5,-1131.5\"/>\n<text text-anchor=\"middle\" x=\"3002\" y=\"-1116.3\" font-family=\"Helvetica,sans-Serif\" font-size=\"14.00\" fill=\"#000000\">gini = 0.087</text>\n<text text-anchor=\"middle\" x=\"3002\" y=\"-1101.3\" font-family=\"Helvetica,sans-Serif\" font-size=\"14.00\" fill=\"#000000\">samples = 100</text>\n<text text-anchor=\"middle\" x=\"3002\" y=\"-1086.3\" font-family=\"Helvetica,sans-Serif\" font-size=\"14.00\" fill=\"#000000\">value = [3.0, 63.0]</text>\n<text text-anchor=\"middle\" x=\"3002\" y=\"-1071.3\" font-family=\"Helvetica,sans-Serif\" font-size=\"14.00\" fill=\"#000000\">class = 1</text>\n</g>\n<!-- 88&#45;&gt;89 -->\n<g id=\"edge89\" class=\"edge\">\n<title>88&#45;&gt;89</title>\n<path fill=\"none\" stroke=\"#000000\" d=\"M3054.0199,-1174.8796C3046.4797,-1163.6636 3038.3113,-1151.5131 3030.7309,-1140.2372\"/>\n<polygon fill=\"#000000\" stroke=\"#000000\" points=\"3033.5527,-1138.1612 3025.0689,-1131.8149 3027.7434,-1142.0667 3033.5527,-1138.1612\"/>\n</g>\n<!-- 90 -->\n<g id=\"node91\" class=\"node\">\n<title>90</title>\n<path fill=\"#399de5\" stroke=\"#000000\" d=\"M3214,-1131.5C3214,-1131.5 3098,-1131.5 3098,-1131.5 3092,-1131.5 3086,-1125.5 3086,-1119.5 3086,-1119.5 3086,-1075.5 3086,-1075.5 3086,-1069.5 3092,-1063.5 3098,-1063.5 3098,-1063.5 3214,-1063.5 3214,-1063.5 3220,-1063.5 3226,-1069.5 3226,-1075.5 3226,-1075.5 3226,-1119.5 3226,-1119.5 3226,-1125.5 3220,-1131.5 3214,-1131.5\"/>\n<text text-anchor=\"middle\" x=\"3156\" y=\"-1116.3\" font-family=\"Helvetica,sans-Serif\" font-size=\"14.00\" fill=\"#000000\">gini = 0.0</text>\n<text text-anchor=\"middle\" x=\"3156\" y=\"-1101.3\" font-family=\"Helvetica,sans-Serif\" font-size=\"14.00\" fill=\"#000000\">samples = 1045</text>\n<text text-anchor=\"middle\" x=\"3156\" y=\"-1086.3\" font-family=\"Helvetica,sans-Serif\" font-size=\"14.00\" fill=\"#000000\">value = [0.0, 731.5]</text>\n<text text-anchor=\"middle\" x=\"3156\" y=\"-1071.3\" font-family=\"Helvetica,sans-Serif\" font-size=\"14.00\" fill=\"#000000\">class = 1</text>\n</g>\n<!-- 88&#45;&gt;90 -->\n<g id=\"edge90\" class=\"edge\">\n<title>88&#45;&gt;90</title>\n<path fill=\"none\" stroke=\"#000000\" d=\"M3107.8816,-1174.8796C3114.7879,-1163.7735 3122.2639,-1151.7513 3129.2175,-1140.5691\"/>\n<polygon fill=\"#000000\" stroke=\"#000000\" points=\"3132.3527,-1142.1552 3134.6613,-1131.8149 3126.4083,-1138.4587 3132.3527,-1142.1552\"/>\n</g>\n<!-- 92 -->\n<g id=\"node93\" class=\"node\">\n<title>92</title>\n<path fill=\"#e58139\" stroke=\"#000000\" d=\"M3443.5,-1258C3443.5,-1258 3252.5,-1258 3252.5,-1258 3246.5,-1258 3240.5,-1252 3240.5,-1246 3240.5,-1246 3240.5,-1187 3240.5,-1187 3240.5,-1181 3246.5,-1175 3252.5,-1175 3252.5,-1175 3443.5,-1175 3443.5,-1175 3449.5,-1175 3455.5,-1181 3455.5,-1187 3455.5,-1187 3455.5,-1246 3455.5,-1246 3455.5,-1252 3449.5,-1258 3443.5,-1258\"/>\n<text text-anchor=\"middle\" x=\"3348\" y=\"-1242.8\" font-family=\"Helvetica,sans-Serif\" font-size=\"14.00\" fill=\"#000000\">num_hashtags_max &lt;= &#45;0.501</text>\n<text text-anchor=\"middle\" x=\"3348\" y=\"-1227.8\" font-family=\"Helvetica,sans-Serif\" font-size=\"14.00\" fill=\"#000000\">gini = 0.0</text>\n<text text-anchor=\"middle\" x=\"3348\" y=\"-1212.8\" font-family=\"Helvetica,sans-Serif\" font-size=\"14.00\" fill=\"#000000\">samples = 359</text>\n<text text-anchor=\"middle\" x=\"3348\" y=\"-1197.8\" font-family=\"Helvetica,sans-Serif\" font-size=\"14.00\" fill=\"#000000\">value = [107.7, 0.0]</text>\n<text text-anchor=\"middle\" x=\"3348\" y=\"-1182.8\" font-family=\"Helvetica,sans-Serif\" font-size=\"14.00\" fill=\"#000000\">class = 0</text>\n</g>\n<!-- 91&#45;&gt;92 -->\n<g id=\"edge92\" class=\"edge\">\n<title>91&#45;&gt;92</title>\n<path fill=\"none\" stroke=\"#000000\" d=\"M3348,-1293.8796C3348,-1285.6838 3348,-1276.9891 3348,-1268.5013\"/>\n<polygon fill=\"#000000\" stroke=\"#000000\" points=\"3351.5001,-1268.298 3348,-1258.2981 3344.5001,-1268.2981 3351.5001,-1268.298\"/>\n</g>\n<!-- 95 -->\n<g id=\"node96\" class=\"node\">\n<title>95</title>\n<path fill=\"#3a9de5\" stroke=\"#000000\" d=\"M3711,-1258C3711,-1258 3505,-1258 3505,-1258 3499,-1258 3493,-1252 3493,-1246 3493,-1246 3493,-1187 3493,-1187 3493,-1181 3499,-1175 3505,-1175 3505,-1175 3711,-1175 3711,-1175 3717,-1175 3723,-1181 3723,-1187 3723,-1187 3723,-1246 3723,-1246 3723,-1252 3717,-1258 3711,-1258\"/>\n<text text-anchor=\"middle\" x=\"3608\" y=\"-1242.8\" font-family=\"Helvetica,sans-Serif\" font-size=\"14.00\" fill=\"#000000\">favorite_count_entropy &lt;= &#45;0.758</text>\n<text text-anchor=\"middle\" x=\"3608\" y=\"-1227.8\" font-family=\"Helvetica,sans-Serif\" font-size=\"14.00\" fill=\"#000000\">gini = 0.007</text>\n<text text-anchor=\"middle\" x=\"3608\" y=\"-1212.8\" font-family=\"Helvetica,sans-Serif\" font-size=\"14.00\" fill=\"#000000\">samples = 236</text>\n<text text-anchor=\"middle\" x=\"3608\" y=\"-1197.8\" font-family=\"Helvetica,sans-Serif\" font-size=\"14.00\" fill=\"#000000\">value = [0.6, 163.8]</text>\n<text text-anchor=\"middle\" x=\"3608\" y=\"-1182.8\" font-family=\"Helvetica,sans-Serif\" font-size=\"14.00\" fill=\"#000000\">class = 1</text>\n</g>\n<!-- 91&#45;&gt;95 -->\n<g id=\"edge95\" class=\"edge\">\n<title>91&#45;&gt;95</title>\n<path fill=\"none\" stroke=\"#000000\" d=\"M3432.0555,-1297.0284C3456.2366,-1285.9609 3482.8517,-1273.7794 3507.9007,-1262.3147\"/>\n<polygon fill=\"#000000\" stroke=\"#000000\" points=\"3509.4148,-1265.4709 3517.0511,-1258.1266 3506.5016,-1259.1059 3509.4148,-1265.4709\"/>\n</g>\n<!-- 93 -->\n<g id=\"node94\" class=\"node\">\n<title>93</title>\n<path fill=\"#e58139\" stroke=\"#000000\" d=\"M3363.5,-1131.5C3363.5,-1131.5 3256.5,-1131.5 3256.5,-1131.5 3250.5,-1131.5 3244.5,-1125.5 3244.5,-1119.5 3244.5,-1119.5 3244.5,-1075.5 3244.5,-1075.5 3244.5,-1069.5 3250.5,-1063.5 3256.5,-1063.5 3256.5,-1063.5 3363.5,-1063.5 3363.5,-1063.5 3369.5,-1063.5 3375.5,-1069.5 3375.5,-1075.5 3375.5,-1075.5 3375.5,-1119.5 3375.5,-1119.5 3375.5,-1125.5 3369.5,-1131.5 3363.5,-1131.5\"/>\n<text text-anchor=\"middle\" x=\"3310\" y=\"-1116.3\" font-family=\"Helvetica,sans-Serif\" font-size=\"14.00\" fill=\"#000000\">gini = 0.0</text>\n<text text-anchor=\"middle\" x=\"3310\" y=\"-1101.3\" font-family=\"Helvetica,sans-Serif\" font-size=\"14.00\" fill=\"#000000\">samples = 136</text>\n<text text-anchor=\"middle\" x=\"3310\" y=\"-1086.3\" font-family=\"Helvetica,sans-Serif\" font-size=\"14.00\" fill=\"#000000\">value = [40.8, 0.0]</text>\n<text text-anchor=\"middle\" x=\"3310\" y=\"-1071.3\" font-family=\"Helvetica,sans-Serif\" font-size=\"14.00\" fill=\"#000000\">class = 0</text>\n</g>\n<!-- 92&#45;&gt;93 -->\n<g id=\"edge93\" class=\"edge\">\n<title>92&#45;&gt;93</title>\n<path fill=\"none\" stroke=\"#000000\" d=\"M3334.7094,-1174.8796C3331.2683,-1164.1034 3327.5517,-1152.4647 3324.0721,-1141.5677\"/>\n<polygon fill=\"#000000\" stroke=\"#000000\" points=\"3327.3339,-1140.2763 3320.9577,-1131.8149 3320.6656,-1142.4057 3327.3339,-1140.2763\"/>\n</g>\n<!-- 94 -->\n<g id=\"node95\" class=\"node\">\n<title>94</title>\n<path fill=\"#e58139\" stroke=\"#000000\" d=\"M3512.5,-1131.5C3512.5,-1131.5 3405.5,-1131.5 3405.5,-1131.5 3399.5,-1131.5 3393.5,-1125.5 3393.5,-1119.5 3393.5,-1119.5 3393.5,-1075.5 3393.5,-1075.5 3393.5,-1069.5 3399.5,-1063.5 3405.5,-1063.5 3405.5,-1063.5 3512.5,-1063.5 3512.5,-1063.5 3518.5,-1063.5 3524.5,-1069.5 3524.5,-1075.5 3524.5,-1075.5 3524.5,-1119.5 3524.5,-1119.5 3524.5,-1125.5 3518.5,-1131.5 3512.5,-1131.5\"/>\n<text text-anchor=\"middle\" x=\"3459\" y=\"-1116.3\" font-family=\"Helvetica,sans-Serif\" font-size=\"14.00\" fill=\"#000000\">gini = 0.0</text>\n<text text-anchor=\"middle\" x=\"3459\" y=\"-1101.3\" font-family=\"Helvetica,sans-Serif\" font-size=\"14.00\" fill=\"#000000\">samples = 223</text>\n<text text-anchor=\"middle\" x=\"3459\" y=\"-1086.3\" font-family=\"Helvetica,sans-Serif\" font-size=\"14.00\" fill=\"#000000\">value = [66.9, 0.0]</text>\n<text text-anchor=\"middle\" x=\"3459\" y=\"-1071.3\" font-family=\"Helvetica,sans-Serif\" font-size=\"14.00\" fill=\"#000000\">class = 0</text>\n</g>\n<!-- 92&#45;&gt;94 -->\n<g id=\"edge94\" class=\"edge\">\n<title>92&#45;&gt;94</title>\n<path fill=\"none\" stroke=\"#000000\" d=\"M3386.8224,-1174.8796C3397.5921,-1163.3337 3409.2854,-1150.7976 3420.0617,-1139.2446\"/>\n<polygon fill=\"#000000\" stroke=\"#000000\" points=\"3422.7303,-1141.5149 3426.992,-1131.8149 3417.6115,-1136.7402 3422.7303,-1141.5149\"/>\n</g>\n<!-- 96 -->\n<g id=\"node97\" class=\"node\">\n<title>96</title>\n<path fill=\"#399de5\" stroke=\"#000000\" d=\"M3661.5,-1131.5C3661.5,-1131.5 3554.5,-1131.5 3554.5,-1131.5 3548.5,-1131.5 3542.5,-1125.5 3542.5,-1119.5 3542.5,-1119.5 3542.5,-1075.5 3542.5,-1075.5 3542.5,-1069.5 3548.5,-1063.5 3554.5,-1063.5 3554.5,-1063.5 3661.5,-1063.5 3661.5,-1063.5 3667.5,-1063.5 3673.5,-1069.5 3673.5,-1075.5 3673.5,-1075.5 3673.5,-1119.5 3673.5,-1119.5 3673.5,-1125.5 3667.5,-1131.5 3661.5,-1131.5\"/>\n<text text-anchor=\"middle\" x=\"3608\" y=\"-1116.3\" font-family=\"Helvetica,sans-Serif\" font-size=\"14.00\" fill=\"#000000\">gini = &#45;0.0</text>\n<text text-anchor=\"middle\" x=\"3608\" y=\"-1101.3\" font-family=\"Helvetica,sans-Serif\" font-size=\"14.00\" fill=\"#000000\">samples = 136</text>\n<text text-anchor=\"middle\" x=\"3608\" y=\"-1086.3\" font-family=\"Helvetica,sans-Serif\" font-size=\"14.00\" fill=\"#000000\">value = [0.0, 95.2]</text>\n<text text-anchor=\"middle\" x=\"3608\" y=\"-1071.3\" font-family=\"Helvetica,sans-Serif\" font-size=\"14.00\" fill=\"#000000\">class = 1</text>\n</g>\n<!-- 95&#45;&gt;96 -->\n<g id=\"edge96\" class=\"edge\">\n<title>95&#45;&gt;96</title>\n<path fill=\"none\" stroke=\"#000000\" d=\"M3608,-1174.8796C3608,-1164.2134 3608,-1152.7021 3608,-1141.9015\"/>\n<polygon fill=\"#000000\" stroke=\"#000000\" points=\"3611.5001,-1141.8149 3608,-1131.8149 3604.5001,-1141.815 3611.5001,-1141.8149\"/>\n</g>\n<!-- 97 -->\n<g id=\"node98\" class=\"node\">\n<title>97</title>\n<path fill=\"#3b9ee5\" stroke=\"#000000\" d=\"M3810.5,-1131.5C3810.5,-1131.5 3703.5,-1131.5 3703.5,-1131.5 3697.5,-1131.5 3691.5,-1125.5 3691.5,-1119.5 3691.5,-1119.5 3691.5,-1075.5 3691.5,-1075.5 3691.5,-1069.5 3697.5,-1063.5 3703.5,-1063.5 3703.5,-1063.5 3810.5,-1063.5 3810.5,-1063.5 3816.5,-1063.5 3822.5,-1069.5 3822.5,-1075.5 3822.5,-1075.5 3822.5,-1119.5 3822.5,-1119.5 3822.5,-1125.5 3816.5,-1131.5 3810.5,-1131.5\"/>\n<text text-anchor=\"middle\" x=\"3757\" y=\"-1116.3\" font-family=\"Helvetica,sans-Serif\" font-size=\"14.00\" fill=\"#000000\">gini = 0.017</text>\n<text text-anchor=\"middle\" x=\"3757\" y=\"-1101.3\" font-family=\"Helvetica,sans-Serif\" font-size=\"14.00\" fill=\"#000000\">samples = 100</text>\n<text text-anchor=\"middle\" x=\"3757\" y=\"-1086.3\" font-family=\"Helvetica,sans-Serif\" font-size=\"14.00\" fill=\"#000000\">value = [0.6, 68.6]</text>\n<text text-anchor=\"middle\" x=\"3757\" y=\"-1071.3\" font-family=\"Helvetica,sans-Serif\" font-size=\"14.00\" fill=\"#000000\">class = 1</text>\n</g>\n<!-- 95&#45;&gt;97 -->\n<g id=\"edge97\" class=\"edge\">\n<title>95&#45;&gt;97</title>\n<path fill=\"none\" stroke=\"#000000\" d=\"M3660.113,-1174.8796C3674.9826,-1163.0038 3691.164,-1150.0804 3705.9683,-1138.2568\"/>\n<polygon fill=\"#000000\" stroke=\"#000000\" points=\"3708.4046,-1140.7904 3714.0342,-1131.8149 3704.0362,-1135.3207 3708.4046,-1140.7904\"/>\n</g>\n<!-- 99 -->\n<g id=\"node100\" class=\"node\">\n<title>99</title>\n<path fill=\"#e58139\" stroke=\"#000000\" d=\"M3579.5,-1369.5C3579.5,-1369.5 3472.5,-1369.5 3472.5,-1369.5 3466.5,-1369.5 3460.5,-1363.5 3460.5,-1357.5 3460.5,-1357.5 3460.5,-1313.5 3460.5,-1313.5 3460.5,-1307.5 3466.5,-1301.5 3472.5,-1301.5 3472.5,-1301.5 3579.5,-1301.5 3579.5,-1301.5 3585.5,-1301.5 3591.5,-1307.5 3591.5,-1313.5 3591.5,-1313.5 3591.5,-1357.5 3591.5,-1357.5 3591.5,-1363.5 3585.5,-1369.5 3579.5,-1369.5\"/>\n<text text-anchor=\"middle\" x=\"3526\" y=\"-1354.3\" font-family=\"Helvetica,sans-Serif\" font-size=\"14.00\" fill=\"#000000\">gini = 0.0</text>\n<text text-anchor=\"middle\" x=\"3526\" y=\"-1339.3\" font-family=\"Helvetica,sans-Serif\" font-size=\"14.00\" fill=\"#000000\">samples = 111</text>\n<text text-anchor=\"middle\" x=\"3526\" y=\"-1324.3\" font-family=\"Helvetica,sans-Serif\" font-size=\"14.00\" fill=\"#000000\">value = [33.3, 0.0]</text>\n<text text-anchor=\"middle\" x=\"3526\" y=\"-1309.3\" font-family=\"Helvetica,sans-Serif\" font-size=\"14.00\" fill=\"#000000\">class = 0</text>\n</g>\n<!-- 98&#45;&gt;99 -->\n<g id=\"edge99\" class=\"edge\">\n<title>98&#45;&gt;99</title>\n<path fill=\"none\" stroke=\"#000000\" d=\"M3529.2512,-1412.8796C3528.8031,-1402.2134 3528.3194,-1390.7021 3527.8656,-1379.9015\"/>\n<polygon fill=\"#000000\" stroke=\"#000000\" points=\"3531.3586,-1379.6592 3527.4418,-1369.8149 3524.3648,-1379.9531 3531.3586,-1379.6592\"/>\n</g>\n<!-- 100 -->\n<g id=\"node101\" class=\"node\">\n<title>100</title>\n<path fill=\"#e58139\" stroke=\"#000000\" d=\"M3738,-1369.5C3738,-1369.5 3622,-1369.5 3622,-1369.5 3616,-1369.5 3610,-1363.5 3610,-1357.5 3610,-1357.5 3610,-1313.5 3610,-1313.5 3610,-1307.5 3616,-1301.5 3622,-1301.5 3622,-1301.5 3738,-1301.5 3738,-1301.5 3744,-1301.5 3750,-1307.5 3750,-1313.5 3750,-1313.5 3750,-1357.5 3750,-1357.5 3750,-1363.5 3744,-1369.5 3738,-1369.5\"/>\n<text text-anchor=\"middle\" x=\"3680\" y=\"-1354.3\" font-family=\"Helvetica,sans-Serif\" font-size=\"14.00\" fill=\"#000000\">gini = 0.0</text>\n<text text-anchor=\"middle\" x=\"3680\" y=\"-1339.3\" font-family=\"Helvetica,sans-Serif\" font-size=\"14.00\" fill=\"#000000\">samples = 2939</text>\n<text text-anchor=\"middle\" x=\"3680\" y=\"-1324.3\" font-family=\"Helvetica,sans-Serif\" font-size=\"14.00\" fill=\"#000000\">value = [881.7, 0.0]</text>\n<text text-anchor=\"middle\" x=\"3680\" y=\"-1309.3\" font-family=\"Helvetica,sans-Serif\" font-size=\"14.00\" fill=\"#000000\">class = 0</text>\n</g>\n<!-- 98&#45;&gt;100 -->\n<g id=\"edge100\" class=\"edge\">\n<title>98&#45;&gt;100</title>\n<path fill=\"none\" stroke=\"#000000\" d=\"M3583.113,-1412.8796C3597.9826,-1401.0038 3614.164,-1388.0804 3628.9683,-1376.2568\"/>\n<polygon fill=\"#000000\" stroke=\"#000000\" points=\"3631.4046,-1378.7904 3637.0342,-1369.8149 3627.0362,-1373.3207 3631.4046,-1378.7904\"/>\n</g>\n</g>\n</svg>\n"
          },
          "metadata": {},
          "execution_count": 31
        }
      ],
      "source": [
        "#visualize the actual decision tree obtained \n",
        "import pydotplus\n",
        "import graphviz\n",
        "\n",
        "dot_data = tree.export_graphviz(dec_tree, out_file=None, \n",
        "                         feature_names=list(df_scaled.columns),  \n",
        "                         class_names=[\"0\", \"1\"],  \n",
        "                         filled=True, rounded=True)\n",
        "graph = graphviz.Source(dot_data)  \n",
        "\n",
        "graph"
      ]
    },
    {
      "cell_type": "code",
      "execution_count": null,
      "metadata": {
        "id": "EvcMbdcQjofd"
      },
      "outputs": [],
      "source": [
        "#predict using the decision tree\n",
        "train_pred_dt = dec_tree.predict(train_set)\n",
        "test_pred_dt = dec_tree.predict(test_set)"
      ]
    },
    {
      "cell_type": "code",
      "execution_count": null,
      "metadata": {
        "colab": {
          "base_uri": "https://localhost:8080/"
        },
        "id": "d7bt6so3Eic6",
        "outputId": "7fc80a39-9716-49a8-d30b-d96ad36414b4"
      },
      "outputs": [
        {
          "output_type": "stream",
          "name": "stdout",
          "text": [
            "Accuracy train set  0.8605773872743072\n",
            "Accuracy test set  0.8653344917463076\n",
            "\n",
            "Precision train set  0.8895535318879948\n",
            "Recall train set  0.8605773872743072\n",
            "F1 score train set  0.8564776112166422\n",
            "Support train set  (array([1.        , 0.79217041]), array([0.70245209, 1.        ]), array([0.82522392, 0.88403469]), array([4853, 5504]))\n",
            "\n",
            "Precision test set  0.8925485123190876\n",
            "Recall test set  0.8653344917463076\n",
            "F1 score test set  0.8615954789411003\n",
            "Support test set  (array([1.        , 0.79791395]), array([0.71243043, 1.        ]), array([0.83206934, 0.88759971]), array([539, 612]))\n",
            "Cross Validation Score:  0.860287916046004\n"
          ]
        }
      ],
      "source": [
        "acc_dt_train, acc_dt_test, f1_train, f1_test = evaluation(train_label=train_label, \n",
        "                                       train_pred=train_pred_dt, \n",
        "                                       test_label=test_label, \n",
        "                                       test_pred=test_pred_dt)\n",
        "\n",
        "if not compute_model_selection:\n",
        "  best_score = CrossValidate(dec_tree, train_set=train_set, train_label=train_label)\n",
        "  \n",
        "results_df = append_df(results_df, \"DT\", acc_dt_test, f1_test, best_score)"
      ]
    },
    {
      "cell_type": "code",
      "execution_count": null,
      "metadata": {
        "colab": {
          "base_uri": "https://localhost:8080/"
        },
        "id": "6eExo2H1PqiZ",
        "outputId": "fe849a1a-0e3a-4700-a6d1-7725d0be8b7c"
      },
      "outputs": [
        {
          "output_type": "stream",
          "name": "stdout",
          "text": [
            "              precision    recall  f1-score   support\n",
            "\n",
            "     Non-Bot       1.00      0.70      0.83      4853\n",
            "         Bot       0.79      1.00      0.88      5504\n",
            "\n",
            "    accuracy                           0.86     10357\n",
            "   macro avg       0.90      0.85      0.85     10357\n",
            "weighted avg       0.89      0.86      0.86     10357\n",
            "\n"
          ]
        }
      ],
      "source": [
        "report_scores(train_label, train_pred_dt) #training"
      ]
    },
    {
      "cell_type": "code",
      "execution_count": null,
      "metadata": {
        "colab": {
          "base_uri": "https://localhost:8080/"
        },
        "id": "mkQEKjRjEtQn",
        "outputId": "67199ee1-4356-48da-88b9-79ed6e7ede5b"
      },
      "outputs": [
        {
          "output_type": "stream",
          "name": "stdout",
          "text": [
            "              precision    recall  f1-score   support\n",
            "\n",
            "     Non-Bot       1.00      0.71      0.83       539\n",
            "         Bot       0.80      1.00      0.89       612\n",
            "\n",
            "    accuracy                           0.87      1151\n",
            "   macro avg       0.90      0.86      0.86      1151\n",
            "weighted avg       0.89      0.87      0.86      1151\n",
            "\n"
          ]
        }
      ],
      "source": [
        "report_scores(test_label, test_pred_dt) #test"
      ]
    },
    {
      "cell_type": "code",
      "execution_count": null,
      "metadata": {
        "colab": {
          "base_uri": "https://localhost:8080/",
          "height": 312
        },
        "id": "ENgEFi8wE4e0",
        "outputId": "32f10a43-5025-43c1-dbfa-cd5add7d7690"
      },
      "outputs": [
        {
          "output_type": "execute_result",
          "data": {
            "text/plain": [
              "<sklearn.metrics._plot.confusion_matrix.ConfusionMatrixDisplay at 0x7f265b4331c0>"
            ]
          },
          "metadata": {},
          "execution_count": 36
        },
        {
          "output_type": "display_data",
          "data": {
            "text/plain": [
              "<Figure size 432x288 with 2 Axes>"
            ],
            "image/png": "[encoded data removed]"
          },
          "metadata": {
            "needs_background": "light"
          }
        }
      ],
      "source": [
        "plt.figure()\n",
        "ax = plt.gca()\n",
        "ax.set_title(\"Decision Tree\")\n",
        "ConfusionMatrixDisplay.from_estimator(dec_tree, test_set, test_label, ax=ax)"
      ]
    },
    {
      "cell_type": "code",
      "execution_count": null,
      "metadata": {
        "colab": {
          "base_uri": "https://localhost:8080/"
        },
        "id": "cJ1kFWYw8QJ0",
        "outputId": "22ecfc2d-a77c-4a87-98a0-c05160d1fb9d"
      },
      "outputs": [
        {
          "output_type": "stream",
          "name": "stdout",
          "text": [
            "{'model_selection_time': None, 'params': None, 'model': DecisionTreeClassifier(class_weight={0: 0.3, 1: 0.7}, max_depth=14,\n",
            "                       max_features=26, min_samples_leaf=100,\n",
            "                       min_samples_split=50), 'train_acc': 0.8605773872743072, 'test_acc': 0.8653344917463076}\n"
          ]
        }
      ],
      "source": [
        "if not compute_model_selection:\n",
        "  dt_model_selection_time = None\n",
        "  dt_best_params = None\n",
        "\n",
        "key = \"dt\"\n",
        "outputs[key] = {}\n",
        "outputs[key][\"model_selection_time\"] = dt_model_selection_time\n",
        "outputs[key][\"params\"] = dt_best_params\n",
        "outputs[key][\"model\"] = dec_tree\n",
        "outputs[key][\"train_acc\"] = acc_dt_train\n",
        "outputs[key][\"test_acc\"] = acc_dt_test\n",
        "\n",
        "print(outputs[key])"
      ]
    },
    {
      "cell_type": "markdown",
      "metadata": {
        "id": "hNnlG4l-nT9N"
      },
      "source": [
        "## Random Forest"
      ]
    },
    {
      "cell_type": "code",
      "execution_count": null,
      "metadata": {
        "id": "TaA0yq6jt9MZ"
      },
      "outputs": [],
      "source": [
        "from sklearn.ensemble import RandomForestClassifier"
      ]
    },
    {
      "cell_type": "markdown",
      "metadata": {
        "id": "AXcvt5MDBlBD"
      },
      "source": [
        "### Model Selection"
      ]
    },
    {
      "cell_type": "code",
      "execution_count": null,
      "metadata": {
        "id": "yiSYTyF1KywG"
      },
      "outputs": [],
      "source": [
        "tuned_param_rf = {\"max_features\": max_features_list,\n",
        "              \"min_samples_split\": list(range(50, 100, 5)),\n",
        "              \"min_samples_leaf\": list(range(5, 40, 5)),\n",
        "              \"bootstrap\": [True, False],\n",
        "              \"criterion\": criterion,\n",
        "              \"class_weight\": class_weight,\n",
        "              \"n_estimators\": list(range(20, 101, 10)),\n",
        "              }"
      ]
    },
    {
      "cell_type": "code",
      "execution_count": null,
      "metadata": {
        "id": "SeFSnPwznbW5"
      },
      "outputs": [],
      "source": [
        "if compute_model_selection: \n",
        "  rf = RandomForestClassifier(random_state=seed)\n",
        "\n",
        "  start_time = time.time()\n",
        "\n",
        "  rf_best_params, best_score = random_search(model=rf, train_set=train_set, train_label=train_label, \n",
        "                                cv=5, dict_params=tuned_param_rf, n_iter=10)\n",
        "  end_time = time.time()\n",
        "  rf_model_selection_time = end_time-start_time\n",
        "  print(\"Model selection time\", rf_model_selection_time, \"sec\")"
      ]
    },
    {
      "cell_type": "code",
      "execution_count": null,
      "metadata": {
        "id": "4vO4PC5Jl4LV"
      },
      "outputs": [],
      "source": [
        "if compute_model_selection: \n",
        "  n_estimators_result      = rf_best_params[\"n_estimators\"]\n",
        "  max_features_result      = rf_best_params[\"max_features\"]\n",
        "  min_samples_split_result = rf_best_params[\"min_samples_split\"]\n",
        "  min_samples_leaf_result  = rf_best_params[\"min_samples_leaf\"]\n",
        "  bootstrap_result         = rf_best_params[\"bootstrap\"]\n",
        "  criterion_result         = rf_best_params[\"criterion\"]\n",
        "  class_weight_result      = rf_best_params[\"class_weight\"]\n",
        "\n",
        "else:\n",
        "  n_estimators_result      = 70\n",
        "  max_features_result      = 28\n",
        "  min_samples_split_result = 70\n",
        "  min_samples_leaf_result  = 30\n",
        "  bootstrap_result         = True\n",
        "  criterion_result         = 'gini'\n",
        "  class_weight_result      = None"
      ]
    },
    {
      "cell_type": "code",
      "execution_count": null,
      "metadata": {
        "id": "Hw2-yukAugeT"
      },
      "outputs": [],
      "source": [
        "# fit a random forest classifiers using the best parameters found\n",
        "rf = RandomForestClassifier(n_estimators=n_estimators_result, \n",
        "                             criterion=criterion_result,\n",
        "                             max_features=max_features_result,\n",
        "                             min_samples_split=min_samples_split_result,\n",
        "                             min_samples_leaf=min_samples_leaf_result,\n",
        "                             bootstrap=bootstrap_result,\n",
        "                             class_weight=class_weight_result)\n",
        "\n",
        "rf = rf.fit(train_set, train_label)"
      ]
    },
    {
      "cell_type": "code",
      "execution_count": null,
      "metadata": {
        "id": "-j3piaSEzvi8"
      },
      "outputs": [],
      "source": [
        "train_pred_rf = rf.predict(train_set)\n",
        "test_pred_rf = rf.predict(test_set)"
      ]
    },
    {
      "cell_type": "markdown",
      "metadata": {
        "id": "IT-8c4FQGmGc"
      },
      "source": [
        "### Evaluation\n"
      ]
    },
    {
      "cell_type": "code",
      "execution_count": null,
      "metadata": {
        "colab": {
          "base_uri": "https://localhost:8080/"
        },
        "id": "I6eukB9sEvDm",
        "outputId": "1308a9ad-41bc-4e33-b932-575dfa9e14e7"
      },
      "outputs": [
        {
          "output_type": "stream",
          "name": "stdout",
          "text": [
            "Accuracy train set  0.8605773872743072\n",
            "Accuracy test set  0.8653344917463076\n",
            "\n",
            "Precision train set  0.8895535318879948\n",
            "Recall train set  0.8605773872743072\n",
            "F1 score train set  0.8564776112166422\n",
            "Support train set  (array([1.        , 0.79217041]), array([0.70245209, 1.        ]), array([0.82522392, 0.88403469]), array([4853, 5504]))\n",
            "\n",
            "Precision test set  0.8925485123190876\n",
            "Recall test set  0.8653344917463076\n",
            "F1 score test set  0.8615954789411003\n",
            "Support test set  (array([1.        , 0.79791395]), array([0.71243043, 1.        ]), array([0.83206934, 0.88759971]), array([539, 612]))\n",
            "Cross Validation Score:  0.8604810594549851\n"
          ]
        }
      ],
      "source": [
        "acc_rf_train, acc_rf_test, f1_train, f1_test = evaluation(train_label=train_label, \n",
        "                                       train_pred=train_pred_rf, \n",
        "                                       test_label=test_label, \n",
        "                                       test_pred=test_pred_rf)\n",
        "\n",
        "if not compute_model_selection:\n",
        "  best_score = CrossValidate(rf, train_set=train_set, train_label=train_label)\n",
        "\n",
        "results_df = append_df(results_df, \"RF\", acc_rf_test, f1_test, best_score)"
      ]
    },
    {
      "cell_type": "code",
      "execution_count": null,
      "metadata": {
        "colab": {
          "base_uri": "https://localhost:8080/"
        },
        "id": "VQGYLLHdSCTL",
        "outputId": "15b33633-0cc7-4261-c217-ae87df002f0d"
      },
      "outputs": [
        {
          "output_type": "stream",
          "name": "stdout",
          "text": [
            "              precision    recall  f1-score   support\n",
            "\n",
            "     Non-Bot       1.00      0.70      0.83      4853\n",
            "         Bot       0.79      1.00      0.88      5504\n",
            "\n",
            "    accuracy                           0.86     10357\n",
            "   macro avg       0.90      0.85      0.85     10357\n",
            "weighted avg       0.89      0.86      0.86     10357\n",
            "\n"
          ]
        }
      ],
      "source": [
        "report_scores(train_label, train_pred_rf)"
      ]
    },
    {
      "cell_type": "code",
      "execution_count": null,
      "metadata": {
        "colab": {
          "base_uri": "https://localhost:8080/"
        },
        "id": "havtoFuGGnao",
        "outputId": "bde0bd2e-3929-459f-f284-6862040cc600"
      },
      "outputs": [
        {
          "output_type": "stream",
          "name": "stdout",
          "text": [
            "              precision    recall  f1-score   support\n",
            "\n",
            "     Non-Bot       1.00      0.71      0.83       539\n",
            "         Bot       0.80      1.00      0.89       612\n",
            "\n",
            "    accuracy                           0.87      1151\n",
            "   macro avg       0.90      0.86      0.86      1151\n",
            "weighted avg       0.89      0.87      0.86      1151\n",
            "\n"
          ]
        }
      ],
      "source": [
        "report_scores(test_label, test_pred_rf)"
      ]
    },
    {
      "cell_type": "code",
      "execution_count": null,
      "metadata": {
        "colab": {
          "base_uri": "https://localhost:8080/",
          "height": 312
        },
        "id": "iFAMImUtGuK7",
        "outputId": "2d4652a4-909d-4acc-f3d0-7a1a77865e24"
      },
      "outputs": [
        {
          "output_type": "execute_result",
          "data": {
            "text/plain": [
              "<sklearn.metrics._plot.confusion_matrix.ConfusionMatrixDisplay at 0x7f265abd2850>"
            ]
          },
          "metadata": {},
          "execution_count": 47
        },
        {
          "output_type": "display_data",
          "data": {
            "text/plain": [
              "<Figure size 432x288 with 2 Axes>"
            ],
            "image/png": "[encoded data removed]"
          },
          "metadata": {
            "needs_background": "light"
          }
        }
      ],
      "source": [
        "plt.figure()\n",
        "ax = plt.gca()\n",
        "ax.set_title(\"Random Forest\")\n",
        "ConfusionMatrixDisplay.from_estimator(rf, test_set, test_label, ax=ax)"
      ]
    },
    {
      "cell_type": "code",
      "execution_count": null,
      "metadata": {
        "colab": {
          "base_uri": "https://localhost:8080/"
        },
        "id": "CUXlyD4PEbAz",
        "outputId": "5ed8a07b-03e5-4cc6-fa4d-a8c9f4c24ce2"
      },
      "outputs": [
        {
          "output_type": "stream",
          "name": "stdout",
          "text": [
            "{'model_selection_time': None, 'params': None, 'model': RandomForestClassifier(max_features=28, min_samples_leaf=30,\n",
            "                       min_samples_split=70, n_estimators=70), 'train_acc': 0.8605773872743072, 'test_acc': 0.8653344917463076}\n"
          ]
        }
      ],
      "source": [
        "if not compute_model_selection:\n",
        "  rf_model_selection_time = None\n",
        "  rf_best_params = None\n",
        "  \n",
        "key = \"rf\"\n",
        "outputs[key] = {}\n",
        "outputs[key][\"model_selection_time\"] = rf_model_selection_time\n",
        "outputs[key][\"params\"] = rf_best_params\n",
        "outputs[key][\"model\"] = rf\n",
        "outputs[key][\"train_acc\"] = acc_rf_train\n",
        "outputs[key][\"test_acc\"] = acc_rf_test\n",
        "\n",
        "print(outputs[key])"
      ]
    },
    {
      "cell_type": "markdown",
      "metadata": {
        "id": "1jNyFoGwtPMl"
      },
      "source": [
        "## Naive Bayes"
      ]
    },
    {
      "cell_type": "code",
      "execution_count": null,
      "metadata": {
        "id": "sgjC8btHtQ0V"
      },
      "outputs": [],
      "source": [
        "from sklearn.naive_bayes import GaussianNB"
      ]
    },
    {
      "cell_type": "markdown",
      "metadata": {
        "id": "AbYigB-CBphz"
      },
      "source": [
        "### Model selection (Grid search)\n",
        "\n"
      ]
    },
    {
      "cell_type": "code",
      "execution_count": null,
      "metadata": {
        "colab": {
          "base_uri": "https://localhost:8080/",
          "height": 584
        },
        "id": "EQovf7KqBp2n",
        "outputId": "c1577180-bc50-45c6-b953-1fa9bc063e7d"
      },
      "outputs": [
        {
          "output_type": "stream",
          "name": "stdout",
          "text": [
            "[Starting Grid Search]\n"
          ]
        },
        {
          "output_type": "display_data",
          "data": {
            "text/plain": [
              "<Figure size 360x504 with 1 Axes>"
            ],
            "image/png": "[encoded data removed]"
          },
          "metadata": {
            "needs_background": "light"
          }
        },
        {
          "output_type": "stream",
          "name": "stdout",
          "text": [
            "Best setting parameters  {'var_smoothing': 1.6476595119256518e-09}\n",
            "Best score 0.8169359364192779\n",
            "Model selection time 14.859802484512329 sec\n"
          ]
        }
      ],
      "source": [
        "gnb = GaussianNB()\n",
        "param_dist_nb = {'var_smoothing': np.logspace(0,-9, num=250)}\n",
        "\n",
        "start_time = time.time()\n",
        "gnb_best_params, best_score = grid_search(model=gnb, train_set=train_set, train_label=train_label, \n",
        "                               cv=5, dict_params=param_dist_nb, plot=True)\n",
        "end_time = time.time()\n",
        "\n",
        "gnb_model_selection_time = end_time-start_time\n",
        "print(\"Model selection time\", gnb_model_selection_time, \"sec\")\n",
        "\n",
        "best_var_smoothing = gnb_best_params[\"var_smoothing\"]"
      ]
    },
    {
      "cell_type": "markdown",
      "metadata": {
        "id": "E41uh9-bBuXc"
      },
      "source": [
        "### Evaluation "
      ]
    },
    {
      "cell_type": "code",
      "execution_count": null,
      "metadata": {
        "colab": {
          "base_uri": "https://localhost:8080/"
        },
        "id": "qQnw-q99BtUw",
        "outputId": "8bd2bbdf-14cb-4f27-e618-163b1db8d07e"
      },
      "outputs": [
        {
          "output_type": "stream",
          "name": "stdout",
          "text": [
            "Model fitting time 0.01067662239074707 sec\n"
          ]
        }
      ],
      "source": [
        "start_time = time.time()\n",
        "\n",
        "gnb = GaussianNB(var_smoothing=best_var_smoothing)\n",
        "train_pred_gnb = gnb.fit(train_set, train_label)\n",
        "\n",
        "end_time = time.time()\n",
        "print(\"Model fitting time\",  end_time-start_time, \"sec\")"
      ]
    },
    {
      "cell_type": "code",
      "execution_count": null,
      "metadata": {
        "id": "0zYHiqD3Bwnt"
      },
      "outputs": [],
      "source": [
        "train_pred_gnb = gnb.predict(train_set)\n",
        "test_pred_gnb = gnb.predict(test_set)"
      ]
    },
    {
      "cell_type": "code",
      "execution_count": null,
      "metadata": {
        "colab": {
          "base_uri": "https://localhost:8080/"
        },
        "id": "dZ1MmQaPBzRw",
        "outputId": "bd0bb873-e722-429c-d4fd-5fd89d9648d8"
      },
      "outputs": [
        {
          "output_type": "stream",
          "name": "stdout",
          "text": [
            "Accuracy train set  0.8170319590615043\n",
            "Accuracy test set  0.8218940052128584\n",
            "\n",
            "Precision train set  0.8503620292965769\n",
            "Recall train set  0.8170319590615043\n",
            "F1 score train set  0.8102270929300969\n",
            "Support train set  (array([0.96161049, 0.75227177]), array([0.63486503, 0.97765262]), array([0.76480079, 0.85028048]), array([4853, 5504]))\n",
            "\n",
            "Precision test set  0.8515111970193817\n",
            "Recall test set  0.8218940052128584\n",
            "F1 score test set  0.8158986521665507\n",
            "Support test set  (array([0.95628415, 0.75923567]), array([0.64935065, 0.97385621]), array([0.77348066, 0.85325698]), array([539, 612]))\n"
          ]
        }
      ],
      "source": [
        "acc_gnb_train, acc_gnb_test, f1_train, f1_test = evaluation(train_label=train_label, \n",
        "                                       train_pred=train_pred_gnb, \n",
        "                                       test_label=test_label, \n",
        "                                       test_pred=test_pred_gnb)\n",
        "\n",
        "results_df = append_df(results_df, \"NB\", acc_gnb_test, f1_test, best_score)"
      ]
    },
    {
      "cell_type": "code",
      "execution_count": null,
      "metadata": {
        "colab": {
          "base_uri": "https://localhost:8080/",
          "height": 312
        },
        "id": "OxZ4xn_BB1kG",
        "outputId": "08f0aee4-1305-4ae9-d720-d9473a331a3c"
      },
      "outputs": [
        {
          "output_type": "execute_result",
          "data": {
            "text/plain": [
              "<sklearn.metrics._plot.confusion_matrix.ConfusionMatrixDisplay at 0x7f265ab740a0>"
            ]
          },
          "metadata": {},
          "execution_count": 54
        },
        {
          "output_type": "display_data",
          "data": {
            "text/plain": [
              "<Figure size 432x288 with 2 Axes>"
            ],
            "image/png": "[encoded data removed]"
          },
          "metadata": {
            "needs_background": "light"
          }
        }
      ],
      "source": [
        "plt.figure()\n",
        "ax = plt.gca()\n",
        "ax.set_title(\"Naive Bayes\")\n",
        "ConfusionMatrixDisplay.from_estimator(gnb, test_set, test_label, ax=ax)"
      ]
    },
    {
      "cell_type": "code",
      "execution_count": null,
      "metadata": {
        "colab": {
          "base_uri": "https://localhost:8080/"
        },
        "id": "Ffh2tZsxVjtk",
        "outputId": "932e6661-89fb-417b-8e1d-d338b5571bba"
      },
      "outputs": [
        {
          "output_type": "stream",
          "name": "stdout",
          "text": [
            "              precision    recall  f1-score   support\n",
            "\n",
            "     Non-Bot       0.96      0.63      0.76      4853\n",
            "         Bot       0.75      0.98      0.85      5504\n",
            "\n",
            "    accuracy                           0.82     10357\n",
            "   macro avg       0.86      0.81      0.81     10357\n",
            "weighted avg       0.85      0.82      0.81     10357\n",
            "\n"
          ]
        }
      ],
      "source": [
        "report_scores(train_label, train_pred_gnb)"
      ]
    },
    {
      "cell_type": "code",
      "execution_count": null,
      "metadata": {
        "colab": {
          "base_uri": "https://localhost:8080/"
        },
        "id": "vlyi5yv2B2e_",
        "outputId": "e2ebebf5-0598-424a-96af-af3ed7d7280a"
      },
      "outputs": [
        {
          "output_type": "stream",
          "name": "stdout",
          "text": [
            "              precision    recall  f1-score   support\n",
            "\n",
            "     Non-Bot       0.96      0.65      0.77       539\n",
            "         Bot       0.76      0.97      0.85       612\n",
            "\n",
            "    accuracy                           0.82      1151\n",
            "   macro avg       0.86      0.81      0.81      1151\n",
            "weighted avg       0.85      0.82      0.82      1151\n",
            "\n"
          ]
        }
      ],
      "source": [
        "report_scores(test_label, test_pred_gnb)"
      ]
    },
    {
      "cell_type": "code",
      "execution_count": null,
      "metadata": {
        "colab": {
          "base_uri": "https://localhost:8080/"
        },
        "id": "dt3NiQWSyBwQ",
        "outputId": "8eedf4be-c2d8-4a7b-b471-b9080a2693a5"
      },
      "outputs": [
        {
          "output_type": "stream",
          "name": "stdout",
          "text": [
            "{'model_selection_time': 14.859802484512329, 'params': {'var_smoothing': 1.6476595119256518e-09}, 'model': GaussianNB(var_smoothing=1.6476595119256518e-09), 'train_acc': 0.8170319590615043, 'test_acc': 0.8218940052128584}\n"
          ]
        }
      ],
      "source": [
        "# Saving results\n",
        "key = \"nb\"\n",
        "outputs[key] = {}\n",
        "outputs[key][\"model_selection_time\"] = gnb_model_selection_time\n",
        "outputs[key][\"params\"] = gnb_best_params\n",
        "outputs[key][\"model\"] = gnb\n",
        "outputs[key][\"train_acc\"] = acc_gnb_train\n",
        "outputs[key][\"test_acc\"] = acc_gnb_test\n",
        "\n",
        "print(outputs[key])"
      ]
    },
    {
      "cell_type": "markdown",
      "metadata": {
        "id": "_L6a4G3rHKVy"
      },
      "source": [
        "## Neural Network (Sklearn)"
      ]
    },
    {
      "cell_type": "markdown",
      "metadata": {
        "id": "kxYsFbyxBxSx"
      },
      "source": [
        "### Model Selection"
      ]
    },
    {
      "cell_type": "code",
      "execution_count": null,
      "metadata": {
        "id": "KXeSN_kfCFjL"
      },
      "outputs": [],
      "source": [
        "from sklearn.neural_network import MLPClassifier"
      ]
    },
    {
      "cell_type": "code",
      "execution_count": null,
      "metadata": {
        "colab": {
          "base_uri": "https://localhost:8080/"
        },
        "id": "eEjx1EQwVufd",
        "outputId": "826dc789-2cbd-4e8f-a862-38f6b1ab8eb4"
      },
      "outputs": [
        {
          "output_type": "execute_result",
          "data": {
            "text/plain": [
              "[[64, 64, 64], [32, 32, 32], [16, 16, 16], [64, 32], [64, 32, 16]]"
            ]
          },
          "metadata": {},
          "execution_count": 59
        }
      ],
      "source": [
        "layers=[2, 3]\n",
        "units_per_layer =[64, 32, 16]\n",
        "hidden_layer_sizes = []\n",
        "\n",
        "for units in units_per_layer:\n",
        "  for layer in layers[1:]:\n",
        "    tmp=[]\n",
        "    for i in range(layer):\n",
        "      tmp.append(units)\n",
        "    hidden_layer_sizes.append(tmp)\n",
        "\n",
        "for layer in layers:\n",
        "  tmp=[]\n",
        "  for i in range(layer):\n",
        "    tmp.append(units_per_layer[i])\n",
        "  hidden_layer_sizes.append(tmp)\n",
        "\n",
        "\n",
        "hidden_layer_sizes"
      ]
    },
    {
      "cell_type": "code",
      "execution_count": null,
      "metadata": {
        "id": "x1ix3GwjzY7w"
      },
      "outputs": [],
      "source": [
        "param_dist = {\n",
        "    \"hidden_layer_sizes\": hidden_layer_sizes,\n",
        "    \"learning_rate_init\": [0.1, 0.01, 0.001],\n",
        "    \"activation\": [\"logistic\", \"tanh\", \"relu\"],\n",
        "    \"solver\": [\"lbfgs\", \"sgd\", \"adam\"],\n",
        "    \"alpha\": [0.1,0.01,0.001],\n",
        "    \"learning_rate\": [\"constant\", \"invscaling\", \"adaptive\"],\n",
        "}\n",
        "max_iter = 500\n",
        "early_stopping = True\n",
        "validation_fraction=0.1\n",
        "\n",
        "if compute_model_selection: \n",
        "  nn = MLPClassifier(max_iter=max_iter, \n",
        "                    validation_fraction=validation_fraction,\n",
        "                    early_stopping=early_stopping, random_state=seed)\n",
        "\n",
        "  start_time = time.time()\n",
        "  nn_best_params, best_score = random_search(model=nn, train_set=train_set, train_label=train_label, \n",
        "                                cv=5, dict_params=param_dist, plot=True, n_iter=20)\n",
        "  end_time = time.time()\n",
        "  nn_model_selection_time = end_time-start_time\n",
        "  print(\"Model selection time\", nn_model_selection_time, \"sec\")\n"
      ]
    },
    {
      "cell_type": "code",
      "execution_count": null,
      "metadata": {
        "id": "dTxgQyQgqYSV"
      },
      "outputs": [],
      "source": [
        "if compute_model_selection: \n",
        "  hidden_layer_sizes_results = nn_best_params[\"hidden_layer_sizes\"]\n",
        "  learning_rate_init_results = nn_best_params[\"learning_rate_init\"]\n",
        "  learning_rate_results      = nn_best_params[\"learning_rate\"]\n",
        "  solver_results             = nn_best_params[\"solver\"]\n",
        "  alpha_results              = nn_best_params[\"alpha\"]\n",
        "  activation_results         = nn_best_params[\"activation\"]\n",
        "else:\n",
        "  hidden_layer_sizes_results = [32, 32, 32]\n",
        "  learning_rate_init_results = 0.01\n",
        "  learning_rate_results      = 'adaptive'\n",
        "  solver_results             = 'adam'\n",
        "  alpha_results              =  0.1\n",
        "  activation_results         = 'tanh'"
      ]
    },
    {
      "cell_type": "code",
      "execution_count": null,
      "metadata": {
        "id": "y8w6OIpry5Ak"
      },
      "outputs": [],
      "source": [
        "nn = MLPClassifier(max_iter=max_iter, \n",
        "                   validation_fraction=validation_fraction, solver=solver_results,\n",
        "                   early_stopping=early_stopping,\n",
        "                   hidden_layer_sizes=hidden_layer_sizes_results, learning_rate_init=learning_rate_init_results,\n",
        "                   learning_rate=learning_rate_results, alpha=alpha_results, activation=activation_results)\n",
        "\n",
        "nn = nn.fit(train_set, train_label)"
      ]
    },
    {
      "cell_type": "code",
      "execution_count": null,
      "metadata": {
        "id": "n6FeExdAZaOl"
      },
      "outputs": [],
      "source": [
        "train_pred_nn = nn.predict(train_set)\n",
        "test_pred_nn  = nn.predict(test_set)"
      ]
    },
    {
      "cell_type": "markdown",
      "metadata": {
        "id": "dQJeNhwWB5WM"
      },
      "source": [
        "### Evaluation"
      ]
    },
    {
      "cell_type": "code",
      "execution_count": null,
      "metadata": {
        "colab": {
          "base_uri": "https://localhost:8080/"
        },
        "id": "ZdqHfdowTzcl",
        "outputId": "0acbfe37-8ddf-46f7-910b-c3d8ce9b82dd"
      },
      "outputs": [
        {
          "output_type": "stream",
          "name": "stdout",
          "text": [
            "Accuracy train set  0.8603842811624988\n",
            "Accuracy test set  0.8627280625543006\n",
            "\n",
            "Precision train set  0.8888784315679732\n",
            "Recall train set  0.8603842811624988\n",
            "F1 score train set  0.8563283665388087\n",
            "Support train set  (array([0.9982451 , 0.79244739]), array([0.70327632, 0.99890988]), array([0.82519342, 0.88378074]), array([4853, 5504]))\n",
            "\n",
            "Precision test set  0.8884964394104563\n",
            "Recall test set  0.8627280625543006\n",
            "F1 score test set  0.859043563504999\n",
            "Support test set  (array([0.99224806, 0.79712042]), array([0.71243043, 0.99509804]), array([0.82937365, 0.88517442]), array([539, 612]))\n",
            "Cross Validation Score:  0.8588396667344036\n"
          ]
        }
      ],
      "source": [
        "acc_nn_train, acc_nn_test, f1_train, f1_test = evaluation(train_label=train_label, \n",
        "                                       train_pred=train_pred_nn, \n",
        "                                       test_label=test_label, \n",
        "                                       test_pred=test_pred_nn)\n",
        "if not compute_model_selection:\n",
        "  best_score = CrossValidate(nn, train_set=train_set, train_label=train_label)\n",
        "\n",
        "results_df = append_df(results_df, \"NN\", acc_nn_test, f1_test, best_score)"
      ]
    },
    {
      "cell_type": "code",
      "execution_count": null,
      "metadata": {
        "colab": {
          "base_uri": "https://localhost:8080/"
        },
        "id": "n-YLTAkUfgRx",
        "outputId": "a60e9a78-7e1b-400a-f974-b121396354f7"
      },
      "outputs": [
        {
          "output_type": "stream",
          "name": "stdout",
          "text": [
            "              precision    recall  f1-score   support\n",
            "\n",
            "     Non-Bot       1.00      0.70      0.83      4853\n",
            "         Bot       0.79      1.00      0.88      5504\n",
            "\n",
            "    accuracy                           0.86     10357\n",
            "   macro avg       0.90      0.85      0.85     10357\n",
            "weighted avg       0.89      0.86      0.86     10357\n",
            "\n"
          ]
        }
      ],
      "source": [
        "report_scores(train_label, train_pred_nn)"
      ]
    },
    {
      "cell_type": "code",
      "execution_count": null,
      "metadata": {
        "colab": {
          "base_uri": "https://localhost:8080/"
        },
        "id": "xzz3xbVzT1f_",
        "outputId": "2e16a939-6b27-4446-dbcf-2adca0e7c40c"
      },
      "outputs": [
        {
          "output_type": "stream",
          "name": "stdout",
          "text": [
            "              precision    recall  f1-score   support\n",
            "\n",
            "     Non-Bot       0.99      0.71      0.83       539\n",
            "         Bot       0.80      1.00      0.89       612\n",
            "\n",
            "    accuracy                           0.86      1151\n",
            "   macro avg       0.89      0.85      0.86      1151\n",
            "weighted avg       0.89      0.86      0.86      1151\n",
            "\n"
          ]
        }
      ],
      "source": [
        "report_scores(test_label, test_pred_nn)"
      ]
    },
    {
      "cell_type": "code",
      "execution_count": null,
      "metadata": {
        "colab": {
          "base_uri": "https://localhost:8080/",
          "height": 312
        },
        "id": "_0QFQPqMT3xu",
        "outputId": "8389752a-dded-4246-99a4-621ff680263a"
      },
      "outputs": [
        {
          "output_type": "execute_result",
          "data": {
            "text/plain": [
              "<sklearn.metrics._plot.confusion_matrix.ConfusionMatrixDisplay at 0x7f265aa04bb0>"
            ]
          },
          "metadata": {},
          "execution_count": 67
        },
        {
          "output_type": "display_data",
          "data": {
            "text/plain": [
              "<Figure size 432x288 with 2 Axes>"
            ],
            "image/png": "[encoded data removed]"
          },
          "metadata": {
            "needs_background": "light"
          }
        }
      ],
      "source": [
        "plt.figure()\n",
        "ax = plt.gca()\n",
        "ax.set_title(\"Neural Netwokrs\")\n",
        "ConfusionMatrixDisplay.from_estimator(nn, test_set, test_label, ax=ax)"
      ]
    },
    {
      "cell_type": "code",
      "execution_count": null,
      "metadata": {
        "colab": {
          "base_uri": "https://localhost:8080/"
        },
        "id": "aI_tJA7BWi2w",
        "outputId": "789d5e90-589b-4ca9-fae5-4412600b7d83"
      },
      "outputs": [
        {
          "output_type": "stream",
          "name": "stdout",
          "text": [
            "{'model_selection_time': None, 'params': None, 'model': MLPClassifier(activation='tanh', alpha=0.1, early_stopping=True,\n",
            "              hidden_layer_sizes=[32, 32, 32], learning_rate='adaptive',\n",
            "              learning_rate_init=0.01, max_iter=500), 'train_acc': 0.8603842811624988, 'test_acc': 0.8627280625543006}\n"
          ]
        }
      ],
      "source": [
        "# Saving results\n",
        "if not compute_model_selection:\n",
        "  nn_model_selection_time = None\n",
        "  nn_best_params = None\n",
        "  \n",
        "key = \"nn\"\n",
        "outputs[key] = {}\n",
        "outputs[key][\"model_selection_time\"] = nn_model_selection_time\n",
        "outputs[key][\"params\"] = nn_best_params\n",
        "outputs[key][\"model\"] = nn\n",
        "outputs[key][\"train_acc\"] = acc_nn_train\n",
        "outputs[key][\"test_acc\"] = acc_nn_test\n",
        "\n",
        "print(outputs[key])"
      ]
    },
    {
      "cell_type": "markdown",
      "metadata": {
        "id": "A5GY5I_gxS8j"
      },
      "source": [
        "## Support Vector Machine"
      ]
    },
    {
      "cell_type": "code",
      "execution_count": null,
      "metadata": {
        "id": "j2P9V-LQ0SkT"
      },
      "outputs": [],
      "source": [
        "from sklearn.svm import SVC"
      ]
    },
    {
      "cell_type": "markdown",
      "metadata": {
        "id": "ZPCsPWhIb66L"
      },
      "source": [
        "### Model Selection"
      ]
    },
    {
      "cell_type": "code",
      "execution_count": null,
      "metadata": {
        "id": "WGkg8-6epZZ6"
      },
      "outputs": [],
      "source": [
        "tuned_params_svc = {\n",
        "    'kernel': [\"linear\", \"rbf\", \"sigmoid\"], \n",
        "    'gamma': [0.001,0.0001],\n",
        "    'C': [5,10,15,20]}"
      ]
    },
    {
      "cell_type": "code",
      "execution_count": null,
      "metadata": {
        "id": "w_XcnZPuxXjK"
      },
      "outputs": [],
      "source": [
        "if compute_model_selection:\n",
        "  svc = SVC(random_state=seed, cache_size=1000)\n",
        "\n",
        "  start_time = time.time()\n",
        "  svc_best_params, best_score = random_search(model=svc, train_set=train_set, train_label=train_label,\n",
        "                                  dict_params=tuned_params_svc, n_iter=10, plot=True)\n",
        "  end_time = time.time()\n",
        "  svc_model_selection_time = end_time-start_time\n",
        "  print(\"Model selection time\", svc_best_params, \"sec\")"
      ]
    },
    {
      "cell_type": "code",
      "execution_count": null,
      "metadata": {
        "id": "EPUwCol9x6zi"
      },
      "outputs": [],
      "source": [
        "if compute_model_selection:\n",
        "  C       = svc_best_params[\"C\"]\n",
        "  kernel  = svc_best_params[\"kernel\"]\n",
        "  gamma   = svc_best_params[\"gamma\"]\n",
        "else: \n",
        "  C       = 20\n",
        "  kernel  = 'rbf'\n",
        "  gamma   = 0.001"
      ]
    },
    {
      "cell_type": "code",
      "execution_count": null,
      "metadata": {
        "id": "d3Mj4v7I-BqT"
      },
      "outputs": [],
      "source": [
        "svc = SVC(C=C,\n",
        "          kernel=kernel,\n",
        "          gamma=gamma,\n",
        "          cache_size=1000\n",
        "          )\n",
        "\n",
        "svc = svc.fit(train_set, train_label)"
      ]
    },
    {
      "cell_type": "code",
      "execution_count": null,
      "metadata": {
        "id": "ehdUQT7m-Ear"
      },
      "outputs": [],
      "source": [
        "train_pred_svc  = svc.predict(train_set)\n",
        "test_pred_svc   = svc.predict(test_set)"
      ]
    },
    {
      "cell_type": "markdown",
      "metadata": {
        "id": "hpYVwfJAz6NH"
      },
      "source": [
        "### Evaluation"
      ]
    },
    {
      "cell_type": "code",
      "execution_count": null,
      "metadata": {
        "colab": {
          "base_uri": "https://localhost:8080/"
        },
        "id": "Xi7wbfy6cNjh",
        "outputId": "ee935e4a-0cda-4ff9-95a1-0da179379a20"
      },
      "outputs": [
        {
          "output_type": "stream",
          "name": "stdout",
          "text": [
            "Accuracy train set  0.8599015158829777\n",
            "Accuracy test set  0.8653344917463076\n",
            "\n",
            "Precision train set  0.8890367133243542\n",
            "Recall train set  0.8599015158829777\n",
            "F1 score train set  0.8557568896895\n",
            "Support train set  (array([0.99970623, 0.79145693]), array([0.70121574, 0.99981831]), array([0.82427032, 0.88351931]), array([4853, 5504]))\n",
            "\n",
            "Precision test set  0.8925485123190876\n",
            "Recall test set  0.8653344917463076\n",
            "F1 score test set  0.8615954789411003\n",
            "Support test set  (array([1.        , 0.79791395]), array([0.71243043, 1.        ]), array([0.83206934, 0.88759971]), array([539, 612]))\n",
            "Cross Validation Score:  0.8597087188588879\n"
          ]
        }
      ],
      "source": [
        "acc_svc_train, acc_svc_test, f1_train, f1_test = evaluation(train_label=train_label, \n",
        "                                       train_pred=train_pred_svc, \n",
        "                                       test_label=test_label, \n",
        "                                       test_pred=test_pred_svc)\n",
        "if not compute_model_selection:\n",
        "  best_score = CrossValidate(svc, train_set=train_set, train_label=train_label)\n",
        "\n",
        "results_df = append_df(results_df, \"SVC\", acc_svc_test, f1_test, best_score)"
      ]
    },
    {
      "cell_type": "code",
      "execution_count": null,
      "metadata": {
        "colab": {
          "base_uri": "https://localhost:8080/"
        },
        "id": "4X51dG9uy0e0",
        "outputId": "69a1d24e-aeab-4615-e63a-52d1cbbf9fe6"
      },
      "outputs": [
        {
          "output_type": "stream",
          "name": "stdout",
          "text": [
            "              precision    recall  f1-score   support\n",
            "\n",
            "     Non-Bot       1.00      0.70      0.82      4853\n",
            "         Bot       0.79      1.00      0.88      5504\n",
            "\n",
            "    accuracy                           0.86     10357\n",
            "   macro avg       0.90      0.85      0.85     10357\n",
            "weighted avg       0.89      0.86      0.86     10357\n",
            "\n"
          ]
        }
      ],
      "source": [
        "report_scores(train_label, train_pred_svc)"
      ]
    },
    {
      "cell_type": "code",
      "execution_count": null,
      "metadata": {
        "colab": {
          "base_uri": "https://localhost:8080/"
        },
        "id": "3MBeNKm1z7mv",
        "outputId": "2192a13c-b3e9-4876-d40b-7e778395b531"
      },
      "outputs": [
        {
          "output_type": "stream",
          "name": "stdout",
          "text": [
            "              precision    recall  f1-score   support\n",
            "\n",
            "     Non-Bot       1.00      0.71      0.83       539\n",
            "         Bot       0.80      1.00      0.89       612\n",
            "\n",
            "    accuracy                           0.87      1151\n",
            "   macro avg       0.90      0.86      0.86      1151\n",
            "weighted avg       0.89      0.87      0.86      1151\n",
            "\n"
          ]
        }
      ],
      "source": [
        "report_scores(test_label, test_pred_svc)"
      ]
    },
    {
      "cell_type": "code",
      "execution_count": null,
      "metadata": {
        "colab": {
          "base_uri": "https://localhost:8080/",
          "height": 312
        },
        "id": "PyydO8350AH9",
        "outputId": "4d7f00f2-6892-4a51-a95e-b0f3d0377d12"
      },
      "outputs": [
        {
          "output_type": "execute_result",
          "data": {
            "text/plain": [
              "<sklearn.metrics._plot.confusion_matrix.ConfusionMatrixDisplay at 0x7f265a9a2730>"
            ]
          },
          "metadata": {},
          "execution_count": 78
        },
        {
          "output_type": "display_data",
          "data": {
            "text/plain": [
              "<Figure size 432x288 with 2 Axes>"
            ],
            "image/png": "[encoded data removed]"
          },
          "metadata": {
            "needs_background": "light"
          }
        }
      ],
      "source": [
        "plt.figure()\n",
        "ax = plt.gca()\n",
        "ax.set_title(\"Support Vector Classifier\")\n",
        "ConfusionMatrixDisplay.from_estimator(svc, test_set, test_label, ax=ax)"
      ]
    },
    {
      "cell_type": "code",
      "execution_count": null,
      "metadata": {
        "colab": {
          "base_uri": "https://localhost:8080/"
        },
        "id": "BJG6C_8ocnD7",
        "outputId": "f5bedd72-4cc3-4af5-f4c7-172cd02f6e6a"
      },
      "outputs": [
        {
          "output_type": "stream",
          "name": "stdout",
          "text": [
            "{'model_selection_time': None, 'params': None, 'model': SVC(C=20, cache_size=1000, gamma=0.001), 'train_acc': 0.8599015158829777, 'test_acc': 0.8653344917463076}\n"
          ]
        }
      ],
      "source": [
        "# Saving results\n",
        "if not compute_model_selection:\n",
        "  svc_model_selection_time = None\n",
        "  svc_best_params = None\n",
        "  \n",
        "# Saving results\n",
        "key = \"svc\"\n",
        "outputs[key] = {}\n",
        "outputs[key][\"model_selection_time\"] = svc_model_selection_time\n",
        "outputs[key][\"params\"] = svc_best_params\n",
        "outputs[key][\"model\"] = svc\n",
        "outputs[key][\"train_acc\"] = acc_svc_train\n",
        "outputs[key][\"test_acc\"] = acc_svc_test\n",
        "\n",
        "print(outputs[key])"
      ]
    },
    {
      "cell_type": "markdown",
      "metadata": {
        "id": "DiXQAG-y8mWI"
      },
      "source": [
        "## Gradient Boosting Classifier + RandomForest"
      ]
    },
    {
      "cell_type": "code",
      "execution_count": null,
      "metadata": {
        "id": "MNkMcmMa8mWJ"
      },
      "outputs": [],
      "source": [
        "from sklearn.ensemble import GradientBoostingClassifier"
      ]
    },
    {
      "cell_type": "markdown",
      "metadata": {
        "id": "07CG3LOq8mWJ"
      },
      "source": [
        "### Model Selection"
      ]
    },
    {
      "cell_type": "code",
      "execution_count": null,
      "metadata": {
        "id": "q5b0Oj_F8mWJ"
      },
      "outputs": [],
      "source": [
        "# first we define parameters we want to try to perform a model selection\n",
        "param_dist_gbc = {\"loss\": [\"deviance\", \"exponential\"],\n",
        "                  \"n_estimators\": [10, 25, 50],\n",
        "                  \"learning_rate\": [0.5, 1.0, 1.5],\n",
        "                  \"min_samples_split\": min_sample_split_list,\n",
        "                  \"min_samples_leaf\": min_sample_leaf_list,\n",
        "                  \"max_depth\": max_depth,\n",
        "                  \"max_features\": max_features_list\n",
        "              }\n",
        "\n",
        "if compute_model_selection:\n",
        "  gbc = GradientBoostingClassifier(init=rf, n_iter_no_change=5, random_state=seed)\n",
        "\n",
        "  start_time = time.time()\n",
        "  gbc_best_params, best_score = random_search(model=gbc, train_set = train_set, train_label=train_label, \n",
        "                                  dict_params=param_dist_gbc, n_iter=10, plot=True)\n",
        "  end_time = time.time()\n",
        "  gbc_model_selection_time = end_time-start_time\n",
        "  print(\"Model selection time\", gbc_best_params, \"sec\")\n",
        "\n"
      ]
    },
    {
      "cell_type": "code",
      "execution_count": null,
      "metadata": {
        "id": "x_ROuQ8F0AEy"
      },
      "outputs": [],
      "source": [
        "if compute_model_selection:\n",
        "  loss_result              = gbc_best_params[\"loss\"]\n",
        "  n_estimators_result      = gbc_best_params[\"n_estimators\"]\n",
        "  learning_rate_result     = gbc_best_params[\"learning_rate\"]\n",
        "  min_samples_split_result = gbc_best_params[\"min_samples_split\"]\n",
        "  min_samples_leaf_result  = gbc_best_params[\"min_samples_leaf\"]\n",
        "  max_depth_result         = gbc_best_params[\"max_depth\"]\n",
        "  max_features_result      = gbc_best_params[\"max_features\"]\n",
        "else:\n",
        "  loss_result              = 'deviance'\n",
        "  n_estimators_result      = 25\n",
        "  learning_rate_result     = 0.5\n",
        "  min_samples_split_result = 95\n",
        "  min_samples_leaf_result  = 85\n",
        "  max_depth_result         = 18\n",
        "  max_features_result      = 28"
      ]
    },
    {
      "cell_type": "code",
      "execution_count": null,
      "metadata": {
        "id": "3zZAM-pJ8mWJ"
      },
      "outputs": [],
      "source": [
        "gbc = GradientBoostingClassifier(init=rf, n_iter_no_change=5,\n",
        "                                 loss=loss_result, n_estimators=n_estimators_result,\n",
        "                                 learning_rate = learning_rate_result, min_samples_leaf=min_samples_leaf_result,\n",
        "                                 min_samples_split=min_samples_split_result, max_depth=max_depth_result, max_features=max_features_result)\n",
        "\n",
        "\n",
        "gbc = gbc.fit(train_set, train_label)"
      ]
    },
    {
      "cell_type": "code",
      "execution_count": null,
      "metadata": {
        "id": "G9xoX7Xw8mWJ"
      },
      "outputs": [],
      "source": [
        "train_pred_gbc  = gbc.predict(train_set)\n",
        "test_pred_gbc   = gbc.predict(test_set)"
      ]
    },
    {
      "cell_type": "markdown",
      "metadata": {
        "id": "9daFQnBa8mWJ"
      },
      "source": [
        "### Evaluation"
      ]
    },
    {
      "cell_type": "code",
      "execution_count": null,
      "metadata": {
        "colab": {
          "base_uri": "https://localhost:8080/"
        },
        "id": "_va-l7Eo8mWJ",
        "outputId": "c6535548-e007-415a-b8ac-cab0ab028931"
      },
      "outputs": [
        {
          "output_type": "stream",
          "name": "stdout",
          "text": [
            "Accuracy train set  0.8776672781693541\n",
            "Accuracy test set  0.8566463944396178\n",
            "\n",
            "Precision train set  0.8973591061585122\n",
            "Recall train set  0.8776672781693541\n",
            "F1 score train set  0.8751055530505423\n",
            "Support train set  (array([0.98882225, 0.81671401]), array([0.74737276, 0.99255087]), array([0.85130853, 0.89608792]), array([4853, 5504]))\n",
            "\n",
            "Precision test set  0.8778437411894277\n",
            "Recall test set  0.8566463944396178\n",
            "F1 score test set  0.8532644282282433\n",
            "Support test set  (array([0.96984925, 0.79681275]), array([0.716141  , 0.98039216]), array([0.82390608, 0.87912088]), array([539, 612]))\n",
            "Cross Validation Score:  0.8516950850968233\n"
          ]
        }
      ],
      "source": [
        "acc_gbc_train, acc_gbc_test, f1_train, f1_test = evaluation(train_label=train_label, \n",
        "                                       train_pred=train_pred_gbc, \n",
        "                                       test_label=test_label, \n",
        "                                       test_pred=test_pred_gbc)\n",
        "if not compute_model_selection:\n",
        "  best_score = CrossValidate(gbc, train_set=train_set, train_label=train_label)\n",
        "\n",
        "results_df = append_df(results_df, \"GBC\", acc_gbc_test, f1_test, best_score)"
      ]
    },
    {
      "cell_type": "code",
      "execution_count": null,
      "metadata": {
        "colab": {
          "base_uri": "https://localhost:8080/"
        },
        "id": "4mxrirG48mWJ",
        "outputId": "45bfdf4b-f045-4050-dce0-a79d73ee4f08"
      },
      "outputs": [
        {
          "output_type": "stream",
          "name": "stdout",
          "text": [
            "              precision    recall  f1-score   support\n",
            "\n",
            "     Non-Bot       0.99      0.75      0.85      4853\n",
            "         Bot       0.82      0.99      0.90      5504\n",
            "\n",
            "    accuracy                           0.88     10357\n",
            "   macro avg       0.90      0.87      0.87     10357\n",
            "weighted avg       0.90      0.88      0.88     10357\n",
            "\n"
          ]
        }
      ],
      "source": [
        "report_scores(train_label, train_pred_gbc)"
      ]
    },
    {
      "cell_type": "code",
      "execution_count": null,
      "metadata": {
        "colab": {
          "base_uri": "https://localhost:8080/"
        },
        "id": "wcbjWfWL8mWJ",
        "outputId": "4531988f-4aa6-4d81-a4ec-7078a5887401"
      },
      "outputs": [
        {
          "output_type": "stream",
          "name": "stdout",
          "text": [
            "              precision    recall  f1-score   support\n",
            "\n",
            "     Non-Bot       0.97      0.72      0.82       539\n",
            "         Bot       0.80      0.98      0.88       612\n",
            "\n",
            "    accuracy                           0.86      1151\n",
            "   macro avg       0.88      0.85      0.85      1151\n",
            "weighted avg       0.88      0.86      0.85      1151\n",
            "\n"
          ]
        }
      ],
      "source": [
        "report_scores(test_label, test_pred_gbc)"
      ]
    },
    {
      "cell_type": "code",
      "execution_count": null,
      "metadata": {
        "colab": {
          "base_uri": "https://localhost:8080/",
          "height": 312
        },
        "id": "TG_wdt0T8mWK",
        "outputId": "bf8d5111-ff91-4d60-ed98-86ca668b2831"
      },
      "outputs": [
        {
          "output_type": "execute_result",
          "data": {
            "text/plain": [
              "<sklearn.metrics._plot.confusion_matrix.ConfusionMatrixDisplay at 0x7f2658091e50>"
            ]
          },
          "metadata": {},
          "execution_count": 88
        },
        {
          "output_type": "display_data",
          "data": {
            "text/plain": [
              "<Figure size 432x288 with 2 Axes>"
            ],
            "image/png": "[encoded data removed]"
          },
          "metadata": {
            "needs_background": "light"
          }
        }
      ],
      "source": [
        "plt.figure()\n",
        "ax = plt.gca()\n",
        "ax.set_title(\"Gradient Boosting\")\n",
        "ConfusionMatrixDisplay.from_estimator(gbc, test_set, test_label, ax=ax)"
      ]
    },
    {
      "cell_type": "code",
      "execution_count": null,
      "metadata": {
        "id": "_1lxpBi48mWK",
        "colab": {
          "base_uri": "https://localhost:8080/"
        },
        "outputId": "31350504-b376-45ec-8b9b-50f3b7dbbfba"
      },
      "outputs": [
        {
          "output_type": "stream",
          "name": "stdout",
          "text": [
            "{'model_selection_time': None, 'params': None, 'model': GradientBoostingClassifier(init=RandomForestClassifier(max_features=28,\n",
            "                                                       min_samples_leaf=30,\n",
            "                                                       min_samples_split=70,\n",
            "                                                       n_estimators=70),\n",
            "                           learning_rate=0.5, max_depth=18, max_features=28,\n",
            "                           min_samples_leaf=85, min_samples_split=95,\n",
            "                           n_estimators=25, n_iter_no_change=5), 'train_acc': 0.8776672781693541, 'test_acc': 0.8566463944396178}\n"
          ]
        }
      ],
      "source": [
        "# Saving results\n",
        "if not compute_model_selection:\n",
        "  svc_model_selection_time = None\n",
        "  svc_best_params = None\n",
        "\n",
        "key = \"gbc\"\n",
        "outputs[key] = {}\n",
        "outputs[key][\"model_selection_time\"] = svc_model_selection_time\n",
        "outputs[key][\"params\"] = svc_best_params\n",
        "outputs[key][\"model\"] = gbc\n",
        "outputs[key][\"train_acc\"] = acc_gbc_train\n",
        "outputs[key][\"test_acc\"] = acc_gbc_test\n",
        "\n",
        "print(outputs[key])"
      ]
    },
    {
      "cell_type": "markdown",
      "metadata": {
        "id": "6EZvHfHgYJr4"
      },
      "source": [
        "## BaggingClassifier"
      ]
    },
    {
      "cell_type": "code",
      "execution_count": null,
      "metadata": {
        "id": "j4khzGUuYkwP"
      },
      "outputs": [],
      "source": [
        "from sklearn.ensemble import BaggingClassifier"
      ]
    },
    {
      "cell_type": "markdown",
      "metadata": {
        "id": "4MYpUUUdZwKC"
      },
      "source": [
        "#### Model Selection"
      ]
    },
    {
      "cell_type": "code",
      "execution_count": null,
      "metadata": {
        "id": "Nc8ubuyXYJGN"
      },
      "outputs": [],
      "source": [
        "param_dist_bagging = {\"n_estimators\": list(range(20, 101, 10)),\n",
        "                      \"max_features\": max_features_list,\n",
        "                      \"bootstrap\": [True, False]\n",
        "                      }\n",
        "\n",
        "if compute_model_selection:\n",
        "  bagging = BaggingClassifier(random_state=seed)\n",
        "\n",
        "  start_time = time.time()\n",
        "  bagging_best_params, best_score = random_search(model=bagging, train_set=train_set,train_label=train_label, \n",
        "                                      n_iter=10, dict_params=param_dist_bagging)\n",
        "  end_time = time.time()\n",
        "\n",
        "  bagging_model_selection_time = end_time-start_time\n",
        "  print(\"Model selection time\", bagging_model_selection_time, \"sec\")"
      ]
    },
    {
      "cell_type": "code",
      "execution_count": null,
      "metadata": {
        "id": "_Rop2mh91oTS"
      },
      "outputs": [],
      "source": [
        "if compute_model_selection:\n",
        "  n_estimators_result = bagging_best_params[\"n_estimators\"]\n",
        "  max_features_result = bagging_best_params[\"max_features\"]\n",
        "  bootstrap_result = bagging_best_params[\"bootstrap\"]\n",
        "else:\n",
        "  n_estimators_result = 80\n",
        "  max_features_result = 22\n",
        "  bootstrap_result = True"
      ]
    },
    {
      "cell_type": "code",
      "execution_count": null,
      "metadata": {
        "id": "sH3m2wQLaVQO"
      },
      "outputs": [],
      "source": [
        "bagging = BaggingClassifier(n_estimators = n_estimators_result,\n",
        "                            max_features = max_features_result,\n",
        "                            bootstrap  = bootstrap_result)\n",
        "bagging = bagging.fit(train_set, train_label)"
      ]
    },
    {
      "cell_type": "markdown",
      "metadata": {
        "id": "W5u96eW-Zttb"
      },
      "source": [
        "#### Evaluation"
      ]
    },
    {
      "cell_type": "code",
      "execution_count": null,
      "metadata": {
        "id": "nFTDoI-jaRq5"
      },
      "outputs": [],
      "source": [
        "train_pred_bagging  = bagging.predict(train_set)\n",
        "test_pred_bagging   = bagging.predict(test_set)"
      ]
    },
    {
      "cell_type": "code",
      "execution_count": null,
      "metadata": {
        "colab": {
          "base_uri": "https://localhost:8080/"
        },
        "id": "XwNJrQGuZtT1",
        "outputId": "51b43c09-d9ba-49c0-a812-46913bc2cb5c"
      },
      "outputs": [
        {
          "output_type": "stream",
          "name": "stdout",
          "text": [
            "Accuracy train set  0.9999034469440958\n",
            "Accuracy test set  0.8601216333622936\n",
            "\n",
            "Precision train set  0.9999034668355372\n",
            "Recall train set  0.9999034469440958\n",
            "F1 score train set  0.9999034475314841\n",
            "Support train set  (array([0.99979398, 1.        ]), array([1.        , 0.99981831]), array([0.99989698, 0.99990915]), array([4853, 5504]))\n",
            "\n",
            "Precision test set  0.8830254652327287\n",
            "Recall test set  0.8601216333622936\n",
            "F1 score test set  0.8566599291513685\n",
            "Support test set  (array([0.97969543, 0.79788639]), array([0.716141 , 0.9869281]), array([0.82743837, 0.88239591]), array([539, 612]))\n",
            "Cross Validation Score:  0.8509220919892093\n"
          ]
        }
      ],
      "source": [
        "acc_bagging_train, acc_bagging_test, f1_train, f1_test = evaluation(train_label=train_label, \n",
        "                                       train_pred=train_pred_bagging, \n",
        "                                       test_label=test_label, \n",
        "                                       test_pred=test_pred_bagging)\n",
        "if not compute_model_selection:\n",
        "  best_score = CrossValidate(bagging, train_set=train_set, train_label=train_label)\n",
        "results_df = append_df(results_df, \"BAGGING\", acc_bagging_test, f1_test, best_score)"
      ]
    },
    {
      "cell_type": "code",
      "execution_count": null,
      "metadata": {
        "colab": {
          "base_uri": "https://localhost:8080/"
        },
        "id": "KY4j25fWamHI",
        "outputId": "077c9826-1908-42ad-bc9b-75e689913a4d"
      },
      "outputs": [
        {
          "output_type": "stream",
          "name": "stdout",
          "text": [
            "              precision    recall  f1-score   support\n",
            "\n",
            "     Non-Bot       1.00      1.00      1.00      4853\n",
            "         Bot       1.00      1.00      1.00      5504\n",
            "\n",
            "    accuracy                           1.00     10357\n",
            "   macro avg       1.00      1.00      1.00     10357\n",
            "weighted avg       1.00      1.00      1.00     10357\n",
            "\n"
          ]
        }
      ],
      "source": [
        "report_scores(train_label, train_pred_bagging)"
      ]
    },
    {
      "cell_type": "code",
      "execution_count": null,
      "metadata": {
        "colab": {
          "base_uri": "https://localhost:8080/"
        },
        "id": "E-6ZCadnaosX",
        "outputId": "f0a704a2-e7d5-4a59-d6b6-f3e0c981663b"
      },
      "outputs": [
        {
          "output_type": "stream",
          "name": "stdout",
          "text": [
            "              precision    recall  f1-score   support\n",
            "\n",
            "     Non-Bot       0.98      0.72      0.83       539\n",
            "         Bot       0.80      0.99      0.88       612\n",
            "\n",
            "    accuracy                           0.86      1151\n",
            "   macro avg       0.89      0.85      0.85      1151\n",
            "weighted avg       0.88      0.86      0.86      1151\n",
            "\n"
          ]
        }
      ],
      "source": [
        "report_scores(test_label, test_pred_bagging)"
      ]
    },
    {
      "cell_type": "code",
      "execution_count": null,
      "metadata": {
        "colab": {
          "base_uri": "https://localhost:8080/",
          "height": 312
        },
        "id": "e0tklPnlaxDN",
        "outputId": "0b93436b-892d-4c73-a592-ecc4e15192d1"
      },
      "outputs": [
        {
          "output_type": "execute_result",
          "data": {
            "text/plain": [
              "<sklearn.metrics._plot.confusion_matrix.ConfusionMatrixDisplay at 0x7f2657fdf0a0>"
            ]
          },
          "metadata": {},
          "execution_count": 98
        },
        {
          "output_type": "display_data",
          "data": {
            "text/plain": [
              "<Figure size 432x288 with 2 Axes>"
            ],
            "image/png": "[encoded data removed]"
          },
          "metadata": {
            "needs_background": "light"
          }
        }
      ],
      "source": [
        "plt.figure()\n",
        "ax = plt.gca()\n",
        "ax.set_title(\"Bagging\")\n",
        "ConfusionMatrixDisplay.from_estimator(bagging, test_set, test_label, ax=ax)"
      ]
    },
    {
      "cell_type": "code",
      "execution_count": null,
      "metadata": {
        "colab": {
          "base_uri": "https://localhost:8080/"
        },
        "id": "yIzzWjXHa3pf",
        "outputId": "a106cdb8-209d-45f0-950f-46c77b41aaac"
      },
      "outputs": [
        {
          "output_type": "stream",
          "name": "stdout",
          "text": [
            "{'model_selection_time': None, 'params': None, 'model': BaggingClassifier(max_features=22, n_estimators=80), 'train_acc': 0.9999034469440958, 'test_acc': 0.8601216333622936}\n"
          ]
        }
      ],
      "source": [
        "if not compute_model_selection:\n",
        "  bagging_model_selection_time = None\n",
        "  bagging_best_params = None\n",
        "\n",
        "key = \"bagging\"\n",
        "outputs[key] = {}\n",
        "outputs[key][\"model_selection_time\"] = bagging_model_selection_time\n",
        "outputs[key][\"params\"] = bagging_best_params\n",
        "outputs[key][\"model\"] = bagging\n",
        "outputs[key][\"train_acc\"] = acc_bagging_train\n",
        "outputs[key][\"test_acc\"] = acc_bagging_test\n",
        "\n",
        "print(outputs[key])"
      ]
    },
    {
      "cell_type": "markdown",
      "metadata": {
        "id": "DHyonxpt41jz"
      },
      "source": [
        "## AdaBoost Classifier"
      ]
    },
    {
      "cell_type": "code",
      "execution_count": null,
      "metadata": {
        "id": "Xn_vAsYf44f1"
      },
      "outputs": [],
      "source": [
        "from sklearn.ensemble import AdaBoostClassifier\n",
        "param_dist = {\n",
        "    \"n_estimators\": [25, 50],\n",
        "    \"learning_rate\": [0.001, 0.01, 0.1]\n",
        "}"
      ]
    },
    {
      "cell_type": "markdown",
      "metadata": {
        "id": "5K2kqCkDgyRk"
      },
      "source": [
        "###AdaBoost + DecisionTree"
      ]
    },
    {
      "cell_type": "code",
      "execution_count": null,
      "metadata": {
        "id": "CfCroSJlgxOB"
      },
      "outputs": [],
      "source": [
        "if compute_model_selection:\n",
        "  abc = AdaBoostClassifier(base_estimator=dec_tree,random_state=seed)\n",
        "\n",
        "  start_time = time.time()\n",
        "  abc_best_params, best_score = random_search(model=abc, train_set = train_set, train_label = train_label, dict_params=param_dist)\n",
        "  end_time = time.time()\n",
        "  abc_model_selection_time = end_time-start_time\n",
        "  print(\"Model selection time\", abc_model_selection_time, \"sec\")\n"
      ]
    },
    {
      "cell_type": "code",
      "execution_count": null,
      "metadata": {
        "id": "aUVUFDcv3WQR"
      },
      "outputs": [],
      "source": [
        "if compute_model_selection:\n",
        "  n_estimators_result         = abc_best_params[\"n_estimators\"]\n",
        "  learning_rate_result        = abc_best_params[\"learning_rate\"]\n",
        "else:\n",
        "  n_estimators_result         = 50\n",
        "  learning_rate_result        = 0.001"
      ]
    },
    {
      "cell_type": "code",
      "execution_count": null,
      "metadata": {
        "id": "vdWOUgrLiPCU"
      },
      "outputs": [],
      "source": [
        "abc = AdaBoostClassifier(base_estimator=dec_tree,n_estimators=n_estimators_result, \n",
        "                         learning_rate=learning_rate_result)\n",
        "abc.fit(train_set, train_label)\n",
        "\n",
        "train_pred_abc = abc.predict(train_set)\n",
        "test_pred_abc = abc.predict(test_set)"
      ]
    },
    {
      "cell_type": "code",
      "execution_count": null,
      "metadata": {
        "colab": {
          "base_uri": "https://localhost:8080/"
        },
        "id": "txm5IKMgjr4T",
        "outputId": "11766e7f-061e-4e35-eac6-8b2531423702"
      },
      "outputs": [
        {
          "output_type": "stream",
          "name": "stdout",
          "text": [
            "              precision    recall  f1-score   support\n",
            "\n",
            "     Non-Bot       1.00      0.70      0.83      4853\n",
            "         Bot       0.79      1.00      0.88      5504\n",
            "\n",
            "    accuracy                           0.86     10357\n",
            "   macro avg       0.90      0.85      0.85     10357\n",
            "weighted avg       0.89      0.86      0.86     10357\n",
            "\n"
          ]
        }
      ],
      "source": [
        "report_scores(train_label, train_pred_abc)"
      ]
    },
    {
      "cell_type": "code",
      "execution_count": null,
      "metadata": {
        "colab": {
          "base_uri": "https://localhost:8080/"
        },
        "id": "8xbNuxo0jaeb",
        "outputId": "7e77f8b8-ffa9-476f-9261-ad8b3d80600f"
      },
      "outputs": [
        {
          "output_type": "stream",
          "name": "stdout",
          "text": [
            "              precision    recall  f1-score   support\n",
            "\n",
            "     Non-Bot       1.00      0.71      0.83       539\n",
            "         Bot       0.80      1.00      0.89       612\n",
            "\n",
            "    accuracy                           0.87      1151\n",
            "   macro avg       0.90      0.86      0.86      1151\n",
            "weighted avg       0.89      0.87      0.86      1151\n",
            "\n"
          ]
        }
      ],
      "source": [
        "report_scores(test_label, test_pred_abc)"
      ]
    },
    {
      "cell_type": "code",
      "execution_count": null,
      "metadata": {
        "colab": {
          "base_uri": "https://localhost:8080/",
          "height": 312
        },
        "id": "ZWq9KuNsjaec",
        "outputId": "7b6acda7-f2ed-4818-f466-4aff3b097b66"
      },
      "outputs": [
        {
          "output_type": "execute_result",
          "data": {
            "text/plain": [
              "<sklearn.metrics._plot.confusion_matrix.ConfusionMatrixDisplay at 0x7f2657f64d00>"
            ]
          },
          "metadata": {},
          "execution_count": 106
        },
        {
          "output_type": "display_data",
          "data": {
            "text/plain": [
              "<Figure size 432x288 with 2 Axes>"
            ],
            "image/png": "[encoded data removed]"
          },
          "metadata": {
            "needs_background": "light"
          }
        }
      ],
      "source": [
        "plt.figure()\n",
        "ax = plt.gca()\n",
        "ax.set_title(\"AdaBoost + DecisionTree\")\n",
        "ConfusionMatrixDisplay.from_estimator(abc, test_set, test_label, ax=ax)"
      ]
    },
    {
      "cell_type": "code",
      "execution_count": null,
      "metadata": {
        "colab": {
          "base_uri": "https://localhost:8080/"
        },
        "id": "muOwmNKkj2W4",
        "outputId": "2fe24783-7a0c-46ec-fd8d-6d86c24cae90"
      },
      "outputs": [
        {
          "output_type": "stream",
          "name": "stdout",
          "text": [
            "Accuracy train set  0.8606739403302115\n",
            "Accuracy test set  0.8653344917463076\n",
            "\n",
            "Precision train set  0.8896141309309751\n",
            "Recall train set  0.8606739403302115\n",
            "F1 score train set  0.856581961507777\n",
            "Support train set  (array([1.        , 0.79228444]), array([0.70265815, 1.        ]), array([0.82536609, 0.88410569]), array([4853, 5504]))\n",
            "\n",
            "Precision test set  0.8925485123190876\n",
            "Recall test set  0.8653344917463076\n",
            "F1 score test set  0.8615954789411003\n",
            "Support test set  (array([1.        , 0.79791395]), array([0.71243043, 1.        ]), array([0.83206934, 0.88759971]), array([539, 612]))\n",
            "Cross Validation Score:  0.8603844877504945\n"
          ]
        }
      ],
      "source": [
        "acc_abc_train, acc_abc_test, f1_train, f1_test = evaluation(train_label=train_label, \n",
        "                                       train_pred=train_pred_abc, \n",
        "                                       test_label=test_label, \n",
        "                                       test_pred=test_pred_abc)\n",
        "if not compute_model_selection:\n",
        "  best_score = CrossValidate(abc, train_set=train_set, train_label=train_label)\n",
        "  \n",
        "results_df = append_df(results_df, \"ABC+DT\", acc_abc_test, f1_test, best_score)"
      ]
    },
    {
      "cell_type": "code",
      "execution_count": null,
      "metadata": {
        "colab": {
          "base_uri": "https://localhost:8080/"
        },
        "id": "xZFD9LJQja_C",
        "outputId": "0a597857-36a4-4ca7-e772-2fe64bbfccdd"
      },
      "outputs": [
        {
          "output_type": "stream",
          "name": "stdout",
          "text": [
            "{'model_selection_time': None, 'params': None, 'model': AdaBoostClassifier(base_estimator=DecisionTreeClassifier(class_weight={0: 0.3,\n",
            "                                                                       1: 0.7},\n",
            "                                                         max_depth=14,\n",
            "                                                         max_features=26,\n",
            "                                                         min_samples_leaf=100,\n",
            "                                                         min_samples_split=50),\n",
            "                   learning_rate=0.001), 'train_acc': 0.8606739403302115, 'test_acc': 0.8653344917463076}\n"
          ]
        }
      ],
      "source": [
        "# Saving results\n",
        "if not compute_model_selection:\n",
        "  abc_model_selection_time = None\n",
        "  abc_best_params = None\n",
        "\n",
        "key = \"AdaBoost+DT\"\n",
        "outputs[key] = {}\n",
        "outputs[key][\"model_selection_time\"] = abc_model_selection_time\n",
        "outputs[key][\"params\"] = abc_best_params\n",
        "outputs[key][\"model\"] = abc\n",
        "outputs[key][\"train_acc\"] = acc_abc_train\n",
        "outputs[key][\"test_acc\"] = acc_abc_test\n",
        "\n",
        "print(outputs[key])"
      ]
    },
    {
      "cell_type": "markdown",
      "metadata": {
        "id": "SK-xntrEkQPr"
      },
      "source": [
        "###AdaBoost + Random Forest"
      ]
    },
    {
      "cell_type": "code",
      "execution_count": null,
      "metadata": {
        "id": "aCmBJkU4kQPs"
      },
      "outputs": [],
      "source": [
        "if compute_model_selection:\n",
        "  abc = AdaBoostClassifier(base_estimator=rf,random_state=seed)\n",
        "\n",
        "  start_time = time.time()\n",
        "  abc_best_params, best_score = random_search(model=abc, train_label=train_label, train_set=train_set, \n",
        "                                  n_iter=10, \n",
        "                                  dict_params=param_dist)\n",
        "  end_time = time.time()\n",
        "  abc_model_selection_time = end_time-start_time\n",
        "  print(\"Model selection time\", abc_model_selection_time, \"sec\")"
      ]
    },
    {
      "cell_type": "code",
      "execution_count": null,
      "metadata": {
        "id": "2OHtYZce6MAB"
      },
      "outputs": [],
      "source": [
        "if compute_model_selection:\n",
        "  n_estimators_result         = abc_best_params[\"n_estimators\"]\n",
        "  learning_rate_result        = abc_best_params[\"learning_rate\"]\n",
        "else:\n",
        "  n_estimators_result         = 50\n",
        "  learning_rate_result        = 0.01"
      ]
    },
    {
      "cell_type": "code",
      "execution_count": null,
      "metadata": {
        "id": "OVCMUy1fkQPs"
      },
      "outputs": [],
      "source": [
        "abc = AdaBoostClassifier(base_estimator=rf,n_estimators=n_estimators_result, \n",
        "                         learning_rate=learning_rate_result)\n",
        "abc.fit(train_set, train_label)\n",
        "\n",
        "train_pred_abc = abc.predict(train_set)\n",
        "test_pred_abc = abc.predict(test_set)"
      ]
    },
    {
      "cell_type": "code",
      "execution_count": null,
      "metadata": {
        "id": "BZCUomDBkQPs",
        "colab": {
          "base_uri": "https://localhost:8080/"
        },
        "outputId": "120bcde2-6662-4abd-d672-9f4cb0f881fa"
      },
      "outputs": [
        {
          "output_type": "stream",
          "name": "stdout",
          "text": [
            "              precision    recall  f1-score   support\n",
            "\n",
            "     Non-Bot       1.00      0.70      0.83      4853\n",
            "         Bot       0.79      1.00      0.88      5504\n",
            "\n",
            "    accuracy                           0.86     10357\n",
            "   macro avg       0.90      0.85      0.85     10357\n",
            "weighted avg       0.89      0.86      0.86     10357\n",
            "\n"
          ]
        }
      ],
      "source": [
        "report_scores(train_label, train_pred_abc)"
      ]
    },
    {
      "cell_type": "code",
      "execution_count": null,
      "metadata": {
        "id": "x6ddr0LlkQPs",
        "colab": {
          "base_uri": "https://localhost:8080/"
        },
        "outputId": "9f2e1970-4dd0-4a0a-e3b2-c1651f97fa06"
      },
      "outputs": [
        {
          "output_type": "stream",
          "name": "stdout",
          "text": [
            "              precision    recall  f1-score   support\n",
            "\n",
            "     Non-Bot       1.00      0.71      0.83       539\n",
            "         Bot       0.80      1.00      0.89       612\n",
            "\n",
            "    accuracy                           0.87      1151\n",
            "   macro avg       0.90      0.86      0.86      1151\n",
            "weighted avg       0.89      0.87      0.86      1151\n",
            "\n"
          ]
        }
      ],
      "source": [
        "report_scores(test_label, test_pred_abc)"
      ]
    },
    {
      "cell_type": "code",
      "execution_count": null,
      "metadata": {
        "id": "uhUWAJZgkQPs",
        "colab": {
          "base_uri": "https://localhost:8080/",
          "height": 312
        },
        "outputId": "ff2c93de-865a-46be-e1e0-74c30b7e4e41"
      },
      "outputs": [
        {
          "output_type": "execute_result",
          "data": {
            "text/plain": [
              "<sklearn.metrics._plot.confusion_matrix.ConfusionMatrixDisplay at 0x7f2657d0ee20>"
            ]
          },
          "metadata": {},
          "execution_count": 114
        },
        {
          "output_type": "display_data",
          "data": {
            "text/plain": [
              "<Figure size 432x288 with 2 Axes>"
            ],
            "image/png": "[encoded data removed]"
          },
          "metadata": {
            "needs_background": "light"
          }
        }
      ],
      "source": [
        "plt.figure()\n",
        "ax = plt.gca()\n",
        "ax.set_title(\"AdaBoost + RandomForest\")\n",
        "ConfusionMatrixDisplay.from_estimator(abc, test_set, test_label, ax=ax)"
      ]
    },
    {
      "cell_type": "code",
      "execution_count": null,
      "metadata": {
        "id": "xStd85-HkD7o",
        "colab": {
          "base_uri": "https://localhost:8080/"
        },
        "outputId": "e4906589-1a49-4923-dfe0-7682c8991744"
      },
      "outputs": [
        {
          "output_type": "stream",
          "name": "stdout",
          "text": [
            "Accuracy train set  0.8605773872743072\n",
            "Accuracy test set  0.8653344917463076\n",
            "\n",
            "Precision train set  0.8895535318879948\n",
            "Recall train set  0.8605773872743072\n",
            "F1 score train set  0.8564776112166422\n",
            "Support train set  (array([1.        , 0.79217041]), array([0.70245209, 1.        ]), array([0.82522392, 0.88403469]), array([4853, 5504]))\n",
            "\n",
            "Precision test set  0.8925485123190876\n",
            "Recall test set  0.8653344917463076\n",
            "F1 score test set  0.8615954789411003\n",
            "Support test set  (array([1.        , 0.79791395]), array([0.71243043, 1.        ]), array([0.83206934, 0.88759971]), array([539, 612]))\n",
            "Cross Validation Score:  0.8605776311594757\n"
          ]
        }
      ],
      "source": [
        "acc_abc_train, acc_abc_test, f1_train, f1_test = evaluation(train_label=train_label, \n",
        "                                       train_pred=train_pred_abc, \n",
        "                                       test_label=test_label, \n",
        "                                       test_pred=test_pred_abc)\n",
        "if not compute_model_selection:\n",
        "  best_score = CrossValidate(abc, train_set=train_set, train_label=train_label)\n",
        "\n",
        "results_df = append_df(results_df, \"ABC+RF\", acc_abc_test, f1_test, best_score)"
      ]
    },
    {
      "cell_type": "code",
      "execution_count": null,
      "metadata": {
        "id": "sb7UgX0tkD7p",
        "colab": {
          "base_uri": "https://localhost:8080/"
        },
        "outputId": "70dcac3d-e4e9-45a4-ef8c-fadcf957a2e2"
      },
      "outputs": [
        {
          "output_type": "stream",
          "name": "stdout",
          "text": [
            "{'model_selection_time': None, 'params': None, 'model': AdaBoostClassifier(base_estimator=RandomForestClassifier(max_features=28,\n",
            "                                                         min_samples_leaf=30,\n",
            "                                                         min_samples_split=70,\n",
            "                                                         n_estimators=70),\n",
            "                   learning_rate=0.01), 'train_acc': 0.8605773872743072, 'test_acc': 0.8653344917463076}\n"
          ]
        }
      ],
      "source": [
        "# Saving results\n",
        "key = \"AdaBoost+RF\"\n",
        "outputs[key] = {}\n",
        "outputs[key][\"model_selection_time\"] = abc_model_selection_time\n",
        "outputs[key][\"params\"] = abc_best_params\n",
        "outputs[key][\"model\"] = abc\n",
        "outputs[key][\"train_acc\"] = acc_abc_train\n",
        "outputs[key][\"test_acc\"] = acc_abc_test\n",
        "\n",
        "print(outputs[key])"
      ]
    },
    {
      "cell_type": "markdown",
      "metadata": {
        "id": "mQUopZgc6zMa"
      },
      "source": [
        "## K-Nearest Neighbors"
      ]
    },
    {
      "cell_type": "code",
      "execution_count": null,
      "metadata": {
        "id": "GsG2O4GmesIP"
      },
      "outputs": [],
      "source": [
        "from sklearn.neighbors import KNeighborsClassifier"
      ]
    },
    {
      "cell_type": "markdown",
      "metadata": {
        "id": "unZ-mqPo66D7"
      },
      "source": [
        "### Model Selection"
      ]
    },
    {
      "cell_type": "code",
      "execution_count": null,
      "metadata": {
        "id": "hMAfVkR2h57p"
      },
      "outputs": [],
      "source": [
        "knn_model_selection_time = 0\n",
        "knn_best_params = None\n",
        "\n",
        "if compute_model_selection:\n",
        "  param_dist = {\"n_neighbors\": [i for i in range(5,101,5)],\n",
        "              \"weights\" : ['uniform', 'distance'],\n",
        "              \"algorithm\": ['auto', 'ball_tree', 'kd_tree', 'brute'],\n",
        "              'leaf_size': [i for i in range(10, 60, 5)],\n",
        "              'p': [1, 2],\n",
        "              'metric': ['minkowski', 'cityblock']}\n",
        "\n",
        "  knn = KNeighborsClassifier()\n",
        "\n",
        "  start_time = time.time()\n",
        "  knn_best_params, best_score = random_search(model=knn, train_set=train_set, train_label = train_label,\n",
        "                                  dict_params=param_dist, n_iter=10, plot=True)\n",
        "  end_time = time.time()\n",
        "  knn_model_selection_time = end_time-start_time\n",
        "  print(\"Model selection time\", knn_model_selection_time, \"sec\")"
      ]
    },
    {
      "cell_type": "code",
      "source": [
        "if compute_model_selection: \n",
        "  n_neighbors = knn_best_params[\"n_neighbors\"]\n",
        "  weights = knn_best_params[\"weights\"]\n",
        "  algorithm = knn_best_params[\"algorithm\"]\n",
        "  leaf_size = knn_best_params[\"leaf_size\"]\n",
        "  p = knn_best_params[\"p\"]\n",
        "  metric = knn_best_params[\"metric\"]\n",
        "else:\n",
        "  n_neighbors = 15\n",
        "  weights = 'distance'\n",
        "  algorithm = \"auto\"\n",
        "  leaf_size = 45\n",
        "  p = 2\n",
        "  metric = 'minkowski'"
      ],
      "metadata": {
        "id": "xtzwHkjQB86v"
      },
      "execution_count": null,
      "outputs": []
    },
    {
      "cell_type": "code",
      "execution_count": null,
      "metadata": {
        "id": "Mq1mFjr17IH_"
      },
      "outputs": [],
      "source": [
        "knn = KNeighborsClassifier(leaf_size=leaf_size, p=p, metric=metric, n_neighbors=n_neighbors, weights=weights, algorithm = algorithm)\n",
        "knn = knn.fit(train_set, train_label)"
      ]
    },
    {
      "cell_type": "markdown",
      "metadata": {
        "id": "4v5r5vr-6_NV"
      },
      "source": [
        "### Evaluation "
      ]
    },
    {
      "cell_type": "code",
      "execution_count": null,
      "metadata": {
        "id": "cLv5ZY_3b3ko"
      },
      "outputs": [],
      "source": [
        "train_pred_knn  = knn.predict(train_set)\n",
        "test_pred_knn   = knn.predict(test_set)"
      ]
    },
    {
      "cell_type": "code",
      "execution_count": null,
      "metadata": {
        "id": "pyw_GmTpcDTJ",
        "colab": {
          "base_uri": "https://localhost:8080/"
        },
        "outputId": "2021eb58-4e02-427b-8d83-85bd5f756b10"
      },
      "outputs": [
        {
          "output_type": "stream",
          "name": "stdout",
          "text": [
            "Accuracy train set  0.9999034469440958\n",
            "Accuracy test set  0.8444830582102519\n",
            "\n",
            "Precision train set  0.9999034668355372\n",
            "Recall train set  0.9999034469440958\n",
            "F1 score train set  0.9999034475314841\n",
            "Support train set  (array([0.99979398, 1.        ]), array([1.        , 0.99981831]), array([0.99989698, 0.99990915]), array([4853, 5504]))\n",
            "\n",
            "Precision test set  0.8633737185671078\n",
            "Recall test set  0.8444830582102519\n",
            "F1 score test set  0.8409894852253857\n",
            "Support test set  (array([0.94776119, 0.78905207]), array([0.70686456, 0.96568627]), array([0.80977683, 0.86847906]), array([539, 612]))\n",
            "Cross Validation Score:  0.8410741551374096\n"
          ]
        }
      ],
      "source": [
        "acc_knn_train, acc_knn_test, f1_train, f1_test = evaluation(train_label=train_label, \n",
        "                                       train_pred=train_pred_knn, \n",
        "                                       test_label=test_label, \n",
        "                                       test_pred=test_pred_knn)\n",
        "if not compute_model_selection:\n",
        "  best_score = CrossValidate(knn, train_set=train_set, train_label=train_label)\n",
        "\n",
        "results_df = append_df(results_df, \"KNN\", acc_knn_test, f1_test, best_score)"
      ]
    },
    {
      "cell_type": "code",
      "execution_count": null,
      "metadata": {
        "id": "ARiirrYncH0d",
        "colab": {
          "base_uri": "https://localhost:8080/"
        },
        "outputId": "6014e3f0-1cb8-4c30-f016-66ea18f74d67"
      },
      "outputs": [
        {
          "output_type": "stream",
          "name": "stdout",
          "text": [
            "              precision    recall  f1-score   support\n",
            "\n",
            "     Non-Bot       0.95      0.71      0.81       539\n",
            "         Bot       0.79      0.97      0.87       612\n",
            "\n",
            "    accuracy                           0.84      1151\n",
            "   macro avg       0.87      0.84      0.84      1151\n",
            "weighted avg       0.86      0.84      0.84      1151\n",
            "\n"
          ]
        }
      ],
      "source": [
        "report_scores(test_label, test_pred_knn)"
      ]
    },
    {
      "cell_type": "code",
      "execution_count": null,
      "metadata": {
        "id": "jS1x6PIrcViE",
        "colab": {
          "base_uri": "https://localhost:8080/"
        },
        "outputId": "c05b9656-d4ed-405d-a222-8267095512bd"
      },
      "outputs": [
        {
          "output_type": "execute_result",
          "data": {
            "text/plain": [
              "<sklearn.metrics._plot.confusion_matrix.ConfusionMatrixDisplay at 0x7f2657bc0460>"
            ]
          },
          "metadata": {},
          "execution_count": 124
        },
        {
          "output_type": "display_data",
          "data": {
            "text/plain": [
              "<Figure size 432x288 with 2 Axes>"
            ],
            "image/png": "[encoded data removed]"
          },
          "metadata": {
            "needs_background": "light"
          }
        }
      ],
      "source": [
        "plt.figure()\n",
        "ax = plt.gca()\n",
        "ax.set_title(\"K-Nearest Neighbors\")\n",
        "ConfusionMatrixDisplay.from_estimator(knn, test_set, test_label, ax=ax)"
      ]
    },
    {
      "cell_type": "code",
      "execution_count": null,
      "metadata": {
        "id": "xmRfI_eOcNOz",
        "colab": {
          "base_uri": "https://localhost:8080/"
        },
        "outputId": "5fa3b5bd-97e5-446f-d986-04295475a17b"
      },
      "outputs": [
        {
          "output_type": "stream",
          "name": "stdout",
          "text": [
            "{'model_selection_time': 0, 'params': None, 'model': KNeighborsClassifier(leaf_size=45, n_neighbors=15, weights='distance'), 'train_acc': 0.9999034469440958, 'test_acc': 0.8444830582102519}\n"
          ]
        }
      ],
      "source": [
        "# Saving results\n",
        "key = \"knn\"\n",
        "outputs[key] = {}\n",
        "outputs[key][\"model_selection_time\"] = knn_model_selection_time\n",
        "outputs[key][\"params\"] = knn_best_params\n",
        "outputs[key][\"model\"] = knn\n",
        "outputs[key][\"train_acc\"] = acc_knn_train\n",
        "outputs[key][\"test_acc\"] = acc_knn_test\n",
        "\n",
        "print(outputs[key])"
      ]
    },
    {
      "cell_type": "markdown",
      "metadata": {
        "id": "WCQrtTWZ7g-S"
      },
      "source": [
        "## K-NN using PCA for feature extraction\n",
        "\n",
        "Using PCA we try to reduce the curse of dimensionality problem of alghoritms like K-NN"
      ]
    },
    {
      "cell_type": "code",
      "execution_count": null,
      "metadata": {
        "id": "nLWAniW57f6R"
      },
      "outputs": [],
      "source": [
        "from sklearn.decomposition import PCA"
      ]
    },
    {
      "cell_type": "code",
      "execution_count": null,
      "metadata": {
        "id": "EtbRvUMV7zKj"
      },
      "outputs": [],
      "source": [
        "def apply_PCA(n_components):\n",
        "    pca = PCA(n_components=n_components)\n",
        "    train_set_pca = pca.fit_transform(train_set)\n",
        "    test_set_pca = pca.transform(test_set)\n",
        "    return train_set_pca, test_set_pca"
      ]
    },
    {
      "cell_type": "code",
      "execution_count": null,
      "metadata": {
        "id": "XeTiCpn38IUR"
      },
      "outputs": [],
      "source": [
        "def grid_search_knn_pca(train_set, train_label, n_components):\n",
        "    param_dist = {\"n_neighbors\": [i for i in range(5,101,5)],\n",
        "              \"weights\" : ['uniform', 'distance'],\n",
        "              \"algorithm\": ['auto', 'ball_tree', 'kd_tree', 'brute'],\n",
        "              'leaf_size': [i for i in range(1, n_components+1)],\n",
        "              'p': [1, 2],\n",
        "              'metric': ['minkowski', 'cityblock']}\n",
        "\n",
        "    knn = KNeighborsClassifier()\n",
        "\n",
        "    start_time = time.time()\n",
        "    \n",
        "    gs = RandomizedSearchCV(knn, param_dist, cv=5, return_train_score=True)\n",
        "    gs.fit(train_set, train_label)\n",
        "    knn_best_params = gs.best_params_\n",
        "\n",
        "    end_time = time.time()\n",
        "    knn_model_selection_time = end_time-start_time\n",
        "    print(\"Model selection time\", knn_model_selection_time, \"sec\")\n",
        "\n",
        "    n_neighbors = knn_best_params[\"n_neighbors\"]\n",
        "    weights = knn_best_params[\"weights\"]\n",
        "    algorithm = knn_best_params[\"algorithm\"]\n",
        "    leaf_size = knn_best_params[\"leaf_size\"]\n",
        "    p = knn_best_params[\"p\"]\n",
        "    metric = knn_best_params[\"metric\"]\n",
        "    return n_neighbors,weights,algorithm, p, metric, leaf_size"
      ]
    },
    {
      "cell_type": "code",
      "execution_count": null,
      "metadata": {
        "id": "VczKRCw_9fLu"
      },
      "outputs": [],
      "source": [
        "knn_pca_result = {}\n",
        "\n",
        "if compute_model_selection: \n",
        "  for i in range(4,22,4):\n",
        "    print(\"==============\\t[ n_components : \"+str(i)+\" ]\\t=============\")\n",
        "    train_set_pca, test_set_pca = apply_PCA(n_components=i)\n",
        "\n",
        "    n_neighbors, weights, algorithm, p, metric, leaf_size = grid_search_knn_pca(train_set_pca, train_label, i)\n",
        "\n",
        "    knn = KNeighborsClassifier(n_neighbors= n_neighbors, weights= weights, algorithm = algorithm, p=p, metric=metric, leaf_size=leaf_size)\n",
        "    knn = knn.fit(train_set_pca, train_label)\n",
        "\n",
        "    train_pred_knn  = knn.predict(train_set_pca)\n",
        "    test_pred_knn   = knn.predict(test_set_pca)\n",
        "\n",
        "    acc_knn_train, acc_knn_test, _, _ = evaluation(train_label=train_label, \n",
        "                                        train_pred=train_pred_knn, \n",
        "                                        test_label=test_label, \n",
        "                                        test_pred=test_pred_knn)\n",
        "    print(\"Accuracy obtained:\", acc_knn_test)\n",
        "\n",
        "    key = \"n_components_\"+str(i)\n",
        "    knn_pca_result[key] = {}\n",
        "    knn_pca_result[key][\"acc\"] = acc_knn_test\n",
        "    knn_pca_result[key][\"params\"] = (n_neighbors, weights, algorithm, p, metric, leaf_size)\n",
        "    knn_pca_result[key][\"model\"] = knn\n",
        "    knn_pca_result[key][\"test_set_pca\"] = test_set_pca"
      ]
    },
    {
      "cell_type": "code",
      "execution_count": null,
      "metadata": {
        "id": "RpiLNOqHAgtM"
      },
      "outputs": [],
      "source": [
        "max_pca_acc = 0\n",
        "best_knn_pca_params = None\n",
        "best_pca_dim = 0\n",
        "best_pca_knn_model = None\n",
        "best_pca_test_set = None\n",
        "\n",
        "if compute_model_selection: \n",
        "  \n",
        "  for dim in knn_pca_result:\n",
        "    current_acc = knn_pca_result[dim][\"acc\"]\n",
        "    if current_acc>max_pca_acc:\n",
        "      max_pca_acc = current_acc\n",
        "      best_knn_pca_params = knn_pca_result[dim][\"params\"]\n",
        "      best_pca_dim = dim\n",
        "      best_pca_knn_model = knn_pca_result[dim][\"model\"]\n",
        "      best_pca_test_set = knn_pca_result[dim][\"test_set_pca\"]\n",
        "  print(max_pca_acc, best_knn_pca_params, best_pca_dim, best_pca_test_set) \n",
        "\n",
        "else: \n",
        "  n_components=20\n",
        "  n_neighbors = 20\n",
        "  weights = 'distance'\n",
        "  algorithm = 'kd_tree'\n",
        "  p = 2\n",
        "  metric = 'cityblock' \n",
        "  leaf_size =8"
      ]
    },
    {
      "cell_type": "code",
      "source": [
        "train_set_pca, test_set_pca = apply_PCA(n_components=n_components)\n",
        "knn = KNeighborsClassifier(n_neighbors= n_neighbors, weights= weights, algorithm = algorithm, p=p, metric=metric, leaf_size=leaf_size)\n",
        "knn = knn.fit(train_set_pca, train_label)\n",
        "\n",
        "train_pred_knn  = knn.predict(train_set_pca)\n",
        "test_pred_knn   = knn.predict(test_set_pca)"
      ],
      "metadata": {
        "id": "Pb3I9OhRMp7H"
      },
      "execution_count": null,
      "outputs": []
    },
    {
      "cell_type": "code",
      "source": [
        "acc_knn_train, acc_knn_test, f1_train, f1_test = evaluation(train_label=train_label, \n",
        "                                       train_pred=train_pred_knn, \n",
        "                                       test_label=test_label, \n",
        "                                       test_pred=test_pred_knn)\n",
        "if not compute_model_selection:\n",
        "  best_score = CrossValidate(knn, train_set=train_set_pca, train_label=train_label)\n",
        "\n",
        "results_df = append_df(results_df, \"KNN+PCA\", acc_knn_test, f1_test, best_score)"
      ],
      "metadata": {
        "colab": {
          "base_uri": "https://localhost:8080/"
        },
        "id": "E1ctIQnBNJ_H",
        "outputId": "ed707816-d565-4bcf-b470-bc886ddf0f30"
      },
      "execution_count": null,
      "outputs": [
        {
          "output_type": "stream",
          "name": "stdout",
          "text": [
            "Accuracy train set  0.9999034469440958\n",
            "Accuracy test set  0.8444830582102519\n",
            "\n",
            "Precision train set  0.9999034668355372\n",
            "Recall train set  0.9999034469440958\n",
            "F1 score train set  0.9999034475314841\n",
            "Support train set  (array([0.99979398, 1.        ]), array([1.        , 0.99981831]), array([0.99989698, 0.99990915]), array([4853, 5504]))\n",
            "\n",
            "Precision test set  0.8627471840376967\n",
            "Recall test set  0.8444830582102519\n",
            "F1 score test set  0.8410754970353064\n",
            "Support test set  (array([0.94554455, 0.78982597]), array([0.70871985, 0.96405229]), array([0.81018028, 0.8682855 ]), array([539, 612]))\n",
            "Cross Validation Score:  0.8403985726776649\n"
          ]
        }
      ]
    },
    {
      "cell_type": "code",
      "source": [
        "report_scores(train_label, train_pred_knn)"
      ],
      "metadata": {
        "colab": {
          "base_uri": "https://localhost:8080/"
        },
        "id": "Tha3qHWpNTho",
        "outputId": "a85062ee-062c-4a64-cf84-0e3b03e5b846"
      },
      "execution_count": null,
      "outputs": [
        {
          "output_type": "stream",
          "name": "stdout",
          "text": [
            "              precision    recall  f1-score   support\n",
            "\n",
            "     Non-Bot       1.00      1.00      1.00      4853\n",
            "         Bot       1.00      1.00      1.00      5504\n",
            "\n",
            "    accuracy                           1.00     10357\n",
            "   macro avg       1.00      1.00      1.00     10357\n",
            "weighted avg       1.00      1.00      1.00     10357\n",
            "\n"
          ]
        }
      ]
    },
    {
      "cell_type": "code",
      "source": [
        "report_scores(test_label, test_pred_knn)"
      ],
      "metadata": {
        "colab": {
          "base_uri": "https://localhost:8080/"
        },
        "id": "VEg-8ShKNU1H",
        "outputId": "9e25a5c6-2fb2-4938-9102-41826f007639"
      },
      "execution_count": null,
      "outputs": [
        {
          "output_type": "stream",
          "name": "stdout",
          "text": [
            "              precision    recall  f1-score   support\n",
            "\n",
            "     Non-Bot       0.95      0.71      0.81       539\n",
            "         Bot       0.79      0.96      0.87       612\n",
            "\n",
            "    accuracy                           0.84      1151\n",
            "   macro avg       0.87      0.84      0.84      1151\n",
            "weighted avg       0.86      0.84      0.84      1151\n",
            "\n"
          ]
        }
      ]
    },
    {
      "cell_type": "code",
      "source": [
        "plt.figure()\n",
        "ax = plt.gca()\n",
        "ax.set_title(\"KNN+PCA\")\n",
        "ConfusionMatrixDisplay.from_estimator(knn, test_set_pca, test_label, ax=ax)"
      ],
      "metadata": {
        "colab": {
          "base_uri": "https://localhost:8080/"
        },
        "id": "f1NygwTrNX0Y",
        "outputId": "1ea2cbf8-d6e8-4f87-a4ab-cfbe45268162"
      },
      "execution_count": null,
      "outputs": [
        {
          "output_type": "execute_result",
          "data": {
            "text/plain": [
              "<sklearn.metrics._plot.confusion_matrix.ConfusionMatrixDisplay at 0x7f2657ad2700>"
            ]
          },
          "metadata": {},
          "execution_count": 135
        },
        {
          "output_type": "display_data",
          "data": {
            "text/plain": [
              "<Figure size 432x288 with 2 Axes>"
            ],
            "image/png": "[encoded data removed]"
          },
          "metadata": {
            "needs_background": "light"
          }
        }
      ]
    },
    {
      "cell_type": "code",
      "execution_count": null,
      "metadata": {
        "id": "nD8VApYkDSEh",
        "colab": {
          "base_uri": "https://localhost:8080/"
        },
        "outputId": "8afea271-c0b6-4eb5-8839-c457aaa2b42e"
      },
      "outputs": [
        {
          "output_type": "stream",
          "name": "stdout",
          "text": [
            "{'params': None, 'model': KNeighborsClassifier(algorithm='kd_tree', leaf_size=8, metric='cityblock',\n",
            "                     n_neighbors=20, weights='distance'), 'test_acc': 0.8444830582102519, 'best_pca_dim': 20, 'best_pca_test_set': None}\n"
          ]
        }
      ],
      "source": [
        "# Saving results\n",
        "key = \"knn_pca\"\n",
        "outputs[key] = {}\n",
        "outputs[key][\"params\"] = best_knn_pca_params\n",
        "outputs[key][\"model\"] = knn\n",
        "outputs[key][\"test_acc\"] = acc_knn_test\n",
        "outputs[key][\"best_pca_dim\"] = n_components\n",
        "outputs[key][\"best_pca_test_set\"] = best_pca_test_set\n",
        "\n",
        "print(outputs[key])"
      ]
    },
    {
      "cell_type": "markdown",
      "metadata": {
        "id": "Zk7WvR_pnlth"
      },
      "source": [
        "## All Classifiers Ensable"
      ]
    },
    {
      "cell_type": "code",
      "execution_count": null,
      "metadata": {
        "id": "ndxfo7WoGz7n",
        "colab": {
          "base_uri": "https://localhost:8080/"
        },
        "outputId": "eadee22c-badc-4de3-d7b9-6b2793293ff2"
      },
      "outputs": [
        {
          "output_type": "stream",
          "name": "stdout",
          "text": [
            "dt\n",
            "rf\n",
            "nn\n",
            "svc\n",
            "gbc\n",
            "bagging\n",
            "AdaBoost+DT\n",
            "AdaBoost+RF\n",
            "knn\n",
            "knn_pca\n"
          ]
        }
      ],
      "source": [
        "ensamble_tmp = np.zeros(len(test_label))\n",
        "c = 0\n",
        "for model in outputs:\n",
        "  if outputs[model]['test_acc'] >= 0.84 and outputs[model]['model'] is not None:\n",
        "    c += 1\n",
        "    print(model)\n",
        "    if model == 'knn_pca':\n",
        "      ensamble_tmp += outputs[model]['model'].predict(test_set_pca) \n",
        "    else:\n",
        "      ensamble_tmp += outputs[model]['model'].predict(test_set)\n",
        "# Mean of all the models\n",
        "ensamble_mean_test = np.zeros(len(test_label))\n",
        "ensamble_mean_test = np.round(np.divide(ensamble_tmp, c))"
      ]
    },
    {
      "cell_type": "code",
      "source": [
        "report_scores(test_label, ensamble_mean_test)"
      ],
      "metadata": {
        "colab": {
          "base_uri": "https://localhost:8080/"
        },
        "id": "zaEPXWOlOSqA",
        "outputId": "94a5d3c5-e07e-4b0b-adc9-84795e54fbee"
      },
      "execution_count": null,
      "outputs": [
        {
          "output_type": "stream",
          "name": "stdout",
          "text": [
            "              precision    recall  f1-score   support\n",
            "\n",
            "     Non-Bot       1.00      0.71      0.83       539\n",
            "         Bot       0.80      1.00      0.89       612\n",
            "\n",
            "    accuracy                           0.87      1151\n",
            "   macro avg       0.90      0.86      0.86      1151\n",
            "weighted avg       0.89      0.87      0.86      1151\n",
            "\n"
          ]
        }
      ]
    },
    {
      "cell_type": "code",
      "source": [
        "f1_test = metrics.f1_score(test_label, ensamble_mean_test, average='weighted')\n",
        "acc_ens_test = metrics.accuracy_score(test_label, ensamble_mean_test)\n",
        "\n",
        "results_df = append_df(results_df, \"ENSAMBLE\", acc_ens_test, f1_test, None)"
      ],
      "metadata": {
        "id": "P1u8M4QxOWWY"
      },
      "execution_count": null,
      "outputs": []
    },
    {
      "cell_type": "code",
      "execution_count": null,
      "metadata": {
        "id": "VomM86NOJxuG"
      },
      "outputs": [],
      "source": [
        "key = \"ens\"\n",
        "outputs[key] = {'model': None,\n",
        "                'test_acc': acc_ens_test,\n",
        "                'test_pred': ensamble_mean_test,\n",
        "                'model_selection_time': None,\n",
        "                'params': 'mean'}"
      ]
    },
    {
      "cell_type": "markdown",
      "metadata": {
        "id": "huMhCDGUHddT"
      },
      "source": [
        "# Results"
      ]
    },
    {
      "cell_type": "code",
      "execution_count": null,
      "metadata": {
        "id": "KZqNvaHb8f9u",
        "colab": {
          "base_uri": "https://localhost:8080/"
        },
        "outputId": "008a7de4-fcf5-4ce4-fa3f-3044e7624b54"
      },
      "outputs": [
        {
          "output_type": "stream",
          "name": "stdout",
          "text": [
            "dt 0.8653344917463076\n",
            "rf 0.8653344917463076\n",
            "nb 0.8218940052128584\n",
            "nn 0.8627280625543006\n",
            "svc 0.8653344917463076\n",
            "gbc 0.8566463944396178\n",
            "bagging 0.8601216333622936\n",
            "AdaBoost+DT 0.8653344917463076\n",
            "AdaBoost+RF 0.8653344917463076\n",
            "knn 0.8444830582102519\n",
            "knn_pca 0.8444830582102519\n",
            "ens 0.8653344917463076\n",
            "\n",
            "Our best classifier is * dt * with an accuracy of 86.5334 % on test set.\n"
          ]
        }
      ],
      "source": [
        "test_accuracies = []\n",
        "models = []\n",
        "\n",
        "for model in outputs:\n",
        "  test_accuracies.append(outputs[model][\"test_acc\"])\n",
        "  models.append(model)\n",
        "  print(model,outputs[model][\"test_acc\"])\n",
        "\n",
        "best_model = models[np.argmax(test_accuracies)]\n",
        "print()\n",
        "print(\"Our best classifier is *\",best_model, \n",
        "      \"* with an accuracy of\",round(np.max(test_accuracies),6)*100, \"% on test set.\")"
      ]
    },
    {
      "cell_type": "code",
      "execution_count": null,
      "metadata": {
        "id": "UHgz7e46GIIg",
        "colab": {
          "base_uri": "https://localhost:8080/"
        },
        "outputId": "f6f91bee-f5c1-46de-f0b1-126934544f93"
      },
      "outputs": [
        {
          "output_type": "execute_result",
          "data": {
            "text/plain": [
              "{'model_selection_time': None,\n",
              " 'params': None,\n",
              " 'model': DecisionTreeClassifier(class_weight={0: 0.3, 1: 0.7}, max_depth=14,\n",
              "                        max_features=26, min_samples_leaf=100,\n",
              "                        min_samples_split=50),\n",
              " 'train_acc': 0.8605773872743072,\n",
              " 'test_acc': 0.8653344917463076}"
            ]
          },
          "metadata": {},
          "execution_count": 142
        }
      ],
      "source": [
        "outputs[best_model]"
      ]
    },
    {
      "cell_type": "code",
      "execution_count": null,
      "metadata": {
        "id": "y_k_jBdkFgIx"
      },
      "outputs": [],
      "source": [
        "if best_model == \"knn_pca\":\n",
        "    test_set = outputs[best_model][\"best_pca_test_set\"]"
      ]
    },
    {
      "cell_type": "code",
      "execution_count": null,
      "metadata": {
        "id": "8P6DoQF0IMI5"
      },
      "outputs": [],
      "source": [
        "model = outputs[best_model][\"model\"]\n",
        "\n",
        "test_set_predicted = model.predict(test_set)"
      ]
    },
    {
      "cell_type": "code",
      "execution_count": null,
      "metadata": {
        "id": "oLq6hoWyI5yP",
        "colab": {
          "base_uri": "https://localhost:8080/"
        },
        "outputId": "80b9a50a-f5b0-4b6b-ea82-3882be92794f"
      },
      "outputs": [
        {
          "output_type": "stream",
          "name": "stdout",
          "text": [
            "On the test set, we obtain an accuracy of 86.5334 %\n"
          ]
        }
      ],
      "source": [
        "print(\"On the test set, we obtain an accuracy of\", round(metrics.accuracy_score(test_label, test_set_predicted),6)*100,\"%\")"
      ]
    },
    {
      "cell_type": "code",
      "execution_count": null,
      "metadata": {
        "id": "ASE-fWCQIoMK",
        "colab": {
          "base_uri": "https://localhost:8080/"
        },
        "outputId": "8cd97f52-ba3e-4267-833e-1b3a28ae711d"
      },
      "outputs": [
        {
          "output_type": "stream",
          "name": "stdout",
          "text": [
            "              precision    recall  f1-score   support\n",
            "\n",
            "     Non-Bot       1.00      0.71      0.83       539\n",
            "         Bot       0.80      1.00      0.89       612\n",
            "\n",
            "    accuracy                           0.87      1151\n",
            "   macro avg       0.90      0.86      0.86      1151\n",
            "weighted avg       0.89      0.87      0.86      1151\n",
            "\n"
          ]
        }
      ],
      "source": [
        "report_scores(test_label, test_set_predicted)"
      ]
    },
    {
      "cell_type": "code",
      "source": [
        "import seaborn as sns\n",
        "sns.set(style=\"whitegrid\")\n",
        "# Draw a nested barplot to show survival for class and sex\n",
        "g = sns.catplot(x='score', y=\"value\", hue=\"model\", data=results_df, kind=\"bar\", palette=\"muted\")\n",
        "g.despine(left=True)\n",
        "g.set_ylabels(\"Value\")\n",
        "g.set_xlabels(\"Metric\")\n",
        "g.set(title='Results per model')"
      ],
      "metadata": {
        "colab": {
          "base_uri": "https://localhost:8080/"
        },
        "id": "ZxlpfEIdP6HA",
        "outputId": "42fb8144-5f87-42f8-e91a-600ad3aefe52"
      },
      "execution_count": null,
      "outputs": [
        {
          "output_type": "execute_result",
          "data": {
            "text/plain": [
              "<seaborn.axisgrid.FacetGrid at 0x7f2657b57970>"
            ]
          },
          "metadata": {},
          "execution_count": 147
        },
        {
          "output_type": "display_data",
          "data": {
            "text/plain": [
              "<Figure size 459.725x360 with 1 Axes>"
            ],
            "image/png": "[encoded data removed]"
          },
          "metadata": {}
        }
      ]
    },
    {
      "cell_type": "markdown",
      "metadata": {
        "id": "uiTWdWSYBlAD"
      },
      "source": [
        "## Plotting results with PCA\n"
      ]
    },
    {
      "cell_type": "code",
      "execution_count": null,
      "metadata": {
        "id": "_vsx0q9EBpJf",
        "colab": {
          "base_uri": "https://localhost:8080/",
          "height": 551
        },
        "outputId": "1251d8db-8aec-4c94-effb-f2a9e2958399"
      },
      "outputs": [
        {
          "output_type": "display_data",
          "data": {
            "text/plain": [
              "<Figure size 432x288 with 1 Axes>"
            ],
            "image/png": "[encoded data removed]"
          },
          "metadata": {}
        },
        {
          "output_type": "display_data",
          "data": {
            "text/plain": [
              "<Figure size 432x288 with 1 Axes>"
            ],
            "image/png": "[encoded data removed]"
          },
          "metadata": {}
        }
      ],
      "source": [
        "pca = PCA(n_components=2)\n",
        "\n",
        "test_set_plot = pca.fit_transform(test_set)\n",
        "plt.scatter(test_set_plot[:, 0], test_set_plot[:, 1], c=test_label);\n",
        "plt.title(\"True Labels\")\n",
        "plt.show()\n",
        "\n",
        "plt.scatter(test_set_plot[:, 0], test_set_plot[:, 1], c=test_set_predicted);\n",
        "plt.title(\"Predicted Labels\")\n",
        "plt.show()"
      ]
    },
    {
      "cell_type": "markdown",
      "metadata": {
        "id": "B3jzu5ABC35Z"
      },
      "source": [
        "## ROC Curve"
      ]
    },
    {
      "cell_type": "code",
      "execution_count": null,
      "metadata": {
        "id": "L0T4MLCwIzn2"
      },
      "outputs": [],
      "source": [
        "from sklearn.metrics import RocCurveDisplay"
      ]
    },
    {
      "cell_type": "code",
      "execution_count": null,
      "metadata": {
        "id": "Lj8knBlcn4tg",
        "colab": {
          "base_uri": "https://localhost:8080/"
        },
        "outputId": "970e9c19-fa8a-4a3e-cef7-5182bbd90b4b"
      },
      "outputs": [
        {
          "output_type": "display_data",
          "data": {
            "text/plain": [
              "<Figure size 640x480 with 1 Axes>"
            ],
            "image/png": "[encoded data removed]"
          },
          "metadata": {}
        }
      ],
      "source": [
        "plt.figure(figsize=(8, 6), dpi=80)\n",
        "ax = plt.gca()\n",
        "\n",
        "for key, value in outputs.items():\n",
        "  model = outputs[key][\"model\"]\n",
        "  if model is None:\n",
        "    continue\n",
        "  if key == \"knn_pca\":\n",
        "    RocCurveDisplay.from_estimator(model, test_set_pca, test_label, name=key, ax=ax)\n",
        "  else:\n",
        "    RocCurveDisplay.from_estimator(model, test_set, test_label, name=key,ax=ax)\n",
        "\n",
        "plt.plot([0, 1], [0, 1], \"k--\", label=\"chance level (AUC = 0.5)\")\n",
        "plt.legend()\n",
        "plt.show()"
      ]
    }
  ],
  "metadata": {
    "colab": {
      "collapsed_sections": [
        "EJtv8jcxec4R",
        "scesB0p4XLeH",
        "hkJ7Yf_m_kjf",
        "FGl0mBTR2bjn"
      ],
      "provenance": [],
      "include_colab_link": true
    },
    "gpuClass": "standard",
    "kernelspec": {
      "display_name": "Python 3",
      "name": "python3"
    },
    "language_info": {
      "name": "python"
    }
  },
  "nbformat": 4,
  "nbformat_minor": 0
}